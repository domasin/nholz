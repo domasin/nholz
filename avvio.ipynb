
{
 "cells": [
  {
   "cell_type": "code",
   "metadata": {
    "dotnet_interactive": {
     "language": "fsharp"
    },
    "polyglot_notebook": {
     "kernelName": "fsharp"
    }
   },
   "execution_count": null, "outputs": [],
   "source": [
    "#I \"../src/bin/Debug/net7.0\"\n",
    "#r \"nholz.dll\"\n",
    "open HOL\n",
    "fsi.AddPrinter print_type\n",
    "fsi.AddPrinter print_qtype\n",
    "fsi.AddPrinter print_term\n",
    "fsi.AddPrinter print_qterm\n",
    "fsi.AddPrinter print_thm\n",
    "//fsi.AddPrinter print_graph\n",
    "\n",
    "//CoreThry.load\n",
    "//Equal.load\n",
    "//Bool.load\n",
    "\n",
    "//let x = parse_term(@\"x:\u0027a\") \n",
    "//let f = parse_term(@\"f:\u0027a-\u003e\u0027b\")\n",
    "//let g = parse_term(@\"g:\u0027a-\u003e\u0027b\")\n",
    "\n",
    "//let th1 = @\"\\x. (f:\u0027a-\u003e\u0027b) x\" |\u003e parse_term |\u003e eta_conv_tr\n",
    "//let th2 = sym_rule_tr th1\n",
    "//let th3 = @\"!x. (f:\u0027a-\u003e\u0027b) x = g x\" |\u003e parse_term |\u003e assume_rule_tr\n",
    "//let th4 = spec_rule_tr x th3\n",
    "//let th5 = mk_abs_rule_tr x th4\n",
    "//let th6 = @\"\\x. (g:\u0027a-\u003e\u0027b) x\" |\u003e parse_term |\u003e eta_conv_tr\n",
    "//let th7 = [th2; th5; th6] |\u003e list_trans_rule_tr\n",
    "//let th8 = @\"(f:\u0027a-\u003e\u0027b)=g\" |\u003e parse_term |\u003e assume_rule_tr\n",
    "//let th9 = mk_comb1_rule_tr th8 x\n",
    "//let th10 = gen_rule_tr x th9\n",
    "//let th11 = deduct_antisym_rule_tr th7 th10\n",
    "//let th = list_gen_rule_tr [f;g] th11\n",
    "\n",
    "//th |\u003e snd |\u003e view\n"
   ]
  }
 ],
 "metadata": {
  "kernelspec": {
   "display_name": ".NET (F#)",
   "language": "F#",
   "name": ".net-fsharp"
  },
  "language_info": {
   "file_extension": ".fs",
   "mimetype": "text/x-fsharp",
   "name": "polyglot-notebook",
   "pygments_lexer": "fsharp"
  },
  "polyglot_notebook": {
   "kernelInfo": {
    "defaultKernelName": "fsharp",
    "items": [
     {
      "aliases": [],
      "languageName": "fsharp",
      "name": "fsharp"
     }
    ]
   }
  }
 },
 "nbformat": 4,
 "nbformat_minor": 2
}

