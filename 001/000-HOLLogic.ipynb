
{
 "cells": [
  {
   "cell_type": "markdown",
   "metadata": {},
   
   "source": [
    "# La logica HOL\n",
    "\n",
    "La logica supportata dai sistemi HOL è una variante della teoria dei tipi semplici di Church.\n",
    "\n",
    "La sintsassi di HOL contiene categorie sintattiche di tipi e termini i cui elementi sono\n",
    "intesi denotare rispettivamente certi insiemi e elementi di insiemi. Di seguito sarà sviluppata questa interpretazione insiemisitica accanto alla descrizione della sintassi di del linguaggio, e più avanti, il sistema di dimostrazione implementato sarà mostrato essere valido per il ragionamento circa proprietà del modello insiemistico.\n",
    "\n",
    "## Universo\n",
    "\n",
    "Il modello insiemistico è dato in termini di un insieme di insiemi fisso $\\cal U$, che sarà chiamato l\u0027**universo** e che si assume avere le seguenti proprietà:\n",
    "\n",
    "--- | ---\n",
    "**Inhab** | Ogni elemento di $\\cal U$ è un insieme non vuoto.\n",
    "**Sub** | Se $X\\in{\\cal U}$ e $\\emptyset\\not=Y\\subseteq X$, allora $Y\\in{\\cal U}$\n",
    "**Prod** | Se $X\\in{\\cal U}$ e $Y\\in{\\cal U}$, allora $X \\times Y\\in{\\cal U}$. L\u0027insieme $X\\times Y$ è il prodotto cartesiano, consistente di coppie ordinate $(x,y)$ con $x\\in X$ e $y\\in Y$, con l\u0027usuale notazione insiemistica delle coppie ordinate, cioé $(x,y)=\\{\\{x\\},\\{x,y\\}\\}$.\n",
    "**Pow** | Se $X\\in{\\cal U}$, allora anche l\u0027insieme potenza $P(X)=\\{Y:Y\\subseteq X\\}$ è un elemento di $\\cal U$.\n",
    "**Infty** | $\\cal U$ contiene un distinto insieme infinito $\\cal I$.\n",
    "**Choice** | C\u0027è un elemento distinto $ch\\in\\prod_{X\\in{\\cal U}}X$ (il prodotto cartesiano generalizzato). Gli elementi del prodotto $\\prod_{X\\in{\\cal U}}X$ sono funzioni (dipendentemente tipizzate): così per tutti gli $X\\in{\\cal U}$, $X$ è non vuoto per **Inhab** e $ch(X)\\in X$ testimonia questo\u003csup\u003e[†](##)\u003c/sup\u003e.\n",
    "\n",
    "\n",
    "Da queste assunzioni seguono, come conseguenze, anche le seguenti ulteriori proprietà che è utile esplicitare (e nominare per potervi fare riferimento velocemente):\n",
    "\n",
    "--- | ---\n",
    "**Fun** | Se $X\\in{\\cal U}$ e $Y\\in{\\cal U}$, allora $X\\rightarrow Y\\in{\\cal U}$\u003csup\u003e[†](##)\u003c/sup\u003e.\n",
    "**Unit** | $\\cal U$ contiene un distinto insieme di un solo elemento $1=\\{0\\}$\u003csup\u003e[†](##)\u003c/sup\u003e.\n",
    "**Bool** | $\\cal U$ contiene un distinto insieme di due elementi $2=\\{0,1\\}$\u003csup\u003e[†](##)\u003c/sup\u003e.\n",
    "\n",
    "\n",
    "## Tipi\n",
    "\n",
    "I tipi della logica HOL sono espressioni che denotano insiemi (nell’universo U). Nel seguito il simbolo $\\sigma$, possibilmente decorato con sottoscritti o primi, è usato per variare su tipi arbitrari.\n",
    "\n",
    "Ci sono quattro specie di tipi nella logica HOL. Questi possono essere descritti informalmente dalla seguente grammatica BNF, in cui $\\alpha$ varia su variabili di tipo, $c$ varia su tipi atomici e $op$ varia su operatori di tipo.\n",
    "\n",
    "$$\\sigma\\quad ::=\\quad {\\mathord{\\mathop{\\alpha}\\limits_{variabili\\ di\\ tipo}}}\n",
    "\\quad\\mid\\quad{\\mathord{\\mathop{c}\\limits_{tipi\\ atomici}}}\n",
    "\\quad\\mid\\quad\\underbrace{(\\sigma_1, \\ldots , \\sigma_n){op}}_{tipi\\ composti}\n",
    "\\quad\\mid\\quad\\underbrace{\\sigma_1\\rightarrow\\sigma_2}_{tipi\\ funzione}$$\n",
    "\n",
    "* **Variabili di tipo**: stanno per insiemi arbitrari nell\u0027universo.\n",
    "  \n",
    "\n",
    "* **Tipi atomici**: denotano insiemi fissati nell\u0027universo. Ogni teoria determina una particolare collezione di tipi atomici. Per esempio, i tipi atomici standard $bool$ (vedi [CoreThry.bool_ty](/nholz/reference/hol-corethry.html#bool_ty)) e $ind$ ([Ind.ind_ty](/nholz/reference/hol-ind.html#ind_ty)) denotano, rispettivamente, l\u0027insieme distinto di $2$ elementi e l\u0027insieme distinto infinito $\\cal I$.\n",
    "  \n",
    "\n",
    "* **Tipi composti**: hanno la forma $(\\sigma_1, \\ldots, \\sigma_n)op$, dove $\\sigma_1, \\ldots, \\sigma_n$ sono tipi argomento e $op$ è un **operatore di tipo** di arietà $n$. Gli operatori di tipo denotano operazioni per costruire insiemi. Il tipo $(\\sigma_1, \\ldots, \\sigma_n)op$ denota l\u0027insieme che risulta dall\u0027applicare l\u0027operazione denotata da $op$ agli insiemi denotati da $\\sigma_1, \\ldots, \\sigma_n$. Per esempio, se indichiamo con $prod$ l\u0027operatore di tipo di arietà $2$ che denota l\u0027operazione di prodotto cartesiano, $(\\sigma_1, \\sigma_2)prod$ indicherà il prodotto cartesiano degli insiemi denotati rispettivamente da $\\sigma_1$ e $\\sigma_2$ o, equivalentemente, l\u0027insieme di coppie ordinate di elementi di $\\sigma_1$ e $\\sigma_2$. $(\\sigma_1, \\sigma_2)prod$ è anche scritto $\\sigma_1 \\times \\sigma_2$. Si noti che $prod$ qui è implementato con il simbolo \u0027#\u0027 ([Pair.prod_def](/nholz/reference/hol-pair.html#prod_def)).\n",
    "  \n",
    "\n",
    "* **Tipi funzione**: Se $\\sigma_1$ e $\\sigma_2$ sono tipi, allora $\\sigma_1 \\rightarrow \\sigma_2$ è il tipo funzione con **dominio** $\\sigma_1$ e rango $\\sigma_2$. Esso denota l\u0027insieme di tutte le funzioni (totali) dall\u0027insieme denotato dal suo dominio all\u0027insieme denotato dal suo rango. Si not che sintatticamente $\\rightarrow$ è semplicmente un distinto operatore di tipo di arietà $2$ scritto con notazione infissa. E\u0027 isolato nelladefinizione dei tipi HOL perché denoterà sempre la stessa operazione in qualsiasi modello di una teoria HOL (si veda [CoreThry](https://github.com/domasin/nholz/blob/master/src/CoreThry.fs#L41)) - contrariamente agli altri operatori di tipo che possono essere interpretati in modo differente in modelli differenti. (Si veda più avanti TODO indicare precisamente dove).\n",
    "  \n",
    "\n",
    "Risulta conveniente identificare i tipi atomici con tipi composti costruiti con operatori di tipo $0$-ari. Per esempio, il tipo atomico $bool$ dei valori di verità può essere considerato come un’abbreviazione per $()bool$. Questa identificazione sarà fatta nei dettagli tecnici che seguono, ma nella presentazione informale i tipi atomici continueranno ad essere distinti dai tipi composti, e $()c$ sarà scritto come $c$.\n",
    "\n"
   ]
  }
 ],
 "metadata": {
  "kernelspec": {
   "display_name": ".NET (F#)",
   "language": "F#",
   "name": ".net-fsharp"
  },
  "language_info": {
   "file_extension": ".fs",
   "mimetype": "text/x-fsharp",
   "name": "polyglot-notebook",
   "pygments_lexer": "fsharp"
  },
  "polyglot_notebook": {
   "kernelInfo": {
    "defaultKernelName": "fsharp",
    "items": [
     {
      "aliases": [],
      "languageName": "fsharp",
      "name": "fsharp"
     }
    ]
   }
  }
 },
 "nbformat": 4,
 "nbformat_minor": 2
}

