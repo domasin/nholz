
{
 "cells": [
  {
   "cell_type": "markdown",
   "metadata": {},
   
   "source": [
    "# Disj Idem\n",
    "\n",
    "$\\vdash \\forall p.\\ p \\vee p \\Leftrightarrow p$\n",
    "\n"
   ]
  }
,
  {
   "cell_type": "code",
   "metadata": {
    "dotnet_interactive": {
     "language": "fsharp"
    },
    "polyglot_notebook": {
     "kernelName": "fsharp"
    }
   },
   "execution_count": null, "outputs": [],
   "source": [
    "disj_idem_thm\n",
    "// |- !p. p \\/ p \u003c=\u003e p\n",
    "\n",
    "let p = \"p:bool\" |\u003e parse_term\n",
    "let th1 = assume_rule p                                  //      p |- p\n",
    "let th2 = disj1_rule th1 p                               //      p |- p \\/ p\n",
    "let th3 = assume_rule (@\"p \\/ p\" |\u003e parse_term)          // p \\/ p |- p \\/ p\n",
    "let th4 = disj_cases_rule th3 th1 th1                    // p \\/ p |- p\n",
    "let th7 = deduct_antisym_rule th2 th4                    //        |- p \\/ p \u003c=\u003e p\n",
    "let th8 = gen_rule p th7                                 //        |- !p. p \\/ p \u003c=\u003e p\n"
   ]
  }
,
  {
   "cell_type": "code",
   "metadata": {
    "dotnet_interactive": {
     "language": "fsharp"
    },
    "polyglot_notebook": {
     "kernelName": "fsharp"
    }
   },
   "execution_count": null, "outputs": [],
   "source": [
    "\n"
   ]
  }
,
  {
   "cell_type": "markdown",
   "metadata": {},
   
   "source": [
    "$\\small{ \t\n",
    "\\dfrac\n",
    "{p:bool\n",
    "\\qquad\n",
    "\\dfrac\n",
    "{\\dfrac\n",
    "{\\dfrac\n",
    "{p:bool}\n",
    "{p\\ \\vdash\\ p}\n",
    "\\textsf{ assume_rule}\n",
    "\\qquad\n",
    "p:bool}\n",
    "{p\\ \\vdash\\ p\\ \\vee\\ p}\n",
    "\\textsf{ disj1_rule}\n",
    "\\qquad\n",
    "\\dfrac\n",
    "{\\dfrac\n",
    "{p\\ \\vee\\ p}\n",
    "{p\\ \\vee\\ p\\ \\vdash\\ p\\ \\vee\\ p}\n",
    "\\textsf{ assume_rule}\n",
    "\\qquad\n",
    "\\dfrac\n",
    "{p:bool}\n",
    "{p\\ \\vdash\\ p}\n",
    "\\textsf{ assume_rule}\n",
    "\\qquad\n",
    "\\dfrac\n",
    "{p:bool}\n",
    "{p\\ \\vdash\\ p}\n",
    "\\textsf{ assume_rule}}\n",
    "{p\\ \\vee\\ p\\ \\vdash\\ p}\n",
    "\\textsf{ disj_cases_rule}}\n",
    "{\\vdash\\ p\\ \\vee\\ p\\ \\Leftrightarrow\\ p}\n",
    "\\textsf{ deduct_antisym_rule}}\n",
    "{\\vdash\\ \\forall\\ p.\\ p\\ \\vee\\ p\\ \\Leftrightarrow\\ p}\n",
    "\\textsf{ gen_rule} }$\n",
    "\n"
   ]
  }
 ],
 "metadata": {
  "kernelspec": {
   "display_name": ".NET (F#)",
   "language": "F#",
   "name": ".net-fsharp"
  },
  "language_info": {
   "file_extension": ".fs",
   "mimetype": "text/x-fsharp",
   "name": "polyglot-notebook",
   "pygments_lexer": "fsharp"
  },
  "polyglot_notebook": {
   "kernelInfo": {
    "defaultKernelName": "fsharp",
    "items": [
     {
      "aliases": [],
      "languageName": "fsharp",
      "name": "fsharp"
     }
    ]
   }
  }
 },
 "nbformat": 4,
 "nbformat_minor": 2
}

