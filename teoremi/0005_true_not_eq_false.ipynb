
{
 "cells": [
  {
   "cell_type": "markdown",
   "metadata": {},
   
   "source": [
    "# Vero non equivale a falso\n",
    "\n",
    "$\\vdash \\neg (\\top \\Leftrightarrow \\bot)$\n",
    "\n"
   ]
  }
,
  {
   "cell_type": "code",
   "metadata": {
    "dotnet_interactive": {
     "language": "fsharp"
    },
    "polyglot_notebook": {
     "kernelName": "fsharp"
    }
   },
   "execution_count": null, "outputs": [],
   "source": [
    "true_not_eq_false_thm\n",
    "//   |- ~ (true \u003c=\u003e false)\n"
   ]
  }
,
  {
   "cell_type": "markdown",
   "metadata": {},
   
   "source": [
    "Backward proof with tree\n",
    "\n"
   ]
  }
,
  {
   "cell_type": "code",
   "metadata": {
    "dotnet_interactive": {
     "language": "fsharp"
    },
    "polyglot_notebook": {
     "kernelName": "fsharp"
    }
   },
   "execution_count": null, "outputs": [],
   "source": [
    "([],\"~ (true \u003c=\u003e false)\")\n",
    "|\u003e start_proof\n",
    "|\u003e eqf_elim_rule_bk\n",
    "    |\u003e deduct_antisym_rule_bk [] []\n",
    "        (* false |- true \u003c=\u003e false         *)\n",
    "        |\u003e sym_rule_bk\n",
    "            |\u003e eqt_intro_rule_bk\n",
    "                |\u003e assume_rule_bk\n",
    "        (* true \u003c=\u003e false |- false         *)\n",
    "        |\u003e eq_mp_rule_bk [0] [] \"true\"\n",
    "            |\u003e assume_rule_bk\n",
    "                //|\u003e add_asm_rule_bk 0\n",
    "            |\u003e by truth_thm \"truth_thm\"\n",
    "|\u003e view\n",
    "|\u003e loc_thm |\u003e Option.get\n",
    "\n",
    "//val it : thm = |- ~ (true \u003c=\u003e false)\n"
   ]
  }
,
  {
   "cell_type": "markdown",
   "metadata": {},
   
   "source": [
    "$\\small{ \t\\color{green}{\\dfrac\n",
    "{\\color{green}{\\dfrac\n",
    "{\\color{green}{\\dfrac\n",
    "{\\color{green}{\\dfrac\n",
    "{\\color{green}{\\dfrac\n",
    "{\\bot}\n",
    "{\\bot\\ \\vdash\\ \\bot}\n",
    "\\textsf{ assume_rule}}}\n",
    "{\\bot\\ \\vdash\\ \\bot\\ \\Leftrightarrow\\ \\top}\n",
    "\\textsf{ eqt_intro_rule}}}\n",
    "{\\bot\\ \\vdash\\ \\top\\ \\Leftrightarrow\\ \\bot}\n",
    "\\textsf{ sym_rule}}\n",
    "\\qquad\n",
    "\\color{green}{\\dfrac\n",
    "{\\color{green}{\\dfrac\n",
    "{\\top\\ \\Leftrightarrow\\ \\bot}\n",
    "{\\top\\ \\Leftrightarrow\\ \\bot\\ \\vdash\\ \\top\\ \\Leftrightarrow\\ \\bot}\n",
    "\\textsf{ assume_rule}}\n",
    "\\qquad\n",
    "\\dfrac\n",
    "{}\n",
    "{\\vdash\\ \\top}\n",
    "\\textsf{ truth_thm}}\n",
    "{\\top\\ \\Leftrightarrow\\ \\bot\\ \\vdash\\ \\bot}\n",
    "\\textsf{ eq_mp_rule}}}\n",
    "{\\vdash\\ (\\top\\ \\Leftrightarrow\\ \\bot)\\ \\Leftrightarrow\\ \\bot}\n",
    "\\textsf{ deduct_antisym_rule}}}\n",
    "{\\vdash\\ \\neg\\ (\\top\\ \\Leftrightarrow\\ \\bot)}\n",
    "\\textsf{ eqf_elim_rule}} }$\n",
    "\n",
    "Forward proof with tree\n",
    "\n"
   ]
  }
,
  {
   "cell_type": "code",
   "metadata": {
    "dotnet_interactive": {
     "language": "fsharp"
    },
    "polyglot_notebook": {
     "kernelName": "fsharp"
    }
   },
   "execution_count": null, "outputs": [],
   "source": [
    "eqf_elim_rule_fd\n",
    "    (deduct_antisym_rule_fd\n",
    "      (* false |- true \u003c=\u003e false         *)\n",
    "      (sym_rule_fd (eqt_intro_rule_fd (assume_rule_fd (parse_term(@\"false\")))))\n",
    "      (* true \u003c=\u003e false |- false         *)\n",
    "      (eq_mp_rule_fd (assume_rule_fd(parse_term(@\"true \u003c=\u003e false\"))) (truth_thm |\u003e thm_fd \"truth_thm\") ) )\n",
    "|\u003e zipper \n",
    "//|\u003e view //equals backward version\n",
    "|\u003e loc_thm |\u003e Option.get\n",
    "\n",
    "//val it : thm = |- ~ (true \u003c=\u003e false)\n"
   ]
  }
,
  {
   "cell_type": "markdown",
   "metadata": {},
   
   "source": [
    "Classic forward proof without tree\n",
    "\n"
   ]
  }
,
  {
   "cell_type": "code",
   "metadata": {
    "dotnet_interactive": {
     "language": "fsharp"
    },
    "polyglot_notebook": {
     "kernelName": "fsharp"
    }
   },
   "execution_count": null, "outputs": [],
   "source": [
    "eqf_elim_rule\n",
    "    (deduct_antisym_rule\n",
    "        (* false |- true \u003c=\u003e false         *)\n",
    "        (sym_rule (eqt_intro_rule (assume_rule (parse_term(@\"false\")))))\n",
    "        (* true \u003c=\u003e false |- false         *)\n",
    "        (eq_mp_rule (assume_rule (parse_term(@\"true \u003c=\u003e false\"))) truth_thm) )\n",
    "\n",
    "//val it : thm = |- ~ (true \u003c=\u003e false)\n"
   ]
  }
 ],
 "metadata": {
  "kernelspec": {
   "display_name": ".NET (F#)",
   "language": "F#",
   "name": ".net-fsharp"
  },
  "language_info": {
   "file_extension": ".fs",
   "mimetype": "text/x-fsharp",
   "name": "polyglot-notebook",
   "pygments_lexer": "fsharp"
  },
  "polyglot_notebook": {
   "kernelInfo": {
    "defaultKernelName": "fsharp",
    "items": [
     {
      "aliases": [],
      "languageName": "fsharp",
      "name": "fsharp"
     }
    ]
   }
  }
 },
 "nbformat": 4,
 "nbformat_minor": 2
}

