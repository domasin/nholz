
{
 "cells": [
  {
   "cell_type": "code",
   "metadata": {
    "dotnet_interactive": {
     "language": "fsharp"
    },
    "polyglot_notebook": {
     "kernelName": "fsharp"
    }
   },
   "execution_count": null, "outputs": [],
   "source": [
    "imp_left_id_thm\n",
    "\n",
    "([],\"!p. true ==\u003e p \u003c=\u003e p\")\n",
    "|\u003e start_proof\n",
    "|\u003e gen_rule_bk\n",
    "|\u003e deduct_antisym_rule_bk [] []\n",
    "|\u003e disch_rule_bk\n",
    "|\u003e add_asm_rule_bk 1\n",
    "|\u003e assume_rule_bk\n",
    "|\u003e mp_rule_bk [0] [] \"true\"\n",
    "|\u003e assume_rule_bk\n",
    "|\u003e by truth_thm \"truth\\_thm\"\n",
    "//|\u003e view\n",
    "|\u003e root\n",
    "|\u003e linearizeProof\n",
    "\n",
    "([],\"!p. true ==\u003e (p \u003c=\u003e p)\")\n",
    "|\u003e start_proof\n",
    "|\u003e gen_rule_bk\n",
    "|\u003e disch_rule_bk \n",
    "|\u003e add_asm_rule_bk 0\n",
    "|\u003e refl_conv_bk\n",
    "\n",
    "|\u003e view\n",
    "//|\u003e root\n",
    "//|\u003e linearizeProof\n"
   ]
  }
 ],
 "metadata": {
  "kernelspec": {
   "display_name": ".NET (F#)",
   "language": "F#",
   "name": ".net-fsharp"
  },
  "language_info": {
   "file_extension": ".fs",
   "mimetype": "text/x-fsharp",
   "name": "polyglot-notebook",
   "pygments_lexer": "fsharp"
  },
  "polyglot_notebook": {
   "kernelInfo": {
    "defaultKernelName": "fsharp",
    "items": [
     {
      "aliases": [],
      "languageName": "fsharp",
      "name": "fsharp"
     }
    ]
   }
  }
 },
 "nbformat": 4,
 "nbformat_minor": 2
}

