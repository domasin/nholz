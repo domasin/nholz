
{
 "cells": [
  {
   "cell_type": "code",
   "metadata": {
    "dotnet_interactive": {
     "language": "fsharp"
    },
    "polyglot_notebook": {
     "kernelName": "fsharp"
    }
   },
   "execution_count": 2, "outputs": [],
   "source": [
    "exists_null_thm\n",
    "\n",
    "([],\"!t. (?(x:a). t) \u003c=\u003e t\")\n",
    "|\u003e start_proof\n",
    "|\u003e gen_rule_bk\n",
    "|\u003e deduct_antisym_rule_bk [] []\n",
    "|\u003e exists_rule_bk \"x:a\"\n",
    "|\u003e assume_rule_bk\n",
    "|\u003e choose_rule_bk [0] [] 0 (\"x:a\",\"x:a\")\n",
    "|\u003e assume_rule_bk\n",
    "|\u003e assume_rule_bk\n",
    "\n",
    "|\u003e view\n",
    "\n",
    "skolem_thm\n",
    "\n",
    "([],\"!P. (!(x:a). ?(y:b). P x y) \u003c=\u003e (?f. !x. P x (f x))\")\n",
    "|\u003e start_proof\n",
    "|\u003e gen_rule_bk\n",
    "|\u003e deduct_antisym_rule_bk [] []\n",
    "|\u003e choose_rule_bk [0] [] 0 (\"f:a-\u003eb\",\"f:a-\u003eb\")\n",
    "|\u003e assume_rule_bk\n",
    "|\u003e gen_rule_bk\n",
    "|\u003e exists_rule_bk \"(f:a-\u003eb) x\"\n",
    "|\u003e spec_rule_bk (\"x:a\",\"x:a\") \"!x. P x ((f:a-\u003eb) x)\"\n",
    "|\u003e assume_rule_bk\n",
    "|\u003e focus_goal\n",
    "//|\u003e exists_rule_bk \"(f:a-\u003eb)\"\n",
    "//|\u003e gen_rule_bk\n",
    "//|\u003e focus_goal\n",
    "//|\u003e eq_mp_rule_bk [0] [0] \"(f:a-\u003eb) x = y\"\n",
    "\n",
    "|\u003e view\n",
    "\n",
    "\n",
    "\n",
    "\n",
    "\n",
    "\n",
    "\n",
    "\n",
    "\n",
    "\n",
    "\n",
    "([],\"!P a. (?(x:a). x = a /\\ P x) \u003c=\u003e P a\")\n",
    "|\u003e start_proof\n",
    "|\u003e gen_rule_bk\n",
    "|\u003e gen_rule_bk\n",
    "|\u003e deduct_antisym_rule_bk [] []\n",
    "|\u003e exists_rule_bk \"a:a\"\n",
    "|\u003e conj_rule_bk [] [0]\n",
    "|\u003e refl_conv_bk\n",
    "|\u003e assume_rule_bk\n",
    "//|\u003e focus_goal\n",
    "|\u003e choose_rule_bk [0] [] 0 (\"x:a\",\"x:a\")\n",
    "|\u003e assume_rule_bk\n",
    "|\u003e eq_mp_rule_bk [0] [0] \"(P:a-\u003ebool) x\"\n",
    "|\u003e mk_comb2_rule_bk\n",
    "|\u003e conjunct1_rule_bk \"(P:a-\u003ebool) x\"\n",
    "|\u003e assume_rule_bk\n",
    "|\u003e conjunct2_rule_bk \"(x:a) = a\"\n",
    "|\u003e assume_rule_bk\n",
    "\n",
    "|\u003e view\n",
    "\n",
    "let tm = (parse_term(@\"?(x:\u0027a). x = a /\\ P x\"))\n",
    "let s1 = assume_rule_fd (parse_term(@\"(x:\u0027a)=a /\\ P x\"))\n",
    "\n",
    "(choose_rule_fd (parse_term(@\"x:\u0027a\")) (assume_rule_fd tm)\n",
    "    (eq_mp_rule_fd (mk_comb2_rule_fd (parse_term(@\"P:\u0027a-\u003ebool\")) (conjunct1_rule_fd s1))\n",
    "           (conjunct2_rule_fd s1)) )\n",
    "|\u003e zipper\n",
    "|\u003e view\n",
    "\n",
    "gen_rule_fd (parse_term(@\"P:\u0027a-\u003ebool\"))\n",
    " (gen_rule_fd (parse_term(@\"a:\u0027a\"))\n",
    "   (deduct_antisym_rule_fd\n",
    "     (exists_rule_fd tm (parse_term(@\"a:\u0027a\"))\n",
    "       (conj_rule_fd (refl_conv_fd (parse_term(@\"a:\u0027a\"))) (assume_rule_fd (parse_term(@\"(P:\u0027a-\u003ebool) a\")))))\n",
    "     (choose_rule_fd (parse_term(@\"x:\u0027a\")) (assume_rule_fd tm)\n",
    "       (eq_mp_rule_fd (mk_comb2_rule_fd (parse_term(@\"P:\u0027a-\u003ebool\")) (conjunct1_rule_fd s1))\n",
    "              (conjunct2_rule_fd s1)) )))\n",
    "|\u003e zipper\n",
    "|\u003e view\n"
   ]
  }
 ],
 "metadata": {
  "kernelspec": {
   "display_name": ".NET (F#)",
   "language": "F#",
   "name": ".net-fsharp"
  },
  "language_info": {
   "file_extension": ".fs",
   "mimetype": "text/x-fsharp",
   "name": "polyglot-notebook",
   "pygments_lexer": "fsharp"
  },
  "polyglot_notebook": {
   "kernelInfo": {
    "defaultKernelName": "fsharp",
    "items": [
     {
      "aliases": [],
      "languageName": "fsharp",
      "name": "fsharp"
     }
    ]
   }
  }
 },
 "nbformat": 4,
 "nbformat_minor": 2
}

