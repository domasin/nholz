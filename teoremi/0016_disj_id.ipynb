
{
 "cells": [
  {
   "cell_type": "markdown",
   "metadata": {},
   
   "source": [
    "# Disj Id\n",
    "\n",
    "$\\vdash \\forall p.\\ p \\vee \\bot \\Leftrightarrow p$\n",
    "\n"
   ]
  }
,
  {
   "cell_type": "code",
   "metadata": {
    "dotnet_interactive": {
     "language": "fsharp"
    },
    "polyglot_notebook": {
     "kernelName": "fsharp"
    }
   },
   "execution_count": null, "outputs": [],
   "source": [
    "disj_id_thm\n",
    "// |- !p. p \\/ false \u003c=\u003e p\n",
    "\n",
    "let p = \"p:bool\" |\u003e parse_term\n",
    "let th1 = assume_rule p                                //          p |- p\n",
    "let th2 = disj1_rule th1 (parse_term(@\"false\"))        //          p |- p \\/ false    \n",
    "let th3 = assume_rule (parse_term(@\"p \\/ false\"))      // p \\/ false |- p \\/ false\n",
    "let th4 = assume_rule (parse_term(@\"false\"))           //      false |- false\n",
    "let th5 = contr_rule p th4                             //      false |- p\n",
    "let th6 = disj_cases_rule th3 th1 th5                  // p \\/ false |- p\n",
    "let th7 = deduct_antisym_rule th2 th6                  //            |- p \\/ false \u003c=\u003e p\n",
    "let th8 = gen_rule p th7                               //            |- !p. p \\/ false \u003c=\u003e p\n"
   ]
  }
,
  {
   "cell_type": "code",
   "metadata": {
    "dotnet_interactive": {
     "language": "fsharp"
    },
    "polyglot_notebook": {
     "kernelName": "fsharp"
    }
   },
   "execution_count": null, "outputs": [],
   "source": [
    "\n"
   ]
  }
,
  {
   "cell_type": "markdown",
   "metadata": {},
   
   "source": [
    "$\\small{  \n",
    "\\dfrac\n",
    "{p:bool\n",
    "\\qquad\n",
    "\\dfrac\n",
    "{\\dfrac\n",
    "{\\dfrac\n",
    "{p:bool}\n",
    "{p\\ \\vdash\\ p}\n",
    "\\textsf{ assume_rule}\n",
    "\\qquad\n",
    "\\bot}\n",
    "{p\\ \\vdash\\ p\\ \\vee\\ \\bot}\n",
    "\\textsf{ disj1_rule}\n",
    "\\qquad\n",
    "\\dfrac\n",
    "{\\dfrac\n",
    "{p\\ \\vee\\ \\bot}\n",
    "{p\\ \\vee\\ \\bot\\ \\vdash\\ p\\ \\vee\\ \\bot}\n",
    "\\textsf{ assume_rule}\n",
    "\\qquad\n",
    "\\dfrac\n",
    "{p:bool}\n",
    "{p\\ \\vdash\\ p}\n",
    "\\textsf{ assume_rule}\n",
    "\\qquad\n",
    "\\dfrac\n",
    "{p:bool\n",
    "\\qquad\n",
    "\\dfrac\n",
    "{\\bot}\n",
    "{\\bot\\ \\vdash\\ \\bot}\n",
    "\\textsf{ assume_rule}}\n",
    "{\\bot\\ \\vdash\\ p}\n",
    "\\textsf{ contr_rule}}\n",
    "{p\\ \\vee\\ \\bot\\ \\vdash\\ p}\n",
    "\\textsf{ disj_cases_rule}}\n",
    "{\\vdash\\ p\\ \\vee\\ \\bot\\ \\Leftrightarrow\\ p}\n",
    "\\textsf{ deduct_antisym_rule}}\n",
    "{\\vdash\\ \\forall\\ p.\\ p\\ \\vee\\ \\bot\\ \\Leftrightarrow\\ p}\n",
    "\\textsf{ gen_rule} }$\n",
    "\n"
   ]
  }
 ],
 "metadata": {
  "kernelspec": {
   "display_name": ".NET (F#)",
   "language": "F#",
   "name": ".net-fsharp"
  },
  "language_info": {
   "file_extension": ".fs",
   "mimetype": "text/x-fsharp",
   "name": "polyglot-notebook",
   "pygments_lexer": "fsharp"
  },
  "polyglot_notebook": {
   "kernelInfo": {
    "defaultKernelName": "fsharp",
    "items": [
     {
      "aliases": [],
      "languageName": "fsharp",
      "name": "fsharp"
     }
    ]
   }
  }
 },
 "nbformat": 4,
 "nbformat_minor": 2
}

