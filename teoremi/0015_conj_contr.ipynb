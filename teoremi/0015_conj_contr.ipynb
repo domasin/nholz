
{
 "cells": [
  {
   "cell_type": "code",
   "metadata": {
    "dotnet_interactive": {
     "language": "fsharp"
    },
    "polyglot_notebook": {
     "kernelName": "fsharp"
    }
   },
   "execution_count": null, "outputs": [],
   "source": [
    "conj_contr_thm\n",
    "//|- !p. p /\\ ~ p \u003c=\u003e false\n",
    "\n",
    "([],\"!p. p /\\ ~ p \u003c=\u003e false\")\n",
    "|\u003e start_proof\n",
    "|\u003e gen_rule_bk\n",
    "|\u003e deduct_antisym_rule_bk [] []\n",
    "|\u003e conj_rule_bk [0] [0]\n",
    "|\u003e contr_rule_bk\n",
    "|\u003e assume_rule_bk\n",
    "|\u003e contr_rule_bk\n",
    "|\u003e assume_rule_bk\n",
    "|\u003e mp_rule_bk [0] [0] \"p:bool\"\n",
    "|\u003e not_elim_rule_bk\n",
    "|\u003e conjunct2_rule_bk \"p:bool\"\n",
    "|\u003e assume_rule_bk\n",
    "|\u003e conjunct1_rule_bk \"~ p\"\n",
    "|\u003e assume_rule_bk\n",
    "\n",
    "|\u003e view\n"
   ]
  }
 ],
 "metadata": {
  "kernelspec": {
   "display_name": ".NET (F#)",
   "language": "F#",
   "name": ".net-fsharp"
  },
  "language_info": {
   "file_extension": ".fs",
   "mimetype": "text/x-fsharp",
   "name": "polyglot-notebook",
   "pygments_lexer": "fsharp"
  },
  "polyglot_notebook": {
   "kernelInfo": {
    "defaultKernelName": "fsharp",
    "items": [
     {
      "aliases": [],
      "languageName": "fsharp",
      "name": "fsharp"
     }
    ]
   }
  }
 },
 "nbformat": 4,
 "nbformat_minor": 2
}

