
{
 "cells": [
  {
   "cell_type": "markdown",
   "metadata": {},
   
   "source": [
    "# assorbimento della disgiunzione nella congiunzione\n",
    "\n",
    "$\\forall p\\ q.\\ p \\wedge (p \\vee q) \\Leftrightarrow p$\n",
    "\n"
   ]
  }
,
  {
   "cell_type": "code",
   "metadata": {
    "dotnet_interactive": {
     "language": "fsharp"
    },
    "polyglot_notebook": {
     "kernelName": "fsharp"
    }
   },
   "execution_count": null, "outputs": [],
   "source": [
    "conj_absorb_disj_thm\n",
    "// |- !p q. p /\\ (p \\/ q) \u003c=\u003e p\n"
   ]
  }
,
  {
   "cell_type": "markdown",
   "metadata": {},
   
   "source": [
    "Backward proof with tree\n",
    "\n"
   ]
  }
,
  {
   "cell_type": "code",
   "metadata": {
    "dotnet_interactive": {
     "language": "fsharp"
    },
    "polyglot_notebook": {
     "kernelName": "fsharp"
    }
   },
   "execution_count": null, "outputs": [],
   "source": [
    "([],\"!p q. p /\\ (p \\/ q) \u003c=\u003e p\")\n",
    "|\u003e start_proof\n",
    "|\u003e list_gen_rule_bk\n",
    "|\u003e deduct_antisym_rule_bk [] []\n",
    "|\u003e conj_rule_bk [0] [0]\n",
    "|\u003e assume_rule_bk\n",
    "|\u003e disj1_rule_bk\n",
    "|\u003e assume_rule_bk\n",
    "|\u003e conjunct1_rule_bk \"p \\/ q\"\n",
    "|\u003e assume_rule_bk\n",
    "|\u003e view\n"
   ]
  }
,
  {
   "cell_type": "markdown",
   "metadata": {},
   
   "source": [
    "$\\small{ \t\\color{green}{\\dfrac\n",
    "{[p:bool;q:bool]\n",
    "\\qquad\n",
    "\\color{green}{\\dfrac\n",
    "{\\color{green}{\\dfrac\n",
    "{\\color{green}{\\dfrac\n",
    "{p:bool}\n",
    "{p\\ \\vdash\\ p}\n",
    "\\textsf{ assume_rule}}\n",
    "\\qquad\n",
    "\\color{green}{\\dfrac\n",
    "{\\color{green}{\\dfrac\n",
    "{p:bool}\n",
    "{p\\ \\vdash\\ p}\n",
    "\\textsf{ assume_rule}}\n",
    "\\qquad\n",
    "q:bool}\n",
    "{p\\ \\vdash\\ p\\ \\vee\\ q}\n",
    "\\textsf{ disj1_rule}}}\n",
    "{p\\ \\vdash\\ p\\ \\wedge\\ (p\\ \\vee\\ q)}\n",
    "\\textsf{ conj_rule}}\n",
    "\\qquad\n",
    "\\color{green}{\\dfrac\n",
    "{\\color{green}{\\dfrac\n",
    "{p\\ \\wedge\\ (p\\ \\vee\\ q)}\n",
    "{p\\ \\wedge\\ (p\\ \\vee\\ q)\\ \\vdash\\ p\\ \\wedge\\ (p\\ \\vee\\ q)}\n",
    "\\textsf{ assume_rule}}}\n",
    "{p\\ \\wedge\\ (p\\ \\vee\\ q)\\ \\vdash\\ p}\n",
    "\\textsf{ conjunct1_rule}}}\n",
    "{\\vdash\\ p\\ \\wedge\\ (p\\ \\vee\\ q)\\ \\Leftrightarrow\\ p}\n",
    "\\textsf{ deduct_antisym_rule}}}\n",
    "{\\vdash\\ \\forall\\ p\\ q.\\ p\\ \\wedge\\ (p\\ \\vee\\ q)\\ \\Leftrightarrow\\ p}\n",
    "\\textsf{ list_gen_rule}} }$\n",
    "\n",
    "Forward proof with tree\n",
    "\n"
   ]
  }
,
  {
   "cell_type": "code",
   "metadata": {
    "dotnet_interactive": {
     "language": "fsharp"
    },
    "polyglot_notebook": {
     "kernelName": "fsharp"
    }
   },
   "execution_count": null, "outputs": [],
   "source": [
    "let th1 = assume_rule_fd p\n",
    "list_gen_rule_fd [p;q]\n",
    "  (deduct_antisym_rule_fd\n",
    "    (conj_rule_fd th1 (disj1_rule_fd th1 q))\n",
    "    (conjunct1_rule_fd (assume_rule_fd (parse_term(@\"p /\\ (p \\/ q)\")))) )\n",
    "|\u003e zipper\n",
    "|\u003e view\n"
   ]
  }
,
  {
   "cell_type": "markdown",
   "metadata": {},
   
   "source": [
    "Classic forward proof without tree\n",
    "\n"
   ]
  }
,
  {
   "cell_type": "code",
   "metadata": {
    "dotnet_interactive": {
     "language": "fsharp"
    },
    "polyglot_notebook": {
     "kernelName": "fsharp"
    }
   },
   "execution_count": null, "outputs": [],
   "source": [
    "let th1\u0027 = assume_rule p in\n",
    "list_gen_rule [p;q]\n",
    "  (deduct_antisym_rule\n",
    "    (conj_rule th1\u0027 (disj1_rule th1\u0027 q))\n",
    "    (conjunct1_rule (assume_rule (parse_term(@\"p /\\ (p \\/ q)\")))) )\n"
   ]
  }
 ],
 "metadata": {
  "kernelspec": {
   "display_name": ".NET (F#)",
   "language": "F#",
   "name": ".net-fsharp"
  },
  "language_info": {
   "file_extension": ".fs",
   "mimetype": "text/x-fsharp",
   "name": "polyglot-notebook",
   "pygments_lexer": "fsharp"
  },
  "polyglot_notebook": {
   "kernelInfo": {
    "defaultKernelName": "fsharp",
    "items": [
     {
      "aliases": [],
      "languageName": "fsharp",
      "name": "fsharp"
     }
    ]
   }
  }
 },
 "nbformat": 4,
 "nbformat_minor": 2
}

