
{
 "cells": [
  {
   "cell_type": "markdown",
   "metadata": {},
   
   "source": [
    "# congiunzione zero\n",
    "\n",
    "$\\forall p.\\ p \\wedge \\bot \\Leftrightarrow \\bot$\n",
    "\n"
   ]
  }
,
  {
   "cell_type": "code",
   "metadata": {
    "dotnet_interactive": {
     "language": "fsharp"
    },
    "polyglot_notebook": {
     "kernelName": "fsharp"
    }
   },
   "execution_count": null, "outputs": [],
   "source": [
    "conj_zero_thm\n",
    "//   |- !p. p /\\ false \u003c=\u003e false\n"
   ]
  }
,
  {
   "cell_type": "markdown",
   "metadata": {},
   
   "source": [
    "Backward proof with tree\n",
    "\n"
   ]
  }
,
  {
   "cell_type": "code",
   "metadata": {
    "dotnet_interactive": {
     "language": "fsharp"
    },
    "polyglot_notebook": {
     "kernelName": "fsharp"
    }
   },
   "execution_count": null, "outputs": [],
   "source": [
    "([],\"!p. p /\\ false \u003c=\u003e false\")\n",
    "|\u003e start_proof\n",
    "|\u003e gen_rule_bk\n",
    "|\u003e deduct_antisym_rule_bk [] []\n",
    "|\u003e contr_rule_bk\n",
    "|\u003e assume_rule_bk\n",
    "|\u003e conjunct2_rule_bk \"p:bool\"\n",
    "|\u003e assume_rule_bk\n",
    "|\u003e view\n"
   ]
  }
,
  {
   "cell_type": "markdown",
   "metadata": {},
   
   "source": [
    "$\\small{ \t\\color{green}{\\dfrac\n",
    "{p:bool\n",
    "\\qquad\n",
    "\\color{green}{\\dfrac\n",
    "{\\color{green}{\\dfrac\n",
    "{p\\ \\wedge\\ \\bot\n",
    "\\qquad\n",
    "\\color{green}{\\dfrac\n",
    "{\\bot}\n",
    "{\\bot\\ \\vdash\\ \\bot}\n",
    "\\textsf{ assume_rule}}}\n",
    "{\\bot\\ \\vdash\\ p\\ \\wedge\\ \\bot}\n",
    "\\textsf{ contr_rule}}\n",
    "\\qquad\n",
    "\\color{green}{\\dfrac\n",
    "{\\color{green}{\\dfrac\n",
    "{p\\ \\wedge\\ \\bot}\n",
    "{p\\ \\wedge\\ \\bot\\ \\vdash\\ p\\ \\wedge\\ \\bot}\n",
    "\\textsf{ assume_rule}}}\n",
    "{p\\ \\wedge\\ \\bot\\ \\vdash\\ \\bot}\n",
    "\\textsf{ conjunct2_rule}}}\n",
    "{\\vdash\\ p\\ \\wedge\\ \\bot\\ \\Leftrightarrow\\ \\bot}\n",
    "\\textsf{ deduct_antisym_rule}}}\n",
    "{\\vdash\\ \\forall\\ p.\\ p\\ \\wedge\\ \\bot\\ \\Leftrightarrow\\ \\bot}\n",
    "\\textsf{ gen_rule}} }$\n",
    "\n",
    "Forward proof with tree\n",
    "\n"
   ]
  }
,
  {
   "cell_type": "code",
   "metadata": {
    "dotnet_interactive": {
     "language": "fsharp"
    },
    "polyglot_notebook": {
     "kernelName": "fsharp"
    }
   },
   "execution_count": null, "outputs": [],
   "source": [
    "gen_rule_fd p\n",
    "    (deduct_antisym_rule_fd\n",
    "      (contr_rule_fd (parse_term(@\"p /\\ false\")) (assume_rule_fd false_tm))\n",
    "      (conjunct2_rule_fd (assume_rule_fd (parse_term(@\"p /\\ false\")))) )\n",
    "|\u003e zipper\n",
    "|\u003e view\n"
   ]
  }
,
  {
   "cell_type": "markdown",
   "metadata": {},
   
   "source": [
    "Classic forward proof without tree\n",
    "\n"
   ]
  }
,
  {
   "cell_type": "code",
   "metadata": {
    "dotnet_interactive": {
     "language": "fsharp"
    },
    "polyglot_notebook": {
     "kernelName": "fsharp"
    }
   },
   "execution_count": null, "outputs": [],
   "source": [
    "gen_rule p\n",
    "    (deduct_antisym_rule\n",
    "      (contr_rule (parse_term(@\"p /\\ false\")) (assume_rule false_tm))\n",
    "      (conjunct2_rule (assume_rule (parse_term(@\"p /\\ false\")))) )\n"
   ]
  }
 ],
 "metadata": {
  "kernelspec": {
   "display_name": ".NET (F#)",
   "language": "F#",
   "name": ".net-fsharp"
  },
  "language_info": {
   "file_extension": ".fs",
   "mimetype": "text/x-fsharp",
   "name": "polyglot-notebook",
   "pygments_lexer": "fsharp"
  },
  "polyglot_notebook": {
   "kernelInfo": {
    "defaultKernelName": "fsharp",
    "items": [
     {
      "aliases": [],
      "languageName": "fsharp",
      "name": "fsharp"
     }
    ]
   }
  }
 },
 "nbformat": 4,
 "nbformat_minor": 2
}

