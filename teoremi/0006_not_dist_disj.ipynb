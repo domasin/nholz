
{
 "cells": [
  {
   "cell_type": "markdown",
   "metadata": {},
   
   "source": [
    "# distribuzione della negazione sulla disgiunzione\n",
    "\n",
    "$\\forall p\\ q.\\ \\neg (p \\vee q) \\Leftrightarrow \\neg p \\wedge \\neg q$\n",
    "\n"
   ]
  }
,
  {
   "cell_type": "code",
   "metadata": {
    "dotnet_interactive": {
     "language": "fsharp"
    },
    "polyglot_notebook": {
     "kernelName": "fsharp"
    }
   },
   "execution_count": null, "outputs": [],
   "source": [
    "not_dist_disj_thm\n",
    "//   |- !p q. ~ (p \\/ q) \u003c=\u003e ~ p /\\ ~ q\n"
   ]
  }
,
  {
   "cell_type": "markdown",
   "metadata": {},
   
   "source": [
    "Backward proof with tree\n",
    "\n"
   ]
  }
,
  {
   "cell_type": "code",
   "metadata": {
    "dotnet_interactive": {
     "language": "fsharp"
    },
    "polyglot_notebook": {
     "kernelName": "fsharp"
    }
   },
   "execution_count": null, "outputs": [],
   "source": [
    "([],\"!p q. ~ (p \\/ q) \u003c=\u003e ~ p /\\ ~ q\")\n",
    "|\u003e start_proof\n",
    "|\u003e list_gen_rule_bk\n",
    "    |\u003e deduct_antisym_rule_bk [] []\n",
    "        (* ~ p /\\ ~ q |- ~ (p \\/ q)        *)\n",
    "        |\u003e not_intro_rule_bk\n",
    "            |\u003e disch_rule_bk\n",
    "                (* ~ p /\\ ~ q, p \\/ q |- false   *)\n",
    "                |\u003e disj_cases_rule_bk [1] [0] [0] \"p:bool\" \"q:bool\"\n",
    "                    |\u003e assume_rule_bk\n",
    "                    (* ~ p /\\ ~ q, p |- false        *)\n",
    "                    |\u003e undisch_rule_bk 1\n",
    "                        |\u003e not_elim_rule_bk\n",
    "                            |\u003e conjunct1_rule_bk \"~ q\"\n",
    "                                |\u003e assume_rule_bk\n",
    "                    (* ~ p /\\ ~ q, q |- false        *)\n",
    "                    |\u003e undisch_rule_bk 1\n",
    "                        |\u003e not_elim_rule_bk\n",
    "                            |\u003e conjunct2_rule_bk \"~ p\"\n",
    "                                |\u003e assume_rule_bk\n",
    "        (* ~ (p \\/ q) |- ~ p /\\ ~ q        *)\n",
    "        |\u003e conj_rule_bk [0] [0]\n",
    "            (* ~ (p \\/ q) |- ~ p               *)\n",
    "            |\u003e deduct_contrapos_rule_bk 0\n",
    "                (* p |- p \\/ q                      *)\n",
    "                |\u003e disj1_rule_bk\n",
    "                    |\u003e assume_rule_bk\n",
    "            (* ~ (p \\/ q) |- ~ q               *)\n",
    "            |\u003e deduct_contrapos_rule_bk 0\n",
    "                (* q |- p \\/ q                      *)\n",
    "                |\u003e disj2_rule_bk\n",
    "                    |\u003e assume_rule_bk\n",
    "\n",
    "|\u003e view\n",
    "\n",
    "//val it : thm = |- !p q. ~ (p \\/ q) \u003c=\u003e ~ p /\\ ~ q\n"
   ]
  }
,
  {
   "cell_type": "markdown",
   "metadata": {},
   
   "source": [
    "$\\small{ \t\\color{green}{\\dfrac\n",
    "{[p:bool;q:bool]\n",
    "\\qquad\n",
    "\\color{green}{\\dfrac\n",
    "{\\color{green}{\\dfrac\n",
    "{\\color{green}{\\dfrac\n",
    "{p\\ \\vee\\ q\n",
    "\\qquad\n",
    "\\color{green}{\\dfrac\n",
    "{\\color{green}{\\dfrac\n",
    "{p\\ \\vee\\ q}\n",
    "{p\\ \\vee\\ q\\ \\vdash\\ p\\ \\vee\\ q}\n",
    "\\textsf{ assume_rule}}\n",
    "\\qquad\n",
    "\\color{green}{\\dfrac\n",
    "{\\color{green}{\\dfrac\n",
    "{\\color{green}{\\dfrac\n",
    "{\\color{green}{\\dfrac\n",
    "{\\neg\\ p\\ \\wedge\\ \\neg\\ q}\n",
    "{\\neg\\ p\\ \\wedge\\ \\neg\\ q\\ \\vdash\\ \\neg\\ p\\ \\wedge\\ \\neg\\ q}\n",
    "\\textsf{ assume_rule}}}\n",
    "{\\neg\\ p\\ \\wedge\\ \\neg\\ q\\ \\vdash\\ \\neg\\ p}\n",
    "\\textsf{ conjunct1_rule}}}\n",
    "{\\neg\\ p\\ \\wedge\\ \\neg\\ q\\ \\vdash\\ p\\ \\Rightarrow\\ \\bot}\n",
    "\\textsf{ not_elim_rule}}}\n",
    "{\\neg\\ p\\ \\wedge\\ \\neg\\ q,\\ p\\ \\vdash\\ \\bot}\n",
    "\\textsf{ undisch_rule}}\n",
    "\\qquad\n",
    "\\color{green}{\\dfrac\n",
    "{\\color{green}{\\dfrac\n",
    "{\\color{green}{\\dfrac\n",
    "{\\color{green}{\\dfrac\n",
    "{\\neg\\ p\\ \\wedge\\ \\neg\\ q}\n",
    "{\\neg\\ p\\ \\wedge\\ \\neg\\ q\\ \\vdash\\ \\neg\\ p\\ \\wedge\\ \\neg\\ q}\n",
    "\\textsf{ assume_rule}}}\n",
    "{\\neg\\ p\\ \\wedge\\ \\neg\\ q\\ \\vdash\\ \\neg\\ q}\n",
    "\\textsf{ conjunct2_rule}}}\n",
    "{\\neg\\ p\\ \\wedge\\ \\neg\\ q\\ \\vdash\\ q\\ \\Rightarrow\\ \\bot}\n",
    "\\textsf{ not_elim_rule}}}\n",
    "{\\neg\\ p\\ \\wedge\\ \\neg\\ q,\\ q\\ \\vdash\\ \\bot}\n",
    "\\textsf{ undisch_rule}}}\n",
    "{p\\ \\vee\\ q,\\ \\neg\\ p\\ \\wedge\\ \\neg\\ q\\ \\vdash\\ \\bot}\n",
    "\\textsf{ disj_cases_rule}}}\n",
    "{\\neg\\ p\\ \\wedge\\ \\neg\\ q\\ \\vdash\\ p\\ \\vee\\ q\\ \\Rightarrow\\ \\bot}\n",
    "\\textsf{ disch_rule}}}\n",
    "{\\neg\\ p\\ \\wedge\\ \\neg\\ q\\ \\vdash\\ \\neg\\ (p\\ \\vee\\ q)}\n",
    "\\textsf{ not_intro_rule}}\n",
    "\\qquad\n",
    "\\color{green}{\\dfrac\n",
    "{\\color{green}{\\dfrac\n",
    "{p:bool\n",
    "\\qquad\n",
    "\\color{green}{\\dfrac\n",
    "{\\color{green}{\\dfrac\n",
    "{p:bool}\n",
    "{p\\ \\vdash\\ p}\n",
    "\\textsf{ assume_rule}}\n",
    "\\qquad\n",
    "q:bool}\n",
    "{p\\ \\vdash\\ p\\ \\vee\\ q}\n",
    "\\textsf{ disj1_rule}}}\n",
    "{\\neg\\ (p\\ \\vee\\ q)\\ \\vdash\\ \\neg\\ p}\n",
    "\\textsf{ deduct_contrapos_rule}}\n",
    "\\qquad\n",
    "\\color{green}{\\dfrac\n",
    "{q:bool\n",
    "\\qquad\n",
    "\\color{green}{\\dfrac\n",
    "{p:bool\n",
    "\\qquad\n",
    "\\color{green}{\\dfrac\n",
    "{q:bool}\n",
    "{q\\ \\vdash\\ q}\n",
    "\\textsf{ assume_rule}}}\n",
    "{q\\ \\vdash\\ p\\ \\vee\\ q}\n",
    "\\textsf{ disj2_rule}}}\n",
    "{\\neg\\ (p\\ \\vee\\ q)\\ \\vdash\\ \\neg\\ q}\n",
    "\\textsf{ deduct_contrapos_rule}}}\n",
    "{\\neg\\ (p\\ \\vee\\ q)\\ \\vdash\\ \\neg\\ p\\ \\wedge\\ \\neg\\ q}\n",
    "\\textsf{ conj_rule}}}\n",
    "{\\vdash\\ \\neg\\ (p\\ \\vee\\ q)\\ \\Leftrightarrow\\ \\neg\\ p\\ \\wedge\\ \\neg\\ q}\n",
    "\\textsf{ deduct_antisym_rule}}}\n",
    "{\\vdash\\ \\forall\\ p\\ q.\\ \\neg\\ (p\\ \\vee\\ q)\\ \\Leftrightarrow\\ \\neg\\ p\\ \\wedge\\ \\neg\\ q}\n",
    "\\textsf{ list_gen_rule}} }$\n",
    "\n"
   ]
  }
,
  {
   "cell_type": "code",
   "metadata": {
    "dotnet_interactive": {
     "language": "fsharp"
    },
    "polyglot_notebook": {
     "kernelName": "fsharp"
    }
   },
   "execution_count": null, "outputs": [],
   "source": [
    "it\n",
    "|\u003e root\n",
    "|\u003e linearizeProof\n",
    "\n",
    "// 0                             p \\/ q |- p \\/ q                                             assume_rule                         \n",
    "// 1                         ~ p /\\ ~ q |- ~ p /\\ ~ q                                         assume_rule                         \n",
    "// 2                         ~ p /\\ ~ q |- ~ p                                                conjunct1_rule            1         \n",
    "// 3                         ~ p /\\ ~ q |- p ==\u003e false                                        not_elim_rule             2         \n",
    "// 4                 ~ p /\\ ~ q, p:bool |- false                                              undisch_rule              3         \n",
    "// 5                         ~ p /\\ ~ q |- ~ p /\\ ~ q                                         assume_rule                         \n",
    "// 6                         ~ p /\\ ~ q |- ~ q                                                conjunct2_rule            5         \n",
    "// 7                         ~ p /\\ ~ q |- q ==\u003e false                                        not_elim_rule             6         \n",
    "// 8                 ~ p /\\ ~ q, q:bool |- false                                              undisch_rule              7         \n",
    "// 9                 p \\/ q, ~ p /\\ ~ q |- false                                              disj_cases_rule           0,4,8     \n",
    "// 10                        ~ p /\\ ~ q |- p \\/ q ==\u003e false                                   disch_rule                9         \n",
    "// 11                        ~ p /\\ ~ q |- ~ (p \\/ q)                                         not_intro_rule            10        \n",
    "// 12                            p:bool |- p:bool                                             assume_rule                         \n",
    "// 13                            p:bool |- p \\/ q                                             disj1_rule                12        \n",
    "// 14                        ~ (p \\/ q) |- ~ p                                                deduct_contrapos_rule     13        \n",
    "// 15                            q:bool |- q:bool                                             assume_rule                         \n",
    "// 16                            q:bool |- p \\/ q                                             disj2_rule                15        \n",
    "// 17                        ~ (p \\/ q) |- ~ q                                                deduct_contrapos_rule     16        \n",
    "// 18                        ~ (p \\/ q) |- ~ p /\\ ~ q                                         conj_rule                 14,17     \n",
    "// 19                                   |- ~ (p \\/ q) \u003c=\u003e ~ p /\\ ~ q                          deduct_antisym_rule       11,18     \n",
    "// 20                                   |- !p q. ~ (p \\/ q) \u003c=\u003e ~ p /\\ ~ q                    list_gen_rule             19        \n"
   ]
  }
,
  {
   "cell_type": "markdown",
   "metadata": {},
   
   "source": [
    "Forward proof with tree\n",
    "\n"
   ]
  }
,
  {
   "cell_type": "code",
   "metadata": {
    "dotnet_interactive": {
     "language": "fsharp"
    },
    "polyglot_notebook": {
     "kernelName": "fsharp"
    }
   },
   "execution_count": null, "outputs": [],
   "source": [
    "let p = parse_term(@\"p:bool\")\n",
    "let q = parse_term(@\"q:bool\")\n",
    "\n",
    "list_gen_rule_fd [p;q]\n",
    "  (deduct_antisym_rule_fd\n",
    "    (* ~ p /\\ ~ q |- ~ (p \\/ q)        *)\n",
    "    (not_intro_rule_fd\n",
    "      (disch_rule_fd (parse_term(@\"p \\/ q\"))\n",
    "        (* ~ p /\\ ~ q, p \\/ q |- false   *)\n",
    "        (disj_cases_rule_fd (assume_rule_fd (parse_term(@\"p \\/ q\")))\n",
    "          (* ~ p /\\ ~ q, p |- false        *)\n",
    "          (undisch_rule_fd (not_elim_rule_fd (conjunct1_rule_fd (assume_rule_fd (parse_term(@\"~ p /\\ ~ q\"))))))\n",
    "          (* ~ p /\\ ~ q, q |- false        *)\n",
    "          (undisch_rule_fd (not_elim_rule_fd (conjunct2_rule_fd (assume_rule_fd (parse_term(@\"~ p /\\ ~ q\")))))) )))\n",
    "    (* ~ (p \\/ q) |- ~ p /\\ ~ q        *)\n",
    "    (conj_rule_fd\n",
    "      (* ~ (p \\/ q) |- ~ p               *)\n",
    "      (deduct_contrapos_rule_fd p\n",
    "        (* p |- p \\/ q                      *)\n",
    "        (disj1_rule_fd (assume_rule_fd p) q) )\n",
    "      (* ~ (p \\/ q) |- ~ q               *)\n",
    "      (deduct_contrapos_rule_fd q\n",
    "        (* q |- p \\/ q                      *)\n",
    "        (disj2_rule_fd p (assume_rule_fd q)) )))\n",
    "|\u003e zipper\n",
    "//|\u003e view //equals backward version\n",
    "|\u003e loc_thm |\u003e Option.get\n",
    "\n",
    "//val it : thm = |- !p q. ~ (p \\/ q) \u003c=\u003e ~ p /\\ ~ q\n"
   ]
  }
,
  {
   "cell_type": "markdown",
   "metadata": {},
   
   "source": [
    "Classic forward proof without tree\n",
    "\n"
   ]
  }
,
  {
   "cell_type": "code",
   "metadata": {
    "dotnet_interactive": {
     "language": "fsharp"
    },
    "polyglot_notebook": {
     "kernelName": "fsharp"
    }
   },
   "execution_count": null, "outputs": [],
   "source": [
    "let th1 = assume_rule (parse_term(@\"~ p /\\ ~ q\")) in\n",
    "list_gen_rule [p;q]\n",
    "    (deduct_antisym_rule\n",
    "      (* ~ p /\\ ~ q |- ~ (p \\/ q)        *)\n",
    "      (not_intro_rule\n",
    "        (disch_rule (parse_term(@\"p \\/ q\"))\n",
    "          (* ~ p /\\ ~ q, p \\/ q |- false   *)\n",
    "          (disj_cases_rule (assume_rule (parse_term(@\"p \\/ q\")))\n",
    "            (* ~ p /\\ ~ q, p |- false        *)\n",
    "            (undisch_rule (not_elim_rule (conjunct1_rule th1)))\n",
    "            (* ~ p /\\ ~ q, q |- false        *)\n",
    "            (undisch_rule (not_elim_rule (conjunct2_rule th1))) )))\n",
    "      (* ~ (p \\/ q) |- ~ p /\\ ~ q        *)\n",
    "      (conj_rule\n",
    "        (* ~ (p \\/ q) |- ~ p               *)\n",
    "        (deduct_contrapos_rule p\n",
    "          (* p |- p \\/ q                      *)\n",
    "          (disj1_rule (assume_rule p) q) )\n",
    "        (* ~ (p \\/ q) |- ~ q               *)\n",
    "        (deduct_contrapos_rule q\n",
    "          (* q |- p \\/ q                      *)\n",
    "          (disj2_rule p (assume_rule q)) )))\n",
    "\n",
    "//val it : thm = |- !p q. ~ (p \\/ q) \u003c=\u003e ~ p /\\ ~ q\n"
   ]
  }
 ],
 "metadata": {
  "kernelspec": {
   "display_name": ".NET (F#)",
   "language": "F#",
   "name": ".net-fsharp"
  },
  "language_info": {
   "file_extension": ".fs",
   "mimetype": "text/x-fsharp",
   "name": "polyglot-notebook",
   "pygments_lexer": "fsharp"
  },
  "polyglot_notebook": {
   "kernelInfo": {
    "defaultKernelName": "fsharp",
    "items": [
     {
      "aliases": [],
      "languageName": "fsharp",
      "name": "fsharp"
     }
    ]
   }
  }
 },
 "nbformat": 4,
 "nbformat_minor": 2
}

