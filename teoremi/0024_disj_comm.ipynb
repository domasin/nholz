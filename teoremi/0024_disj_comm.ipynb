
{
 "cells": [
  {
   "cell_type": "markdown",
   "metadata": {},
   
   "source": [
    "# commutabilit\u0026agrave; della disgiunzione\n",
    "\n",
    "$\\forall p\\ q.\\ p \\vee q \\Leftrightarrow q \\vee p$\n",
    "\n"
   ]
  }
,
  {
   "cell_type": "code",
   "metadata": {
    "dotnet_interactive": {
     "language": "fsharp"
    },
    "polyglot_notebook": {
     "kernelName": "fsharp"
    }
   },
   "execution_count": null, "outputs": [],
   "source": [
    "disj_comm_thm\n",
    "//   |- !p q. p \\/ q \u003c=\u003e q \\/ p\n"
   ]
  }
,
  {
   "cell_type": "markdown",
   "metadata": {},
   
   "source": [
    "Backward proof with tree\n",
    "\n"
   ]
  }
,
  {
   "cell_type": "code",
   "metadata": {
    "dotnet_interactive": {
     "language": "fsharp"
    },
    "polyglot_notebook": {
     "kernelName": "fsharp"
    }
   },
   "execution_count": null, "outputs": [],
   "source": [
    "([],\"!p q. p \\/ q \u003c=\u003e q \\/ p\")\n",
    "|\u003e start_proof\n",
    "|\u003e list_gen_rule_bk\n",
    "|\u003e deduct_antisym_rule_bk [] []\n",
    "|\u003e disj_cases_rule_bk [0] [] [] \"q:bool\" \"p:bool\"\n",
    "|\u003e assume_rule_bk\n",
    "|\u003e disj2_rule_bk\n",
    "|\u003e assume_rule_bk\n",
    "|\u003e disj1_rule_bk\n",
    "|\u003e assume_rule_bk\n",
    "|\u003e disj_cases_rule_bk [0] [] [] \"p:bool\" \"q:bool\"\n",
    "|\u003e assume_rule_bk\n",
    "|\u003e disj2_rule_bk\n",
    "|\u003e assume_rule_bk\n",
    "|\u003e disj1_rule_bk\n",
    "|\u003e assume_rule_bk\n",
    "\n",
    "|\u003e view\n",
    "\n",
    "let th = \n",
    "    disj_cases_rule_fd                     (* p \\/ q |- q \\/ p      *)\n",
    "        (assume_rule_fd (parse_term(@\"p \\/ q\")))\n",
    "        (disj2_rule_fd q (assume_rule_fd p))\n",
    "        (disj1_rule_fd (assume_rule_fd q) p)\n",
    "    |\u003e zipper\n",
    "    |\u003e view\n",
    "    |\u003e loc_thm \n",
    "    |\u003e Option.get\n",
    "\n",
    "([],\"!p q. p \\/ q \u003c=\u003e q \\/ p\")\n",
    "|\u003e start_proof\n",
    "|\u003e list_gen_rule_bk\n",
    "|\u003e deduct_antisym_rule_bk [] []\n",
    "|\u003e inst_rule_bk [(p,q);(q,p)]\n",
    "|\u003e disj_cases_rule_bk [0] [] [] \"p:bool\" \"q:bool\"\n",
    "|\u003e assume_rule_bk\n",
    "|\u003e disj2_rule_bk\n",
    "|\u003e assume_rule_bk\n",
    "|\u003e disj1_rule_bk\n",
    "|\u003e assume_rule_bk\n",
    "|\u003e disj_cases_rule_bk [0] [] [] \"p:bool\" \"q:bool\"\n",
    "|\u003e assume_rule_bk\n",
    "|\u003e disj2_rule_bk\n",
    "|\u003e assume_rule_bk\n",
    "|\u003e disj1_rule_bk\n",
    "|\u003e assume_rule_bk\n",
    "|\u003e view\n",
    "\n",
    "let th1 = disj_cases_rule_fd                     (* p \\/ q |- q \\/ p      *)\n",
    "            (assume_rule_fd (parse_term(@\"p \\/ q\")))\n",
    "            (disj2_rule_fd q (assume_rule_fd p))\n",
    "            (disj1_rule_fd (assume_rule_fd q) p) in\n",
    "let th2 = inst_rule_fd [(p,q);(q,p)] th1 in      (* q \\/ p |- p \\/ q      *)\n",
    "list_gen_rule_fd [p;q]\n",
    "  (deduct_antisym_rule_fd th2 th1)\n",
    "|\u003e zipper\n",
    "|\u003e view\n"
   ]
  }
 ],
 "metadata": {
  "kernelspec": {
   "display_name": ".NET (F#)",
   "language": "F#",
   "name": ".net-fsharp"
  },
  "language_info": {
   "file_extension": ".fs",
   "mimetype": "text/x-fsharp",
   "name": "polyglot-notebook",
   "pygments_lexer": "fsharp"
  },
  "polyglot_notebook": {
   "kernelInfo": {
    "defaultKernelName": "fsharp",
    "items": [
     {
      "aliases": [],
      "languageName": "fsharp",
      "name": "fsharp"
     }
    ]
   }
  }
 },
 "nbformat": 4,
 "nbformat_minor": 2
}

