
{
 "cells": [
  {
   "cell_type": "code",
   "metadata": {
    "dotnet_interactive": {
     "language": "fsharp"
    },
    "polyglot_notebook": {
     "kernelName": "fsharp"
    }
   },
   "execution_count": null, "outputs": [],
   "source": [
    "exists_dist_disj_thm\n",
    "\n",
    "([],\"!P Q. (?(x:a). P x \\/ Q x) \u003c=\u003e (?x. P x) \\/ (?x. Q x)\")\n",
    "|\u003e start_proof\n",
    "|\u003e list_gen_rule_bk\n",
    "|\u003e deduct_antisym_rule_bk [] []\n",
    "|\u003e disj_cases_rule_bk [0] [] [] \"?(x:a). P x\" \"?(x:a). Q x\"\n",
    "|\u003e assume_rule_bk\n",
    "|\u003e choose_rule_bk [0] [] 0 (\"x:a\",\"x:a\")\n",
    "|\u003e assume_rule_bk\n",
    "|\u003e exists_rule_bk \"x:a\"\n",
    "|\u003e disj1_rule_bk\n",
    "|\u003e assume_rule_bk\n",
    "|\u003e choose_rule_bk [0] [] 0 (\"x:a\",\"x:a\")\n",
    "|\u003e assume_rule_bk\n",
    "|\u003e exists_rule_bk \"x:a\"\n",
    "|\u003e disj2_rule_bk\n",
    "|\u003e assume_rule_bk\n",
    "|\u003e choose_rule_bk [0] [] 0 (\"x:a\",\"x:a\")\n",
    "|\u003e assume_rule_bk\n",
    "//|\u003e focus_goal\n",
    "|\u003e disj_cases_rule_bk [0] [] [] \"(P:a-\u003ebool) x\" \"(Q:a-\u003ebool) x\"\n",
    "|\u003e assume_rule_bk\n",
    "|\u003e disj1_rule_bk\n",
    "|\u003e exists_rule_bk \"x:a\"\n",
    "|\u003e assume_rule_bk\n",
    "|\u003e disj2_rule_bk\n",
    "|\u003e exists_rule_bk \"x:a\"\n",
    "|\u003e assume_rule_bk\n",
    "|\u003e view\n",
    "|\u003e root\n",
    "|\u003e linearizeProof\n",
    "\n",
    "let px = (parse_term(@\"(P:\u0027a-\u003ebool) x\")) \n",
    "let qx = (parse_term(@\"(Q:\u0027a-\u003ebool) x\")) \n",
    "let x = (parse_term(@\"x:\u0027a\"))  in\n",
    "let tm1 = (parse_term(@\"?(x:\u0027a). P x\")) \n",
    "let tm2 = (parse_term(@\"?(x:\u0027a). Q x\")) in\n",
    "list_gen_rule [(parse_term(@\"P:\u0027a-\u003ebool\"));(parse_term(@\"Q:\u0027a-\u003ebool\"))]\n",
    "\n",
    "(disj_cases_rule_fd (assume_rule_fd (parse_term(@\"(?(x:\u0027a). P x) \\/ (?(x:\u0027a). Q x)\")))\n",
    "  (* ?x. P x |- ?x. P x \\/ Q x                     *)\n",
    "  (choose_rule_fd x (assume_rule_fd tm1)\n",
    "    (exists_rule_fd (parse_term(@\"?(x:\u0027a). P x \\/ Q x\")) x\n",
    "      (disj1_rule_fd (assume_rule_fd px) qx) ))\n",
    "  (* ?x. Q x |- ?x. P x \\/ Q x                     *)\n",
    "  (choose_rule_fd x (assume_rule_fd tm2)\n",
    "    (exists_rule_fd (parse_term(@\"?(x:\u0027a). P x \\/ Q x\")) x\n",
    "      (disj2_rule_fd px (assume_rule_fd qx)) )))\n",
    "|\u003e zipper\n",
    "|\u003e view\n",
    "\n",
    "(deduct_antisym_rule_fd\n",
    "  (* (?x. P x) \\/ (?x. Q x) |- ?x. P x \\/ Q x      *)\n",
    "  (disj_cases_rule_fd (assume_rule_fd (parse_term(@\"(?(x:\u0027a). P x) \\/ (?(x:\u0027a). Q x)\")))\n",
    "    (* ?x. P x |- ?x. P x \\/ Q x                     *)\n",
    "    (choose_rule_fd x (assume_rule_fd tm1)\n",
    "      (exists_rule_fd (parse_term(@\"?(x:\u0027a). P x \\/ Q x\")) x\n",
    "        (disj1_rule_fd (assume_rule_fd px) qx) ))\n",
    "    (* ?x. Q x |- ?x. P x \\/ Q x                     *)\n",
    "    (choose_rule_fd x (assume_rule_fd tm2)\n",
    "      (exists_rule_fd (parse_term(@\"?(x:\u0027a). P x \\/ Q x\")) x\n",
    "        (disj2_rule_fd px (assume_rule_fd qx)) )))\n",
    "  (* ?x. P x \\/ Q x |- (?x. P x) \\/ (?x. Q x)      *)\n",
    "  (choose_rule_fd x (assume_rule_fd (parse_term(@\"?(x:\u0027a). P x \\/ Q x\")))\n",
    "    (* P x \\/ Q x |- (?x. P x) \\/ (?x. Q x)          *)\n",
    "    (disj_cases_rule_fd (assume_rule_fd (parse_term(@\"P (x:\u0027a) \\/ Q x\")))\n",
    "      (* P x |- (?x. P x) \\/ (?x. Q x)                 *)\n",
    "      (disj1_rule_fd (exists_rule_fd tm1 x (assume_rule_fd px)) tm2)\n",
    "      (* Q x |- (?x. P x) \\/ (?x. Q x)                 *)\n",
    "      (disj2_rule_fd tm1 (exists_rule_fd tm2 x  (assume_rule_fd qx))) )))\n",
    "|\u003e zipper\n",
    "|\u003e view\n"
   ]
  }
 ],
 "metadata": {
  "kernelspec": {
   "display_name": ".NET (F#)",
   "language": "F#",
   "name": ".net-fsharp"
  },
  "language_info": {
   "file_extension": ".fs",
   "mimetype": "text/x-fsharp",
   "name": "polyglot-notebook",
   "pygments_lexer": "fsharp"
  },
  "polyglot_notebook": {
   "kernelInfo": {
    "defaultKernelName": "fsharp",
    "items": [
     {
      "aliases": [],
      "languageName": "fsharp",
      "name": "fsharp"
     }
    ]
   }
  }
 },
 "nbformat": 4,
 "nbformat_minor": 2
}

