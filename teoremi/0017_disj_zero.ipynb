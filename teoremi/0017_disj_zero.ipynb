
{
 "cells": [
  {
   "cell_type": "markdown",
   "metadata": {},
   
   "source": [
    "# Disj Zero\n",
    "\n",
    "$\\vdash \\forall p.\\ p \\vee \\top \\Leftrightarrow \\top$\n",
    "\n"
   ]
  }
,
  {
   "cell_type": "code",
   "metadata": {
    "dotnet_interactive": {
     "language": "fsharp"
    },
    "polyglot_notebook": {
     "kernelName": "fsharp"
    }
   },
   "execution_count": 2, "outputs": [],
   "source": [
    "disj_zero_thm\n",
    "// |- !p. p \\/ true \u003c=\u003e true\n",
    "\n",
    "let p = \"p:bool\" |\u003e parse_term\n",
    "let th1 = disj2_rule p truth_thm                        // |- p \\/ true\n",
    "let th2 = eqt_intro_rule th1                            // |- p \\/ true \u003c=\u003e true\n",
    "let th3 = gen_rule p th2                                // |- !p. p \\/ true \u003c=\u003e true\n"
   ]
  }
,
  {
   "cell_type": "code",
   "metadata": {
    "dotnet_interactive": {
     "language": "fsharp"
    },
    "polyglot_notebook": {
     "kernelName": "fsharp"
    }
   },
   "execution_count": 4, "outputs": [],
   "source": [
    "\n"
   ]
  }
,
  {
   "cell_type": "markdown",
   "metadata": {},
   
   "source": [
    "$\\small{ \t\n",
    "\\dfrac\n",
    "{p:bool\n",
    "\\qquad\n",
    "\\dfrac\n",
    "{\\dfrac\n",
    "{p:bool\n",
    "\\qquad\n",
    "\\vdash\\ \\top\\; \\mathbf{ truth\\_thm}}\n",
    "{\\vdash\\ p\\ \\vee\\ \\top}\n",
    "\\textsf{ disj2_rule}}\n",
    "{\\vdash\\ p\\ \\vee\\ \\top\\ \\Leftrightarrow\\ \\top}\n",
    "\\textsf{ eqt_intro_rule}}\n",
    "{\\vdash\\ \\forall\\ p.\\ p\\ \\vee\\ \\top\\ \\Leftrightarrow\\ \\top}\n",
    "\\textsf{ gen_rule} }$\n",
    "\n"
   ]
  }
 ],
 "metadata": {
  "kernelspec": {
   "display_name": ".NET (F#)",
   "language": "F#",
   "name": ".net-fsharp"
  },
  "language_info": {
   "file_extension": ".fs",
   "mimetype": "text/x-fsharp",
   "name": "polyglot-notebook",
   "pygments_lexer": "fsharp"
  },
  "polyglot_notebook": {
   "kernelInfo": {
    "defaultKernelName": "fsharp",
    "items": [
     {
      "aliases": [],
      "languageName": "fsharp",
      "name": "fsharp"
     }
    ]
   }
  }
 },
 "nbformat": 4,
 "nbformat_minor": 2
}

