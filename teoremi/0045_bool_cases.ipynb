
{
 "cells": [
  {
   "cell_type": "markdown",
   "metadata": {},
   
   "source": [
    "# Bool Cases\n",
    "\n",
    "$\\vdash \\forall p.\\ (p \\Leftrightarrow \\top) \\vee (p \\Leftrightarrow \\bot)$\n",
    "\n"
   ]
  }
,
  {
   "cell_type": "code",
   "metadata": {
    "dotnet_interactive": {
     "language": "fsharp"
    },
    "polyglot_notebook": {
     "kernelName": "fsharp"
    }
   },
   "execution_count": 2, "outputs": [],
   "source": [
    "bool_cases_thm\n",
    "// |- !p. (p \u003c=\u003e true) \\/ (p \u003c=\u003e false)\n",
    "\n",
    "let p = mk_var (\"p\",bool_ty)\n",
    "let tm1 = spec_rule p excluded_middle_thm                   //     |- p \\/ ~ p\n",
    "let tm2 = eqt_intro_rule (assume_rule p)                    //   p |- p \u003c=\u003e true\n",
    "let tm3 = disj1_rule tm2 (parse_term(@\"p \u003c=\u003e false\"))       //   p |- (p \u003c=\u003e true) \\/ (p \u003c=\u003e false)\n",
    "let tm4 = eqf_intro_rule (assume_rule (parse_term(@\"~ p\"))) // ~ p |- p \u003c=\u003e false\n",
    "let tm5 = disj2_rule (parse_term(@\"p \u003c=\u003e true\")) tm4        // ~ p |- (p \u003c=\u003e true) \\/ (p \u003c=\u003e false)\n",
    "let tm6 = disj_cases_rule tm1 tm3 tm5                       //     |- (p \u003c=\u003e true) \\/ (p \u003c=\u003e false)\n",
    "let tm7 = gen_rule p tm6\n"
   ]
  }
,
  {
   "cell_type": "code",
   "metadata": {
    "dotnet_interactive": {
     "language": "fsharp"
    },
    "polyglot_notebook": {
     "kernelName": "fsharp"
    }
   },
   "execution_count": 4, "outputs": [],
   "source": [
    "\n"
   ]
  }
,
  {
   "cell_type": "markdown",
   "metadata": {},
   
   "source": [
    "$\\small{ \t\\dfrac\n",
    "{p:bool\n",
    "\\qquad\n",
    "\\dfrac\n",
    "{\\dfrac\n",
    "{p:bool\n",
    "\\qquad\n",
    "\\vdash\\ \\forall\\ p.\\ p\\ \\vee\\ \\neg\\ p\\; \\mathbf{ excluded\\_middle\\_thm}}\n",
    "{\\vdash\\ p\\ \\vee\\ \\neg\\ p}\n",
    "\\textsf{ spec_rule}\n",
    "\\qquad\n",
    "\\dfrac\n",
    "{\\dfrac\n",
    "{\\dfrac\n",
    "{p:bool}\n",
    "{p\\ \\vdash\\ p}\n",
    "\\textsf{ assume_rule}}\n",
    "{p\\ \\vdash\\ p\\ \\Leftrightarrow\\ \\top}\n",
    "\\textsf{ eqt_intro_rule}\n",
    "\\qquad\n",
    "p\\ \\Leftrightarrow\\ \\bot}\n",
    "{p\\ \\vdash\\ (p\\ \\Leftrightarrow\\ \\top)\\ \\vee\\ (p\\ \\Leftrightarrow\\ \\bot)}\n",
    "\\textsf{ disj1_rule}\n",
    "\\qquad\n",
    "\\dfrac\n",
    "{p\\ \\Leftrightarrow\\ \\top\n",
    "\\qquad\n",
    "\\dfrac\n",
    "{\\dfrac\n",
    "{\\neg\\ p}\n",
    "{\\neg\\ p\\ \\vdash\\ \\neg\\ p}\n",
    "\\textsf{ assume_rule}}\n",
    "{\\neg\\ p\\ \\vdash\\ p\\ \\Leftrightarrow\\ \\bot}\n",
    "\\textsf{ eqf_intro_rule}}\n",
    "{\\neg\\ p\\ \\vdash\\ (p\\ \\Leftrightarrow\\ \\top)\\ \\vee\\ (p\\ \\Leftrightarrow\\ \\bot)}\n",
    "\\textsf{ disj2_rule}}\n",
    "{\\vdash\\ (p\\ \\Leftrightarrow\\ \\top)\\ \\vee\\ (p\\ \\Leftrightarrow\\ \\bot)}\n",
    "\\textsf{ disj_cases_rule}}\n",
    "{\\vdash\\ \\forall\\ p.\\ (p\\ \\Leftrightarrow\\ \\top)\\ \\vee\\ (p\\ \\Leftrightarrow\\ \\bot)}\n",
    "\\textsf{ gen_rule} }$\n",
    "\n"
   ]
  }
 ],
 "metadata": {
  "kernelspec": {
   "display_name": ".NET (F#)",
   "language": "F#",
   "name": ".net-fsharp"
  },
  "language_info": {
   "file_extension": ".fs",
   "mimetype": "text/x-fsharp",
   "name": "polyglot-notebook",
   "pygments_lexer": "fsharp"
  },
  "polyglot_notebook": {
   "kernelInfo": {
    "defaultKernelName": "fsharp",
    "items": [
     {
      "aliases": [],
      "languageName": "fsharp",
      "name": "fsharp"
     }
    ]
   }
  }
 },
 "nbformat": 4,
 "nbformat_minor": 2
}

