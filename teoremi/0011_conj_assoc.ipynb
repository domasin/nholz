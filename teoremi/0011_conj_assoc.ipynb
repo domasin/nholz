
{
 "cells": [
  {
   "cell_type": "markdown",
   "metadata": {},
   
   "source": [
    "# Propriet\u0026agrave; associativa della congiuzione\n",
    "\n",
    "$\\forall p\\ q.\\ p \\wedge (q \\wedge r) \\Leftrightarrow (p \\wedge q) \\wedge r$\n",
    "\n"
   ]
  }
,
  {
   "cell_type": "code",
   "metadata": {
    "dotnet_interactive": {
     "language": "fsharp"
    },
    "polyglot_notebook": {
     "kernelName": "fsharp"
    }
   },
   "execution_count": null, "outputs": [],
   "source": [
    "conj_assoc_thm\n",
    "//   |- !p q r. p /\\ (q /\\ r) \u003c=\u003e (p /\\ q) /\\ r\n"
   ]
  }
,
  {
   "cell_type": "markdown",
   "metadata": {},
   
   "source": [
    "Backward proof with tree\n",
    "\n"
   ]
  }
,
  {
   "cell_type": "code",
   "metadata": {
    "dotnet_interactive": {
     "language": "fsharp"
    },
    "polyglot_notebook": {
     "kernelName": "fsharp"
    }
   },
   "execution_count": null, "outputs": [],
   "source": [
    "([],\"!p q r. p /\\ (q /\\ r) \u003c=\u003e (p /\\ q) /\\ r\")\n",
    "|\u003e start_proof\n",
    "|\u003e list_gen_rule_bk\n",
    "|\u003e deduct_antisym_rule_bk [] []\n",
    "|\u003e conj_rule_bk [0] [0]\n",
    "|\u003e conjunct1_rule_bk \"q:bool\"\n",
    "|\u003e conjunct1_rule_bk \"r:bool\"\n",
    "|\u003e assume_rule_bk\n",
    "|\u003e conj_rule_bk [0] [0]\n",
    "|\u003e conjunct2_rule_bk \"p:bool\"\n",
    "|\u003e conjunct1_rule_bk \"r:bool\"\n",
    "|\u003e assume_rule_bk\n",
    "|\u003e conjunct2_rule_bk @\"p /\\ q\"\n",
    "|\u003e assume_rule_bk\n",
    "|\u003e conj_rule_bk [0] [0]\n",
    "|\u003e conj_rule_bk [0] [0]\n",
    "|\u003e conjunct1_rule_bk @\"q /\\ r\"\n",
    "|\u003e assume_rule_bk\n",
    "|\u003e conjunct1_rule_bk @\"r:bool\"\n",
    "|\u003e conjunct2_rule_bk @\"p:bool\"\n",
    "|\u003e assume_rule_bk\n",
    "|\u003e conjunct2_rule_bk @\"q:bool\"\n",
    "|\u003e conjunct2_rule_bk @\"p:bool\"\n",
    "|\u003e assume_rule_bk\n",
    "|\u003e view\n"
   ]
  }
,
  {
   "cell_type": "markdown",
   "metadata": {},
   
   "source": [
    "$\\small{ \t\\color{green}{\\dfrac\n",
    "{[p:bool;q:bool;r:bool]\n",
    "\\qquad\n",
    "\\color{green}{\\dfrac\n",
    "{\\color{green}{\\dfrac\n",
    "{\\color{green}{\\dfrac\n",
    "{\\color{green}{\\dfrac\n",
    "{\\color{green}{\\dfrac\n",
    "{(p\\ \\wedge\\ q)\\ \\wedge\\ r}\n",
    "{(p\\ \\wedge\\ q)\\ \\wedge\\ r\\ \\vdash\\ (p\\ \\wedge\\ q)\\ \\wedge\\ r}\n",
    "\\textsf{ assume_rule}}}\n",
    "{(p\\ \\wedge\\ q)\\ \\wedge\\ r\\ \\vdash\\ p\\ \\wedge\\ q}\n",
    "\\textsf{ conjunct1_rule}}}\n",
    "{(p\\ \\wedge\\ q)\\ \\wedge\\ r\\ \\vdash\\ p}\n",
    "\\textsf{ conjunct1_rule}}\n",
    "\\qquad\n",
    "\\color{green}{\\dfrac\n",
    "{\\color{green}{\\dfrac\n",
    "{\\color{green}{\\dfrac\n",
    "{\\color{green}{\\dfrac\n",
    "{(p\\ \\wedge\\ q)\\ \\wedge\\ r}\n",
    "{(p\\ \\wedge\\ q)\\ \\wedge\\ r\\ \\vdash\\ (p\\ \\wedge\\ q)\\ \\wedge\\ r}\n",
    "\\textsf{ assume_rule}}}\n",
    "{(p\\ \\wedge\\ q)\\ \\wedge\\ r\\ \\vdash\\ p\\ \\wedge\\ q}\n",
    "\\textsf{ conjunct1_rule}}}\n",
    "{(p\\ \\wedge\\ q)\\ \\wedge\\ r\\ \\vdash\\ q}\n",
    "\\textsf{ conjunct2_rule}}\n",
    "\\qquad\n",
    "\\color{green}{\\dfrac\n",
    "{\\color{green}{\\dfrac\n",
    "{(p\\ \\wedge\\ q)\\ \\wedge\\ r}\n",
    "{(p\\ \\wedge\\ q)\\ \\wedge\\ r\\ \\vdash\\ (p\\ \\wedge\\ q)\\ \\wedge\\ r}\n",
    "\\textsf{ assume_rule}}}\n",
    "{(p\\ \\wedge\\ q)\\ \\wedge\\ r\\ \\vdash\\ r}\n",
    "\\textsf{ conjunct2_rule}}}\n",
    "{(p\\ \\wedge\\ q)\\ \\wedge\\ r\\ \\vdash\\ q\\ \\wedge\\ r}\n",
    "\\textsf{ conj_rule}}}\n",
    "{(p\\ \\wedge\\ q)\\ \\wedge\\ r\\ \\vdash\\ p\\ \\wedge\\ q\\ \\wedge\\ r}\n",
    "\\textsf{ conj_rule}}\n",
    "\\qquad\n",
    "\\color{green}{\\dfrac\n",
    "{\\color{green}{\\dfrac\n",
    "{\\color{green}{\\dfrac\n",
    "{\\color{green}{\\dfrac\n",
    "{p\\ \\wedge\\ q\\ \\wedge\\ r}\n",
    "{p\\ \\wedge\\ q\\ \\wedge\\ r\\ \\vdash\\ p\\ \\wedge\\ q\\ \\wedge\\ r}\n",
    "\\textsf{ assume_rule}}}\n",
    "{p\\ \\wedge\\ q\\ \\wedge\\ r\\ \\vdash\\ p}\n",
    "\\textsf{ conjunct1_rule}}\n",
    "\\qquad\n",
    "\\color{green}{\\dfrac\n",
    "{\\color{green}{\\dfrac\n",
    "{\\color{green}{\\dfrac\n",
    "{p\\ \\wedge\\ q\\ \\wedge\\ r}\n",
    "{p\\ \\wedge\\ q\\ \\wedge\\ r\\ \\vdash\\ p\\ \\wedge\\ q\\ \\wedge\\ r}\n",
    "\\textsf{ assume_rule}}}\n",
    "{p\\ \\wedge\\ q\\ \\wedge\\ r\\ \\vdash\\ q\\ \\wedge\\ r}\n",
    "\\textsf{ conjunct2_rule}}}\n",
    "{p\\ \\wedge\\ q\\ \\wedge\\ r\\ \\vdash\\ q}\n",
    "\\textsf{ conjunct1_rule}}}\n",
    "{p\\ \\wedge\\ q\\ \\wedge\\ r\\ \\vdash\\ p\\ \\wedge\\ q}\n",
    "\\textsf{ conj_rule}}\n",
    "\\qquad\n",
    "\\color{green}{\\dfrac\n",
    "{\\color{green}{\\dfrac\n",
    "{\\color{green}{\\dfrac\n",
    "{p\\ \\wedge\\ q\\ \\wedge\\ r}\n",
    "{p\\ \\wedge\\ q\\ \\wedge\\ r\\ \\vdash\\ p\\ \\wedge\\ q\\ \\wedge\\ r}\n",
    "\\textsf{ assume_rule}}}\n",
    "{p\\ \\wedge\\ q\\ \\wedge\\ r\\ \\vdash\\ q\\ \\wedge\\ r}\n",
    "\\textsf{ conjunct2_rule}}}\n",
    "{p\\ \\wedge\\ q\\ \\wedge\\ r\\ \\vdash\\ r}\n",
    "\\textsf{ conjunct2_rule}}}\n",
    "{p\\ \\wedge\\ q\\ \\wedge\\ r\\ \\vdash\\ (p\\ \\wedge\\ q)\\ \\wedge\\ r}\n",
    "\\textsf{ conj_rule}}}\n",
    "{\\vdash\\ p\\ \\wedge\\ q\\ \\wedge\\ r\\ \\Leftrightarrow\\ (p\\ \\wedge\\ q)\\ \\wedge\\ r}\n",
    "\\textsf{ deduct_antisym_rule}}}\n",
    "{\\vdash\\ \\forall\\ p\\ q\\ r.\\ p\\ \\wedge\\ q\\ \\wedge\\ r\\ \\Leftrightarrow\\ (p\\ \\wedge\\ q)\\ \\wedge\\ r}\n",
    "\\textsf{ list_gen_rule}} }$\n",
    "\n",
    "Forward proof with tree\n",
    "\n"
   ]
  }
,
  {
   "cell_type": "code",
   "metadata": {
    "dotnet_interactive": {
     "language": "fsharp"
    },
    "polyglot_notebook": {
     "kernelName": "fsharp"
    }
   },
   "execution_count": null, "outputs": [],
   "source": [
    "let th1 = assume_rule_fd (parse_term(@\"p /\\ (q /\\ r)\")) in\n",
    "let th2 = assume_rule_fd (parse_term(@\"(p /\\ q) /\\ r\")) in\n",
    "list_gen_rule_fd [p;q;r]\n",
    "  (deduct_antisym_rule_fd\n",
    "    (* (p /\\ q) /\\ r |- p /\\ (q /\\ r)           *)\n",
    "    (conj_rule_fd\n",
    "      (conjunct1_rule_fd (conjunct1_rule_fd th2))\n",
    "      (conj_rule_fd\n",
    "        (conjunct2_rule_fd (conjunct1_rule_fd th2))\n",
    "        (conjunct2_rule_fd th2) ))\n",
    "    (* (p /\\ q) /\\ r |- (p /\\ q) /\\ r           *)\n",
    "    (conj_rule_fd\n",
    "      (conj_rule_fd\n",
    "        (conjunct1_rule_fd th1)\n",
    "        (conjunct1_rule_fd (conjunct2_rule_fd th1)) )\n",
    "      (conjunct2_rule_fd (conjunct2_rule_fd th1)) ))\n",
    "|\u003e zipper\n",
    "|\u003e view\n"
   ]
  }
,
  {
   "cell_type": "markdown",
   "metadata": {},
   
   "source": [
    "Classic forward proof without tree\n",
    "\n"
   ]
  }
,
  {
   "cell_type": "code",
   "metadata": {
    "dotnet_interactive": {
     "language": "fsharp"
    },
    "polyglot_notebook": {
     "kernelName": "fsharp"
    }
   },
   "execution_count": null, "outputs": [],
   "source": [
    "let th1\u0027 = assume_rule (parse_term(@\"p /\\ (q /\\ r)\")) in\n",
    "let th2\u0027 = assume_rule (parse_term(@\"(p /\\ q) /\\ r\")) in\n",
    "list_gen_rule [p;q;r]\n",
    "  (deduct_antisym_rule\n",
    "    (* (p /\\ q) /\\ r |- p /\\ (q /\\ r)           *)\n",
    "    (conj_rule\n",
    "      (conjunct1_rule (conjunct1_rule th2\u0027))\n",
    "      (conj_rule\n",
    "        (conjunct2_rule (conjunct1_rule th2\u0027))\n",
    "        (conjunct2_rule th2\u0027) ))\n",
    "    (* (p /\\ q) /\\ r |- (p /\\ q) /\\ r           *)\n",
    "    (conj_rule\n",
    "      (conj_rule\n",
    "        (conjunct1_rule th1\u0027)\n",
    "        (conjunct1_rule (conjunct2_rule th1\u0027)) )\n",
    "      (conjunct2_rule (conjunct2_rule th1\u0027)) ))\n"
   ]
  }
 ],
 "metadata": {
  "kernelspec": {
   "display_name": ".NET (F#)",
   "language": "F#",
   "name": ".net-fsharp"
  },
  "language_info": {
   "file_extension": ".fs",
   "mimetype": "text/x-fsharp",
   "name": "polyglot-notebook",
   "pygments_lexer": "fsharp"
  },
  "polyglot_notebook": {
   "kernelInfo": {
    "defaultKernelName": "fsharp",
    "items": [
     {
      "aliases": [],
      "languageName": "fsharp",
      "name": "fsharp"
     }
    ]
   }
  }
 },
 "nbformat": 4,
 "nbformat_minor": 2
}

