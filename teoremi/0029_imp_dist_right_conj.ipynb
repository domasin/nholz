
{
 "cells": [
  {
   "cell_type": "code",
   "metadata": {
    "dotnet_interactive": {
     "language": "fsharp"
    },
    "polyglot_notebook": {
     "kernelName": "fsharp"
    }
   },
   "execution_count": 2, "outputs": [],
   "source": [
    "imp_dist_right_conj_thm\n",
    "\n",
    "([],\"!p q r. (p ==\u003e q /\\ r) \u003c=\u003e (p ==\u003e q) /\\ (p ==\u003e r)\")\n",
    "|\u003e start_proof\n",
    "|\u003e list_gen_rule_bk\n",
    "|\u003e deduct_antisym_rule_bk [] []\n",
    "|\u003e disch_rule_bk\n",
    "|\u003e conj_rule_bk [0;1] [0;1]\n",
    "|\u003e undisch_rule_bk 1\n",
    "|\u003e conjunct1_rule_bk \"p ==\u003e r\"\n",
    "|\u003e assume_rule_bk\n",
    "|\u003e undisch_rule_bk 1\n",
    "|\u003e conjunct2_rule_bk \"p ==\u003e q\"\n",
    "|\u003e assume_rule_bk\n",
    "|\u003e conj_rule_bk [0] [0]\n",
    "|\u003e disch_rule_bk\n",
    "|\u003e conjunct1_rule_bk \"r:bool\"\n",
    "|\u003e undisch_rule_bk 1\n",
    "|\u003e assume_rule_bk\n",
    "|\u003e disch_rule_bk\n",
    "|\u003e conjunct2_rule_bk \"q:bool\"\n",
    "|\u003e undisch_rule_bk 1\n",
    "|\u003e assume_rule_bk\n",
    "\n",
    "|\u003e view\n"
   ]
  }
 ],
 "metadata": {
  "kernelspec": {
   "display_name": ".NET (F#)",
   "language": "F#",
   "name": ".net-fsharp"
  },
  "language_info": {
   "file_extension": ".fs",
   "mimetype": "text/x-fsharp",
   "name": "polyglot-notebook",
   "pygments_lexer": "fsharp"
  },
  "polyglot_notebook": {
   "kernelInfo": {
    "defaultKernelName": "fsharp",
    "items": [
     {
      "aliases": [],
      "languageName": "fsharp",
      "name": "fsharp"
     }
    ]
   }
  }
 },
 "nbformat": 4,
 "nbformat_minor": 2
}

