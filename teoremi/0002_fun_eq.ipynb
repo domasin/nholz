
{
 "cells": [
  {
   "cell_type": "markdown",
   "metadata": {},
   
   "source": [
    "# Equivalenza tra funzioni\n",
    "\n",
    "$\\vdash \\forall (f:\\alpha \\rightarrow \\beta)\\ g.\\ f = g\\ \\Leftrightarrow\\ (\\forall x.\\ f\\ x = g\\ x)$\n",
    "\n",
    "L\u0027euivalenza tra funzioni corrisponde all\u0027equivalenza dei loro valori a parit\u0026agrave; di argomento.\n",
    "\n"
   ]
  }
,
  {
   "cell_type": "code",
   "metadata": {
    "dotnet_interactive": {
     "language": "fsharp"
    },
    "polyglot_notebook": {
     "kernelName": "fsharp"
    }
   },
   "execution_count": null, "outputs": [],
   "source": [
    "fun_eq_thm\n",
    "// |- !(f:\u0027a-\u003e\u0027b) g. f = g \u003c=\u003e (!x. f x = g x)\n"
   ]
  }
,
  {
   "cell_type": "markdown",
   "metadata": {},
   
   "source": [
    "Backward proof with tree\n",
    "\n"
   ]
  }
,
  {
   "cell_type": "code",
   "metadata": {
    "dotnet_interactive": {
     "language": "fsharp"
    },
    "polyglot_notebook": {
     "kernelName": "fsharp"
    }
   },
   "execution_count": null, "outputs": [],
   "source": [
    "([],@\"!(f:\u0027a-\u003e\u0027b) g. f = g \u003c=\u003e (!x. f x = g x)\") \n",
    "|\u003e start_proof\n",
    "|\u003e list_gen_rule_bk\n",
    "    |\u003e deduct_antisym_rule_bk [] []\n",
    "        |\u003e trans_rule_bk \"(\\x. (g:\u0027a-\u003e\u0027b) x)\"\n",
    "            |\u003e trans_rule_bk \"(\\x. (f:\u0027a-\u003e\u0027b) x)\"\n",
    "                |\u003e add_asm_rule_bk 0\n",
    "                    |\u003e sym_rule_bk\n",
    "                    |\u003e eta_conv_bk\n",
    "                |\u003e mk_abs_rule_bk\n",
    "                    |\u003e spec_rule_bk (\"x:\u0027a\",\"x:\u0027a\") \"!(x:a). (f:a-\u003eb) x = g x\"\n",
    "                        |\u003e assume_rule_bk\n",
    "            |\u003e add_asm_rule_bk 0\n",
    "                |\u003e eta_conv_bk\n",
    "        |\u003e gen_rule_bk\n",
    "            |\u003e mk_comb1_rule_bk\n",
    "                |\u003e assume_rule_bk\n",
    "|\u003e view\n"
   ]
  }
,
  {
   "cell_type": "markdown",
   "metadata": {},
   
   "source": [
    "$\\small{ \t\\color{green}{\\dfrac\n",
    "{[f:\\alpha\\ \\rightarrow\\ \\beta;g:\\alpha\\ \\rightarrow\\ \\beta]\n",
    "\\qquad\n",
    "\\color{green}{\\dfrac\n",
    "{\\color{green}{\\dfrac\n",
    "{\\color{green}{\\dfrac\n",
    "{\\color{green}{\\dfrac\n",
    "{\\forall\\ x.\\ f\\ x\\ =\\ (g:\\alpha\\ \\rightarrow\\ \\beta)\\ x\n",
    "\\qquad\n",
    "\\color{green}{\\dfrac\n",
    "{\\color{green}{\\dfrac\n",
    "{\\lambda\\ x.\\ (f:\\alpha\\ \\rightarrow\\ \\beta)\\ x}\n",
    "{\\vdash\\ (\\lambda\\ x.\\ (f:\\alpha\\ \\rightarrow\\ \\beta)\\ x)\\ =\\ f}\n",
    "\\textsf{ eta_conv}}}\n",
    "{\\vdash\\ (f:\\alpha\\ \\rightarrow\\ \\beta)\\ =\\ (\\lambda\\ x.\\ f\\ x)}\n",
    "\\textsf{ sym_rule}}}\n",
    "{\\forall\\ x.\\ f\\ x\\ =\\ (g:\\alpha\\ \\rightarrow\\ \\beta)\\ x\\ \\vdash\\ f\\ =\\ (\\lambda\\ x.\\ f\\ x)}\n",
    "\\textsf{ add_asm_rule}}\n",
    "\\qquad\n",
    "\\color{green}{\\dfrac\n",
    "{x:\\alpha\n",
    "\\qquad\n",
    "\\color{green}{\\dfrac\n",
    "{x:\\alpha\n",
    "\\qquad\n",
    "\\color{green}{\\dfrac\n",
    "{\\forall\\ x.\\ f\\ x\\ =\\ (g:\\alpha\\ \\rightarrow\\ \\beta)\\ x}\n",
    "{\\forall\\ x.\\ f\\ x\\ =\\ g\\ x\\ \\vdash\\ \\forall\\ x.\\ f\\ x\\ =\\ (g:\\alpha\\ \\rightarrow\\ \\beta)\\ x}\n",
    "\\textsf{ assume_rule}}}\n",
    "{\\forall\\ x.\\ f\\ x\\ =\\ g\\ x\\ \\vdash\\ f\\ x\\ =\\ (g:\\alpha\\ \\rightarrow\\ \\beta)\\ x}\n",
    "\\textsf{ spec_rule}}}\n",
    "{\\forall\\ x.\\ f\\ x\\ =\\ g\\ x\\ \\vdash\\ (\\lambda\\ x.\\ f\\ x)\\ =\\ (\\lambda\\ x.\\ (g:\\alpha\\ \\rightarrow\\ \\beta)\\ x)}\n",
    "\\textsf{ mk_abs_rule}}}\n",
    "{\\forall\\ x.\\ f\\ x\\ =\\ g\\ x\\ \\vdash\\ f\\ =\\ (\\lambda\\ x.\\ (g:\\alpha\\ \\rightarrow\\ \\beta)\\ x)}\n",
    "\\textsf{ trans_rule}}\n",
    "\\qquad\n",
    "\\color{green}{\\dfrac\n",
    "{\\forall\\ x.\\ f\\ x\\ =\\ (g:\\alpha\\ \\rightarrow\\ \\beta)\\ x\n",
    "\\qquad\n",
    "\\color{green}{\\dfrac\n",
    "{\\lambda\\ x.\\ (g:\\alpha\\ \\rightarrow\\ \\beta)\\ x}\n",
    "{\\vdash\\ (\\lambda\\ x.\\ (g:\\alpha\\ \\rightarrow\\ \\beta)\\ x)\\ =\\ g}\n",
    "\\textsf{ eta_conv}}}\n",
    "{\\forall\\ x.\\ f\\ x\\ =\\ g\\ x\\ \\vdash\\ (\\lambda\\ x.\\ (g:\\alpha\\ \\rightarrow\\ \\beta)\\ x)\\ =\\ g}\n",
    "\\textsf{ add_asm_rule}}}\n",
    "{\\forall\\ x.\\ f\\ x\\ =\\ g\\ x\\ \\vdash\\ f\\ =\\ (g:\\alpha\\ \\rightarrow\\ \\beta)}\n",
    "\\textsf{ trans_rule}}\n",
    "\\qquad\n",
    "\\color{green}{\\dfrac\n",
    "{x:\\alpha\n",
    "\\qquad\n",
    "\\color{green}{\\dfrac\n",
    "{\\color{green}{\\dfrac\n",
    "{f\\ =\\ (g:\\alpha\\ \\rightarrow\\ \\beta)}\n",
    "{f\\ =\\ g\\ \\vdash\\ f\\ =\\ (g:\\alpha\\ \\rightarrow\\ \\beta)}\n",
    "\\textsf{ assume_rule}}\n",
    "\\qquad\n",
    "x:\\alpha}\n",
    "{f\\ =\\ g\\ \\vdash\\ f\\ x\\ =\\ (g:\\alpha\\ \\rightarrow\\ \\beta)\\ x}\n",
    "\\textsf{ mk_comb1_rule}}}\n",
    "{f\\ =\\ g\\ \\vdash\\ \\forall\\ x.\\ f\\ x\\ =\\ (g:\\alpha\\ \\rightarrow\\ \\beta)\\ x}\n",
    "\\textsf{ gen_rule}}}\n",
    "{\\vdash\\ f\\ =\\ (g:\\alpha\\ \\rightarrow\\ \\beta)\\ \\Leftrightarrow\\ (\\forall\\ x.\\ f\\ x\\ =\\ g\\ x)}\n",
    "\\textsf{ deduct_antisym_rule}}}\n",
    "{\\vdash\\ \\forall\\ (f:\\alpha\\ \\rightarrow\\ \\beta)\\ g.\\ f\\ =\\ g\\ \\Leftrightarrow\\ (\\forall\\ x.\\ f\\ x\\ =\\ g\\ x)}\n",
    "\\textsf{ list_gen_rule}} }$\n",
    "\n"
   ]
  }
,
  {
   "cell_type": "code",
   "metadata": {
    "dotnet_interactive": {
     "language": "fsharp"
    },
    "polyglot_notebook": {
     "kernelName": "fsharp"
    }
   },
   "execution_count": null, "outputs": [],
   "source": [
    "it\n",
    "|\u003e root\n",
    "|\u003e linearizeProof\n",
    "\n",
    "// 0                                    |- (\\x. (f:\u0027a-\u003e\u0027b) x) = f                             eta_conv                            \n",
    "// 1                                    |- (f:\u0027a-\u003e\u0027b) = (\\x. f x)                             sym_rule                  0         \n",
    "// 2             !x. f x = (g:\u0027a-\u003e\u0027b) x |- (f:\u0027a-\u003e\u0027b) = (\\x. f x)                             add_asm_rule              1         \n",
    "// 3             !x. f x = (g:\u0027a-\u003e\u0027b) x |- !x. f x = (g:\u0027a-\u003e\u0027b) x                             assume_rule                         \n",
    "// 4             !x. f x = (g:\u0027a-\u003e\u0027b) x |- f x = (g:\u0027a-\u003e\u0027b) x                                 spec_rule                 3         \n",
    "// 5             !x. f x = (g:\u0027a-\u003e\u0027b) x |- (\\x. f x) = (\\x. (g:\u0027a-\u003e\u0027b) x)                     mk_abs_rule               4         \n",
    "// 6             !x. f x = (g:\u0027a-\u003e\u0027b) x |- f = (\\x. (g:\u0027a-\u003e\u0027b) x)                             trans_rule                2,5       \n",
    "// 7                                    |- (\\x. (g:\u0027a-\u003e\u0027b) x) = g                             eta_conv                            \n",
    "// 8             !x. f x = (g:\u0027a-\u003e\u0027b) x |- (\\x. (g:\u0027a-\u003e\u0027b) x) = g                             add_asm_rule              7         \n",
    "// 9             !x. f x = (g:\u0027a-\u003e\u0027b) x |- f = (g:\u0027a-\u003e\u0027b)                                     trans_rule                6,8       \n",
    "// 10                    f = (g:\u0027a-\u003e\u0027b) |- f = (g:\u0027a-\u003e\u0027b)                                     assume_rule                         \n",
    "// 11                    f = (g:\u0027a-\u003e\u0027b) |- f x = (g:\u0027a-\u003e\u0027b) x                                 mk_comb1_rule             10        \n",
    "// 12                    f = (g:\u0027a-\u003e\u0027b) |- !x. f x = (g:\u0027a-\u003e\u0027b) x                             gen_rule                  11        \n",
    "// 13                                   |- f = (g:\u0027a-\u003e\u0027b) \u003c=\u003e (!x. f x = g x)                 deduct_antisym_rule       9,12      \n",
    "// 14                                   |- !(f:\u0027a-\u003e\u0027b) g. f = g \u003c=\u003e (!x. f x = g x)           list_gen_rule             13        \n"
   ]
  }
,
  {
   "cell_type": "markdown",
   "metadata": {},
   
   "source": [
    "Forward proof with tree\n",
    "\n"
   ]
  }
,
  {
   "cell_type": "code",
   "metadata": {
    "dotnet_interactive": {
     "language": "fsharp"
    },
    "polyglot_notebook": {
     "kernelName": "fsharp"
    }
   },
   "execution_count": null, "outputs": [],
   "source": [
    "let x = parse_term(@\"x:\u0027a\") \n",
    "let f = parse_term(@\"f:\u0027a-\u003e\u0027b\")\n",
    "let g = parse_term(@\"g:\u0027a-\u003e\u0027b\")\n",
    "\n",
    "(* |- !f g. f = g \u003c=\u003e (!x. f x = g x) *)\n",
    "(list_gen_rule_fd [f;g]\n",
    "  (deduct_antisym_rule_fd\n",
    "    (* !x. f x = g x |- f = g                 *)\n",
    "    (list_trans_rule_fd\n",
    "       [ (*               |- f = (\\x. f x)      *)\n",
    "         sym_rule_fd (eta_conv_fd (parse_term(@\"\\x. (f:\u0027a-\u003e\u0027b) x\")));\n",
    "         (* !x. f x = g x |- ... = (\\x. g x)    *)\n",
    "         mk_abs_rule_fd x\n",
    "           (spec_rule_fd x (assume_rule_fd (parse_term(@\"!x. (f:\u0027a-\u003e\u0027b) x = g x\"))));\n",
    "         (*               |- ... = g            *)\n",
    "         eta_conv_fd (parse_term(@\"\\x. (g:\u0027a-\u003e\u0027b) x\")) \n",
    "         ])\n",
    "    (* f = g |- !x. f x = g x                 *)\n",
    "    (gen_rule_fd x\n",
    "      (mk_comb1_rule_fd (assume_rule_fd (parse_term(@\"(f:\u0027a-\u003e\u0027b)=g\"))) x) )))\n",
    "|\u003e zipper\n",
    "|\u003e view\n",
    "|\u003e loc_thm |\u003e Option.get\n",
    "\n",
    "//val it : thm = |- !(f:\u0027a-\u003e\u0027b) g. f = g \u003c=\u003e (!x. f x = g x)\n"
   ]
  }
,
  {
   "cell_type": "markdown",
   "metadata": {},
   
   "source": [
    "$\\small{ \t\\color{green}{\\dfrac\n",
    "{[f:\\alpha\\ \\rightarrow\\ \\beta;g:\\alpha\\ \\rightarrow\\ \\beta]\n",
    "\\qquad\n",
    "\\color{green}{\\dfrac\n",
    "{\\color{green}{\\dfrac\n",
    "{\\color{green}{\\dfrac\n",
    "{\\color{green}{\\dfrac\n",
    "{\\lambda\\ x.\\ (f:\\alpha\\ \\rightarrow\\ \\beta)\\ x}\n",
    "{\\vdash\\ (\\lambda\\ x.\\ (f:\\alpha\\ \\rightarrow\\ \\beta)\\ x)\\ =\\ f}\n",
    "\\textsf{ eta_conv}}}\n",
    "{\\vdash\\ (f:\\alpha\\ \\rightarrow\\ \\beta)\\ =\\ (\\lambda\\ x.\\ f\\ x)}\n",
    "\\textsf{ sym_rule}}\n",
    "\\qquad\n",
    "\\color{green}{\\dfrac\n",
    "{x:\\alpha\n",
    "\\qquad\n",
    "\\color{green}{\\dfrac\n",
    "{x:\\alpha\n",
    "\\qquad\n",
    "\\color{green}{\\dfrac\n",
    "{\\forall\\ x.\\ f\\ x\\ =\\ (g:\\alpha\\ \\rightarrow\\ \\beta)\\ x}\n",
    "{\\forall\\ x.\\ f\\ x\\ =\\ g\\ x\\ \\vdash\\ \\forall\\ x.\\ f\\ x\\ =\\ (g:\\alpha\\ \\rightarrow\\ \\beta)\\ x}\n",
    "\\textsf{ assume_rule}}}\n",
    "{\\forall\\ x.\\ f\\ x\\ =\\ g\\ x\\ \\vdash\\ f\\ x\\ =\\ (g:\\alpha\\ \\rightarrow\\ \\beta)\\ x}\n",
    "\\textsf{ spec_rule}}}\n",
    "{\\forall\\ x.\\ f\\ x\\ =\\ g\\ x\\ \\vdash\\ (\\lambda\\ x.\\ f\\ x)\\ =\\ (\\lambda\\ x.\\ (g:\\alpha\\ \\rightarrow\\ \\beta)\\ x)}\n",
    "\\textsf{ mk_abs_rule}}\n",
    "\\qquad\n",
    "\\color{green}{\\dfrac\n",
    "{\\lambda\\ x.\\ (g:\\alpha\\ \\rightarrow\\ \\beta)\\ x}\n",
    "{\\vdash\\ (\\lambda\\ x.\\ (g:\\alpha\\ \\rightarrow\\ \\beta)\\ x)\\ =\\ g}\n",
    "\\textsf{ eta_conv}}}\n",
    "{\\forall\\ x.\\ f\\ x\\ =\\ g\\ x\\ \\vdash\\ f\\ =\\ (g:\\alpha\\ \\rightarrow\\ \\beta)}\n",
    "\\textsf{ list_trans_rule}}\n",
    "\\qquad\n",
    "\\color{green}{\\dfrac\n",
    "{x:\\alpha\n",
    "\\qquad\n",
    "\\color{green}{\\dfrac\n",
    "{\\color{green}{\\dfrac\n",
    "{f\\ =\\ (g:\\alpha\\ \\rightarrow\\ \\beta)}\n",
    "{f\\ =\\ g\\ \\vdash\\ f\\ =\\ (g:\\alpha\\ \\rightarrow\\ \\beta)}\n",
    "\\textsf{ assume_rule}}\n",
    "\\qquad\n",
    "x:\\alpha}\n",
    "{f\\ =\\ g\\ \\vdash\\ f\\ x\\ =\\ (g:\\alpha\\ \\rightarrow\\ \\beta)\\ x}\n",
    "\\textsf{ mk_comb1_rule}}}\n",
    "{f\\ =\\ g\\ \\vdash\\ \\forall\\ x.\\ f\\ x\\ =\\ (g:\\alpha\\ \\rightarrow\\ \\beta)\\ x}\n",
    "\\textsf{ gen_rule}}}\n",
    "{\\vdash\\ f\\ =\\ (g:\\alpha\\ \\rightarrow\\ \\beta)\\ \\Leftrightarrow\\ (\\forall\\ x.\\ f\\ x\\ =\\ g\\ x)}\n",
    "\\textsf{ deduct_antisym_rule}}}\n",
    "{\\vdash\\ \\forall\\ (f:\\alpha\\ \\rightarrow\\ \\beta)\\ g.\\ f\\ =\\ g\\ \\Leftrightarrow\\ (\\forall\\ x.\\ f\\ x\\ =\\ g\\ x)}\n",
    "\\textsf{ list_gen_rule}} }$\n",
    "\n",
    "Classic forward proof without tree\n",
    "\n"
   ]
  }
,
  {
   "cell_type": "code",
   "metadata": {
    "dotnet_interactive": {
     "language": "fsharp"
    },
    "polyglot_notebook": {
     "kernelName": "fsharp"
    }
   },
   "execution_count": null, "outputs": [],
   "source": [
    "//(* |- !f g. f = g \u003c=\u003e (!x. f x = g x) *)\n",
    "(list_gen_rule [f;g]\n",
    "  (deduct_antisym_rule\n",
    "    (* !x. f x = g x |- f = g                 *)\n",
    "    (list_trans_rule\n",
    "       [ (*               |- f = (\\x. f x)      *)\n",
    "         sym_rule (eta_conv (parse_term(@\"\\x. (f:\u0027a-\u003e\u0027b) x\")));\n",
    "         (* !x. f x = g x |- ... = (\\x. g x)    *)\n",
    "         mk_abs_rule x\n",
    "           (spec_rule x (assume_rule (parse_term(@\"!x. (f:\u0027a-\u003e\u0027b) x = g x\"))));\n",
    "         (*               |- ... = g            *)\n",
    "         eta_conv (parse_term(@\"\\x. (g:\u0027a-\u003e\u0027b) x\")) ])\n",
    "    (* f = g |- !x. f x = g x                 *)\n",
    "    (gen_rule x\n",
    "      (mk_comb1_rule (assume_rule (parse_term(@\"(f:\u0027a-\u003e\u0027b)=g\"))) x) )))\n",
    "\n",
    "//val it : thm = |- !(f:\u0027a-\u003e\u0027b) g. f = g \u003c=\u003e (!x. f x = g x)\n"
   ]
  }
 ],
 "metadata": {
  "kernelspec": {
   "display_name": ".NET (F#)",
   "language": "F#",
   "name": ".net-fsharp"
  },
  "language_info": {
   "file_extension": ".fs",
   "mimetype": "text/x-fsharp",
   "name": "polyglot-notebook",
   "pygments_lexer": "fsharp"
  },
  "polyglot_notebook": {
   "kernelInfo": {
    "defaultKernelName": "fsharp",
    "items": [
     {
      "aliases": [],
      "languageName": "fsharp",
      "name": "fsharp"
     }
    ]
   }
  }
 },
 "nbformat": 4,
 "nbformat_minor": 2
}

