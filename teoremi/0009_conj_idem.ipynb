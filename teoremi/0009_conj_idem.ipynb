
{
 "cells": [
  {
   "cell_type": "markdown",
   "metadata": {},
   
   "source": [
    "# congiunzione della stessa proposizione\n",
    "\n",
    "$\\forall p.\\ p \\wedge p \\Leftrightarrow p$\n",
    "\n"
   ]
  }
,
  {
   "cell_type": "code",
   "metadata": {
    "dotnet_interactive": {
     "language": "fsharp"
    },
    "polyglot_notebook": {
     "kernelName": "fsharp"
    }
   },
   "execution_count": 2, "outputs": [],
   "source": [
    "conj_idem_thm\n",
    "//   |- !p. p /\\ p \u003c=\u003e p\n"
   ]
  }
,
  {
   "cell_type": "markdown",
   "metadata": {},
   
   "source": [
    "Backward proof with tree\n",
    "\n"
   ]
  }
,
  {
   "cell_type": "code",
   "metadata": {
    "dotnet_interactive": {
     "language": "fsharp"
    },
    "polyglot_notebook": {
     "kernelName": "fsharp"
    }
   },
   "execution_count": 3, "outputs": [],
   "source": [
    "([],\"!p. p /\\ p \u003c=\u003e p\")\n",
    "|\u003e start_proof\n",
    "|\u003e gen_rule_bk\n",
    "|\u003e deduct_antisym_rule_bk [] []\n",
    "|\u003e conj_rule_bk [0] [0]\n",
    "|\u003e assume_rule_bk\n",
    "|\u003e assume_rule_bk\n",
    "|\u003e conjunct1_rule_bk \"p:bool\"\n",
    "|\u003e assume_rule_bk\n",
    "\n",
    "|\u003e view\n"
   ]
  }
,
  {
   "cell_type": "markdown",
   "metadata": {},
   
   "source": [
    "$\\small{ \t\\color{green}{\\dfrac\n",
    "{p:bool\n",
    "\\qquad\n",
    "\\color{green}{\\dfrac\n",
    "{\\color{green}{\\dfrac\n",
    "{\\color{green}{\\dfrac\n",
    "{p:bool}\n",
    "{p\\ \\vdash\\ p}\n",
    "\\textsf{ assume_rule}}\n",
    "\\qquad\n",
    "\\color{green}{\\dfrac\n",
    "{p:bool}\n",
    "{p\\ \\vdash\\ p}\n",
    "\\textsf{ assume_rule}}}\n",
    "{p\\ \\vdash\\ p\\ \\wedge\\ p}\n",
    "\\textsf{ conj_rule}}\n",
    "\\qquad\n",
    "\\color{green}{\\dfrac\n",
    "{\\color{green}{\\dfrac\n",
    "{p\\ \\wedge\\ p}\n",
    "{p\\ \\wedge\\ p\\ \\vdash\\ p\\ \\wedge\\ p}\n",
    "\\textsf{ assume_rule}}}\n",
    "{p\\ \\wedge\\ p\\ \\vdash\\ p}\n",
    "\\textsf{ conjunct1_rule}}}\n",
    "{\\vdash\\ p\\ \\wedge\\ p\\ \\Leftrightarrow\\ p}\n",
    "\\textsf{ deduct_antisym_rule}}}\n",
    "{\\vdash\\ \\forall\\ p.\\ p\\ \\wedge\\ p\\ \\Leftrightarrow\\ p}\n",
    "\\textsf{ gen_rule}} }$\n",
    "\n",
    "Forward proof with tree\n",
    "\n"
   ]
  }
,
  {
   "cell_type": "code",
   "metadata": {
    "dotnet_interactive": {
     "language": "fsharp"
    },
    "polyglot_notebook": {
     "kernelName": "fsharp"
    }
   },
   "execution_count": 4, "outputs": [],
   "source": [
    "gen_rule_fd p\n",
    "    (deduct_antisym_rule_fd\n",
    "      (conj_rule_fd (assume_rule_fd p) (assume_rule_fd p))\n",
    "      (conjunct1_rule_fd (assume_rule_fd (parse_term(@\"p /\\ p\")))) )\n",
    "|\u003e zipper\n",
    "|\u003e view\n"
   ]
  }
,
  {
   "cell_type": "markdown",
   "metadata": {},
   
   "source": [
    "Classic forward proof without tree\n",
    "\n"
   ]
  }
,
  {
   "cell_type": "code",
   "metadata": {
    "dotnet_interactive": {
     "language": "fsharp"
    },
    "polyglot_notebook": {
     "kernelName": "fsharp"
    }
   },
   "execution_count": 5, "outputs": [],
   "source": [
    "gen_rule p\n",
    "(deduct_antisym_rule\n",
    "  (conj_rule (assume_rule p) (assume_rule p))\n",
    "  (conjunct1_rule (assume_rule (parse_term(@\"p /\\ p\")))) )\n"
   ]
  }
 ],
 "metadata": {
  "kernelspec": {
   "display_name": ".NET (F#)",
   "language": "F#",
   "name": ".net-fsharp"
  },
  "language_info": {
   "file_extension": ".fs",
   "mimetype": "text/x-fsharp",
   "name": "polyglot-notebook",
   "pygments_lexer": "fsharp"
  },
  "polyglot_notebook": {
   "kernelInfo": {
    "defaultKernelName": "fsharp",
    "items": [
     {
      "aliases": [],
      "languageName": "fsharp",
      "name": "fsharp"
     }
    ]
   }
  }
 },
 "nbformat": 4,
 "nbformat_minor": 2
}

