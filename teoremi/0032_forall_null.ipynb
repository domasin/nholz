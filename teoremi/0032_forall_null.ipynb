
{
 "cells": [
  {
   "cell_type": "code",
   "metadata": {
    "dotnet_interactive": {
     "language": "fsharp"
    },
    "polyglot_notebook": {
     "kernelName": "fsharp"
    }
   },
   "execution_count": null, "outputs": [],
   "source": [
    "forall_null_thm\n",
    "\n",
    "let th = \"t:bool\" |\u003e parse_term |\u003e assume_rule\n",
    "let th2 = gen_rule (\"x:a\" |\u003e parse_term) th\n",
    "\n",
    "([],\"!t. (!(x:\u0027a). t) \u003c=\u003e t\")\n",
    "|\u003e start_proof\n",
    "|\u003e gen_rule_bk\n",
    "|\u003e deduct_antisym_rule_bk [] []\n",
    "|\u003e gen_rule_bk\n",
    "|\u003e assume_rule_bk\n",
    "|\u003e spec_rule_bk (\"x:a\",\"x:a\") \"!(x:a). t\"\n",
    "|\u003e assume_rule_bk\n",
    "//|\u003e view\n",
    "|\u003e root\n",
    "|\u003e linearizeProof\n"
   ]
  }
 ],
 "metadata": {
  "kernelspec": {
   "display_name": ".NET (F#)",
   "language": "F#",
   "name": ".net-fsharp"
  },
  "language_info": {
   "file_extension": ".fs",
   "mimetype": "text/x-fsharp",
   "name": "polyglot-notebook",
   "pygments_lexer": "fsharp"
  },
  "polyglot_notebook": {
   "kernelInfo": {
    "defaultKernelName": "fsharp",
    "items": [
     {
      "aliases": [],
      "languageName": "fsharp",
      "name": "fsharp"
     }
    ]
   }
  }
 },
 "nbformat": 4,
 "nbformat_minor": 2
}

