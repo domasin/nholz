
{
 "cells": [
  {
   "cell_type": "code",
   "metadata": {
    "dotnet_interactive": {
     "language": "fsharp"
    },
    "polyglot_notebook": {
     "kernelName": "fsharp"
    }
   },
   "execution_count": null, "outputs": [],
   "source": [
    "disj_assoc_thm\n",
    "\n",
    "([],\"!p q r. p \\/ (q \\/ r) \u003c=\u003e (p \\/ q) \\/ r\")\n",
    "|\u003e start_proof\n",
    "|\u003e list_gen_rule_bk\n",
    "|\u003e deduct_antisym_rule_bk [] []\n",
    "|\u003e disj_cases_rule_bk [0] [] [] \"(p \\/ q)\" \"r:bool\"\n",
    "|\u003e assume_rule_bk\n",
    "|\u003e disj_cases_rule_bk [0] [] [] \"p:bool\" \"q:bool\"\n",
    "|\u003e assume_rule_bk\n",
    "|\u003e disj1_rule_bk \n",
    "|\u003e assume_rule_bk\n",
    "|\u003e disj2_rule_bk \n",
    "|\u003e disj1_rule_bk \n",
    "|\u003e assume_rule_bk\n",
    "|\u003e disj2_rule_bk \n",
    "|\u003e disj2_rule_bk \n",
    "|\u003e assume_rule_bk\n",
    "|\u003e disj_cases_rule_bk [0] [] [] \"p:bool\" \"q \\/ r\"\n",
    "|\u003e assume_rule_bk\n",
    "|\u003e disj1_rule_bk \n",
    "|\u003e disj1_rule_bk \n",
    "|\u003e assume_rule_bk\n",
    "|\u003e disj_cases_rule_bk [0] [] [] \"q:bool\" \"r:bool\"\n",
    "|\u003e assume_rule_bk\n",
    "|\u003e disj1_rule_bk \n",
    "|\u003e disj2_rule_bk \n",
    "|\u003e assume_rule_bk\n",
    "|\u003e disj2_rule_bk \n",
    "|\u003e assume_rule_bk\n",
    "//|\u003e view\n",
    "|\u003e loc_thm |\u003e Option.get\n"
   ]
  }
 ],
 "metadata": {
  "kernelspec": {
   "display_name": ".NET (F#)",
   "language": "F#",
   "name": ".net-fsharp"
  },
  "language_info": {
   "file_extension": ".fs",
   "mimetype": "text/x-fsharp",
   "name": "polyglot-notebook",
   "pygments_lexer": "fsharp"
  },
  "polyglot_notebook": {
   "kernelInfo": {
    "defaultKernelName": "fsharp",
    "items": [
     {
      "aliases": [],
      "languageName": "fsharp",
      "name": "fsharp"
     }
    ]
   }
  }
 },
 "nbformat": 4,
 "nbformat_minor": 2
}

