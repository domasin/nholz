
{
 "cells": [
  {
   "cell_type": "code",
   "metadata": {
    "dotnet_interactive": {
     "language": "fsharp"
    },
    "polyglot_notebook": {
     "kernelName": "fsharp"
    }
   },
   "execution_count": null, "outputs": [],
   "source": [
    "forall_one_point_thm\n",
    "\n",
    "([],\"!P a. (!x. x = a ==\u003e P x) \u003c=\u003e P a\")\n",
    "|\u003e start_proof\n",
    "|\u003e list_gen_rule_bk\n",
    "|\u003e deduct_antisym_rule_bk [] []\n",
    "|\u003e gen_rule_bk\n",
    "|\u003e disch_rule_bk\n",
    "|\u003e eq_mp_rule_bk [1] [0] \"(P:1 -\u003e bool) a\"\n",
    "|\u003e sym_rule_bk\n",
    "|\u003e mk_comb2_rule_bk\n",
    "|\u003e assume_rule_bk\n",
    "|\u003e assume_rule_bk\n",
    "|\u003e mp_rule_bk [0] [] \"(a:1) = a\"\n",
    "|\u003e spec_rule_bk (\"a:1\",\"x:1\") \"!(x:1). x = a ==\u003e P x\"\n",
    "|\u003e assume_rule_bk\n",
    "|\u003e refl_conv_bk\n",
    "|\u003e view\n"
   ]
  }
 ],
 "metadata": {
  "kernelspec": {
   "display_name": ".NET (F#)",
   "language": "F#",
   "name": ".net-fsharp"
  },
  "language_info": {
   "file_extension": ".fs",
   "mimetype": "text/x-fsharp",
   "name": "polyglot-notebook",
   "pygments_lexer": "fsharp"
  },
  "polyglot_notebook": {
   "kernelInfo": {
    "defaultKernelName": "fsharp",
    "items": [
     {
      "aliases": [],
      "languageName": "fsharp",
      "name": "fsharp"
     }
    ]
   }
  }
 },
 "nbformat": 4,
 "nbformat_minor": 2
}

