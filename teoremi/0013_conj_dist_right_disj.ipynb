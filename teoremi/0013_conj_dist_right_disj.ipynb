
{
 "cells": [
  {
   "cell_type": "markdown",
   "metadata": {},
   
   "source": [
    "# distributivit\u0026agrave; a destra della congiunzione sulla disgiunzione\n",
    "\n",
    "$\\forall p\\ q\\ r.\\ p \\wedge (q \\vee r) \\Leftrightarrow (p \\wedge q) \\vee (p \\wedge r)$\n",
    "\n"
   ]
  }
,
  {
   "cell_type": "code",
   "metadata": {
    "dotnet_interactive": {
     "language": "fsharp"
    },
    "polyglot_notebook": {
     "kernelName": "fsharp"
    }
   },
   "execution_count": null, "outputs": [],
   "source": [
    "conj_dist_right_disj_thm\n",
    "//   |- !p q r. p /\\ (q \\/ r) \u003c=\u003e (p /\\ q) \\/ (p /\\ r)\n"
   ]
  }
,
  {
   "cell_type": "markdown",
   "metadata": {},
   
   "source": [
    "Backward proof with tree\n",
    "\n"
   ]
  }
,
  {
   "cell_type": "code",
   "metadata": {
    "dotnet_interactive": {
     "language": "fsharp"
    },
    "polyglot_notebook": {
     "kernelName": "fsharp"
    }
   },
   "execution_count": null, "outputs": [],
   "source": [
    "([],\"!p q r. p /\\ (q \\/ r) \u003c=\u003e (p /\\ q) \\/ (p /\\ r)\")\n",
    "|\u003e start_proof\n",
    "|\u003e list_gen_rule_bk\n",
    "|\u003e deduct_antisym_rule_bk [] []\n",
    "|\u003e conj_rule_bk [0] [0]\n",
    "|\u003e disj_cases_rule_bk [0] [] [] \"(p /\\ q)\" \"(p /\\ r)\"\n",
    "|\u003e assume_rule_bk\n",
    "|\u003e conjunct1_rule_bk \"q:bool\"\n",
    "|\u003e assume_rule_bk\n",
    "|\u003e conjunct1_rule_bk \"r:bool\"\n",
    "|\u003e assume_rule_bk\n",
    "|\u003e disj_cases_rule_bk [0] [] [] \"(p /\\ q)\" \"(p /\\ r)\"\n",
    "|\u003e assume_rule_bk\n",
    "|\u003e disj1_rule_bk\n",
    "|\u003e conjunct2_rule_bk \"p:bool\"\n",
    "|\u003e assume_rule_bk\n",
    "|\u003e disj2_rule_bk\n",
    "|\u003e conjunct2_rule_bk \"p:bool\"\n",
    "|\u003e assume_rule_bk\n",
    "|\u003e disj_cases_rule_bk [0] [0] [0] \"q:bool\" \"r:bool\"\n",
    "|\u003e conjunct2_rule_bk \"p:bool\"\n",
    "|\u003e assume_rule_bk\n",
    "|\u003e disj1_rule_bk\n",
    "|\u003e conj_rule_bk [0] [1]\n",
    "|\u003e conjunct1_rule_bk \"q \\/ r\"\n",
    "|\u003e assume_rule_bk\n",
    "|\u003e assume_rule_bk\n",
    "|\u003e disj2_rule_bk\n",
    "|\u003e conj_rule_bk [0] [1]\n",
    "|\u003e conjunct1_rule_bk \"q \\/ r\"\n",
    "|\u003e assume_rule_bk\n",
    "|\u003e assume_rule_bk\n",
    "|\u003e view\n"
   ]
  }
,
  {
   "cell_type": "markdown",
   "metadata": {},
   
   "source": [
    "$\\small{ \t\\color{green}{\\dfrac\n",
    "{[p:bool;q:bool;r:bool]\n",
    "\\qquad\n",
    "\\color{green}{\\dfrac\n",
    "{\\color{green}{\\dfrac\n",
    "{\\color{green}{\\dfrac\n",
    "{\\color{green}{\\dfrac\n",
    "{p\\ \\wedge\\ q\\ \\vee\\ p\\ \\wedge\\ r}\n",
    "{p\\ \\wedge\\ q\\ \\vee\\ p\\ \\wedge\\ r\\ \\vdash\\ p\\ \\wedge\\ q\\ \\vee\\ p\\ \\wedge\\ r}\n",
    "\\textsf{ assume_rule}}\n",
    "\\qquad\n",
    "\\color{green}{\\dfrac\n",
    "{\\color{green}{\\dfrac\n",
    "{p\\ \\wedge\\ q}\n",
    "{p\\ \\wedge\\ q\\ \\vdash\\ p\\ \\wedge\\ q}\n",
    "\\textsf{ assume_rule}}}\n",
    "{p\\ \\wedge\\ q\\ \\vdash\\ p}\n",
    "\\textsf{ conjunct1_rule}}\n",
    "\\qquad\n",
    "\\color{green}{\\dfrac\n",
    "{\\color{green}{\\dfrac\n",
    "{p\\ \\wedge\\ r}\n",
    "{p\\ \\wedge\\ r\\ \\vdash\\ p\\ \\wedge\\ r}\n",
    "\\textsf{ assume_rule}}}\n",
    "{p\\ \\wedge\\ r\\ \\vdash\\ p}\n",
    "\\textsf{ conjunct1_rule}}}\n",
    "{p\\ \\wedge\\ q\\ \\vee\\ p\\ \\wedge\\ r\\ \\vdash\\ p}\n",
    "\\textsf{ disj_cases_rule}}\n",
    "\\qquad\n",
    "\\color{green}{\\dfrac\n",
    "{\\color{green}{\\dfrac\n",
    "{p\\ \\wedge\\ q\\ \\vee\\ p\\ \\wedge\\ r}\n",
    "{p\\ \\wedge\\ q\\ \\vee\\ p\\ \\wedge\\ r\\ \\vdash\\ p\\ \\wedge\\ q\\ \\vee\\ p\\ \\wedge\\ r}\n",
    "\\textsf{ assume_rule}}\n",
    "\\qquad\n",
    "\\color{green}{\\dfrac\n",
    "{\\color{green}{\\dfrac\n",
    "{\\color{green}{\\dfrac\n",
    "{p\\ \\wedge\\ q}\n",
    "{p\\ \\wedge\\ q\\ \\vdash\\ p\\ \\wedge\\ q}\n",
    "\\textsf{ assume_rule}}}\n",
    "{p\\ \\wedge\\ q\\ \\vdash\\ q}\n",
    "\\textsf{ conjunct2_rule}}\n",
    "\\qquad\n",
    "r:bool}\n",
    "{p\\ \\wedge\\ q\\ \\vdash\\ q\\ \\vee\\ r}\n",
    "\\textsf{ disj1_rule}}\n",
    "\\qquad\n",
    "\\color{green}{\\dfrac\n",
    "{q:bool\n",
    "\\qquad\n",
    "\\color{green}{\\dfrac\n",
    "{\\color{green}{\\dfrac\n",
    "{p\\ \\wedge\\ r}\n",
    "{p\\ \\wedge\\ r\\ \\vdash\\ p\\ \\wedge\\ r}\n",
    "\\textsf{ assume_rule}}}\n",
    "{p\\ \\wedge\\ r\\ \\vdash\\ r}\n",
    "\\textsf{ conjunct2_rule}}}\n",
    "{p\\ \\wedge\\ r\\ \\vdash\\ q\\ \\vee\\ r}\n",
    "\\textsf{ disj2_rule}}}\n",
    "{p\\ \\wedge\\ q\\ \\vee\\ p\\ \\wedge\\ r\\ \\vdash\\ q\\ \\vee\\ r}\n",
    "\\textsf{ disj_cases_rule}}}\n",
    "{p\\ \\wedge\\ q\\ \\vee\\ p\\ \\wedge\\ r\\ \\vdash\\ p\\ \\wedge\\ (q\\ \\vee\\ r)}\n",
    "\\textsf{ conj_rule}}\n",
    "\\qquad\n",
    "\\color{green}{\\dfrac\n",
    "{\\color{green}{\\dfrac\n",
    "{\\color{green}{\\dfrac\n",
    "{p\\ \\wedge\\ (q\\ \\vee\\ r)}\n",
    "{p\\ \\wedge\\ (q\\ \\vee\\ r)\\ \\vdash\\ p\\ \\wedge\\ (q\\ \\vee\\ r)}\n",
    "\\textsf{ assume_rule}}}\n",
    "{p\\ \\wedge\\ (q\\ \\vee\\ r)\\ \\vdash\\ q\\ \\vee\\ r}\n",
    "\\textsf{ conjunct2_rule}}\n",
    "\\qquad\n",
    "\\color{green}{\\dfrac\n",
    "{\\color{green}{\\dfrac\n",
    "{\\color{green}{\\dfrac\n",
    "{\\color{green}{\\dfrac\n",
    "{p\\ \\wedge\\ (q\\ \\vee\\ r)}\n",
    "{p\\ \\wedge\\ (q\\ \\vee\\ r)\\ \\vdash\\ p\\ \\wedge\\ (q\\ \\vee\\ r)}\n",
    "\\textsf{ assume_rule}}}\n",
    "{p\\ \\wedge\\ (q\\ \\vee\\ r)\\ \\vdash\\ p}\n",
    "\\textsf{ conjunct1_rule}}\n",
    "\\qquad\n",
    "\\color{green}{\\dfrac\n",
    "{q:bool}\n",
    "{q\\ \\vdash\\ q}\n",
    "\\textsf{ assume_rule}}}\n",
    "{p\\ \\wedge\\ (q\\ \\vee\\ r),\\ q\\ \\vdash\\ p\\ \\wedge\\ q}\n",
    "\\textsf{ conj_rule}}\n",
    "\\qquad\n",
    "p\\ \\wedge\\ r}\n",
    "{p\\ \\wedge\\ (q\\ \\vee\\ r),\\ q\\ \\vdash\\ p\\ \\wedge\\ q\\ \\vee\\ p\\ \\wedge\\ r}\n",
    "\\textsf{ disj1_rule}}\n",
    "\\qquad\n",
    "\\color{green}{\\dfrac\n",
    "{p\\ \\wedge\\ q\n",
    "\\qquad\n",
    "\\color{green}{\\dfrac\n",
    "{\\color{green}{\\dfrac\n",
    "{\\color{green}{\\dfrac\n",
    "{p\\ \\wedge\\ (q\\ \\vee\\ r)}\n",
    "{p\\ \\wedge\\ (q\\ \\vee\\ r)\\ \\vdash\\ p\\ \\wedge\\ (q\\ \\vee\\ r)}\n",
    "\\textsf{ assume_rule}}}\n",
    "{p\\ \\wedge\\ (q\\ \\vee\\ r)\\ \\vdash\\ p}\n",
    "\\textsf{ conjunct1_rule}}\n",
    "\\qquad\n",
    "\\color{green}{\\dfrac\n",
    "{r:bool}\n",
    "{r\\ \\vdash\\ r}\n",
    "\\textsf{ assume_rule}}}\n",
    "{p\\ \\wedge\\ (q\\ \\vee\\ r),\\ r\\ \\vdash\\ p\\ \\wedge\\ r}\n",
    "\\textsf{ conj_rule}}}\n",
    "{p\\ \\wedge\\ (q\\ \\vee\\ r),\\ r\\ \\vdash\\ p\\ \\wedge\\ q\\ \\vee\\ p\\ \\wedge\\ r}\n",
    "\\textsf{ disj2_rule}}}\n",
    "{p\\ \\wedge\\ (q\\ \\vee\\ r)\\ \\vdash\\ p\\ \\wedge\\ q\\ \\vee\\ p\\ \\wedge\\ r}\n",
    "\\textsf{ disj_cases_rule}}}\n",
    "{\\vdash\\ p\\ \\wedge\\ (q\\ \\vee\\ r)\\ \\Leftrightarrow\\ p\\ \\wedge\\ q\\ \\vee\\ p\\ \\wedge\\ r}\n",
    "\\textsf{ deduct_antisym_rule}}}\n",
    "{\\vdash\\ \\forall\\ p\\ q\\ r.\\ p\\ \\wedge\\ (q\\ \\vee\\ r)\\ \\Leftrightarrow\\ p\\ \\wedge\\ q\\ \\vee\\ p\\ \\wedge\\ r}\n",
    "\\textsf{ list_gen_rule}} }$\n",
    "\n"
   ]
  }
,
  {
   "cell_type": "code",
   "metadata": {
    "dotnet_interactive": {
     "language": "fsharp"
    },
    "polyglot_notebook": {
     "kernelName": "fsharp"
    }
   },
   "execution_count": null, "outputs": [],
   "source": [
    "it\n",
    "|\u003e root\n",
    "|\u003e linearizeProof\n",
    "\n",
    "// 0                   p /\\ q \\/ p /\\ r |- p /\\ q \\/ p /\\ r                                   assume_rule                         \n",
    "// 1                             p /\\ q |- p /\\ q                                             assume_rule                         \n",
    "// 2                             p /\\ q |- p:bool                                             conjunct1_rule            1         \n",
    "// 3                             p /\\ r |- p /\\ r                                             assume_rule                         \n",
    "// 4                             p /\\ r |- p:bool                                             conjunct1_rule            3         \n",
    "// 5                   p /\\ q \\/ p /\\ r |- p:bool                                             disj_cases_rule           0,2,4     \n",
    "// 6                   p /\\ q \\/ p /\\ r |- p /\\ q \\/ p /\\ r                                   assume_rule                         \n",
    "// 7                             p /\\ q |- p /\\ q                                             assume_rule                         \n",
    "// 8                             p /\\ q |- q:bool                                             conjunct2_rule            7         \n",
    "// 9                             p /\\ q |- q \\/ r                                             disj1_rule                8         \n",
    "// 10                            p /\\ r |- p /\\ r                                             assume_rule                         \n",
    "// 11                            p /\\ r |- r:bool                                             conjunct2_rule            10        \n",
    "// 12                            p /\\ r |- q \\/ r                                             disj2_rule                11        \n",
    "// 13                  p /\\ q \\/ p /\\ r |- q \\/ r                                             disj_cases_rule           6,9,12    \n",
    "// 14                  p /\\ q \\/ p /\\ r |- p /\\ (q \\/ r)                                      conj_rule                 5,13      \n",
    "// 15                     p /\\ (q \\/ r) |- p /\\ (q \\/ r)                                      assume_rule                         \n",
    "// 16                     p /\\ (q \\/ r) |- q \\/ r                                             conjunct2_rule            15        \n",
    "// 17                     p /\\ (q \\/ r) |- p /\\ (q \\/ r)                                      assume_rule                         \n",
    "// 18                     p /\\ (q \\/ r) |- p:bool                                             conjunct1_rule            17        \n",
    "// 19                            q:bool |- q:bool                                             assume_rule                         \n",
    "// 20             p /\\ (q \\/ r), q:bool |- p /\\ q                                             conj_rule                 18,19     \n",
    "// 21             p /\\ (q \\/ r), q:bool |- p /\\ q \\/ p /\\ r                                   disj1_rule                20        \n",
    "// 22                     p /\\ (q \\/ r) |- p /\\ (q \\/ r)                                      assume_rule                         \n",
    "// 23                     p /\\ (q \\/ r) |- p:bool                                             conjunct1_rule            22        \n",
    "// 24                            r:bool |- r:bool                                             assume_rule                         \n",
    "// 25             p /\\ (q \\/ r), r:bool |- p /\\ r                                             conj_rule                 23,24     \n",
    "// 26             p /\\ (q \\/ r), r:bool |- p /\\ q \\/ p /\\ r                                   disj2_rule                25        \n",
    "// 27                     p /\\ (q \\/ r) |- p /\\ q \\/ p /\\ r                                   disj_cases_rule           16,21,26  \n",
    "// 28                                   |- p /\\ (q \\/ r) \u003c=\u003e p /\\ q \\/ p /\\ r                 deduct_antisym_rule       14,27     \n",
    "// 29                                   |- !p q r. p /\\ (q \\/ r) \u003c=\u003e p /\\ q \\/ p /\\ r         list_gen_rule             28        \n"
   ]
  }
,
  {
   "cell_type": "markdown",
   "metadata": {},
   
   "source": [
    "Forward proof with tree\n",
    "\n"
   ]
  }
,
  {
   "cell_type": "code",
   "metadata": {
    "dotnet_interactive": {
     "language": "fsharp"
    },
    "polyglot_notebook": {
     "kernelName": "fsharp"
    }
   },
   "execution_count": null, "outputs": [],
   "source": [
    "let th1 = assume_rule_fd (parse_term(@\"(p /\\ q) \\/ (p /\\ r)\"))\n",
    "let th2 = assume_rule_fd (parse_term(@\"p /\\ (q \\/ r)\")) \n",
    "list_gen_rule [p;q;r]\n",
    "(deduct_antisym_rule_fd\n",
    "  (* (p /\\ q) \\/ (p /\\ r) |- p /\\ (q \\/ r)  *)\n",
    "  (conj_rule_fd\n",
    "    (* (p /\\ q) \\/ (p /\\ r) |- p              *)\n",
    "    (disj_cases_rule_fd th1\n",
    "      (conjunct1_rule_fd (assume_rule_fd (parse_term(@\"p /\\ q\"))))\n",
    "      (conjunct1_rule_fd (assume_rule_fd (parse_term(@\"p /\\ r\")))) )\n",
    "    (* (p /\\ q) \\/ (p /\\ r) |- q \\/ r         *)\n",
    "    (disj_cases_rule_fd th1\n",
    "      (disj1_rule_fd (conjunct2_rule_fd (assume_rule_fd (parse_term(@\"p /\\ q\")))) r)\n",
    "      (disj2_rule_fd q (conjunct2_rule_fd (assume_rule_fd (parse_term(@\"p /\\ r\"))))) ))\n",
    "  (* p /\\ (q \\/ r) |- (p /\\ q) \\/ (p /\\ r)  *)\n",
    "  (disj_cases_rule_fd (conjunct2_rule_fd th2)\n",
    "    (disj1_rule_fd\n",
    "      (* p /\\ (q \\/ r), q |- p /\\ q             *)\n",
    "      (conj_rule_fd (conjunct1_rule_fd th2) (assume_rule_fd q)) (parse_term(@\"p /\\ r\")))\n",
    "    (disj2_rule_fd (parse_term(@\"p /\\ q\"))\n",
    "      (* p /\\ (q \\/ r), r |- p /\\ r             *)\n",
    "      (conj_rule_fd (conjunct1_rule_fd th2) (assume_rule_fd r)) )))\n",
    "|\u003e linearizeProof\n",
    "\n",
    "// 0                   p /\\ q \\/ p /\\ r |- p /\\ q \\/ p /\\ r                                   assume_rule                         \n",
    "// 1                             p /\\ q |- p /\\ q                                             assume_rule                         \n",
    "// 2                             p /\\ q |- p:bool                                             conjunct1_rule            1         \n",
    "// 3                             p /\\ r |- p /\\ r                                             assume_rule                         \n",
    "// 4                             p /\\ r |- p:bool                                             conjunct1_rule            3         \n",
    "// 5                   p /\\ q \\/ p /\\ r |- p:bool                                             disj_cases_rule           0,2,4     \n",
    "// 6                   p /\\ q \\/ p /\\ r |- p /\\ q \\/ p /\\ r                                   assume_rule                         \n",
    "// 7                             p /\\ q |- p /\\ q                                             assume_rule                         \n",
    "// 8                             p /\\ q |- q:bool                                             conjunct2_rule            7         \n",
    "// 9                             p /\\ q |- q \\/ r                                             disj1_rule                8         \n",
    "// 10                            p /\\ r |- p /\\ r                                             assume_rule                         \n",
    "// 11                            p /\\ r |- r:bool                                             conjunct2_rule            10        \n",
    "// 12                            p /\\ r |- q \\/ r                                             disj2_rule                11        \n",
    "// 13                  p /\\ q \\/ p /\\ r |- q \\/ r                                             disj_cases_rule           6,9,12    \n",
    "// 14                  p /\\ q \\/ p /\\ r |- p /\\ (q \\/ r)                                      conj_rule                 5,13      \n",
    "// 15                     p /\\ (q \\/ r) |- p /\\ (q \\/ r)                                      assume_rule                         \n",
    "// 16                     p /\\ (q \\/ r) |- q \\/ r                                             conjunct2_rule            15        \n",
    "// 17                     p /\\ (q \\/ r) |- p /\\ (q \\/ r)                                      assume_rule                         \n",
    "// 18                     p /\\ (q \\/ r) |- p:bool                                             conjunct1_rule            17        \n",
    "// 19                            q:bool |- q:bool                                             assume_rule                         \n",
    "// 20             p /\\ (q \\/ r), q:bool |- p /\\ q                                             conj_rule                 18,19     \n",
    "// 21             p /\\ (q \\/ r), q:bool |- p /\\ q \\/ p /\\ r                                   disj1_rule                20        \n",
    "// 22                     p /\\ (q \\/ r) |- p /\\ (q \\/ r)                                      assume_rule                         \n",
    "// 23                     p /\\ (q \\/ r) |- p:bool                                             conjunct1_rule            22        \n",
    "// 24                            r:bool |- r:bool                                             assume_rule                         \n",
    "// 25             p /\\ (q \\/ r), r:bool |- p /\\ r                                             conj_rule                 23,24     \n",
    "// 26             p /\\ (q \\/ r), r:bool |- p /\\ q \\/ p /\\ r                                   disj2_rule                25        \n",
    "// 27                     p /\\ (q \\/ r) |- p /\\ q \\/ p /\\ r                                   disj_cases_rule           16,21,26  \n",
    "// 28                                   |- p /\\ (q \\/ r) \u003c=\u003e p /\\ q \\/ p /\\ r                 deduct_antisym_rule       14,27     \n"
   ]
  }
,
  {
   "cell_type": "markdown",
   "metadata": {},
   
   "source": [
    "Classic forward proof without tree\n",
    "\n"
   ]
  }
,
  {
   "cell_type": "code",
   "metadata": {
    "dotnet_interactive": {
     "language": "fsharp"
    },
    "polyglot_notebook": {
     "kernelName": "fsharp"
    }
   },
   "execution_count": null, "outputs": [],
   "source": [
    "let th1\u0027 = assume_rule (parse_term(@\"(p /\\ q) \\/ (p /\\ r)\")) in\n",
    "let th2\u0027 = assume_rule (parse_term(@\"p /\\ (q \\/ r)\")) in\n",
    "list_gen_rule [p;q;r]\n",
    "  (deduct_antisym_rule\n",
    "    (* (p /\\ q) \\/ (p /\\ r) |- p /\\ (q \\/ r)  *)\n",
    "    (conj_rule\n",
    "      (* (p /\\ q) \\/ (p /\\ r) |- p              *)\n",
    "      (disj_cases_rule th1\u0027\n",
    "        (conjunct1_rule (assume_rule (parse_term(@\"p /\\ q\"))))\n",
    "        (conjunct1_rule (assume_rule (parse_term(@\"p /\\ r\")))) )\n",
    "      (* (p /\\ q) \\/ (p /\\ r) |- q \\/ r         *)\n",
    "      (disj_cases_rule th1\u0027\n",
    "        (disj1_rule (conjunct2_rule (assume_rule (parse_term(@\"p /\\ q\")))) r)\n",
    "        (disj2_rule q (conjunct2_rule (assume_rule (parse_term(@\"p /\\ r\"))))) ))\n",
    "    (* p /\\ (q \\/ r) |- (p /\\ q) \\/ (p /\\ r)  *)\n",
    "    (disj_cases_rule (conjunct2_rule th2\u0027)\n",
    "      (disj1_rule\n",
    "        (* p /\\ (q \\/ r), q |- p /\\ q             *)\n",
    "        (conj_rule (conjunct1_rule th2\u0027) (assume_rule q)) (parse_term(@\"p /\\ r\")))\n",
    "      (disj2_rule (parse_term(@\"p /\\ q\"))\n",
    "        (* p /\\ (q \\/ r), r |- p /\\ r             *)\n",
    "        (conj_rule (conjunct1_rule th2\u0027) (assume_rule r)) )))\n"
   ]
  }
 ],
 "metadata": {
  "kernelspec": {
   "display_name": ".NET (F#)",
   "language": "F#",
   "name": ".net-fsharp"
  },
  "language_info": {
   "file_extension": ".fs",
   "mimetype": "text/x-fsharp",
   "name": "polyglot-notebook",
   "pygments_lexer": "fsharp"
  },
  "polyglot_notebook": {
   "kernelInfo": {
    "defaultKernelName": "fsharp",
    "items": [
     {
      "aliases": [],
      "languageName": "fsharp",
      "name": "fsharp"
     }
    ]
   }
  }
 },
 "nbformat": 4,
 "nbformat_minor": 2
}

