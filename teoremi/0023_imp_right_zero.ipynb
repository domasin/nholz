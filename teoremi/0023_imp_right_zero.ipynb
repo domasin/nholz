
{
 "cells": [
  {
   "cell_type": "code",
   "metadata": {
    "dotnet_interactive": {
     "language": "fsharp"
    },
    "polyglot_notebook": {
     "kernelName": "fsharp"
    }
   },
   "execution_count": 2, "outputs": [],
   "source": [
    "imp_right_zero_thm\n",
    "\n",
    "([],\"!p. p ==\u003e true\")\n",
    "|\u003e start_proof\n",
    "|\u003e gen_rule_bk\n",
    "|\u003e disch_rule_bk\n",
    "|\u003e add_asm_rule_bk 0\n",
    "|\u003e by truth_thm \"truth_thm\"\n",
    "\n",
    "|\u003e view\n"
   ]
  }
 ],
 "metadata": {
  "kernelspec": {
   "display_name": ".NET (F#)",
   "language": "F#",
   "name": ".net-fsharp"
  },
  "language_info": {
   "file_extension": ".fs",
   "mimetype": "text/x-fsharp",
   "name": "polyglot-notebook",
   "pygments_lexer": "fsharp"
  },
  "polyglot_notebook": {
   "kernelInfo": {
    "defaultKernelName": "fsharp",
    "items": [
     {
      "aliases": [],
      "languageName": "fsharp",
      "name": "fsharp"
     }
    ]
   }
  }
 },
 "nbformat": 4,
 "nbformat_minor": 2
}

