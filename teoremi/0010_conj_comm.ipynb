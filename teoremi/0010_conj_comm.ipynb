
{
 "cells": [
  {
   "cell_type": "markdown",
   "metadata": {},
   
   "source": [
    "# Propriet\u0026agrave; commutatativa della congiuzione\n",
    "\n",
    "$\\forall p\\ q.\\ p \\wedge q \\Leftrightarrow q \\wedge p$\n",
    "\n"
   ]
  }
,
  {
   "cell_type": "code",
   "metadata": {
    "dotnet_interactive": {
     "language": "fsharp"
    },
    "polyglot_notebook": {
     "kernelName": "fsharp"
    }
   },
   "execution_count": null, "outputs": [],
   "source": [
    "conj_comm_thm\n",
    "//   |- !p q. p /\\ q \u003c=\u003e q /\\ p\n"
   ]
  }
,
  {
   "cell_type": "markdown",
   "metadata": {},
   
   "source": [
    "Backward proof with tree\n",
    "\n"
   ]
  }
,
  {
   "cell_type": "code",
   "metadata": {
    "dotnet_interactive": {
     "language": "fsharp"
    },
    "polyglot_notebook": {
     "kernelName": "fsharp"
    }
   },
   "execution_count": null, "outputs": [],
   "source": [
    "([],\"!p q. p /\\ q \u003c=\u003e q /\\ p\")\n",
    "|\u003e start_proof\n",
    "|\u003e list_gen_rule_bk\n",
    "|\u003e deduct_antisym_rule_bk [] []\n",
    "|\u003e conj_rule_bk [0] [0] \n",
    "|\u003e conjunct2_rule_bk \"q:bool\"\n",
    "|\u003e assume_rule_bk\n",
    "|\u003e conjunct1_rule_bk \"p:bool\"\n",
    "|\u003e assume_rule_bk\n",
    "|\u003e conj_rule_bk [0] [0] \n",
    "|\u003e conjunct2_rule_bk \"p:bool\"\n",
    "|\u003e assume_rule_bk\n",
    "|\u003e conjunct1_rule_bk \"q:bool\"\n",
    "|\u003e assume_rule_bk\n",
    "|\u003e view\n"
   ]
  }
,
  {
   "cell_type": "markdown",
   "metadata": {},
   
   "source": [
    "$\\small{ \t\\color{green}{\\dfrac\n",
    "{[p:bool;q:bool]\n",
    "\\qquad\n",
    "\\color{green}{\\dfrac\n",
    "{\\color{green}{\\dfrac\n",
    "{\\color{green}{\\dfrac\n",
    "{\\color{green}{\\dfrac\n",
    "{q\\ \\wedge\\ p}\n",
    "{q\\ \\wedge\\ p\\ \\vdash\\ q\\ \\wedge\\ p}\n",
    "\\textsf{ assume_rule}}}\n",
    "{q\\ \\wedge\\ p\\ \\vdash\\ p}\n",
    "\\textsf{ conjunct2_rule}}\n",
    "\\qquad\n",
    "\\color{green}{\\dfrac\n",
    "{\\color{green}{\\dfrac\n",
    "{q\\ \\wedge\\ p}\n",
    "{q\\ \\wedge\\ p\\ \\vdash\\ q\\ \\wedge\\ p}\n",
    "\\textsf{ assume_rule}}}\n",
    "{q\\ \\wedge\\ p\\ \\vdash\\ q}\n",
    "\\textsf{ conjunct1_rule}}}\n",
    "{q\\ \\wedge\\ p\\ \\vdash\\ p\\ \\wedge\\ q}\n",
    "\\textsf{ conj_rule}}\n",
    "\\qquad\n",
    "\\color{green}{\\dfrac\n",
    "{\\color{green}{\\dfrac\n",
    "{\\color{green}{\\dfrac\n",
    "{p\\ \\wedge\\ q}\n",
    "{p\\ \\wedge\\ q\\ \\vdash\\ p\\ \\wedge\\ q}\n",
    "\\textsf{ assume_rule}}}\n",
    "{p\\ \\wedge\\ q\\ \\vdash\\ q}\n",
    "\\textsf{ conjunct2_rule}}\n",
    "\\qquad\n",
    "\\color{green}{\\dfrac\n",
    "{\\color{green}{\\dfrac\n",
    "{p\\ \\wedge\\ q}\n",
    "{p\\ \\wedge\\ q\\ \\vdash\\ p\\ \\wedge\\ q}\n",
    "\\textsf{ assume_rule}}}\n",
    "{p\\ \\wedge\\ q\\ \\vdash\\ p}\n",
    "\\textsf{ conjunct1_rule}}}\n",
    "{p\\ \\wedge\\ q\\ \\vdash\\ q\\ \\wedge\\ p}\n",
    "\\textsf{ conj_rule}}}\n",
    "{\\vdash\\ p\\ \\wedge\\ q\\ \\Leftrightarrow\\ q\\ \\wedge\\ p}\n",
    "\\textsf{ deduct_antisym_rule}}}\n",
    "{\\vdash\\ \\forall\\ p\\ q.\\ p\\ \\wedge\\ q\\ \\Leftrightarrow\\ q\\ \\wedge\\ p}\n",
    "\\textsf{ list_gen_rule}} }$\n",
    "\n",
    "Forward proof with tree\n",
    "\n"
   ]
  }
,
  {
   "cell_type": "code",
   "metadata": {
    "dotnet_interactive": {
     "language": "fsharp"
    },
    "polyglot_notebook": {
     "kernelName": "fsharp"
    }
   },
   "execution_count": null, "outputs": [],
   "source": [
    "list_gen_rule_fd [p;q]\n",
    "  (deduct_antisym_rule_fd \n",
    "    (inst_rule_fd [(p,q);(q,p)] \n",
    "        (conj_rule_fd                       (* p /\\ q |- q /\\ p      *)\n",
    "            (conjunct2_rule_fd (assume_rule_fd (parse_term(@\"p /\\ q\"))))\n",
    "            (conjunct1_rule_fd (assume_rule_fd (parse_term(@\"p /\\ q\")))))) \n",
    "    (conj_rule_fd                           (* p /\\ q |- q /\\ p      *)\n",
    "        (conjunct2_rule_fd (assume_rule_fd (parse_term(@\"p /\\ q\"))))\n",
    "        (conjunct1_rule_fd (assume_rule_fd (parse_term(@\"p /\\ q\"))))))\n",
    "|\u003e zipper\n",
    "|\u003e view\n"
   ]
  }
,
  {
   "cell_type": "markdown",
   "metadata": {},
   
   "source": [
    "Internal forward proof without tree\n",
    "\n"
   ]
  }
,
  {
   "cell_type": "code",
   "metadata": {
    "dotnet_interactive": {
     "language": "fsharp"
    },
    "polyglot_notebook": {
     "kernelName": "fsharp"
    }
   },
   "execution_count": null, "outputs": [],
   "source": [
    "let th1 = assume_rule (parse_term(@\"p /\\ q\")) in\n",
    "let th2 = conj_rule                           (* p /\\ q |- q /\\ p      *)\n",
    "            (conjunct2_rule th1)\n",
    "            (conjunct1_rule th1) in\n",
    "let th3 = inst_rule [(p,q);(q,p)] th2 in      (* q /\\ p |- p /\\ q      *)\n",
    "list_gen_rule [p;q]\n",
    "  (deduct_antisym_rule th3 th2)\n"
   ]
  }
 ],
 "metadata": {
  "kernelspec": {
   "display_name": ".NET (F#)",
   "language": "F#",
   "name": ".net-fsharp"
  },
  "language_info": {
   "file_extension": ".fs",
   "mimetype": "text/x-fsharp",
   "name": "polyglot-notebook",
   "pygments_lexer": "fsharp"
  },
  "polyglot_notebook": {
   "kernelInfo": {
    "defaultKernelName": "fsharp",
    "items": [
     {
      "aliases": [],
      "languageName": "fsharp",
      "name": "fsharp"
     }
    ]
   }
  }
 },
 "nbformat": 4,
 "nbformat_minor": 2
}

