
{
 "cells": [
  {
   "cell_type": "markdown",
   "metadata": {},
   
   "source": [
    "# vero \u0026egrave; l\u0027identit\u0026agrave; della congiunzione\n",
    "\n",
    "$\\forall p.\\ p \\wedge \\top \\Leftrightarrow p$\n",
    "\n"
   ]
  }
,
  {
   "cell_type": "code",
   "metadata": {
    "dotnet_interactive": {
     "language": "fsharp"
    },
    "polyglot_notebook": {
     "kernelName": "fsharp"
    }
   },
   "execution_count": null, "outputs": [],
   "source": [
    "conj_id_thm\n",
    "//   |- !p. p /\\ true \u003c=\u003e p\n"
   ]
  }
,
  {
   "cell_type": "markdown",
   "metadata": {},
   
   "source": [
    "Backward proof with tree\n",
    "\n"
   ]
  }
,
  {
   "cell_type": "code",
   "metadata": {
    "dotnet_interactive": {
     "language": "fsharp"
    },
    "polyglot_notebook": {
     "kernelName": "fsharp"
    }
   },
   "execution_count": null, "outputs": [],
   "source": [
    "([],\"!p. p /\\ true \u003c=\u003e p\")\n",
    "|\u003e start_proof\n",
    "|\u003e gen_rule_bk\n",
    "|\u003e deduct_antisym_rule_bk [] []\n",
    "|\u003e conj_rule_bk [0] []\n",
    "|\u003e assume_rule_bk\n",
    "|\u003e by truth_thm \"truth_thm\"\n",
    "|\u003e conjunct1_rule_bk \"true\"\n",
    "|\u003e assume_rule_bk\n",
    "|\u003e view\n",
    "|\u003e loc_thm |\u003e Option.get\n",
    "\n",
    "//val it : thm = |- !p. p /\\ true \u003c=\u003e p\n"
   ]
  }
,
  {
   "cell_type": "markdown",
   "metadata": {},
   
   "source": [
    "$\\small{ \t\\color{green}{\\dfrac\n",
    "{p:bool\n",
    "\\qquad\n",
    "\\color{green}{\\dfrac\n",
    "{\\color{green}{\\dfrac\n",
    "{\\color{green}{\\dfrac\n",
    "{p:bool}\n",
    "{p\\ \\vdash\\ p}\n",
    "\\textsf{ assume_rule}}\n",
    "\\qquad\n",
    "\\dfrac\n",
    "{}\n",
    "{\\vdash\\ \\top}\n",
    "\\textsf{ truth_thm}}\n",
    "{p\\ \\vdash\\ p\\ \\wedge\\ \\top}\n",
    "\\textsf{ conj_rule}}\n",
    "\\qquad\n",
    "\\color{green}{\\dfrac\n",
    "{\\color{green}{\\dfrac\n",
    "{p\\ \\wedge\\ \\top}\n",
    "{p\\ \\wedge\\ \\top\\ \\vdash\\ p\\ \\wedge\\ \\top}\n",
    "\\textsf{ assume_rule}}}\n",
    "{p\\ \\wedge\\ \\top\\ \\vdash\\ p}\n",
    "\\textsf{ conjunct1_rule}}}\n",
    "{\\vdash\\ p\\ \\wedge\\ \\top\\ \\Leftrightarrow\\ p}\n",
    "\\textsf{ deduct_antisym_rule}}}\n",
    "{\\vdash\\ \\forall\\ p.\\ p\\ \\wedge\\ \\top\\ \\Leftrightarrow\\ p}\n",
    "\\textsf{ gen_rule}} }$\n",
    "\n",
    "Forward proof with tree\n",
    "\n"
   ]
  }
,
  {
   "cell_type": "code",
   "metadata": {
    "dotnet_interactive": {
     "language": "fsharp"
    },
    "polyglot_notebook": {
     "kernelName": "fsharp"
    }
   },
   "execution_count": null, "outputs": [],
   "source": [
    "gen_rule_fd p\n",
    "    (deduct_antisym_rule_fd\n",
    "        (* p |- p /\\ true *)\n",
    "        (conj_rule_fd (p |\u003e assume_rule_fd) (truth_thm |\u003e thm_fd \"truth_thm\"))\n",
    "        (* p /\\ true |- p *)\n",
    "        (conjunct1_rule_fd (@\"p /\\ true\" |\u003e parse_term |\u003e assume_rule_fd))\n",
    "    )\n",
    "|\u003e zipper\n",
    "|\u003e view\n",
    "|\u003e loc_thm |\u003e Option.get\n",
    "\n",
    "//val it : thm = |- !p. p /\\ true \u003c=\u003e p\n"
   ]
  }
,
  {
   "cell_type": "markdown",
   "metadata": {},
   
   "source": [
    "Classic forward proof without tree\n",
    "\n"
   ]
  }
,
  {
   "cell_type": "code",
   "metadata": {
    "dotnet_interactive": {
     "language": "fsharp"
    },
    "polyglot_notebook": {
     "kernelName": "fsharp"
    }
   },
   "execution_count": null, "outputs": [],
   "source": [
    "gen_rule p\n",
    "    (deduct_antisym_rule\n",
    "      (conj_rule (assume_rule p) truth_thm)\n",
    "      (conjunct1_rule (assume_rule (parse_term(@\"p /\\ true\")))) )\n",
    "\n",
    "//val it : thm = |- !p. p /\\ true \u003c=\u003e p\n"
   ]
  }
 ],
 "metadata": {
  "kernelspec": {
   "display_name": ".NET (F#)",
   "language": "F#",
   "name": ".net-fsharp"
  },
  "language_info": {
   "file_extension": ".fs",
   "mimetype": "text/x-fsharp",
   "name": "polyglot-notebook",
   "pygments_lexer": "fsharp"
  },
  "polyglot_notebook": {
   "kernelInfo": {
    "defaultKernelName": "fsharp",
    "items": [
     {
      "aliases": [],
      "languageName": "fsharp",
      "name": "fsharp"
     }
    ]
   }
  }
 },
 "nbformat": 4,
 "nbformat_minor": 2
}

