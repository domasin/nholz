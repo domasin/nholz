
{
 "cells": [
  {
   "cell_type": "markdown",
   "metadata": {},
   
   "source": [
    "# Vero\n",
    "\n",
    "$\\vdash \\top$\n",
    "\n"
   ]
  }
,
  {
   "cell_type": "code",
   "metadata": {
    "dotnet_interactive": {
     "language": "fsharp"
    },
    "polyglot_notebook": {
     "kernelName": "fsharp"
    }
   },
   "execution_count": 2, "outputs": [
          {
           "data": {
            "text/plain": ["val it: thm = |- true"]
        },
           "execution_count": 2,
           "metadata": {},
           "output_type": "execute_result"
          }],
   "source": [
    "truth_thm\n"
   ]
  }
,
  {
   "cell_type": "markdown",
   "metadata": {},
   
   "source": [
    "Backward proof with tree\n",
    "\n"
   ]
  }
,
  {
   "cell_type": "code",
   "metadata": {
    "dotnet_interactive": {
     "language": "fsharp"
    },
    "polyglot_notebook": {
     "kernelName": "fsharp"
    }
   },
   "execution_count": 3, "outputs": [],
   "source": [
    "([],\"true\")\n",
    "|\u003e start_proof\n",
    "(* |- true                        *)\n",
    "|\u003e eq_mp_rule_bk [] [] \"(\\(p:bool). p) = \\p. p\"\n",
    "    (* |- (\\p. p) = (\\p. p) \u003c=\u003e true  *)\n",
    "    |\u003e sym_rule_bk\n",
    "        (* |- true \u003c=\u003e (\\(p:bool). p) = (\\p. p) *)\n",
    "        |\u003e by true_def \"true_def\"\n",
    "    (* |- (\\p. p) = (\\p. p)           *)\n",
    "    |\u003e refl_conv_bk\n",
    "|\u003e view\n",
    "|\u003e loc_thm |\u003e Option.get\n",
    "\n",
    "// val it : thm = |- true\n"
   ]
  }
,
  {
   "cell_type": "markdown",
   "metadata": {},
   
   "source": [
    "$\\small{ \t\\color{green}{\\dfrac\n",
    "{\\color{green}{\\dfrac\n",
    "{\\dfrac\n",
    "{}\n",
    "{\\vdash\\ \\top\\ \\Leftrightarrow\\ (\\lambda\\ (p:bool).\\ p)\\ =\\ (\\lambda\\ p.\\ p)}\n",
    "\\textsf{ true_def}}\n",
    "{\\vdash\\ (\\lambda\\ (p:bool).\\ p)\\ =\\ (\\lambda\\ p.\\ p)\\ \\Leftrightarrow\\ \\top}\n",
    "\\textsf{ sym_rule}}\n",
    "\\qquad\n",
    "\\color{green}{\\dfrac\n",
    "{\\lambda\\ (p:bool).\\ p}\n",
    "{\\vdash\\ (\\lambda\\ (p:bool).\\ p)\\ =\\ (\\lambda\\ p.\\ p)}\n",
    "\\textsf{ refl_conv}}}\n",
    "{\\vdash\\ \\top}\n",
    "\\textsf{ eq_mp_rule}} }$\n",
    "\n",
    "Forward proof with tree\n",
    "\n"
   ]
  }
,
  {
   "cell_type": "code",
   "metadata": {
    "dotnet_interactive": {
     "language": "fsharp"
    },
    "polyglot_notebook": {
     "kernelName": "fsharp"
    }
   },
   "execution_count": 4, "outputs": [],
   "source": [
    "//(* |- true                        *)\n",
    "eq_mp_rule_fd\n",
    "    (* |- (\\p. p) = (\\p. p) \u003c=\u003e true  *)\n",
    "    (sym_rule_fd (true_def |\u003e thm_fd \"true\\_def\"))\n",
    "    (* |- (\\p. p) = (\\p. p)           *)\n",
    "    (refl_conv_fd (parse_term(@\"\\(p:bool).p\")))\n",
    "|\u003e zipper |\u003e view |\u003e loc_thm |\u003e Option.get\n",
    "\n",
    "//val it : thm = |- true\n"
   ]
  }
,
  {
   "cell_type": "markdown",
   "metadata": {},
   
   "source": [
    "Classic forward proof without tree\n",
    "\n"
   ]
  }
,
  {
   "cell_type": "code",
   "metadata": {
    "dotnet_interactive": {
     "language": "fsharp"
    },
    "polyglot_notebook": {
     "kernelName": "fsharp"
    }
   },
   "execution_count": 5, "outputs": [],
   "source": [
    "//(* |- true                        *)\n",
    "eq_mp_rule\n",
    "    (* |- (\\p. p) = (\\p. p) \u003c=\u003e true  *)\n",
    "    (sym_rule true_def)\n",
    "    (* |- (\\p. p) = (\\p. p)           *)\n",
    "    (refl_conv (parse_term(@\"\\(p:bool).p\")))\n",
    "\n",
    "// val it : thm = |- true\n"
   ]
  }
 ],
 "metadata": {
  "kernelspec": {
   "display_name": ".NET (F#)",
   "language": "F#",
   "name": ".net-fsharp"
  },
  "language_info": {
   "file_extension": ".fs",
   "mimetype": "text/x-fsharp",
   "name": "polyglot-notebook",
   "pygments_lexer": "fsharp"
  },
  "polyglot_notebook": {
   "kernelInfo": {
    "defaultKernelName": "fsharp",
    "items": [
     {
      "aliases": [],
      "languageName": "fsharp",
      "name": "fsharp"
     }
    ]
   }
  }
 },
 "nbformat": 4,
 "nbformat_minor": 2
}

