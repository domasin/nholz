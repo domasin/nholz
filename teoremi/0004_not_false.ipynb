
{
 "cells": [
  {
   "cell_type": "markdown",
   "metadata": {},
   
   "source": [
    "# Non falso equivale a vero\n",
    "\n",
    "$\\vdash \\neg \\bot \\Leftrightarrow \\top$\n",
    "\n"
   ]
  }
,
  {
   "cell_type": "code",
   "metadata": {
    "dotnet_interactive": {
     "language": "fsharp"
    },
    "polyglot_notebook": {
     "kernelName": "fsharp"
    }
   },
   "execution_count": null, "outputs": [],
   "source": [
    "not_false_thm\n",
    "//   |- ~ false \u003c=\u003e true\n"
   ]
  }
,
  {
   "cell_type": "markdown",
   "metadata": {},
   
   "source": [
    "Backward proof with tree\n",
    "\n"
   ]
  }
,
  {
   "cell_type": "code",
   "metadata": {
    "dotnet_interactive": {
     "language": "fsharp"
    },
    "polyglot_notebook": {
     "kernelName": "fsharp"
    }
   },
   "execution_count": null, "outputs": [],
   "source": [
    "([],\"~ false \u003c=\u003e true\")\n",
    "|\u003e start_proof\n",
    "|\u003e deduct_antisym_rule_bk [] []\n",
    "    |\u003e add_asm_rule_bk 0\n",
    "        |\u003e not_intro_rule_bk\n",
    "            |\u003e disch_rule_bk\n",
    "                |\u003e assume_rule_bk\n",
    "    |\u003e add_asm_rule_bk 0        \n",
    "        |\u003e by truth_thm \"truth_thm\"\n",
    "|\u003e view\n",
    "|\u003e loc_thm |\u003e Option.get\n",
    "\n",
    "//val it : thm = |- ~ false \u003c=\u003e true\n"
   ]
  }
,
  {
   "cell_type": "markdown",
   "metadata": {},
   
   "source": [
    "$\\small{ \t\\color{green}{\\dfrac\n",
    "{\\color{green}{\\dfrac\n",
    "{\\top\n",
    "\\qquad\n",
    "\\color{green}{\\dfrac\n",
    "{\\color{green}{\\dfrac\n",
    "{\\bot\n",
    "\\qquad\n",
    "\\color{green}{\\dfrac\n",
    "{\\bot}\n",
    "{\\bot\\ \\vdash\\ \\bot}\n",
    "\\textsf{ assume_rule}}}\n",
    "{\\vdash\\ \\bot\\ \\Rightarrow\\ \\bot}\n",
    "\\textsf{ disch_rule}}}\n",
    "{\\vdash\\ \\neg\\ \\bot}\n",
    "\\textsf{ not_intro_rule}}}\n",
    "{\\top\\ \\vdash\\ \\neg\\ \\bot}\n",
    "\\textsf{ add_asm_rule}}\n",
    "\\qquad\n",
    "\\color{green}{\\dfrac\n",
    "{\\neg\\ \\bot\n",
    "\\qquad\n",
    "\\dfrac\n",
    "{}\n",
    "{\\vdash\\ \\top}\n",
    "\\textsf{ truth_thm}}\n",
    "{\\neg\\ \\bot\\ \\vdash\\ \\top}\n",
    "\\textsf{ add_asm_rule}}}\n",
    "{\\vdash\\ \\neg\\ \\bot\\ \\Leftrightarrow\\ \\top}\n",
    "\\textsf{ deduct_antisym_rule}} }$\n",
    "\n",
    "Forward proof with tree\n",
    "\n",
    "(`deduct_antisym_rule_fd` can be applied without assumptions.)\n",
    "\n"
   ]
  }
,
  {
   "cell_type": "code",
   "metadata": {
    "dotnet_interactive": {
     "language": "fsharp"
    },
    "polyglot_notebook": {
     "kernelName": "fsharp"
    }
   },
   "execution_count": null, "outputs": [],
   "source": [
    "//(* |- ~ false \u003c=\u003e true         *)\n",
    "deduct_antisym_rule_fd\n",
    "  (* |- ~ false            *)\n",
    "  (not_intro_rule_fd (disch_rule_fd (parse_term(@\"false\")) (assume_rule_fd (parse_term(@\"false\")))))\n",
    "  (* |- true               *)\n",
    "  (truth_thm |\u003e thm_fd \"truth_thm\")\n",
    "|\u003e zipper |\u003e view |\u003e loc_thm |\u003e Option.get\n",
    "\n",
    "//val it : thm = |- ~ false \u003c=\u003e true\n"
   ]
  }
,
  {
   "cell_type": "markdown",
   "metadata": {},
   
   "source": [
    "$\\small{ \t\\color{green}{\\dfrac\n",
    "{\\color{green}{\\dfrac\n",
    "{\\color{green}{\\dfrac\n",
    "{\\bot\n",
    "\\qquad\n",
    "\\color{green}{\\dfrac\n",
    "{\\bot}\n",
    "{\\bot\\ \\vdash\\ \\bot}\n",
    "\\textsf{ assume_rule}}}\n",
    "{\\vdash\\ \\bot\\ \\Rightarrow\\ \\bot}\n",
    "\\textsf{ disch_rule}}}\n",
    "{\\vdash\\ \\neg\\ \\bot}\n",
    "\\textsf{ not_intro_rule}}\n",
    "\\qquad\n",
    "\\dfrac\n",
    "{}\n",
    "{\\vdash\\ \\top}\n",
    "\\textsf{ truth_thm}}\n",
    "{\\vdash\\ \\neg\\ \\bot\\ \\Leftrightarrow\\ \\top}\n",
    "\\textsf{ deduct_antisym_rule}} }$\n",
    "\n",
    "Classic forward proof without tree\n",
    "\n"
   ]
  }
,
  {
   "cell_type": "code",
   "metadata": {
    "dotnet_interactive": {
     "language": "fsharp"
    },
    "polyglot_notebook": {
     "kernelName": "fsharp"
    }
   },
   "execution_count": null, "outputs": [],
   "source": [
    "//(* |- ~ false \u003c=\u003e true         *)\n",
    "deduct_antisym_rule\n",
    "  (* |- ~ false            *)\n",
    "  (not_intro_rule (disch_rule (parse_term(@\"false\")) (assume_rule (parse_term(@\"false\")))))\n",
    "  (* |- true               *)\n",
    "  truth_thm\n",
    "\n",
    "//val it : thm = |- ~ false \u003c=\u003e true\n"
   ]
  }
 ],
 "metadata": {
  "kernelspec": {
   "display_name": ".NET (F#)",
   "language": "F#",
   "name": ".net-fsharp"
  },
  "language_info": {
   "file_extension": ".fs",
   "mimetype": "text/x-fsharp",
   "name": "polyglot-notebook",
   "pygments_lexer": "fsharp"
  },
  "polyglot_notebook": {
   "kernelInfo": {
    "defaultKernelName": "fsharp",
    "items": [
     {
      "aliases": [],
      "languageName": "fsharp",
      "name": "fsharp"
     }
    ]
   }
  }
 },
 "nbformat": 4,
 "nbformat_minor": 2
}

