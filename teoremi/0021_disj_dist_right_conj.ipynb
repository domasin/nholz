
{
 "cells": [
  {
   "cell_type": "code",
   "metadata": {
    "dotnet_interactive": {
     "language": "fsharp"
    },
    "polyglot_notebook": {
     "kernelName": "fsharp"
    }
   },
   "execution_count": 2, "outputs": [],
   "source": [
    "disj_dist_right_conj_thm\n",
    "\n",
    "([],\"!p q r. p \\/ (q /\\ r) \u003c=\u003e (p \\/ q) /\\ (p \\/ r)\")\n",
    "|\u003e start_proof\n",
    "|\u003e list_gen_rule_bk\n",
    "|\u003e deduct_antisym_rule_bk [] []\n",
    "|\u003e disj_cases_rule_bk [0] [] [0] \"p:bool\" \"q:bool\"\n",
    "|\u003e conjunct1_rule_bk \"p \\/ r\"\n",
    "|\u003e assume_rule_bk\n",
    "|\u003e disj1_rule_bk\n",
    "|\u003e assume_rule_bk\n",
    "|\u003e disj_cases_rule_bk [0] [] [1] \"p:bool\" \"r:bool\"\n",
    "|\u003e conjunct2_rule_bk \"p \\/ q\"\n",
    "|\u003e assume_rule_bk\n",
    "|\u003e disj1_rule_bk\n",
    "|\u003e assume_rule_bk\n",
    "|\u003e disj2_rule_bk\n",
    "|\u003e conj_rule_bk [0] [1]\n",
    "|\u003e assume_rule_bk\n",
    "|\u003e assume_rule_bk\n",
    "|\u003e disj_cases_rule_bk [0] [] [] \"p:bool\" \"q /\\ r\"\n",
    "|\u003e assume_rule_bk\n",
    "|\u003e conj_rule_bk [0] [0]\n",
    "|\u003e disj1_rule_bk\n",
    "|\u003e assume_rule_bk\n",
    "|\u003e disj1_rule_bk\n",
    "|\u003e assume_rule_bk\n",
    "|\u003e conj_rule_bk [0] [0]\n",
    "|\u003e disj2_rule_bk\n",
    "|\u003e conjunct1_rule_bk \"r:bool\"\n",
    "|\u003e assume_rule_bk\n",
    "|\u003e disj2_rule_bk\n",
    "|\u003e conjunct2_rule_bk \"q:bool\"\n",
    "|\u003e assume_rule_bk\n",
    "\n",
    "|\u003e view\n"
   ]
  }
 ],
 "metadata": {
  "kernelspec": {
   "display_name": ".NET (F#)",
   "language": "F#",
   "name": ".net-fsharp"
  },
  "language_info": {
   "file_extension": ".fs",
   "mimetype": "text/x-fsharp",
   "name": "polyglot-notebook",
   "pygments_lexer": "fsharp"
  },
  "polyglot_notebook": {
   "kernelInfo": {
    "defaultKernelName": "fsharp",
    "items": [
     {
      "aliases": [],
      "languageName": "fsharp",
      "name": "fsharp"
     }
    ]
   }
  }
 },
 "nbformat": 4,
 "nbformat_minor": 2
}

