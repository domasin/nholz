
{
 "cells": [
  {
   "cell_type": "code",
   "metadata": {
    "dotnet_interactive": {
     "language": "fsharp"
    },
    "polyglot_notebook": {
     "kernelName": "fsharp"
    }
   },
   "execution_count": 2, "outputs": [],
   "source": [
    "forall_dist_conj_thm\n",
    "\n",
    "([],\"!P Q. (!x. P x /\\ Q x) \u003c=\u003e (!x. P x) /\\ (!x. Q x)\")\n",
    "|\u003e start_proof\n",
    "|\u003e list_gen_rule_bk\n",
    "|\u003e deduct_antisym_rule_bk [] []\n",
    "|\u003e gen_rule_bk\n",
    "|\u003e conj_rule_bk [0] [0]\n",
    "|\u003e spec_rule_bk (\"x:1\",\"x:1\")\n",
    "|\u003e conjunct1_rule_bk \"!(x:1). Q x\"\n",
    "|\u003e assume_rule_bk\n",
    "|\u003e spec_rule_bk (\"x:1\",\"x:1\")\n",
    "|\u003e conjunct2_rule_bk \"!(x:1). P x\"\n",
    "|\u003e assume_rule_bk\n",
    "|\u003e conj_rule_bk [0] [0]\n",
    "|\u003e gen_rule_bk\n",
    "|\u003e conjunct1_rule_bk \"(Q:1 -\u003e bool) (x:1)\"\n",
    "|\u003e spec_rule_bk (\"x:1\",\"x:1\")\n",
    "|\u003e assume_rule_bk\n",
    "|\u003e gen_rule_bk\n",
    "|\u003e conjunct2_rule_bk \"(P:1 -\u003e bool) (x:1)\"\n",
    "|\u003e spec_rule_bk (\"x:1\",\"x:1\")\n",
    "|\u003e assume_rule_bk\n",
    "\n",
    "|\u003e view\n"
   ]
  }
 ],
 "metadata": {
  "kernelspec": {
   "display_name": ".NET (F#)",
   "language": "F#",
   "name": ".net-fsharp"
  },
  "language_info": {
   "file_extension": ".fs",
   "mimetype": "text/x-fsharp",
   "name": "polyglot-notebook",
   "pygments_lexer": "fsharp"
  },
  "polyglot_notebook": {
   "kernelInfo": {
    "defaultKernelName": "fsharp",
    "items": [
     {
      "aliases": [],
      "languageName": "fsharp",
      "name": "fsharp"
     }
    ]
   }
  }
 },
 "nbformat": 4,
 "nbformat_minor": 2
}

