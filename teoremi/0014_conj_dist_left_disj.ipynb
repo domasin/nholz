
{
 "cells": [
  {
   "cell_type": "markdown",
   "metadata": {},
   
   "source": [
    "# distributivit\u0026agrave; a sinistra della congiunzione sulla disgiunzione\n",
    "\n",
    "$\\forall p\\ q\\ r.\\ (p \\vee q) \\wedge r \\Leftrightarrow (p \\wedge r) \\vee (q \\wedge r)$\n",
    "\n"
   ]
  }
,
  {
   "cell_type": "code",
   "metadata": {
    "dotnet_interactive": {
     "language": "fsharp"
    },
    "polyglot_notebook": {
     "kernelName": "fsharp"
    }
   },
   "execution_count": null, "outputs": [],
   "source": [
    "conj_dist_left_disj_thm\n",
    "//   |- !p q r. (p \\/ q) /\\ r \u003c=\u003e (p /\\ r) \\/ (q /\\ r)\n"
   ]
  }
,
  {
   "cell_type": "markdown",
   "metadata": {},
   
   "source": [
    "Backward proof with tree\n",
    "\n"
   ]
  }
,
  {
   "cell_type": "code",
   "metadata": {
    "dotnet_interactive": {
     "language": "fsharp"
    },
    "polyglot_notebook": {
     "kernelName": "fsharp"
    }
   },
   "execution_count": null, "outputs": [],
   "source": [
    "([],\"!p q r. (p \\/ q) /\\ r \u003c=\u003e (p /\\ r) \\/ (q /\\ r)\")\n",
    "|\u003e start_proof\n",
    "|\u003e list_gen_rule_bk\n",
    "|\u003e trans_rule_bk \"(r /\\ p) \\/ (r /\\ q)\"\n",
    "|\u003e trans_rule_bk \"r /\\ (p \\/ q)\"\n",
    "|\u003e list_spec_rule_bk [(\"p \\/ q\",\"p:bool\"); (\"r:bool\",\"q:bool\")]\n",
    "|\u003e by conj_comm_thm \"conj_comm_thm\"\n",
    "|\u003e list_spec_rule_bk [(\"r:bool\",\"p:bool\"); (\"p:bool\",\"q:bool\"); (\"q:bool\",\"r:bool\")]\n",
    "|\u003e by conj_dist_right_disj_thm \"conj_dist_right_disj_thm\"\n",
    "|\u003e mk_bin_rule_bk [] []\n",
    "|\u003e list_spec_rule_bk [(\"r:bool\",\"p:bool\"); (\"p:bool\",\"q:bool\")]\n",
    "|\u003e by conj_comm_thm \"conj_comm_thm\"\n",
    "|\u003e list_spec_rule_bk [(\"r:bool\",\"p:bool\"); (\"q:bool\",\"q:bool\")]\n",
    "|\u003e by conj_comm_thm \"conj_comm_thm\"\n",
    "|\u003e view\n"
   ]
  }
,
  {
   "cell_type": "markdown",
   "metadata": {},
   
   "source": [
    "$\\small{ \t\\color{green}{\\dfrac\n",
    "{[p:bool;q:bool;r:bool]\n",
    "\\qquad\n",
    "\\color{green}{\\dfrac\n",
    "{\\color{green}{\\dfrac\n",
    "{\\color{green}{\\dfrac\n",
    "{[p\\ \\vee\\ q;r:bool]\n",
    "\\qquad\n",
    "\\dfrac\n",
    "{}\n",
    "{\\vdash\\ \\forall\\ p\\ q.\\ p\\ \\wedge\\ q\\ \\Leftrightarrow\\ q\\ \\wedge\\ p}\n",
    "\\textsf{ conj_comm_thm}}\n",
    "{\\vdash\\ (p\\ \\vee\\ q)\\ \\wedge\\ r\\ \\Leftrightarrow\\ r\\ \\wedge\\ (p\\ \\vee\\ q)}\n",
    "\\textsf{ list_spec_rule}}\n",
    "\\qquad\n",
    "\\color{green}{\\dfrac\n",
    "{[r:bool;p:bool;q:bool]\n",
    "\\qquad\n",
    "\\dfrac\n",
    "{}\n",
    "{\\vdash\\ \\forall\\ p\\ q\\ r.\\ p\\ \\wedge\\ (q\\ \\vee\\ r)\\ \\Leftrightarrow\\ p\\ \\wedge\\ q\\ \\vee\\ p\\ \\wedge\\ r}\n",
    "\\textsf{ conj_dist_right_disj_thm}}\n",
    "{\\vdash\\ r\\ \\wedge\\ (p\\ \\vee\\ q)\\ \\Leftrightarrow\\ r\\ \\wedge\\ p\\ \\vee\\ r\\ \\wedge\\ q}\n",
    "\\textsf{ list_spec_rule}}}\n",
    "{\\vdash\\ (p\\ \\vee\\ q)\\ \\wedge\\ r\\ \\Leftrightarrow\\ r\\ \\wedge\\ p\\ \\vee\\ r\\ \\wedge\\ q}\n",
    "\\textsf{ trans_rule}}\n",
    "\\qquad\n",
    "\\color{green}{\\dfrac\n",
    "{\\$\\vee\n",
    "\\qquad\n",
    "\\color{green}{\\dfrac\n",
    "{[r:bool;p:bool]\n",
    "\\qquad\n",
    "\\dfrac\n",
    "{}\n",
    "{\\vdash\\ \\forall\\ p\\ q.\\ p\\ \\wedge\\ q\\ \\Leftrightarrow\\ q\\ \\wedge\\ p}\n",
    "\\textsf{ conj_comm_thm}}\n",
    "{\\vdash\\ r\\ \\wedge\\ p\\ \\Leftrightarrow\\ p\\ \\wedge\\ r}\n",
    "\\textsf{ list_spec_rule}}\n",
    "\\qquad\n",
    "\\color{green}{\\dfrac\n",
    "{[r:bool;q:bool]\n",
    "\\qquad\n",
    "\\dfrac\n",
    "{}\n",
    "{\\vdash\\ \\forall\\ p\\ q.\\ p\\ \\wedge\\ q\\ \\Leftrightarrow\\ q\\ \\wedge\\ p}\n",
    "\\textsf{ conj_comm_thm}}\n",
    "{\\vdash\\ r\\ \\wedge\\ q\\ \\Leftrightarrow\\ q\\ \\wedge\\ r}\n",
    "\\textsf{ list_spec_rule}}}\n",
    "{\\vdash\\ r\\ \\wedge\\ p\\ \\vee\\ r\\ \\wedge\\ q\\ \\Leftrightarrow\\ p\\ \\wedge\\ r\\ \\vee\\ q\\ \\wedge\\ r}\n",
    "\\textsf{ mk_bin_rule}}}\n",
    "{\\vdash\\ (p\\ \\vee\\ q)\\ \\wedge\\ r\\ \\Leftrightarrow\\ p\\ \\wedge\\ r\\ \\vee\\ q\\ \\wedge\\ r}\n",
    "\\textsf{ trans_rule}}}\n",
    "{\\vdash\\ \\forall\\ p\\ q\\ r.\\ (p\\ \\vee\\ q)\\ \\wedge\\ r\\ \\Leftrightarrow\\ p\\ \\wedge\\ r\\ \\vee\\ q\\ \\wedge\\ r}\n",
    "\\textsf{ list_gen_rule}} }$\n",
    "\n"
   ]
  }
,
  {
   "cell_type": "code",
   "metadata": {
    "dotnet_interactive": {
     "language": "fsharp"
    },
    "polyglot_notebook": {
     "kernelName": "fsharp"
    }
   },
   "execution_count": null, "outputs": [],
   "source": [
    "it\n",
    "|\u003e root\n",
    "|\u003e linearizeProof\n",
    "\n",
    "// 0    |- !p q. p /\\ q \u003c=\u003e q /\\ p                            conj_comm_thm                       \n",
    "// 1    |- (p \\/ q) /\\ r \u003c=\u003e r /\\ (p \\/ q)                    list_spec_rule            0         \n",
    "// 2    |- !p q r. p /\\ (q \\/ r) \u003c=\u003e p /\\ q \\/ p /\\ r         conj_dist_right_disj_thm            \n",
    "// 3    |- r /\\ (p \\/ q) \u003c=\u003e r /\\ p \\/ r /\\ q                 list_spec_rule            2         \n",
    "// 4    |- (p \\/ q) /\\ r \u003c=\u003e r /\\ p \\/ r /\\ q                 trans_rule                1,3       \n",
    "// 5    |- !p q. p /\\ q \u003c=\u003e q /\\ p                            conj_comm_thm                       \n",
    "// 6    |- r /\\ p \u003c=\u003e p /\\ r                                  list_spec_rule            5         \n",
    "// 7    |- !p q. p /\\ q \u003c=\u003e q /\\ p                            conj_comm_thm                       \n",
    "// 8    |- r /\\ q \u003c=\u003e q /\\ r                                  list_spec_rule            7         \n",
    "// 9    |- r /\\ p \\/ r /\\ q \u003c=\u003e p /\\ r \\/ q /\\ r              mk_bin_rule               6,8       \n",
    "// 10   |- (p \\/ q) /\\ r \u003c=\u003e p /\\ r \\/ q /\\ r                 trans_rule                4,9       \n",
    "// 11   |- !p q r. (p \\/ q) /\\ r \u003c=\u003e p /\\ r \\/ q /\\ r         list_gen_rule             10        \n"
   ]
  }
,
  {
   "cell_type": "markdown",
   "metadata": {},
   
   "source": [
    "Forward proof with tree\n",
    "\n"
   ]
  }
,
  {
   "cell_type": "code",
   "metadata": {
    "dotnet_interactive": {
     "language": "fsharp"
    },
    "polyglot_notebook": {
     "kernelName": "fsharp"
    }
   },
   "execution_count": null, "outputs": [],
   "source": [
    "list_gen_rule_fd [p;q;r]\n",
    "    (list_trans_rule_fd\n",
    "       [ list_spec_rule_fd [(parse_term(@\"p\\/q\"));r] (conj_comm_thm |\u003e thm_fd \"conj_comm_thm\");\n",
    "         list_spec_rule_fd [r;p;q] (conj_dist_right_disj_thm |\u003e thm_fd \"conj_dist_right_disj_thm\");\n",
    "         mk_bin_rule_fd (parse_term(@\"$\\/\"))\n",
    "           (list_spec_rule_fd [r;p] (conj_comm_thm |\u003e thm_fd \"conj_comm_thm\"))\n",
    "           (list_spec_rule_fd [r;q] (conj_comm_thm |\u003e thm_fd \"conj_comm_thm\")) ])\n",
    "|\u003e zipper\n",
    "|\u003e view\n"
   ]
  }
,
  {
   "cell_type": "markdown",
   "metadata": {},
   
   "source": [
    "Classic forward proof without tree\n",
    "\n"
   ]
  }
,
  {
   "cell_type": "code",
   "metadata": {
    "dotnet_interactive": {
     "language": "fsharp"
    },
    "polyglot_notebook": {
     "kernelName": "fsharp"
    }
   },
   "execution_count": null, "outputs": [],
   "source": [
    "list_gen_rule [p;q;r]\n",
    "  (list_trans_rule\n",
    "     [ list_spec_rule [(parse_term(@\"p\\/q\"));r] conj_comm_thm;\n",
    "       list_spec_rule [r;p;q] conj_dist_right_disj_thm;\n",
    "       mk_bin_rule (parse_term(@\"$\\/\"))\n",
    "         (list_spec_rule [r;p] conj_comm_thm)\n",
    "         (list_spec_rule [r;q] conj_comm_thm) ])\n"
   ]
  }
 ],
 "metadata": {
  "kernelspec": {
   "display_name": ".NET (F#)",
   "language": "F#",
   "name": ".net-fsharp"
  },
  "language_info": {
   "file_extension": ".fs",
   "mimetype": "text/x-fsharp",
   "name": "polyglot-notebook",
   "pygments_lexer": "fsharp"
  },
  "polyglot_notebook": {
   "kernelInfo": {
    "defaultKernelName": "fsharp",
    "items": [
     {
      "aliases": [],
      "languageName": "fsharp",
      "name": "fsharp"
     }
    ]
   }
  }
 },
 "nbformat": 4,
 "nbformat_minor": 2
}

