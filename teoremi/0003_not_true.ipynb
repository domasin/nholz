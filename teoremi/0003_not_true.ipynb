
{
 "cells": [
  {
   "cell_type": "markdown",
   "metadata": {},
   
   "source": [
    "# Non vero equivale a falso\n",
    "\n",
    "$\\vdash \\neg \\top \\Leftrightarrow \\bot$\n",
    "\n"
   ]
  }
,
  {
   "cell_type": "code",
   "metadata": {
    "dotnet_interactive": {
     "language": "fsharp"
    },
    "polyglot_notebook": {
     "kernelName": "fsharp"
    }
   },
   "execution_count": null, "outputs": [],
   "source": [
    "not_true_thm\n",
    "//   |- ~ true \u003c=\u003e false\n"
   ]
  }
,
  {
   "cell_type": "markdown",
   "metadata": {},
   
   "source": [
    "Backward proof with tree\n",
    "\n"
   ]
  }
,
  {
   "cell_type": "code",
   "metadata": {
    "dotnet_interactive": {
     "language": "fsharp"
    },
    "polyglot_notebook": {
     "kernelName": "fsharp"
    }
   },
   "execution_count": null, "outputs": [],
   "source": [
    "([],@\"~ true \u003c=\u003e false\")\n",
    "|\u003e start_proof\n",
    "(* |- ~ true \u003c=\u003e false         *)\n",
    "|\u003e deduct_antisym_rule_bk [] []\n",
    "    (* false |- ~ true             *)\n",
    "    |\u003e contr_rule_bk\n",
    "        |\u003e assume_rule_bk\n",
    "    (* ~ true |- false             *)\n",
    "    |\u003e eq_mp_rule_bk [0] [] \"true\"\n",
    "            (* ~ true |- true \u003c=\u003e false    *)\n",
    "            |\u003e eqf_intro_rule_bk\n",
    "                |\u003e assume_rule_bk\n",
    "            (* |- true  *)\n",
    "            |\u003e by truth_thm \"truth_thm\"\n",
    "|\u003e view\n",
    "|\u003e loc_thm |\u003e Option.get\n",
    "\n",
    "//val it : thm = |- ~ true \u003c=\u003e false\n"
   ]
  }
,
  {
   "cell_type": "markdown",
   "metadata": {},
   
   "source": [
    "$\\small{ \t\\color{green}{\\dfrac\n",
    "{\\color{green}{\\dfrac\n",
    "{\\neg\\ \\top\n",
    "\\qquad\n",
    "\\color{green}{\\dfrac\n",
    "{\\bot}\n",
    "{\\bot\\ \\vdash\\ \\bot}\n",
    "\\textsf{ assume_rule}}}\n",
    "{\\bot\\ \\vdash\\ \\neg\\ \\top}\n",
    "\\textsf{ contr_rule}}\n",
    "\\qquad\n",
    "\\color{green}{\\dfrac\n",
    "{\\color{green}{\\dfrac\n",
    "{\\color{green}{\\dfrac\n",
    "{\\neg\\ \\top}\n",
    "{\\neg\\ \\top\\ \\vdash\\ \\neg\\ \\top}\n",
    "\\textsf{ assume_rule}}}\n",
    "{\\neg\\ \\top\\ \\vdash\\ \\top\\ \\Leftrightarrow\\ \\bot}\n",
    "\\textsf{ eqf_intro_rule}}\n",
    "\\qquad\n",
    "\\dfrac\n",
    "{}\n",
    "{\\vdash\\ \\top}\n",
    "\\textsf{ truth_thm}}\n",
    "{\\neg\\ \\top\\ \\vdash\\ \\bot}\n",
    "\\textsf{ eq_mp_rule}}}\n",
    "{\\vdash\\ \\neg\\ \\top\\ \\Leftrightarrow\\ \\bot}\n",
    "\\textsf{ deduct_antisym_rule}} }$\n",
    "\n",
    "Forward proof with tree\n",
    "\n"
   ]
  }
,
  {
   "cell_type": "code",
   "metadata": {
    "dotnet_interactive": {
     "language": "fsharp"
    },
    "polyglot_notebook": {
     "kernelName": "fsharp"
    }
   },
   "execution_count": null, "outputs": [],
   "source": [
    "//(* |- ~ true \u003c=\u003e false         *)\n",
    "deduct_antisym_rule_fd\n",
    "    (* false |- ~ true             *)\n",
    "    (contr_rule_fd (parse_term(@\"~ true\")) (assume_rule_fd (parse_term(@\"false\"))))\n",
    "    (* ~ true |- false             *)\n",
    "    (eq_mp_rule_fd\n",
    "        (* ~ true |- true \u003c=\u003e false    *)\n",
    "        (eqf_intro_rule_fd (assume_rule_fd (parse_term(@\"~ true\"))))\n",
    "        (truth_thm |\u003e thm_fd \"truth\\_thm\") )\n",
    "|\u003e zipper |\u003e view |\u003e loc_thm |\u003e Option.get\n"
   ]
  }
,
  {
   "cell_type": "markdown",
   "metadata": {},
   
   "source": [
    "Classic forward proof without tree\n",
    "\n"
   ]
  }
,
  {
   "cell_type": "code",
   "metadata": {
    "dotnet_interactive": {
     "language": "fsharp"
    },
    "polyglot_notebook": {
     "kernelName": "fsharp"
    }
   },
   "execution_count": null, "outputs": [],
   "source": [
    "//(* |- ~ true \u003c=\u003e false         *)\n",
    "deduct_antisym_rule\n",
    "  (* false |- ~ true             *)\n",
    "  (contr_rule (parse_term(@\"~ true\")) (assume_rule (parse_term(@\"false\"))))\n",
    "  (* ~ true |- false             *)\n",
    "  (eq_mp_rule\n",
    "    (* ~ true |- true \u003c=\u003e false    *)\n",
    "    (eqf_intro_rule (assume_rule (parse_term(@\"~ true\"))))\n",
    "    truth_thm )\n",
    "\n",
    "//val it : thm = |- ~ true \u003c=\u003e false\n"
   ]
  }
 ],
 "metadata": {
  "kernelspec": {
   "display_name": ".NET (F#)",
   "language": "F#",
   "name": ".net-fsharp"
  },
  "language_info": {
   "file_extension": ".fs",
   "mimetype": "text/x-fsharp",
   "name": "polyglot-notebook",
   "pygments_lexer": "fsharp"
  },
  "polyglot_notebook": {
   "kernelInfo": {
    "defaultKernelName": "fsharp",
    "items": [
     {
      "aliases": [],
      "languageName": "fsharp",
      "name": "fsharp"
     }
    ]
   }
  }
 },
 "nbformat": 4,
 "nbformat_minor": 2
}

