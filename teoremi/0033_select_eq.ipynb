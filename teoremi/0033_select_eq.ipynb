
{
 "cells": [
  {
   "cell_type": "code",
   "metadata": {
    "dotnet_interactive": {
     "language": "fsharp"
    },
    "polyglot_notebook": {
     "kernelName": "fsharp"
    }
   },
   "execution_count": 2, "outputs": [],
   "source": [
    "select_eq_thm\n",
    "\n",
    "([],\"!(a:\u0027a). (@x. x = a) = a\")\n",
    "|\u003e start_proof\n",
    "|\u003e gen_rule_bk\n",
    "|\u003e select_rule_bk \"?(x:a). x = a\"\n",
    "|\u003e exists_rule_bk \"a:a\"\n",
    "|\u003e refl_conv_bk\n",
    "\n",
    "|\u003e view\n",
    "\n",
    "let a = (parse_term(@\"a:\u0027a\"))\n",
    "\n",
    "gen_rule_fd a\n",
    "    (select_rule_fd\n",
    "      (* |- ?x. x = a      *)\n",
    "      (exists_rule_fd (parse_term(@\"?(x:\u0027a).x=a\")) a (refl_conv_fd a)) )\n",
    "|\u003e zipper\n",
    "|\u003e view\n"
   ]
  }
 ],
 "metadata": {
  "kernelspec": {
   "display_name": ".NET (F#)",
   "language": "F#",
   "name": ".net-fsharp"
  },
  "language_info": {
   "file_extension": ".fs",
   "mimetype": "text/x-fsharp",
   "name": "polyglot-notebook",
   "pygments_lexer": "fsharp"
  },
  "polyglot_notebook": {
   "kernelInfo": {
    "defaultKernelName": "fsharp",
    "items": [
     {
      "aliases": [],
      "languageName": "fsharp",
      "name": "fsharp"
     }
    ]
   }
  }
 },
 "nbformat": 4,
 "nbformat_minor": 2
}

