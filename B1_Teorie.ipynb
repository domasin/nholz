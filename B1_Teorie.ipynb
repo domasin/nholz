
{
 "cells": [
  {
   "cell_type": "markdown",
   "metadata": {},
   
   "source": [
    "# TEORIE\n",
    "\n",
    "## Teoria Core\n",
    "\n",
    "**Costani di Tipo**\n",
    "\n"
   ]
  }
,
  {
   "cell_type": "code",
   "metadata": {
    "dotnet_interactive": {
     "language": "fsharp"
    },
    "polyglot_notebook": {
     "kernelName": "fsharp"
    }
   },
   "execution_count": null, "outputs": [],
   "source": [
    "// bool             `:bool`                         Nonfix\n",
    "// -\u003e               `:\u00271-\u003e\u00272`                       Infix (5, RightAssoc)\n"
   ]
  }
,
  {
   "cell_type": "markdown",
   "metadata": {},
   
   "source": [
    "**Costanti**\n",
    "\n"
   ]
  }
,
  {
   "cell_type": "code",
   "metadata": {
    "dotnet_interactive": {
     "language": "fsharp"
    },
    "polyglot_notebook": {
     "kernelName": "fsharp"
    }
   },
   "execution_count": null, "outputs": [],
   "source": [
    "// true             `:bool`                         Nonfix\n",
    "// ==\u003e              `:bool-\u003ebool-\u003ebool`             Infix (10, RightAssoc)\n",
    "// /\\               `:bool-\u003ebool-\u003ebool`             Infix (20, RightAssoc)\n",
    "// =                `:\u0027a-\u003e\u0027a-\u003ebool`                 Infix (30, NonAssoc)\n",
    "// @                `:(\u0027a-\u003ebool)-\u003e\u0027a`               Binder\n",
    "// !                `:(\u0027a-\u003ebool)-\u003ebool`             Binder\n",
    "// ?                `:(\u0027a-\u003ebool)-\u003ebool`             Binder\n",
    "// ONE_ONE          `:(\u0027a-\u003e\u0027b)-\u003ebool`               Nonfix\n",
    "// TYPE_DEFINITION  `:(\u0027a-\u003ebool)-\u003e(\u0027b-\u003e\u0027a)-\u003ebool`   Nonfix\n"
   ]
  }
,
  {
   "cell_type": "markdown",
   "metadata": {},
   
   "source": [
    "**Costanti Alias**\n",
    "\n",
    "L\u0027unico alias supportato \u0026egrave; `\u003c=\u003e`, per un\u0027istanza di tipo di `=`.\n",
    "\n"
   ]
  }
,
  {
   "cell_type": "code",
   "metadata": {
    "dotnet_interactive": {
     "language": "fsharp"
    },
    "polyglot_notebook": {
     "kernelName": "fsharp"
    }
   },
   "execution_count": null, "outputs": [],
   "source": [
    "// \u003c=\u003e              `:bool-\u003ebool-\u003ebool`             Infix (5, NonAssoc)\n"
   ]
  }
,
  {
   "cell_type": "markdown",
   "metadata": {},
   
   "source": [
    "**Definizioni**\n",
    "\n"
   ]
  }
,
  {
   "cell_type": "code",
   "metadata": {
    "dotnet_interactive": {
     "language": "fsharp"
    },
    "polyglot_notebook": {
     "kernelName": "fsharp"
    }
   },
   "execution_count": null, "outputs": [],
   "source": [
    "true_def                                                  // istanza della proprieta\u0027 riflessiva di uguaglianza per la \n",
    "// |- true \u003c=\u003e (\\(p:bool). p) = (\\p. p)                   // funzione d\u0027identita\u0027 booleana\n",
    "\n",
    "conj_def                                                  // funzione binaria che restituisce se il fatto che i due \n",
    "// |- $/\\ = (\\p1 p2. !p. (p1 ==\u003e (p2 ==\u003e p)) ==\u003e p)       // argomenti inisieme implichino il valore, implica il valore\n",
    "\n",
    "forall_def                                                // funzione che restituisce se il predicato restituisce true per \n",
    "// |- $! = (\\(P:\u0027a-\u003ebool). P = (\\x. true))                // ogni input\n",
    "\n",
    "exists_def                                                // funzione che restituisce per un P se un qualsiasi elemento \n",
    "// |- $? = (\\(P:\u0027a-\u003ebool). P ($@ P))                      // selezionato come soddisfacente il predicato necessariamente  \n",
    "                                                          // soddisfa il predicato\n",
    "\n",
    "one_one_def                                               // funzione che restituisce se la funzione argomento e\u0027  \n",
    "// |- ONE_ONE =                                           // iniettiva, cioe\u0027 se l\u0027uguaglianza dei valori per due argomenti   \n",
    "//     (\\(f:\u0027a-\u003e\u0027b). !x1 x2. f x1 = f x2 ==\u003e x1 = x2)     // implica ncessariamente l\u0027uguaglianza dei due argomenti\n",
    "\n",
    "type_definition_def                                       // funzione che prende un predicato per elementi del tipo di \n",
    "// |- TYPE_DEFINITION =                                   // rappresentazione e un mapping da elementi del nuovo tipo al \n",
    "//     (\\P (rep:\u0027b-\u003e\u0027a). ONE_ONE rep                      // tipo di  rappresentazione e restituisce se il mapping e\u0027 \n",
    "//                     /\\ (!x. P x \u003c=\u003e (?y. x = rep y)))  // iniettivo e mappa su  elementi che  soddisfano il predicato. \n",
    "                                                          // E\u0027 usata per definire nuove costanti di tipo\n"
   ]
  }
,
  {
   "cell_type": "markdown",
   "metadata": {},
   
   "source": [
    "**Assiomi**\n",
    "\n"
   ]
  }
,
  {
   "cell_type": "code",
   "metadata": {
    "dotnet_interactive": {
     "language": "fsharp"
    },
    "polyglot_notebook": {
     "kernelName": "fsharp"
    }
   },
   "execution_count": null, "outputs": [],
   "source": [
    "eta_ax                                                     // per ogni funzione f la lambda astrazione dell\u0027applicazione\n",
    "// |- !(f:\u0027a-\u003e\u0027b). (\\x. f x) = f                           // di f a alla variabile lambda e\u0027 uguale alla funzione stessa\n",
    "   \n",
    "imp_antisym_ax                                             // proprieta\u0027 antisimmetrica dell\u0027implicazione\n",
    "// |- !p1 p2. (p1 ==\u003e p2) ==\u003e                               \n",
    "//              ((p2 ==\u003e p1) ==\u003e (p1 \u003c=\u003e p2))               \n",
    "   \n",
    "select_ax                                                  // per ogni P e x, se x soddisfa P, allora P e\u0027 soddisfatto  \n",
    "// |- !(P:\u0027a-\u003ebool) x. P x ==\u003e P ($@ P)                    // anche dall\u0027elemento selezionato per P\n"
   ]
  }
,
  {
   "cell_type": "markdown",
   "metadata": {},
   
   "source": [
    "## Logica Predicativa\n",
    "\n",
    "**Costanti**\n",
    "\n"
   ]
  }
,
  {
   "cell_type": "code",
   "metadata": {
    "dotnet_interactive": {
     "language": "fsharp"
    },
    "polyglot_notebook": {
     "kernelName": "fsharp"
    }
   },
   "execution_count": null, "outputs": [],
   "source": [
    "// false            `:bool`                         Nonfix\n",
    "// ~                `:bool-\u003ebool`                   Prefix\n",
    "// \\/               `:bool-\u003ebool-\u003ebool`             Infix (15, RightAssoc)\n",
    "// ?!               `:(\u0027a-\u003ebool)-\u003ebool`             Binder\n",
    "// LET              `:(\u0027a-\u003e\u0027b)-\u003e\u0027a-\u003e\u0027b`             Nonfix *\n",
    "// ONTO             `:(\u0027a-\u003e\u0027b)-\u003ebool`               Nonfix\n",
    "// COND             `:bool-\u003e\u0027a-\u003e\u0027a-\u003e\u0027a`             Nonfix *\n"
   ]
  }
,
  {
   "cell_type": "markdown",
   "metadata": {},
   
   "source": [
    "**Definizioni**\n",
    "\n"
   ]
  }
,
  {
   "cell_type": "code",
   "metadata": {
    "dotnet_interactive": {
     "language": "fsharp"
    },
    "polyglot_notebook": {
     "kernelName": "fsharp"
    }
   },
   "execution_count": null, "outputs": [],
   "source": [
    "false_def                                                    // falsita\u0027\n",
    "// |- false \u003c=\u003e (!p. p)                                      //\n",
    "\n",
    "not_def                                                      // negazione logica\n",
    "// |- $~ = (\\p. p ==\u003e false)                                 // \n",
    "\n",
    "disj_def                                                     // digiunzione\n",
    "// |- $\\/ = (\\p1 p2. !p. (p1 ==\u003e p) ==\u003e (p2 ==\u003e p) ==\u003e p)    // \n",
    "\n",
    "uexists_def                                                  // quantificazione esistenziale univoca\n",
    "// |- $?! = (\\(P:\u0027a-\u003ebool). ?x. P x /\\ (!y. P y ==\u003e y = x))  // \n",
    "\n",
    "let_def                                                      // espressioni let: `LET (LET (\\x1 x2. t) s1) s2`\n",
    "// |- LET = (\\(f:\u0027a-\u003e\u0027b) x. f x)                             // e\u0027 stampato come `let x1 = s1 and x2 = s2 in t`  \n",
    "\n",
    "onto_def                                                     // suriettivita\u0027\n",
    "// |- ONTO = (\\(f:\u0027a-\u003e\u0027b). !y. ?x. y = f x)                  // \n",
    "\n",
    "cond_def                                                     // espressioni condizionali\n",
    "// |- COND =                                                 // `COND c t1 t2` e stampato come\n",
    "//     (\\p (t1:\u0027a) t2.                                       // `if c then t1 else t2`\n",
    "//         @x. ((p \u003c=\u003e true) ==\u003e x = t1)                     // \n",
    "//              /\\ ((p \u003c=\u003e false) ==\u003e x = t2))               // \n"
   ]
  }
,
  {
   "cell_type": "markdown",
   "metadata": {},
   
   "source": [
    "## Coppie ordinate\n",
    "\n",
    "**Costanti di tipo**\n",
    "\n"
   ]
  }
,
  {
   "cell_type": "code",
   "metadata": {
    "dotnet_interactive": {
     "language": "fsharp"
    },
    "polyglot_notebook": {
     "kernelName": "fsharp"
    }
   },
   "execution_count": null, "outputs": [],
   "source": [
    "// #                `:\u00271#\u00272`                        Infix (10, RightAssoc)\n"
   ]
  }
,
  {
   "cell_type": "markdown",
   "metadata": {},
   
   "source": [
    "**Costanti**\n",
    "\n"
   ]
  }
,
  {
   "cell_type": "code",
   "metadata": {
    "dotnet_interactive": {
     "language": "fsharp"
    },
    "polyglot_notebook": {
     "kernelName": "fsharp"
    }
   },
   "execution_count": null, "outputs": [],
   "source": [
    "// MkPairRep        `:\u0027a-\u003e\u0027b-\u003e\u0027a-\u003e\u0027b-\u003ebool`         Nonfix\n",
    "// IsPairRep        `:(\u0027a-\u003e\u0027b-\u003ebool)-\u003ebool`         Nonfix\n",
    "// PairAbs          `:(\u0027a-\u003e\u0027b-\u003ebool)-\u003e\u0027a#\u0027b`        Nonfix\n",
    "// PairRep          `:\u0027a#\u0027b-\u003e\u0027a-\u003e\u0027b-\u003ebool`          Nonfix\n",
    "// PAIR             `:\u0027a-\u003e\u0027b-\u003e\u0027a#\u0027b`                Nonfix *\n",
    "// FST              `:\u0027a#\u0027b-\u003e\u0027a`                    Nonfix\n",
    "// SND              `:\u0027a#\u0027b-\u003e\u0027b`                    Nonfix\n"
   ]
  }
,
  {
   "cell_type": "markdown",
   "metadata": {},
   
   "source": [
    "**Definizioni di tipo**\n",
    "\n"
   ]
  }
,
  {
   "cell_type": "code",
   "metadata": {
    "dotnet_interactive": {
     "language": "fsharp"
    },
    "polyglot_notebook": {
     "kernelName": "fsharp"
    }
   },
   "execution_count": null, "outputs": [],
   "source": [
    "prod_def\n",
    "// |- ?(f:\u0027a#\u0027b-\u003e\u0027a-\u003e\u0027b-\u003ebool). TYPE_DEFINITION IsPairRep f\n"
   ]
  }
,
  {
   "cell_type": "markdown",
   "metadata": {},
   
   "source": [
    "**Definizioni**\n",
    "\n"
   ]
  }
,
  {
   "cell_type": "code",
   "metadata": {
    "dotnet_interactive": {
     "language": "fsharp"
    },
    "polyglot_notebook": {
     "kernelName": "fsharp"
    }
   },
   "execution_count": null, "outputs": [],
   "source": [
    "mk_pair_rep_def                                         // la funzione di rappresentazione restituisce vero solo \n",
    "// |- MkPairRep =                                       // quando ogni argomento e\u0027 uguale al suo corrispondente\n",
    "//     (\\(x:\u0027a) (y:\u0027b) a b. a = x /\\ b = y)             // elemento nella coppia\n",
    "\n",
    "is_pair_rep_def                                         // la funzione caratteristica per l\u0027operatore di tipo prodotto.\n",
    "// |- IsPairRep =                                       // Prende la funzione di rappresentazione e restituisce vero se \n",
    "//     (\\(r:\u0027a-\u003e\u0027b-\u003ebool). ?a b. r = MkPairRep a b)     // esiste una coppia per cui ne e\u0027 la concreta rappresentazione\n",
    "\n",
    "prod_def                                                // definizione del tipo prodotto\n",
    "// |- ?(f:\u0027a#\u0027b-\u003e\u0027a-\u003e\u0027b-\u003ebool).                         // \n",
    "//                   TYPE_DEFINITION IsPairRep f        // \n",
    "\n",
    "prod_bij_def1                                           // biiezioni del tipo prodotto\n",
    "// |- !(a:\u0027a#\u0027b). PairAbs (PairRep a) = a               // \n",
    "                                                        // \n",
    "prod_bij_def2                                           // \n",
    "// |- !(r:\u0027a-\u003e\u0027b-\u003ebool).                                // \n",
    "//       IsPairRep r \u003c=\u003e PairRep (PairAbs r) = r        // \n",
    "\n",
    "pair_def                                                // funzione di accoppiamento. E\u0027 definita come l\u0027astrazione del \n",
    "// |- PAIR =                                            // tipo prodotto della funzione \n",
    "//     (\\(x:\u0027a) (y:\u0027b). PairAbs (MkPairRep x y))        // PAIR t1 t2 e\u0027 elaborata e stampata come (t1,t2).\n",
    "\n",
    "fst_def                                                 // seleziona il primo componente della coppia\n",
    "// |- FST = (\\(p:\u0027a#\u0027b). @x. ?y. p = (x,y))             //\n",
    "\n",
    "snd_def                                                 // seleziona il secondo componente della coppia\n",
    "// |- SND = (\\(p:\u0027a#\u0027b). @y. ?x. p = (x,y))             // \n"
   ]
  }
,
  {
   "cell_type": "markdown",
   "metadata": {},
   
   "source": [
    "## Individui\n",
    "\n",
    "**Costanti di tipo**\n",
    "\n"
   ]
  }
,
  {
   "cell_type": "code",
   "metadata": {
    "dotnet_interactive": {
     "language": "fsharp"
    },
    "polyglot_notebook": {
     "kernelName": "fsharp"
    }
   },
   "execution_count": null, "outputs": [],
   "source": [
    "// ind              `:ind`                          Nonfix\n"
   ]
  }
,
  {
   "cell_type": "markdown",
   "metadata": {},
   
   "source": [
    "**Costanti**\n",
    "\n"
   ]
  }
,
  {
   "cell_type": "code",
   "metadata": {
    "dotnet_interactive": {
     "language": "fsharp"
    },
    "polyglot_notebook": {
     "kernelName": "fsharp"
    }
   },
   "execution_count": null, "outputs": [],
   "source": [
    "// IND_ZERO         `:ind`                          Nonfix\n",
    "// IND_SUC          `:ind-\u003eind`                     Nonfix\n"
   ]
  }
,
  {
   "cell_type": "markdown",
   "metadata": {},
   
   "source": [
    "**Definizioni**\n",
    "\n"
   ]
  }
,
  {
   "cell_type": "code",
   "metadata": {
    "dotnet_interactive": {
     "language": "fsharp"
    },
    "polyglot_notebook": {
     "kernelName": "fsharp"
    }
   },
   "execution_count": null, "outputs": [],
   "source": [
    "ind_suc_zero_spec\n",
    "// |- ONE_ONE IND_SUC /\\ (!i. ~ (IND_SUC i = IND_ZERO))\n"
   ]
  }
,
  {
   "cell_type": "markdown",
   "metadata": {},
   
   "source": [
    "**Assiomi**\n",
    "\n"
   ]
  }
,
  {
   "cell_type": "code",
   "metadata": {
    "dotnet_interactive": {
     "language": "fsharp"
    },
    "polyglot_notebook": {
     "kernelName": "fsharp"
    }
   },
   "execution_count": null, "outputs": [],
   "source": [
    "infinity_ax                                             // l\u0027assioma dell\u0027infinito dichiara che il nuovo tipo degli\n",
    "// |- ?(f:ind-\u003eind). ONE_ONE f /\\ ~ ONTO f              // individui e\u0027 infinito affermando che esiste una funzione\n",
    "                                                        // totale iniettiva da individui a individui che non e\u0027\n",
    "                                                        // suriettiva\n"
   ]
  }
,
  {
   "cell_type": "markdown",
   "metadata": {},
   
   "source": [
    "## Numeri naturali\n",
    "\n",
    "**Costanti di tipo**\n",
    "\n"
   ]
  }
,
  {
   "cell_type": "code",
   "metadata": {
    "dotnet_interactive": {
     "language": "fsharp"
    },
    "polyglot_notebook": {
     "kernelName": "fsharp"
    }
   },
   "execution_count": null, "outputs": [],
   "source": [
    "// nat              `:nat`                          Nonfix\n"
   ]
  }
,
  {
   "cell_type": "markdown",
   "metadata": {},
   
   "source": [
    "**Costanti**\n",
    "\n"
   ]
  }
,
  {
   "cell_type": "code",
   "metadata": {
    "dotnet_interactive": {
     "language": "fsharp"
    },
    "polyglot_notebook": {
     "kernelName": "fsharp"
    }
   },
   "execution_count": null, "outputs": [],
   "source": [
    "// IsNatRep         `:ind-\u003ebool`                    Nonfix\n",
    "// NatAbs           `:ind-\u003enat`                     Nonfix\n",
    "// NatRep           `:nat-\u003eind`                     Nonfix\n",
    "// ZERO             `:nat`                          Nonfix\n",
    "// SUC              `:nat-\u003enat`                     Nonfix\n",
    "// PRE              `:nat-\u003enat`                     Nonfix\n",
    "// +                `:nat-\u003enat-\u003enat`                Infix (50, LeftAssoc)\n",
    "// -                `:nat-\u003enat-\u003enat`                Infix (50, LeftAssoc)\n",
    "// *                `:nat-\u003enat-\u003enat`                Infix (55, LeftAssoc)\n",
    "// EXP              `:nat-\u003enat-\u003enat`                Infix (60, LeftAssoc)\n",
    "// EVEN             `:nat-\u003ebool`                    Nonfix\n",
    "// ODD              `:nat-\u003ebool`                    Nonfix\n",
    "// \u003c                `:nat-\u003enat-\u003ebool`               Infix (40, NonAssoc)\n",
    "// \u003c=               `:nat-\u003enat-\u003ebool`               Infix (40, NonAssoc)\n",
    "// \u003e                `:nat-\u003enat-\u003ebool`               Infix (40, NonAssoc)\n",
    "// \u003e=               `:nat-\u003enat-\u003ebool`               Infix (40, NonAssoc)\n",
    "// BIT0             `:nat-\u003enat`                     Nonfix\n",
    "// BIT1             `:nat-\u003enat`                     Nonfix\n",
    "// NUMERAL          `:nat-\u003enat`                     Nonfix\n"
   ]
  }
,
  {
   "cell_type": "markdown",
   "metadata": {},
   
   "source": [
    "**Definizioni di tipo**\n",
    "\n"
   ]
  }
,
  {
   "cell_type": "code",
   "metadata": {
    "dotnet_interactive": {
     "language": "fsharp"
    },
    "polyglot_notebook": {
     "kernelName": "fsharp"
    }
   },
   "execution_count": null, "outputs": [],
   "source": [
    "nat_def\n",
    "// |- ?(f:nat-\u003eind). TYPE_DEFINITION IsNatRep f\n"
   ]
  }
,
  {
   "cell_type": "markdown",
   "metadata": {},
   
   "source": [
    "**Definizioni**\n",
    "\n"
   ]
  }
,
  {
   "cell_type": "code",
   "metadata": {
    "dotnet_interactive": {
     "language": "fsharp"
    },
    "polyglot_notebook": {
     "kernelName": "fsharp"
    }
   },
   "execution_count": null, "outputs": [],
   "source": [
    "is_nat_rep_def                                   // funzione caratteristica dei naturali definita come quella funzione che \n",
    "// |- !i. IsNatRep i \u003c=\u003e                         // restituisce vero per un elemento di ind sse qualsiasi proprieta\u0027 che \n",
    "//    (!P. P IND_ZERO /\\                         // valga per IND_ZERO e tutti i suoi successori sotto IND_SUCC vale \n",
    "//       (!j. P j ==\u003e P (IND_SUC j)) ==\u003e P i)    // necessariamente anche per l\u0027elemento. Questo da il piu\u0027 piccolo sotto-\n",
    "                                                 // insieme di ind che contiene IND_ZERO ed e\u0027 chiuso sotto IND_SUC\n",
    "\n",
    "nat_bij_def1                                     // biiezioni del tipo dei naturali\n",
    "// |- !a. NatAbs (NatRep a) = a                  //\n",
    "                                                 //\n",
    "nat_bij_def2                                     //\n",
    "// |- !r. IsNatRep r \u003c=\u003e NatRep (NatAbs r) = r   //\n",
    "\n",
    "zero_def                                         // ZERO e SUCC sono definiti in termini dei loro equivalenti nel tipo \n",
    "// |- ZERO = NatAbs IND_ZERO                     // degli individui\n",
    "                                                 //\n",
    "suc_def                                          //\n",
    "// |- !n. SUC n = NatAbs (IND_SUC (NatRep n))    //\n",
    "\n",
    "pre_def\n",
    "// |- PRE 0 = 0 /\\ (!n. PRE (SUC n) = n)\n",
    "\n",
    "add_def\n",
    "// |- (!n. 0 + n = n) \n",
    "//         /\\ (!m n. SUC m + n = SUC (m + n))\n",
    "\n",
    "sub_def\n",
    "// |- (!n. n - 0 = n) \n",
    "//         /\\ (!m n. m - SUC n = PRE (m - n))\n",
    "\n",
    "mult_def\n",
    "// |- (!n. 0 * n = 0) \n",
    "//         /\\ (!m n. SUC m * n = n + m * n)\n",
    "\n",
    "exp_def\n",
    "// |- (!n. n EXP 0 = 1) \n",
    "//         /\\ (!m n. m EXP SUC n = m * m EXP n)\n",
    "\n",
    "even_def\n",
    "// |- (EVEN 0 \u003c=\u003e true) \n",
    "//         /\\ (!n. EVEN (SUC n) \u003c=\u003e ~ EVEN n)\n",
    "\n",
    "odd_def\n",
    "// |- !n. ODD n \u003c=\u003e ~ EVEN n\n",
    "\n",
    "lt_def\n",
    "// |- (!m. m \u003c 0 \u003c=\u003e false) \n",
    "//        /\\ (!m n. m \u003c SUC n \u003c=\u003e m = n \\/ m \u003c n)\n",
    "\n",
    "le_def\n",
    "// |- !m n. m \u003c= n \u003c=\u003e m \u003c n \\/ m = n\n",
    "\n",
    "gt_def\n",
    "// |- !m n. m \u003e n \u003c=\u003e n \u003c m\n",
    "\n",
    "ge_def\n",
    "// |- !m n. m \u003e= n \u003c=\u003e n \u003c= m\n"
   ]
  }
,
  {
   "cell_type": "markdown",
   "metadata": {},
   
   "source": [
    "I numeri naturali sono definiti in termini di `SUC` e dell\u0027addizione. La rappresentazione implica l\u0027applicare una sequenza di operatori\n",
    "`BIT0` e `BIT1` alla costante `ZERO`, con `NUMERAL` come un tag che viene applicato al risultato. Sia `BIT0` che `BIT1` duplicano il loro\n",
    "argmento aggiungendo rispettivamente 0 o 1. Il tag `NUMERAL` semplicemente ritorna il suo argomento, ed \u0026egrave; usato per identicare\n",
    "atomi di numerali nei termini. Letta dall\u0027interno all\u0027esterno, una sequenza di `BIT0` e `BIT1` corrisponde direttamente agli 0 e agli 1\n",
    "della notazione binaria.\n",
    "\n",
    "Ad esempio, il numero 6 \u0026egrave; rappresentato da `NUMERAL (BIT0 (BIT1 (BIT1 ZERO)))` o 110 in binario.\n",
    "\n"
   ]
  }
,
  {
   "cell_type": "code",
   "metadata": {
    "dotnet_interactive": {
     "language": "fsharp"
    },
    "polyglot_notebook": {
     "kernelName": "fsharp"
    }
   },
   "execution_count": null, "outputs": [],
   "source": [
    "bit0_def                                           \n",
    "// |- (BIT0 ZERO = ZERO)                           \n",
    "//     /\\ (!n. BIT0 (SUC n) = SUC (SUC (BIT0 n)))  \n",
    "                                                   \n",
    "bit1_def                                           \n",
    "// |- !n. BIT1 n = SUC (BIT0 n)                    \n",
    "                                                   \n",
    "numeral_def                                        \n",
    "// |- !n. NUMERAL n = n                            \n"
   ]
  }
 ],
 "metadata": {
  "kernelspec": {
   "display_name": ".NET (F#)",
   "language": "F#",
   "name": ".net-fsharp"
  },
  "language_info": {
   "file_extension": ".fs",
   "mimetype": "text/x-fsharp",
   "name": "polyglot-notebook",
   "pygments_lexer": "fsharp"
  },
  "polyglot_notebook": {
   "kernelInfo": {
    "defaultKernelName": "fsharp",
    "items": [
     {
      "aliases": [],
      "languageName": "fsharp",
      "name": "fsharp"
     }
    ]
   }
  }
 },
 "nbformat": 4,
 "nbformat_minor": 2
}

