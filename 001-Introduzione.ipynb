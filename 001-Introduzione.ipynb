
{
 "cells": [
  {
   "cell_type": "markdown",
   "metadata": {},
   
   "source": [
    "## Avvio di una sessione\n",
    "\n",
    "Una sessione è avviata da uno script F#. Innanzitutto è necessario referenziare la dll e importare i relativi moduli:\n",
    "\n"
   ]
  }
,
  {
   "cell_type": "code",
   "metadata": {
    "dotnet_interactive": {
     "language": "fsharp"
    },
    "polyglot_notebook": {
     "kernelName": "fsharp"
    }
   },
   "execution_count": 1, "outputs": [],
   "source": [
    "#r \"nuget: nholz2\"\n",
    "open HOL\n"
   ]
  }
,
  {
   "cell_type": "markdown",
   "metadata": {},
   
   "source": [
    "impostare il pretty printing delle espressioni:\n",
    "\n"
   ]
  }
,
  {
   "cell_type": "code",
   "metadata": {
    "dotnet_interactive": {
     "language": "fsharp"
    },
    "polyglot_notebook": {
     "kernelName": "fsharp"
    }
   },
   "execution_count": 2, "outputs": [],
   "source": [
    "fsi.AddPrinter print_type\n",
    "fsi.AddPrinter print_qtype\n",
    "fsi.AddPrinter print_term\n",
    "fsi.AddPrinter print_qterm\n",
    "fsi.AddPrinter print_thm\n"
   ]
  }
,
  {
   "cell_type": "markdown",
   "metadata": {},
   
   "source": [
    "e caricare quindi i moduli con i seguenti comandi:\n",
    "\n"
   ]
  }
,
  {
   "cell_type": "code",
   "metadata": {
    "dotnet_interactive": {
     "language": "fsharp"
    },
    "polyglot_notebook": {
     "kernelName": "fsharp"
    }
   },
   "execution_count": 3, "outputs": [],
   "source": [
    "CoreThry.load\n",
    "Equal.load\n",
    "Bool.load\n",
    "BoolAlg.load\n",
    "BoolClass.load\n",
    "Pair.load\n",
    "Ind.load\n",
    "Nat.load\n",
    "NatNumrl.load\n",
    "NatArith.load\n",
    "NatRel.load\n",
    "NatEval.load\n"
   ]
  }
,
  {
   "cell_type": "markdown",
   "metadata": {},
   
   "source": [
    "I primi pochi secondi di avvio richiedono il build del sistema da zero. Alcune centinaia di righe di output scorrono velocemente sullo schermo.\n",
    "\n"
   ]
  }
,
  {
   "cell_type": "code",
   "metadata": {
    "dotnet_interactive": {
     "language": "fsharp"
    },
    "polyglot_notebook": {
     "kernelName": "fsharp"
    }
   },
   "execution_count": 4, "outputs": [],
   "source": [
    "// ...\n",
    "// [HZ] Storing theorem \"sub_floor_thm\".\n",
    "// [HZ] Setting term fixity for name \"\u003e\".\n",
    "// [HZ] Declaring constant \"\u003e\".\n",
    "// [HZ] Adding definition for constant \"\u003e\".\n",
    "// [HZ] Setting term fixity for name \"\u003e=\".\n",
    "// [HZ] Declaring constant \"\u003e=\".\n",
    "// [HZ] Adding definition for constant \"\u003e=\".\n",
    "// val it : (string * thm) list =\n",
    "//   [(\"eta_ax\", |- !(f:\u0027a-\u003e\u0027b). (\\x. f x) = f);\n",
    "//    (\"imp_antisym_ax\", |- !p1 p2. (p1 ==\u003e p2) ==\u003e (p2 ==\u003e p1) ==\u003e (p1 \u003c=\u003e p2));\n",
    "//    (\"infinity_ax\", |- ?(f:ind-\u003eind). ONE_ONE f /\\ ~ ONTO f);\n",
    "//    (\"select_ax\", |- !(P:\u0027a-\u003ebool) x. P x ==\u003e P ($@ P))]\n",
    "// \n",
    "// \u003e \n"
   ]
  }
,
  {
   "cell_type": "markdown",
   "metadata": {},
   
   "source": [
    "il sistema è quindi pronto per ricevere i comandi dall\u0027utente.\n",
    "Questi comandi sono di fatto espressioni F#.\n",
    "\n",
    "## Panoramica d\u0027uso\n",
    "\n",
    "Questa sezione fornisce una breve introduzione a semplici operazioni, incluso come immettere espressioni HOL e come eseguire una semplice dimostrazione.\n",
    "\n",
    "### Termini e tipi\n",
    "\n",
    "Le espressioni nel linguaggio HOL sono chiamati termini HOL. I termini sono scritti utilizzando una stringa di caratteri ASCII a cui va applicata la funzione `parse_term`. Nel momento in cui si immette un termine in una sessione questo viene controllato e ristampato a video.\n",
    "\n",
    "La sintassi dei termini è semplice e intuitiva Per esempio, il seguente termine significa \u0027\u0027per tutti i numeri naturali `x`, `y` e `z`, se `x` è minore di `y` e `y` è minore di `z` allora `x` è minore di `z`\u0027\u0027:\n",
    "\n"
   ]
  }
,
  {
   "cell_type": "code",
   "metadata": {
    "dotnet_interactive": {
     "language": "fsharp"
    },
    "polyglot_notebook": {
     "kernelName": "fsharp"
    }
   },
   "execution_count": 5, "outputs": [
          {
           "data": {
            "text/plain": ["val it: term = `!x y z. x \u003c y /\\ y \u003c z ==\u003e x \u003c z`"]
        },
           "execution_count": 5,
           "metadata": {},
           "output_type": "execute_result"
          }],
   "source": [
    "@\"!x y z. x \u003c y /\\ y \u003c z ==\u003e x \u003c z\" |\u003e parse_term\n"
   ]
  }
,
  {
   "cell_type": "markdown",
   "metadata": {},
   
   "source": [
    "Se si immette un termine mal formato si riceverà un messaggio di errore.\n",
    "\n"
   ]
  }
,
  {
   "cell_type": "code",
   "metadata": {
    "dotnet_interactive": {
     "language": "fsharp"
    },
    "polyglot_notebook": {
     "kernelName": "fsharp"
    }
   },
   "execution_count": 6, "outputs": [],
   "source": [
    "\"x =\" |\u003e parse_term\n",
    "\n",
    "// \u003e \n",
    "// HOL.Exn+HolErr: [HZ] SYNTAX ERROR: Unexpected end of quotation instead of RHS for infix \"=\"\n",
    "// ...\n"
   ]
  }
,
  {
   "cell_type": "markdown",
   "metadata": {},
   
   "source": [
    "Si noti che i messaggi specifici del sistema, diversamente da quelli che derivano dall\u0027interprete F#, in generale, hanno il prefisso `[HZ]()\u0027. Questo vale per tutti i messaggi riportati da NHOLZ, inclusi messaggi di errore, warnings e feedback generici all\u0027utente.\n",
    "\n",
    "HOL è un linguaggio tipizzato, così ogni termine e sottotermine ha un tipo, e i termini devono essere costruiti in modo da avere un tipo corretto. Questo impedisce la costruzione di enunciati privi di significato come \u0027\u00273 è uguale a vero\u0027\u0027.\n",
    "\n"
   ]
  }
,
  {
   "cell_type": "code",
   "metadata": {
    "dotnet_interactive": {
     "language": "fsharp"
    },
    "polyglot_notebook": {
     "kernelName": "fsharp"
    }
   },
   "execution_count": 7, "outputs": [],
   "source": [
    "\"3 = true\" |\u003e parse_term\n",
    "// \u003e \n",
    "// HOL.Exn+HolErr: [HZ] TYPE ERROR: Function subterm domain type incompatible with argument subterm type\n"
   ]
  }
,
  {
   "cell_type": "markdown",
   "metadata": {},
   
   "source": [
    "I sottotermini possono essere annotati per indicare il loro tipo, facendo seguire al sottotermine il simbolo di due punti `:` e poi il suo tipo, il tutto chiuso tra parentesi. Il meccanismo di inferenza del tipo è usato per risolvere i tipi nei termini. Ad ogni termine inserito senza annotazioni di tipo sufficienti sono assegnate delle variabili di tipo numerate per tutti i tipi non determinabili. Di default i termini sono ristampati indietro con solamente le annotazioni di tipo sufficienti per evitare qualsiasi ambiguità circa i tipi di ogni sottotermine.\n",
    "\n"
   ]
  }
,
  {
   "cell_type": "code",
   "metadata": {
    "dotnet_interactive": {
     "language": "fsharp"
    },
    "polyglot_notebook": {
     "kernelName": "fsharp"
    }
   },
   "execution_count": 8, "outputs": [
          {
           "data": {
            "text/plain": ["val it: term = `!(w:nat) x (y:\u00271) z. w = x /\\ y = z`"]
        },
           "execution_count": 8,
           "metadata": {},
           "output_type": "execute_result"
          }],
   "source": [
    "\"!(w:nat) (x:nat) y z. w = x /\\ y = z\" |\u003e parse_term\n"
   ]
  }
,
  {
   "cell_type": "markdown",
   "metadata": {},
   
   "source": [
    "I tipi HOL possono essere scritti fuori dal contesto di un termine usando la funzone `parse_type`.\n",
    "\n"
   ]
  }
,
  {
   "cell_type": "code",
   "metadata": {
    "dotnet_interactive": {
     "language": "fsharp"
    },
    "polyglot_notebook": {
     "kernelName": "fsharp"
    }
   },
   "execution_count": 9, "outputs": [
          {
           "data": {
            "text/plain": ["val it: hol_type = `:nat#nat-\u003ebool`"]
        },
           "execution_count": 9,
           "metadata": {},
           "output_type": "execute_result"
          }],
   "source": [
    "\"nat#nat-\u003ebool\" |\u003e parse_type\n"
   ]
  }
,
  {
   "cell_type": "markdown",
   "metadata": {},
   
   "source": [
    "### Teoremi, Dimostrazioni ed Asserzioni\n",
    "\n",
    "I teoremi HOL consistono di un insieme di termini di assunzione con valore booleano e di un termine conclusione con valore booleano, e sono riservati ad enunciati di cui si è stabilito che valgono (per dimostrazione o asserzione - si veda sotto). Il significato di tali enunciati è che la conclusione vale assumendo che valgano tutte le assunzioni. I teoremi sono mostrati usando un turnstile (`|-`) per separare tutte le assunzioni dalla conclusione. Il sistema di base contiene già oltre 100 teoremi pre-dimostrati, ognuno dei quali non ha assunzione.\n",
    "\n"
   ]
  }
,
  {
   "cell_type": "code",
   "metadata": {
    "dotnet_interactive": {
     "language": "fsharp"
    },
    "polyglot_notebook": {
     "kernelName": "fsharp"
    }
   },
   "execution_count": 10, "outputs": [
          {
           "data": {
            "text/plain": ["val it: thm = |- !p. p \\/ ~ p"]
        },
           "execution_count": 10,
           "metadata": {},
           "output_type": "execute_result"
          }],
   "source": [
    "excluded_middle_thm\n"
   ]
  }
,
  {
   "cell_type": "markdown",
   "metadata": {},
   
   "source": [
    "Le regole di inferenza della logica HOL sono qui implementate come funzioni F# che prendono teoremi e/o termini e restituiscono teoremi. Un passo di dimostrazione è eseguito semplicemente valutando l\u0027applicazione di una tale funzione.\n",
    "\n"
   ]
  }
,
  {
   "cell_type": "code",
   "metadata": {
    "dotnet_interactive": {
     "language": "fsharp"
    },
    "polyglot_notebook": {
     "kernelName": "fsharp"
    }
   },
   "execution_count": 11, "outputs": [],
   "source": [
    "\"x + y \u003c 5\" |\u003e parse_term |\u003e assume_rule\n",
    "// val it : thm = x + y \u003c 5 |- x + y \u003c 5\n",
    "\n",
    "spec_rule (\"a = 0\" |\u003e parse_term) excluded_middle_thm\n",
    "// val it : thm = |- a = 0 \\/ ~ (a = 0)\n"
   ]
  }
,
  {
   "cell_type": "markdown",
   "metadata": {},
   
   "source": [
    "Le dimostrazioni sono semplicemente espressioni F# composte con applicazioni di regole di inferenza ad ogni livello.\n",
    "\n"
   ]
  }
,
  {
   "cell_type": "code",
   "metadata": {
    "dotnet_interactive": {
     "language": "fsharp"
    },
    "polyglot_notebook": {
     "kernelName": "fsharp"
    }
   },
   "execution_count": 12, "outputs": [],
   "source": [
    "deduct_antisym_rule\n",
    "    (contr_rule (\"~ true\" |\u003e parse_term) (assume_rule (\"false\" |\u003e parse_term)))\n",
    "    (eq_mp_rule (eqf_intro_rule (assume_rule (\"~ true\" |\u003e parse_term))) truth_thm)\n",
    "// val it : thm = |- ~ true \u003c=\u003e false\n"
   ]
  }
,
  {
   "cell_type": "markdown",
   "metadata": {},
   
   "source": [
    "il sistema supporta le seguenti teorie matematiche di base: logica predicativa, lambda calcolo, coppie ordinate e aritmetica dei numeri naturali.\n",
    "\n",
    "Le teorie del sistema possono essere estese usando i comandi di teoria per dichiarare nuove costanti e costanti di tipo e per enunciare proposizioni a loro riguardo. Per esempio, il comando di definizione di costante introduce una nuova costante e restituisce un nuovo teorema, che afferma che il valore della costante è uguale a un\u0027espressione data. Prende un termine di uguaglianza con la nuova costante come lato sinistro del\u0027eguaglianza e il valore della costante come lato destro.\n",
    "\n"
   ]
  }
,
  {
   "cell_type": "code",
   "metadata": {
    "dotnet_interactive": {
     "language": "fsharp"
    },
    "polyglot_notebook": {
     "kernelName": "fsharp"
    }
   },
   "execution_count": 13, "outputs": [],
   "source": [
    "\"max_height = 7\" |\u003e parse_term |\u003e new_const_definition\n",
    "// [HZ] Declaring constant \"max_height\".\n",
    "// [HZ] Adding definition for constant \"max_height\".\n",
    "// val it : thm = |- max_height = 7\n"
   ]
  }
 ],
 "metadata": {
  "kernelspec": {
   "display_name": ".NET (F#)",
   "language": "F#",
   "name": ".net-fsharp"
  },
  "language_info": {
   "file_extension": ".fs",
   "mimetype": "text/x-fsharp",
   "name": "polyglot-notebook",
   "pygments_lexer": "fsharp"
  },
  "polyglot_notebook": {
   "kernelInfo": {
    "defaultKernelName": "fsharp",
    "items": [
     {
      "aliases": [],
      "languageName": "fsharp",
      "name": "fsharp"
     }
    ]
   }
  }
 },
 "nbformat": 4,
 "nbformat_minor": 2
}

