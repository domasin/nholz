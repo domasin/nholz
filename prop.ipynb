
{
 "cells": [
  {
   "cell_type": "markdown",
   "metadata": {},
   
   "source": [
    "# Logica Proposizionale\n",
    "\n",
    "## Riferimenti\n",
    "\n",
    "In questa sezione esploriamo la logica proposizionale sfruttando il framework HOL di nholz. [Nholz](https://github.com/domasin/nholz) \u0026egrave; semplicemente un portging in F# di [HOL Zero](http://www.proof-technologies.com/holzero/) che a sua volta \u0026egrave; un dimostratore interattivo di teoremi sviluppato da Mark Adams in OCaml nello stile LCF della famiglia HOL.\n",
    "\n",
    "Sfruttiamo il linguaggio definito da HolZero per esplorare la logica proposizionale con la guida dell\u0027[Handbook of Practical Logic and Automated Reasoning](https://www.cl.cam.ac.uk/~jrh13/atp/) di John Harrison, seguendo passo passo il capitolo sulla logica proposizionale e riaddattando le funzioni l\u0026igrave; definite al linguaggio HOL del nostro framework.\n",
    "\n",
    "L\u0027Handbook di John Harrison \u0026egrave; accompagnato da codice sorgente in OCaml che \u0026egrave; stato portato in F# da Eric Taucher, Jack Pappas, Anh-Dung Phan ed \u0026egrave; disponibile su Github: [fsharp-logic-examples](https://github.com/jack-pappas/fsharp-logic-examples/). Nel ridefinire le funzioni dell\u0027handbook riaddattandole alla logica HOL si \u0026egrave; utilizzata come riferimento proprio l\u0027implementazione in F# del codice descritto nell\u0027Handbook.\n",
    "\n",
    "Per la composizione di questa pagina si \u0026egrave; utilizzato [F# Formatting](https://github.com/fsprojects/FSharp.Formatting/).\n",
    "\n",
    "## Introduzione\n",
    "\n",
    "La logica proposizionale studia espressioni che intendono rappresentare proposizioni, cio\u0026egrave; affermazioni che possono essereconsiderate vere o false e che chiameremo nel seguito semplicemente \"formule\". All\u0027interno del framework HOL che utiliziamo, queste sono semplicemente termini di tipo `bool` che possono essere costruite da atomi booleani, costituiti dalle costanti `true` e `false` e da variabili di tipo `bool`, a cui sono applicati i connettivi logici proposizionali `~`, `/\\`, `\\/`, `\u003c=\u003e` e `\u003c=\u003e`. Le proposizioni atomiche sono come le variabili nell\u0027algebra ordinaria, e a volte ci riferiamo ad esse come variabili proposizionali o variabili booleane. Come suggerisce la parola \"atomiche\", non ne viene analizzata la loro struttura interna; questo porterebbe a conseiderare una logica predicativa che al momento non viene trattata. I connettivi proposizionali all\u0027interno della logica HOL sono semplicemente funzioni da valori di verit\u0026agrave; a valori di verit\u0026agrave;.\n",
    "\n",
    "## Avvio del motore logico\n",
    "\n",
    "Per iniziare referenziamo il motore di nholz:\n",
    "\n"
   ]
  }
,
  {
   "cell_type": "code",
   "metadata": {
    "dotnet_interactive": {
     "language": "fsharp"
    },
    "polyglot_notebook": {
     "kernelName": "fsharp"
    }
   },
   "execution_count": 1, "outputs": [],
   "source": [
    "#I \"../src/bin/Debug/net7.0/\"\n",
    "#r \"nholz.dll\"\n",
    "\n",
    "open HOL\n"
   ]
  }
,
  {
   "cell_type": "markdown",
   "metadata": {},
   
   "source": [
    "e istruiamo l\u0027interprete F# a restituire una raprresentazione concreta della sintassi dei tipi e dei termini piuttosto che la loro sintassi astratta interna al sistema:\n",
    "\n"
   ]
  }
,
  {
   "cell_type": "code",
   "metadata": {
    "dotnet_interactive": {
     "language": "fsharp"
    },
    "polyglot_notebook": {
     "kernelName": "fsharp"
    }
   },
   "execution_count": 2, "outputs": [],
   "source": [
    "fsi.AddPrinter print_type\n",
    "fsi.AddPrinter print_term\n"
   ]
  }
,
  {
   "cell_type": "markdown",
   "metadata": {},
   
   "source": [
    "Infine carichiamo almeno le teorie fino a `Bool` che contiene la definizione dei tipi e dei termini booleani e dei loro connettivi:\n",
    "\n"
   ]
  }
,
  {
   "cell_type": "code",
   "metadata": {
    "dotnet_interactive": {
     "language": "fsharp"
    },
    "polyglot_notebook": {
     "kernelName": "fsharp"
    }
   },
   "execution_count": 3, "outputs": [],
   "source": [
    "CoreThry.load\n",
    "Equal.load\n",
    "Bool.load\n"
   ]
  }
,
  {
   "cell_type": "markdown",
   "metadata": {},
   
   "source": [
    "## Operazioni sintattiche\n",
    "\n",
    "Il modulo `Bool` contiene gi\u0026agrave; alcune operazioni sintattiche su formule booleane che le dividono nei loro elementi e che per il\n",
    "momento non tratter\u0026ograve;.\n",
    "\n",
    "Una prima cosa importante \u0026egrave; poter distinguere tra espressioni atomiche ed esressioni composte. A questo scopo definiamo `is_bool_atom` come una funzione che restituisce vero per termini booleani costanti o variabili.\n",
    "\n"
   ]
  }
,
  {
   "cell_type": "code",
   "metadata": {
    "dotnet_interactive": {
     "language": "fsharp"
    },
    "polyglot_notebook": {
     "kernelName": "fsharp"
    }
   },
   "execution_count": 4, "outputs": [],
   "source": [
    "/// the term is a boolean atom\n",
    "let is_bool_atom tm = \n",
    "    tm |\u003e is_bool_term \u0026\u0026 (tm |\u003e is_const || tm |\u003e is_var)\n"
   ]
  }
,
  {
   "cell_type": "markdown",
   "metadata": {},
   
   "source": [
    "Sulle formule composte vogliamo poter applicare delle funzioni sui loro atomi. A questo scopo definiamo `overatoms` per ricorsione su termini di questo genere come un analogo dell\u0027iteratore di liste che itera una funzione binaria su tutti gli atomi di una formula.\n",
    "\n"
   ]
  }
,
  {
   "cell_type": "code",
   "metadata": {
    "dotnet_interactive": {
     "language": "fsharp"
    },
    "polyglot_notebook": {
     "kernelName": "fsharp"
    }
   },
   "execution_count": 5, "outputs": [],
   "source": [
    "let rec overatoms f tm b =\n",
    "    if tm |\u003e is_bool_atom then \n",
    "        f tm b\n",
    "    elif tm |\u003e is_not then\n",
    "        let p = tm |\u003e dest_not\n",
    "        overatoms f p b\n",
    "    elif tm |\u003e is_conj then\n",
    "        let (p,q) = tm |\u003e dest_conj\n",
    "        overatoms f p (overatoms f q b)\n",
    "    elif tm |\u003e is_disj then\n",
    "        let (p,q) = tm |\u003e dest_disj\n",
    "        overatoms f p (overatoms f q b)\n",
    "    elif tm |\u003e is_imp then\n",
    "        let (p,q) = tm |\u003e dest_imp\n",
    "        overatoms f p (overatoms f q b)\n",
    "    elif tm |\u003e is_eq then\n",
    "        let (p,q) = tm |\u003e dest_eq\n",
    "        overatoms f p (overatoms f q b)\n",
    "    else failwith \"check type annotation on eq\"\n"
   ]
  }
,
  {
   "cell_type": "markdown",
   "metadata": {},
   
   "source": [
    "Un\u0027applicazione particolarmente comune \u0026egrave; quella di raccogliere qualche insieme di attributi associati agli atomi; ritornando solamente, nel caso pi\u0026ugrave; semplice, l\u0027insieme di tutti gli atomi. Possiamo far questo iterando una funzione f insieme con un \"append\" su tutti gli atomi, e convertendo infine il risultato in un insieme per rimuovere i duplicati.\n",
    "\n"
   ]
  }
,
  {
   "cell_type": "code",
   "metadata": {
    "dotnet_interactive": {
     "language": "fsharp"
    },
    "polyglot_notebook": {
     "kernelName": "fsharp"
    }
   },
   "execution_count": 6, "outputs": [],
   "source": [
    "let atom_union f tm =\n",
    "    (tm, [])\n",
    "    ||\u003e overatoms (fun h (t) -\u003e (f h) @ t)\n",
    "    |\u003e List.distinct |\u003e List.sort\n"
   ]
  }
,
  {
   "cell_type": "markdown",
   "metadata": {},
   
   "source": [
    "## La semantica della logica proposizionale\n",
    "\n",
    "Dal momento che le formule proposizionali intendono rappresentare asserzioni che possono essere vere o false, in ultima analisi\n",
    "il significato di una formula \u0026egrave; semplicemente uno dei due valori di verit\u0026agrave; \"vero\" e \"falso\". Comunque, esattamente\n",
    "come un\u0027espressione algebrica x + y + 1 ha un significato definito solo quando sappiamo per che cosa stanno le variabili x e y,\n",
    "il significato di una formula proposizionale dipende dai valori di verit\u0026agrave; assegnati alle sue formule atomiche. Questa assegnazione\n",
    "\u0026egrave; codificata in una valutazione, che \u0026egrave; una funzione dagli insiemi degli atomi all\u0027insieme dei valori di verit\u0026agrave;\n",
    "{falso,vero}. Data una formula `p` e una valutazione `v` valutiamo il valore di verit\u0026agrave; complessivo con la seguente funzione definita\n",
    "ricorsivamente:\n",
    "\n"
   ]
  }
,
  {
   "cell_type": "code",
   "metadata": {
    "dotnet_interactive": {
     "language": "fsharp"
    },
    "polyglot_notebook": {
     "kernelName": "fsharp"
    }
   },
   "execution_count": 7, "outputs": [],
   "source": [
    "let rec eval tm v =\n",
    "    if tm = false_tm then \n",
    "        false\n",
    "    elif tm = true_tm then\n",
    "        true\n",
    "    elif tm |\u003e is_bool_atom then \n",
    "        v tm\n",
    "    elif tm |\u003e is_not then \n",
    "        let p = tm |\u003e dest_not\n",
    "        not \u003c| eval p v\n",
    "    elif tm |\u003e is_conj then \n",
    "        let (p,q) = tm |\u003e dest_conj\n",
    "        (eval p v) \u0026\u0026 (eval q v)\n",
    "    elif tm |\u003e is_disj then \n",
    "        let (p,q) = tm |\u003e dest_disj\n",
    "        (eval p v) || (eval q v)\n",
    "    elif tm |\u003e is_imp then \n",
    "        let (p,q) = tm |\u003e dest_imp\n",
    "        not(eval p v) || (eval q v)\n",
    "    elif tm |\u003e is_eq then \n",
    "        let (p,q) = tm |\u003e dest_eq\n",
    "        (eval p v) = (eval q v)\n",
    "    else\n",
    "        failwith \"Not part of propositional logic.\"\n"
   ]
  }
,
  {
   "cell_type": "markdown",
   "metadata": {},
   
   "source": [
    "Questa \u0026egrave; la nostra definizione matematica della semantica della logica proposizionale, che intende costituire una formalizzazione\n",
    "delle nostre intuizioni. Ogni connettivo logico \u0026egrave; interpretato da una corrispondente funzione boolean HOL. Per essere molto espliciti\n",
    "sul significato di questi operatori, possiamo elencare tutte le possibili combinazioni di input e vedere gli output corrispondenti.\n",
    "\n",
    "Possiamo presentare questa informazione in una tavola di verit\u0026agrave; che mostri come il valore di verit\u0026agrave; di una formula \u0026egrave;\n",
    "determinato dalle sue sotto formule immediate.\n",
    "\n",
    "Cos\u0026igrave; per i connettivi binari avremo:\n",
    "\n",
    "\u003e \u003ctable class=\"tab\"\u003e\n",
    "\u003e \t\u003ctr\u003e\n",
    "\u003e \t\t\u003ctd class=\"tab\"\u003ep\u003c/td\u003e\n",
    "\u003e \t\t\u003ctd class=\"tab\"\u003eq\u003c/td\u003e\n",
    "\u003e \t\t\u003ctd class=\"tab\"\u003ep /\\ q\u003c/td\u003e\n",
    "\u003e \t\t\u003ctd class=\"tab\"\u003ep \\/ q\u003c/td\u003e\n",
    "\u003e \t\t\u003ctd class=\"tab\"\u003ep ==\u003e q\u003c/td\u003e\n",
    "\u003e \t\t\u003ctd class=\"tab\"\u003ep \u003c=\u003e q\u003c/td\u003e\n",
    "\u003e \t\u003c/tr\u003e\n",
    "\u003e \t\u003ctr\u003e\n",
    "\u003e \t\t\u003ctd class=\"tab\"\u003efalso\u003c/td\u003e\n",
    "\u003e \t\t\u003ctd class=\"tab\"\u003efalso\u003c/td\u003e\n",
    "\u003e \t\t\u003ctd class=\"tab\"\u003efalso\u003c/td\u003e\n",
    "\u003e \t\t\u003ctd class=\"tab\"\u003efalso\u003c/td\u003e\n",
    "\u003e \t\t\u003ctd class=\"tab\"\u003evero\u003c/td\u003e\n",
    "\u003e \t\t\u003ctd class=\"tab\"\u003evero\u003c/td\u003e\n",
    "\u003e \t\u003c/tr\u003e\n",
    "\u003e     \u003ctr\u003e\n",
    "\u003e \t\t\u003ctd class=\"tab\"\u003efalso\u003c/td\u003e\n",
    "\u003e \t\t\u003ctd class=\"tab\"\u003evero\u003c/td\u003e\n",
    "\u003e \t\t\u003ctd class=\"tab\"\u003efalso\u003c/td\u003e\n",
    "\u003e \t\t\u003ctd class=\"tab\"\u003evero\u003c/td\u003e\n",
    "\u003e \t\t\u003ctd class=\"tab\"\u003evero\u003c/td\u003e\n",
    "\u003e \t\t\u003ctd class=\"tab\"\u003efalso\u003c/td\u003e\n",
    "\u003e \t\u003c/tr\u003e\n",
    "\u003e     \u003ctr\u003e\n",
    "\u003e     \t\u003ctd class=\"tab\"\u003evero\u003c/td\u003e\n",
    "\u003e     \t\u003ctd class=\"tab\"\u003efalso\u003c/td\u003e\n",
    "\u003e     \t\u003ctd class=\"tab\"\u003efalso\u003c/td\u003e\n",
    "\u003e     \t\u003ctd class=\"tab\"\u003evero\u003c/td\u003e\n",
    "\u003e     \t\u003ctd class=\"tab\"\u003efalso\u003c/td\u003e\n",
    "\u003e     \t\u003ctd class=\"tab\"\u003efalso\u003c/td\u003e\n",
    "\u003e     \u003c/tr\u003e\n",
    "\u003e     \u003ctr\u003e\n",
    "\u003e     \t\u003ctd class=\"tab\"\u003evero\u003c/td\u003e\n",
    "\u003e     \t\u003ctd class=\"tab\"\u003evero\u003c/td\u003e\n",
    "\u003e     \t\u003ctd class=\"tab\"\u003evero\u003c/td\u003e\n",
    "\u003e     \t\u003ctd class=\"tab\"\u003evero\u003c/td\u003e\n",
    "\u003e     \t\u003ctd class=\"tab\"\u003evero\u003c/td\u003e\n",
    "\u003e     \t\u003ctd class=\"tab\"\u003evero\u003c/td\u003e\n",
    "\u003e     \u003c/tr\u003e\n",
    "\u003e \u003c/table\u003e\n",
    "\n",
    "e per la negazione unaria:\n",
    "\n",
    "\u003e \u003ctable class=\"tab\"\u003e\n",
    "\u003e \t\u003ctr\u003e\n",
    "\u003e \t\t\u003ctd class=\"tab\"\u003ep\u003c/td\u003e\n",
    "\u003e \t\t\u003ctd class=\"tab\"\u003e~ p\u003c/td\u003e\n",
    "\u003e \t\u003c/tr\u003e\n",
    "\u003e \t\u003ctr\u003e\n",
    "\u003e \t\t\u003ctd class=\"tab\"\u003efalso\u003c/td\u003e\n",
    "\u003e \t\t\u003ctd class=\"tab\"\u003evero\u003c/td\u003e\n",
    "\u003e \t\u003c/tr\u003e\n",
    "\u003e     \u003ctr\u003e\n",
    "\u003e \t\t\u003ctd class=\"tab\"\u003evero\u003c/td\u003e\n",
    "\u003e \t\t\u003ctd class=\"tab\"\u003efalso\u003c/td\u003e\n",
    "\u003e \t\u003c/tr\u003e\n",
    "\u003e \u003c/table\u003e\n",
    "\n",
    "Proviamo a valutare una formula \"p /\\ q ==\u0026gt; q /\\ r\" in una valutazione dove p, q e r sono impostati rispettivamente a\n",
    "\"vero\", \"falso\" e \"vero\". (Non ci preoccupiamo di definire il valore di atomi non coinvolti nella formula, e F#\n",
    "mostra un messaggio di warning che ci informa che non lo abbiamo fatto. Per evitarlo possiamo eventualmente sopprimere il warning\n",
    "avendo l\u0027accortezza di reimpostarlo successivamente.)\n",
    "\n"
   ]
  }
,
  {
   "cell_type": "code",
   "metadata": {
    "dotnet_interactive": {
     "language": "fsharp"
    },
    "polyglot_notebook": {
     "kernelName": "fsharp"
    }
   },
   "execution_count": 8, "outputs": [],
   "source": [
    "//#nowarn \"0025\";;\n",
    "(function Tmvar (\"p\", bool_ty) -\u003e true | Tmvar (\"q\", bool_ty) -\u003e false | Tmvar (\"r\", bool_ty) -\u003e true) \n",
    "|\u003e eval (@\"p /\\ q ==\u003e q /\\ r\" |\u003e parse_term)\n",
    "//val it : bool = true\n"
   ]
  }
,
  {
   "cell_type": "markdown",
   "metadata": {},
   
   "source": [
    "In un\u0027altra valutazione, comunque, la formula viene valutata a \"falso\":\n",
    "\n"
   ]
  }
,
  {
   "cell_type": "code",
   "metadata": {
    "dotnet_interactive": {
     "language": "fsharp"
    },
    "polyglot_notebook": {
     "kernelName": "fsharp"
    }
   },
   "execution_count": 9, "outputs": [],
   "source": [
    "(function Tmvar (\"p\", bool_ty) -\u003e true | Tmvar (\"q\", bool_ty) -\u003e true | Tmvar (\"r\", bool_ty) -\u003e false) \n",
    "|\u003e eval (@\"p /\\ q ==\u003e q /\\ r\" |\u003e parse_term)\n",
    "//val it : bool = false\n"
   ]
  }
,
  {
   "cell_type": "markdown",
   "metadata": {},
   
   "source": [
    "## Tavole di verit\u0026agrave; meccanizzate\n",
    "\n",
    "Intuitivamente sembra naturale che la valutazione di una formula sia indipendente dai valori\n",
    "assegnati dalla valutazione agli atomi che non occorrono nella formula.\n",
    "Rendiamo preciso questo concetto definendo una funzione per estrarre\n",
    "l\u0027insieme delle proposizioni atomiche che occorrono in una formula, In termini matematici astratti, definiremmo atoms nel modo\n",
    "seguente per ricorsione sulle formule:\n",
    "\n",
    "\u003e atoms(true)     =\t{}                        \u003cbr/\u003e\n",
    "atoms(false)    =\t{}                        \u003cbr/\u003e\n",
    "atoms(x)        =\t{x}                       \u003cbr/\u003e\n",
    "atoms(~p)       =\tatoms(p)                  \u003cbr/\u003e\n",
    "atoms(p /\\ q)   =\tatoms(p) U atoms(q)       \u003cbr/\u003e\n",
    "atoms(p \\/ q)   =\tatoms(p) U atoms(q)       \u003cbr/\u003e\n",
    "atoms(p ==\u0026gt; q)  =\tatoms(p) U atoms(q)       \u003cbr/\u003e\n",
    "atoms(p \u003c=\u003e q)  =\tatoms(p) U atoms(q)       \u003cbr/\u003e\n",
    "\u003e \n",
    "\n",
    "Per induzione strutturale sulle formule, si dimostra che atoms(p) \u0026egrave; sempre finito e che quindi\n",
    "\u0026egrave; possibile trattarlo in termini di liste F# (usando le liste per rappresentare insiemi).\n",
    "\n",
    "**Teorema: Per ogni formula proposizionale p, l\u0027insieme atoms(p) \u0026egrave; finito.**\n",
    "\n",
    "**Dimostrazione**. Per induzione sulla struttura della formula.\n",
    "\n",
    "**Se p \u0026egrave; true o false, allora atoms(p) \u0026egrave; l\u0027insieme vuoto, e se p \u0026egrave; un atomo, atoms(p) \u0026egrave; un insieme singoletto.**\n",
    "**In ogni caso, questi sono finiti.**\n",
    "\n",
    "**Se p \u0026egrave; della forma atoms(~ q), allora per ipotesi di induzione atoms(q) \u0026egrave; finito**\n",
    "**e per definizione atoms(~ q) = atoms(q).**\n",
    "\n",
    "**Se p \u0026egrave; della forma q /\\ r, q \\/ r, q ==\u0026gt; r, q \u003c=\u003e r, allora atoms(p) = atoms(q) U atoms(r).**\n",
    "**Per ipotesi di induzione, sia atoms(q) che atoms(r) sono finiti, e l\u0027unione di due insiemi finiti \u0026egrave; un insieme finito.**\n",
    "\n",
    "Analogamente, possiamo giustificare formalmente il fatto intuitivamente ovvio menzionato sopra che\n",
    "\n",
    "**Teorema: Per ogni formula proposizionale p, se due valutazioni v e v\u0027 concordano sull\u0027insieme atmos(p)\n",
    "(\u0026egrave; v(x) = v\u0027(x) per tutti gli x in atoms(p)), allora `eval p v` = `eval p v\u0027`.**\n",
    "\n",
    "**Dimostrazione**. Per induzione sulla struttura della formula.\n",
    "\n",
    "**Se p \u0026egrave; true o false, allora \u0026egrave; interpretata rispettivamente a true e false indipendentemente dalla assegnazione.**\n",
    "\n",
    "**Se p \u0026egrave; un atomo, allora atoms(x) = {x} e per assunzione v(x) = v\u0027(x).**\n",
    "**Quindi eval p v = v(x) = v\u0027(x) = eval p v\u0027.**\n",
    "\n",
    "**Se p \u0026egrave; della forma ~ q, allora allora atoms(p) = {q} e per assunzione v(x) = v\u0027(x).**\n",
    "**Quindi eval p v = not v(q) = not v\u0027(q) = eval p v\u0027.**\n",
    "\n",
    "**Se p \u0026egrave; della forma q /\\ r, q \\/ r, q ==\u0026gt; r, q \u003c=\u003e r, allora atoms(p) = atoms(q) U atoms(r).**\n",
    "**Dal momento che le assegnazioni si accordano sull\u0027unione dei due insiemi, si accordano conseguentemente**\n",
    "**su ognuno degli atoms(q) e atoms(r). Possiamo quindi applicare l\u0027ipotesi di induzione per concludere che**\n",
    "**eval q v = eval q v\u0027 e eval q r = eval r v\u0027. E dal momento che la valutazione di p \u0026egrave; una funzione**\n",
    "**di queste due sottoassegnazioni, eval p v = eval p v\u0027**.\n",
    "\n",
    "La funzione atoms pu\u0026ograve; essere implementata in F# in termini dell\u0027iteratore `atom_union` definito di sopra:\n",
    "\n"
   ]
  }
,
  {
   "cell_type": "code",
   "metadata": {
    "dotnet_interactive": {
     "language": "fsharp"
    },
    "polyglot_notebook": {
     "kernelName": "fsharp"
    }
   },
   "execution_count": 10, "outputs": [],
   "source": [
    "let atoms tm = \n",
    "    atom_union (fun a -\u003e [a]) tm\n"
   ]
  }
,
  {
   "cell_type": "markdown",
   "metadata": {},
   
   "source": [
    "per esempio:\n",
    "\n"
   ]
  }
,
  {
   "cell_type": "code",
   "metadata": {
    "dotnet_interactive": {
     "language": "fsharp"
    },
    "polyglot_notebook": {
     "kernelName": "fsharp"
    }
   },
   "execution_count": 11, "outputs": [],
   "source": [
    "@\"p /\\ q ==\u003e n = (r:bool)\" |\u003e parse_term |\u003e atoms\n",
    "//val it : term list = [n:bool; p:bool; q:bool; r:bool]\n"
   ]
  }
,
  {
   "cell_type": "markdown",
   "metadata": {},
   
   "source": [
    "Poich\u0026egrave; l\u0027interpretazione di una formula proposizionale `p` dipende solo dall\u0027azione della valutazione sull\u0027insieme finito\n",
    "(diciamo di n elementi) `atoms(p)`, e pu\u0026ograve; fare solo una di due scelte, il valore di verit\u0026agrave; finale \u0026egrave; completamente determinato\n",
    "da tutte le 2^n scelte per questi atomi. Quindi possiamo estendere in modo naturale l\u0027enumerazione nella forma di una tavola di verit\u0026agrave;\n",
    "dalle operazioni base a formule arbitrarie. Per implementare questo in F#, iniziamo definendo una funzione che testa se una funzione\n",
    "`subfn` ritorna true su tutte le possibili valutazioni degli atomi `ats`, usando una valutazione esistente `v` per tutti gli altri atomi.\n",
    "Lo spazio di tutte le valutazioni \u0026egrave; esplorato modificando successivamente `v` in modo da impostare ogni atomo `p` a\n",
    "\"vero\" e \"falso\" e richiamando ricorsivamente:\n",
    "\n"
   ]
  }
,
  {
   "cell_type": "code",
   "metadata": {
    "dotnet_interactive": {
     "language": "fsharp"
    },
    "polyglot_notebook": {
     "kernelName": "fsharp"
    }
   },
   "execution_count": 12, "outputs": [],
   "source": [
    "let rec onallvaluations subfn v ats =\n",
    "    match ats with\n",
    "    | [] -\u003e subfn v\n",
    "    | p :: ps -\u003e\n",
    "        let v\u0027 t q =\n",
    "            if q = p then t\n",
    "            else v q\n",
    "        onallvaluations subfn (v\u0027 false) ps\n",
    "        \u0026\u0026 onallvaluations subfn (v\u0027 true) ps\n"
   ]
  }
,
  {
   "cell_type": "markdown",
   "metadata": {},
   
   "source": [
    "Possiamo applicare questa a una funzione che disegna una riga della tavola di verit\u0026agrave; e che ritorna \"vero\".\n",
    "(Il valore di ritorno \u0026egrave; importante, perch \u0026egrave; \u0026amp; valuter\u0026agrave; il suo secondo argomento solo se il\n",
    "primo argomento \u0026egrave; true.) Questo pu\u0026ograve; quindi essere usato per disegnare l\u0027intera tavola di verit\u0026qgrave; per una formula:\n",
    "\n"
   ]
  }
,
  {
   "cell_type": "code",
   "metadata": {
    "dotnet_interactive": {
     "language": "fsharp"
    },
    "polyglot_notebook": {
     "kernelName": "fsharp"
    }
   },
   "execution_count": 13, "outputs": [],
   "source": [
    "let pname tm = \n",
    "    if tm |\u003e is_const then \n",
    "        tm |\u003e const_name\n",
    "    elif tm |\u003e is_var then \n",
    "        tm |\u003e var_name\n",
    "    else \"\"\n",
    "\n",
    "let fprint_truthtable sw fm =\n",
    "    // [P \"p\"; P \"q\"; P \"r\"]\n",
    "    let ats = atoms fm\n",
    "    // 5 + 1 = length of false + length of space\n",
    "    let width = List.foldBack (max \u003c\u003c String.length \u003c\u003c pname) ats 5 + 1\n",
    "    let fixw s = s + String.replicate (width - String.length s) \" \"\n",
    "    let truthstring p = fixw (if p then \"true\" else \"false\")\n",
    "    let mk_row v =\n",
    "        let lis = List.map (fun x -\u003e truthstring (v x)) ats\n",
    "        let ans = truthstring (eval fm v)\n",
    "        fprintf sw \"%s\" (List.foldBack (+) lis (\"| \" + ans))\n",
    "        fprintfn sw \"\"\n",
    "        true\n",
    "    let seperator = String.replicate (width * (List.length ats) + 9) \"-\"\n",
    "    fprintfn sw \"%s\" (List.foldBack (fun s t -\u003e fixw(pname s) + t) ats \"| formula\")\n",
    "    fprintfn sw \"%s\" seperator\n",
    "    let _ = onallvaluations mk_row (fun x -\u003e false) ats\n",
    "    fprintfn sw \"%s\" seperator\n",
    "    fprintfn sw \"\"\n",
    "\n",
    "let writeToString fn = \n",
    "    use sw = new System.IO.StringWriter()\n",
    "    fn sw\n",
    "    sw.ToString()\n",
    "\n",
    "let inline print_truthtable f = fprint_truthtable stdout f\n",
    "let inline sprint_truthtable f = writeToString (fun sw -\u003e fprint_truthtable sw f)\n"
   ]
  }
,
  {
   "cell_type": "markdown",
   "metadata": {},
   
   "source": [
    "Possiamo testare la nostra funzione di stampa su alcune formule:\n",
    "\n"
   ]
  }
,
  {
   "cell_type": "code",
   "metadata": {
    "dotnet_interactive": {
     "language": "fsharp"
    },
    "polyglot_notebook": {
     "kernelName": "fsharp"
    }
   },
   "execution_count": 14, "outputs": [],
   "source": [
    "@\"p \\/ ~ p\" |\u003e parse_term |\u003e print_truthtable\n",
    "//p     | formula\n",
    "//---------------\n",
    "//false | true  \n",
    "//true  | true  \n",
    "//---------------\n",
    "\n",
    "//val it : unit = ()\n",
    "\n",
    "@\"(true ==\u003e (x = false)) ==\u003e ~(y \\/ false /\\ z)\" |\u003e parse_term |\u003e print_truthtable\n",
    "//x     y     z     false true  | formula\n",
    "//---------------------------------------\n",
    "//false false false false false | true  \n",
    "//false false false false true  | true  \n",
    "//false false false true  false | true  \n",
    "//false false false true  true  | true  \n",
    "//false false true  false false | true  \n",
    "//false false true  false true  | true  \n",
    "//false false true  true  false | true  \n",
    "//false false true  true  true  | true  \n",
    "//false true  false false false | false \n",
    "//false true  false false true  | false \n",
    "//false true  false true  false | false \n",
    "//false true  false true  true  | false \n",
    "//false true  true  false false | false \n",
    "//false true  true  false true  | false \n",
    "//false true  true  true  false | false \n",
    "//false true  true  true  true  | false \n",
    "//true  false false false false | true  \n",
    "//true  false false false true  | true  \n",
    "//true  false false true  false | true  \n",
    "//true  false false true  true  | true  \n",
    "//true  false true  false false | true  \n",
    "//true  false true  false true  | true  \n",
    "//true  false true  true  false | true  \n",
    "//true  false true  true  true  | true  \n",
    "//true  true  false false false | true  \n",
    "//true  true  false false true  | true  \n",
    "//true  true  false true  false | true  \n",
    "//true  true  false true  true  | true  \n",
    "//true  true  true  false false | true  \n",
    "//true  true  true  false true  | true  \n",
    "//true  true  true  true  false | true  \n",
    "//true  true  true  true  true  | true  \n",
    "//---------------------------------------\n",
    "\n",
    "//val it : unit = ()\n"
   ]
  }
,
  {
   "cell_type": "markdown",
   "metadata": {},
   
   "source": [
    "## Simplifying propositional formulas\n",
    "\n",
    "Then I define a simplyfication function on proposition in way similar to that described by\n",
    "the John Harrison\u0027s Handbook of Automated Reasoing customized on the typed lambda language of hol.\n",
    "\n",
    "`psimplify1` is an zusiliary function:\n",
    "\n"
   ]
  }
,
  {
   "cell_type": "code",
   "metadata": {
    "dotnet_interactive": {
     "language": "fsharp"
    },
    "polyglot_notebook": {
     "kernelName": "fsharp"
    }
   },
   "execution_count": 16, "outputs": [],
   "source": [
    "let psimplify1 tm = \n",
    "    if tm |\u003e is_not then \n",
    "        let tm1 = tm |\u003e dest_not\n",
    "        match tm1 with\n",
    "        | Tmconst (\"false\", bool_ty)     -\u003e true_tm\n",
    "        | Tmconst (\"true\", bool_ty)      -\u003e false_tm\n",
    "        | tm1 when tm1 |\u003e is_not         -\u003e tm1 |\u003e dest_not\n",
    "        | _                              -\u003e tm\n",
    "    elif tm |\u003e is_conj then              \n",
    "        let (tm1,tm2) = tm |\u003e dest_conj  \n",
    "        match (tm1,tm2) with             \n",
    "        | (Tmconst (\"false\", bool_ty),_) \n",
    "        | (_,Tmconst (\"false\", bool_ty)) \n",
    "                                         -\u003e false_tm\n",
    "        | (Tmconst (\"true\", bool_ty),p)  \n",
    "        | (p,Tmconst (\"true\", bool_ty))  \n",
    "                                         -\u003e p\n",
    "        | _                              -\u003e tm\n",
    "    elif tm |\u003e is_disj then              \n",
    "        let (tm1,tm2) = tm |\u003e dest_disj  \n",
    "        match (tm1,tm2) with             \n",
    "        | (Tmconst (\"false\", bool_ty),p) \n",
    "        | (p,Tmconst (\"false\", bool_ty)) \n",
    "                                         -\u003e p\n",
    "        | (Tmconst (\"true\", bool_ty),_)  \n",
    "        | (_,Tmconst (\"true\", bool_ty))  \n",
    "                                         -\u003e true_tm\n",
    "        | _                              -\u003e tm\n",
    "    elif tm |\u003e is_imp then               \n",
    "        let (tm1,tm2) = tm |\u003e dest_imp   \n",
    "        match (tm1,tm2) with             \n",
    "        | (Tmconst (\"false\", bool_ty),_) \n",
    "        | (_,Tmconst (\"true\", bool_ty))  \n",
    "                                         -\u003e true_tm\n",
    "        | (Tmconst (\"true\", bool_ty),p)  -\u003e p\n",
    "        | (p,Tmconst (\"false\", bool_ty)) -\u003e p |\u003e mk_not\n",
    "        | _                              -\u003e tm\n",
    "    elif tm |\u003e is_eq then               \n",
    "        let (tm1,tm2) = tm |\u003e dest_eq   \n",
    "        match (tm1,tm2) with             \n",
    "        | (Tmconst (\"true\", bool_ty),p)  \n",
    "        | (p,Tmconst (\"true\", bool_ty))  \n",
    "                                         -\u003e p\n",
    "        | (Tmconst (\"false\", bool_ty),p) \n",
    "        | (p,Tmconst (\"false\", bool_ty)) \n",
    "                                         -\u003e p |\u003e mk_not\n",
    "        | _                              -\u003e tm\n",
    "    else tm\n"
   ]
  }
,
  {
   "cell_type": "markdown",
   "metadata": {},
   
   "source": [
    "With that ready than I define `psimplify` itself:\n",
    "\n"
   ]
  }
,
  {
   "cell_type": "code",
   "metadata": {
    "dotnet_interactive": {
     "language": "fsharp"
    },
    "polyglot_notebook": {
     "kernelName": "fsharp"
    }
   },
   "execution_count": 18, "outputs": [],
   "source": [
    "let rec psimplify tm =\n",
    "    if tm |\u003e is_not then\n",
    "        let p = tm |\u003e dest_not\n",
    "        psimplify1 ((psimplify p) |\u003e mk_not)\n",
    "    elif tm |\u003e is_conj then\n",
    "        let (p,q) = tm |\u003e dest_conj\n",
    "        psimplify1 ((psimplify p, psimplify q) |\u003e mk_conj)\n",
    "    elif tm |\u003e is_disj then\n",
    "        let (p,q) = tm |\u003e dest_disj\n",
    "        psimplify1 ((psimplify p, psimplify q) |\u003e mk_disj)\n",
    "    elif tm |\u003e is_imp then\n",
    "        let (p,q) = tm |\u003e dest_imp\n",
    "        psimplify1 ((psimplify p, psimplify q) |\u003e mk_imp)\n",
    "    elif tm |\u003e is_eq then\n",
    "        let (p,q) = tm |\u003e dest_eq\n",
    "        psimplify1 ((psimplify p, psimplify q) |\u003e mk_eq)\n",
    "    else tm\n"
   ]
  }
,
  {
   "cell_type": "markdown",
   "metadata": {},
   
   "source": [
    "Applying the function gives the desired result:\n",
    "\n"
   ]
  }
,
  {
   "cell_type": "code",
   "metadata": {
    "dotnet_interactive": {
     "language": "fsharp"
    },
    "polyglot_notebook": {
     "kernelName": "fsharp"
    }
   },
   "execution_count": 19, "outputs": [],
   "source": [
    "@\"(true ==\u003e (x = false)) ==\u003e ~(y \\/ false /\\ z)\" |\u003e parse_term |\u003e psimplify\n",
    "//val it : term = `~ x ==\u003e ~ y`\n"
   ]
  }
,
  {
   "cell_type": "markdown",
   "metadata": {},
   
   "source": [
    "## Valuating a formula\n",
    "\n",
    "To valuate a formula, in general, I need a function that given an assignment\n",
    "to all prop variables of the formulas give me its global truth value.\n",
    "\n",
    "Here is it:\n",
    "\n"
   ]
  }
,
  {
   "cell_type": "code",
   "metadata": {
    "dotnet_interactive": {
     "language": "fsharp"
    },
    "polyglot_notebook": {
     "kernelName": "fsharp"
    }
   },
   "execution_count": 20, "outputs": [],
   "source": [
    "let rec onatoms f tm =\n",
    "    if tm |\u003e is_bool_term then \n",
    "        f tm\n",
    "    else tm\n",
    "\n",
    "@\"a:bool\" |\u003e parse_term |\u003e atoms\n",
    "@\"true\" |\u003e parse_term |\u003e atoms\n",
    "@\"~p\" |\u003e parse_term |\u003e atoms\n",
    "@\"~p /\\ q /\\ r ==\u003e (v:bool) = x\" |\u003e parse_term |\u003e atoms\n",
    "\n",
    "@\"a:bool\" |\u003e parse_term |\u003e is_bool_term\n",
    "\n",
    "let x = (@\"p:bool\" |\u003e parse_term) \n"
   ]
  }
 ],
 "metadata": {
  "kernelspec": {
   "display_name": ".NET (F#)",
   "language": "F#",
   "name": ".net-fsharp"
  },
  "language_info": {
   "file_extension": ".fs",
   "mimetype": "text/x-fsharp",
   "name": "polyglot-notebook",
   "pygments_lexer": "fsharp"
  },
  "polyglot_notebook": {
   "kernelInfo": {
    "defaultKernelName": "fsharp",
    "items": [
     {
      "aliases": [],
      "languageName": "fsharp",
      "name": "fsharp"
     }
    ]
   }
  }
 },
 "nbformat": 4,
 "nbformat_minor": 2
}

