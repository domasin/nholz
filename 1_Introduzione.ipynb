
{
 "cells": [
  {
   "cell_type": "markdown",
   "metadata": {},
   
   "source": [
    "# Introduzione\n",
    "\n",
    "Questo \u0026egrave; il Manuale Utente di NHOLZ e fornisce una descrizione completa di come usare il sistema.\n",
    "\n",
    "## 1.1 Concetti Base\n",
    "\n",
    "**1.1.1 NHOLZ**\n",
    "\n",
    "NHOLZ \u0026egrave; un porting di HOL Zero in F# che ha lo scopo di avere un dimostratore di teoremi HOL, cio\u0026egrave; un programma\n",
    "che supporta dimostrazioni formali e lo sviluppo di teorie nella logica HOL (si veda pi\u0026ugrave; avanti), a disposizione in F#\n",
    "per lo studio a livello personale di sistemi di questo tipo. Si \u0026egrave; scelto HOL Zero come base perch\u0026eacute; \u0026egrave;\n",
    "un dimostratore di teoremi relativamente semplice che si concentra su buone funzionalit\u0026agrave; di base,\n",
    "robustezza architetturale, lo sviluppo della sintassi concreta, un prettyprinting completo e non ambiguo, e la\n",
    "leggibilit\u0026agrave; del codice sorgente e perch\u0026eacute; per le sue caratteristiche \u0026egrave; risultato piuttosto semplice\n",
    "effettuarne il porting.\n",
    "\n",
    "NHOLZ non \u0026egrave; adatto allo sviluppo di dimostrazioni di grandi dimensioni. Esso, infatti, supporta soltanto uno\n",
    "stile di dimostrazione nella semplice deduzione naturale, e manca di funzionalit\u0026agrave; interattive ed automatiche\n",
    "avanzate che altri sistemi HOL hanno.\n",
    "\n",
    "L\u0027interazione utente con HOL avviene immettendo istruzioni a riga di comando in formato ASCII in una sessione\n",
    "interativa F#. Queste istruzioni sono di fatto espressioni nel linguaggio di programmazione che vengono valutate\n",
    "dall\u0027interprete REPL una volta immesse.\n",
    "\n",
    "Coloro che hanno una pi\u0026ugrave; profonda conoscenza di F# possono estenderne le funzionalit\u0026agrave;. Una modalit\u0026agrave; di\n",
    "estensione consiste nell\u0027immettere definizioni in una sessione di NHOLZ (cio\u0026egrave; una sessione interativa F# con il codice\n",
    "sorgente di NHOLZ incorporata). Qualsiasi di queste estensioni sono sicure nel senso che non possono introdurre incoerenze\n",
    "logiche nel sistema. Questa sicurezza \u0026egrave; garantita dal fatto che NHOLZ \u0026egrave; implementato secondo quella che viene\n",
    "chiamata un\u0027architettura nello \u0027\u0027stile LCF\u0027\u0027 (si veda la Sessione 4.1.3), che \u0026egrave; usata anche in altri sistemi HOL.\n",
    "\n",
    "**1.1.2 La logica HOL**\n",
    "\n",
    "La logica HOL \u0026egrave; una logica predicativa tipizzata, classica, di ordine superiore, cio\u0026egrave; una logica\n",
    "predicativa con un sistema di tipi, con la legge del terzo escluso come teorema, e con la possibilit\u0026agrave; di\n",
    "quantificare su funzioni. E\u0027 basata sul lambda calcolo tipizzato di Alonzo Church. Ha un sistema polimorfico di\n",
    "tipi relativamente semplice che non \u0026egrave; dipendentemente tipizzato e non supporta la quantificazione su\n",
    "variabili di tipo. Si faccia riferimento al glossario per una spiegazione estesa di questi concetti.\n",
    "\n",
    "La logica HOL fu sviluppata per la prima volta negli anni 1980 per un sistema prototipo chiamato Cambridge HOL, ed\n",
    "\u0026egrave; ora supportata dalla famiglia di dimostratori di teoremi HOL che include HOL4, ProofPower HOL, HOL Light\n",
    "e Isabelle/HOL. Questi sistemi sono stati utilizzati come strumenti affidabili essenziali in una variet\u0026agrave; di\n",
    "progetti industriali, che includono la verifica dello sviluppo di microcircuiti integrati per computer e software\n",
    "safety-critical. Essi sono anche preminenti nella formalizzazione della matematica, in particolare nell\u0027innovativo\n",
    "progetto Flyspeck di Tom Hales per formalizzare la sua dimostrazione della congettura di Keplero.\n",
    "\n",
    "**1.1.3 Common HOL**\n",
    "\n",
    "Common HOL \u0026egrave; uno standard per le funzionalit\u0026agrave; di base di un sistema HOL, che ha lo scopo di facilitare la portabilit\u0026agrave; del codice sorgente\n",
    "e delle dimostrazioni formali tra i membri della famiglia HOL. Esso consiste nelle seguenti componenti:\n",
    "\n",
    "* la specifica di una API di funzionalit\u0026agrave; HOL di base, per permettere il porting del codice sorgente tra sistemi HOL compatibili;\n",
    "\n",
    "* l\u0027implementazione dell\u0027API per vari sistemi HOL;\n",
    "\n",
    "* la specifica di un formato di file di dimostrazione, per permettere il porting delle dimostrazioni formali tra sistemi HOL compatibili;\n",
    "\n",
    "* l\u0027implementazioni di oggetti per l\u0027esportazione e l\u0027importazione delle dimostrazioni tra vari sistemi HOL.\n",
    "\n",
    "NHOLZ, in generale, supporta lo standard Common HOL avendolo ereditato da HOL Zero. Va, tuttavia, notato che non supporta\n",
    "le term e le type quotation.\n",
    "\n",
    "## 1.2 Avviare una sessione\n",
    "\n",
    "Una sessione di NHOLZ \u0026egrave; avviata da uno script F#. Innanzitutto \u0026egrave; necessario referenziare la dll\n",
    "e importare i relativi moduli:\n",
    "\n"
   ]
  }
,
  {
   "cell_type": "code",
   "metadata": {
    "dotnet_interactive": {
     "language": "fsharp"
    },
    "polyglot_notebook": {
     "kernelName": "fsharp"
    }
   },
   "execution_count": null, "outputs": [],
   "source": [
    "#I \"../src/bin/Debug/net7.0\"\n",
    "#r \"nholz.dll\"\n",
    "open HOL\n"
   ]
  }
,
  {
   "cell_type": "markdown",
   "metadata": {},
   
   "source": [
    "impostare il pretty printing delle espressioni:\n",
    "\n"
   ]
  }
,
  {
   "cell_type": "code",
   "metadata": {
    "dotnet_interactive": {
     "language": "fsharp"
    },
    "polyglot_notebook": {
     "kernelName": "fsharp"
    }
   },
   "execution_count": null, "outputs": [],
   "source": [
    "fsi.AddPrinter print_type\n",
    "fsi.AddPrinter print_qtype\n",
    "fsi.AddPrinter print_term\n",
    "fsi.AddPrinter print_qterm\n",
    "fsi.AddPrinter print_thm\n"
   ]
  }
,
  {
   "cell_type": "markdown",
   "metadata": {},
   
   "source": [
    "e caricare quindi i moduli con i seguenti comandi:\n",
    "\n"
   ]
  }
,
  {
   "cell_type": "code",
   "metadata": {
    "dotnet_interactive": {
     "language": "fsharp"
    },
    "polyglot_notebook": {
     "kernelName": "fsharp"
    }
   },
   "execution_count": null, "outputs": [],
   "source": [
    "CoreThry.load\n",
    "Equal.load\n",
    "Bool.load\n",
    "BoolAlg.load\n",
    "BoolClass.load\n",
    "Pair.load\n",
    "Ind.load\n",
    "Nat.load\n",
    "NatNumrl.load\n",
    "NatArith.load\n",
    "NatRel.load\n",
    "NatEval.load\n"
   ]
  }
,
  {
   "cell_type": "markdown",
   "metadata": {},
   
   "source": [
    "I primi pochi secondi di avvio richiedono il build del sistema da zero. Alcune centinaia di righe di output\n",
    "scorrono velocemente sullo schermo.\n",
    "\n"
   ]
  }
,
  {
   "cell_type": "code",
   "metadata": {
    "dotnet_interactive": {
     "language": "fsharp"
    },
    "polyglot_notebook": {
     "kernelName": "fsharp"
    }
   },
   "execution_count": null, "outputs": [],
   "source": [
    "// ...\n",
    "// [HZ] Storing theorem \"sub_floor_thm\".\n",
    "// [HZ] Setting term fixity for name \"\u003e\".\n",
    "// [HZ] Declaring constant \"\u003e\".\n",
    "// [HZ] Adding definition for constant \"\u003e\".\n",
    "// [HZ] Setting term fixity for name \"\u003e=\".\n",
    "// [HZ] Declaring constant \"\u003e=\".\n",
    "// [HZ] Adding definition for constant \"\u003e=\".\n",
    "// val it : (string * thm) list =\n",
    "//   [(\"eta_ax\", |- !(f:\u0027a-\u003e\u0027b). (\\x. f x) = f);\n",
    "//    (\"imp_antisym_ax\", |- !p1 p2. (p1 ==\u003e p2) ==\u003e (p2 ==\u003e p1) ==\u003e (p1 \u003c=\u003e p2));\n",
    "//    (\"infinity_ax\", |- ?(f:ind-\u003eind). ONE_ONE f /\\ ~ ONTO f);\n",
    "//    (\"select_ax\", |- !(P:\u0027a-\u003ebool) x. P x ==\u003e P ($@ P))]\n",
    "// \n",
    "// \u003e \n"
   ]
  }
,
  {
   "cell_type": "markdown",
   "metadata": {},
   
   "source": [
    "il sistema è quindi pronto per ricevere i comandi dall\u0027utente.\n",
    "Questi comandi sono di fatto espressioni F#.\n",
    "\n",
    "## 1.3 Panoramica d\u0027uso\n",
    "\n",
    "Questa sezione fornisce una breve introduzione a semplici operazioni, incluso come immettere espressioni\n",
    "HOL e come eseguire una semplice dimostrazione. Per informazioni pi\u0026ugrave; approfondite,\n",
    "il lettore dovrebbe procedere nei capitoli seguenti del manuale.\n",
    "\n",
    "**1.3.1 Termini, Tipi e Teoremi**\n",
    "\n",
    "Le espressioni nel linguaggio HOL sono chiamati termini HOL. I termini sono scritti utilizzando una stringa di caratteri\n",
    "ASCII a cui va applicata la funzione `parse_term`. Nel momento in cui si immette un termine in una sessione\n",
    "questo viene controllato e ristampato a video.\n",
    "\n",
    "La sintassi dei termini \u0026egrave; semplice e intuitiva, e si va incontro a vari meccanismi sintattici.\n",
    "Per esempio, il seguente termine significa \u0027\u0027per tutti i numeri naturali `x`, `y` e `z`, se `x` \u0026egrave;\n",
    "minore di `y` e `y` \u0026egrave; minore di `z` allora `x` \u0026egrave; minore di `z`\u0027\u0027:\n",
    "\n"
   ]
  }
,
  {
   "cell_type": "code",
   "metadata": {
    "dotnet_interactive": {
     "language": "fsharp"
    },
    "polyglot_notebook": {
     "kernelName": "fsharp"
    }
   },
   "execution_count": null, "outputs": [],
   "source": [
    "@\"!x y z. x \u003c y /\\ y \u003c z ==\u003e x \u003c z\" |\u003e parse_term\n"
   ]
  }
,
  {
   "cell_type": "code",
   "metadata": {
    "dotnet_interactive": {
     "language": "fsharp"
    },
    "polyglot_notebook": {
     "kernelName": "fsharp"
    }
   },
   "execution_count": null, "outputs": [],
   "source": [
    "Warning: Output, it-value and value references require --eval\n"
   ]
  }
,
  {
   "cell_type": "markdown",
   "metadata": {},
   
   "source": [
    "Se si immette un termine mal formato si ricever\u0026agrave; un messaggio di errore.\n",
    "\n"
   ]
  }
,
  {
   "cell_type": "code",
   "metadata": {
    "dotnet_interactive": {
     "language": "fsharp"
    },
    "polyglot_notebook": {
     "kernelName": "fsharp"
    }
   },
   "execution_count": null, "outputs": [],
   "source": [
    "\"x =\" |\u003e parse_term\n",
    "\n",
    "// \u003e \n",
    "// HOL.Exn+HolErr: [HZ] SYNTAX ERROR: Unexpected end of quotation instead of RHS for infix \"=\"\n",
    "// ...\n"
   ]
  }
,
  {
   "cell_type": "markdown",
   "metadata": {},
   
   "source": [
    "Si noti che i messaggi specifici del sistema, diversamente da quelli che derivano dall\u0027interprete F#,\n",
    "in generale, hanno il prefisso `[HZ]()\u0027. Questo vale per tutti i messaggi riportati da NHOLZ, inclusi\n",
    "messaggi di errore, warnings e feedback generici all\u0027utente.\n",
    "\n",
    "HOL \u0026egrave; un linguaggio tipizzato, cos\u0026igrave; ogni termine e sottotermine ha un tipo, e i termini\n",
    "devono essere costruiti in modo da avere un tipo corretto. Questo impedisce la costruzione di enunciati\n",
    "privi di significato come \u0027\u00273 \u0026egrave; uguale a vero\u0027\u0027.\n",
    "\n"
   ]
  }
,
  {
   "cell_type": "code",
   "metadata": {
    "dotnet_interactive": {
     "language": "fsharp"
    },
    "polyglot_notebook": {
     "kernelName": "fsharp"
    }
   },
   "execution_count": null, "outputs": [],
   "source": [
    "\"3 = true\" |\u003e parse_term\n",
    "// \u003e \n",
    "// HOL.Exn+HolErr: [HZ] TYPE ERROR: Function subterm domain type incompatible with argument subterm type\n"
   ]
  }
,
  {
   "cell_type": "markdown",
   "metadata": {},
   
   "source": [
    "I sottotermini possono essere annotati per indicare il loro tipo, facendo seguire al sottotermine\n",
    "il simbolo di i due punti `:` e poi il suo tipo, il tutto chiuso tra parentesi.\n",
    "Il meccanismo di inferenza del tipo \u0026egrave; usato per risolvere i tipi nei termini. Ad ogni termine inserito\n",
    "senza annotazioni di tipo sufficienti sono assegnate delle variabili di tipo numerate per tutti i tipi non\n",
    "determinabili. Di default i termini sono ristampati indietro con solamente le annotazioni di tipo sufficienti\n",
    "per evitare qualsiasi ambiguit\u0026agrave; circa i tipi di ogni sottotermine.\n",
    "\n"
   ]
  }
,
  {
   "cell_type": "code",
   "metadata": {
    "dotnet_interactive": {
     "language": "fsharp"
    },
    "polyglot_notebook": {
     "kernelName": "fsharp"
    }
   },
   "execution_count": null, "outputs": [],
   "source": [
    "\"!(w:nat) (x:nat) y z. w = x /\\ y = z\" |\u003e parse_term\n"
   ]
  }
,
  {
   "cell_type": "code",
   "metadata": {
    "dotnet_interactive": {
     "language": "fsharp"
    },
    "polyglot_notebook": {
     "kernelName": "fsharp"
    }
   },
   "execution_count": null, "outputs": [],
   "source": [
    "Warning: Output, it-value and value references require --eval\n"
   ]
  }
,
  {
   "cell_type": "markdown",
   "metadata": {},
   
   "source": [
    "I tipi HOL possono essere scritti fuori dal contesto di un termine usando la funzone `parse_type`.\n",
    "\n"
   ]
  }
,
  {
   "cell_type": "code",
   "metadata": {
    "dotnet_interactive": {
     "language": "fsharp"
    },
    "polyglot_notebook": {
     "kernelName": "fsharp"
    }
   },
   "execution_count": null, "outputs": [],
   "source": [
    "\"nat#nat-\u003ebool\" |\u003e parse_type\n"
   ]
  }
,
  {
   "cell_type": "code",
   "metadata": {
    "dotnet_interactive": {
     "language": "fsharp"
    },
    "polyglot_notebook": {
     "kernelName": "fsharp"
    }
   },
   "execution_count": null, "outputs": [],
   "source": [
    "Warning: Output, it-value and value references require --eval\n"
   ]
  }
,
  {
   "cell_type": "markdown",
   "metadata": {},
   
   "source": [
    "## 1.3.2 Teoremi, Dimostrazioni ed Asserzioni\n",
    "\n",
    "I teoremi HOL consistono di un insieme di termini di assunzione con valore booleano e di un termine conclusione con\n",
    "valore booleano, e sono riservati ad enunciati di cui si \u0026egrave; stabilito che valgono (per dimostrazione o asserzione\n",
    "- si veda sotto). Il significato di tali enunciati \u0026egrave; che la conclusione vale assumendo che valgano tutte le assunzioni.\n",
    "I teoremi sono mostrati usando un runstile (`|-`) per separare tutte le assunzioni dalla conclusione. Il sistema di base\n",
    "contiene gi\u0026agrave; oltre 100 teoremi pre-dimostrati, ognuno dei quali non ha assunzione. Questi sono elencati\n",
    "nell\u0027Appendice B2.\n",
    "\n"
   ]
  }
,
  {
   "cell_type": "code",
   "metadata": {
    "dotnet_interactive": {
     "language": "fsharp"
    },
    "polyglot_notebook": {
     "kernelName": "fsharp"
    }
   },
   "execution_count": null, "outputs": [],
   "source": [
    "excluded_middle_thm\n"
   ]
  }
,
  {
   "cell_type": "code",
   "metadata": {
    "dotnet_interactive": {
     "language": "fsharp"
    },
    "polyglot_notebook": {
     "kernelName": "fsharp"
    }
   },
   "execution_count": null, "outputs": [],
   "source": [
    "Warning: Output, it-value and value references require --eval\n"
   ]
  }
,
  {
   "cell_type": "markdown",
   "metadata": {},
   
   "source": [
    "Le regole di inferenza della logica HOL sono implementate in NHOLZ come funzioni F# che prendono\n",
    "teoremi e/o termini e restituiscono teoremi. Un passo di dimostrazione \u0026egrave; eseguito semplicemente\n",
    "valutando l\u0027applicazione di una tale funzione. Dettagli sulle regole d\u0027inferenza sono forniti\n",
    "nell\u0027[Appendice A5](A5_Inference_Rules.html)\n",
    "\n"
   ]
  }
,
  {
   "cell_type": "code",
   "metadata": {
    "dotnet_interactive": {
     "language": "fsharp"
    },
    "polyglot_notebook": {
     "kernelName": "fsharp"
    }
   },
   "execution_count": null, "outputs": [],
   "source": [
    "\"x + y \u003c 5\" |\u003e parse_term |\u003e assume_rule\n",
    "// val it : thm = x + y \u003c 5 |- x + y \u003c 5\n",
    "\n",
    "spec_rule (\"a = 0\" |\u003e parse_term) excluded_middle_thm\n",
    "// val it : thm = |- a = 0 \\/ ~ (a = 0)\n"
   ]
  }
,
  {
   "cell_type": "markdown",
   "metadata": {},
   
   "source": [
    "Le dimostrazioni sono semplicemente espressioni F# composte con applicazioni di regole di inferenza ad ogni livello.\n",
    "\n"
   ]
  }
,
  {
   "cell_type": "code",
   "metadata": {
    "dotnet_interactive": {
     "language": "fsharp"
    },
    "polyglot_notebook": {
     "kernelName": "fsharp"
    }
   },
   "execution_count": null, "outputs": [],
   "source": [
    "deduct_antisym_rule\n",
    "    (contr_rule (\"~ true\" |\u003e parse_term) (assume_rule (\"false\" |\u003e parse_term)))\n",
    "    (eq_mp_rule (eqf_intro_rule (assume_rule (\"~ true\" |\u003e parse_term))) truth_thm)\n",
    "// val it : thm = |- ~ true \u003c=\u003e false\n"
   ]
  }
,
  {
   "cell_type": "markdown",
   "metadata": {},
   
   "source": [
    "il sistema di base supporta le seguenti teorie matematiche di base: logica predicativa, lambda calcolo,\n",
    "coppie ordinate e aritmetica dei numeri naturali. Dettagli circa ogni teoria sono forniti\n",
    "nell\u0027[Appendice B1](B1_Teorie.html).\n",
    "\n",
    "Le teorie del sistema possono essere estese usando i comandi di teoria per dichiarare nuove\n",
    "costanti e costanti di tipo e per enunciare proposizioni a loro riguardo. Per esempio, il\n",
    "comando di definizione di costante introduce una nuova costante e restituisce un nuovo\n",
    "teorema, che afferma che il valore della costante \u0026egrave; uguale a un\u0027espressione data.\n",
    "Prende un termine di uguaglianza con la nuova costante come lato sinistro del\u0027eguaglianza e\n",
    "il valore della costante come lato destro. Dettagli su ciascun comendo di teoria sono forniti\n",
    "nell\u0027Appendice A4.\n",
    "\n"
   ]
  }
,
  {
   "cell_type": "code",
   "metadata": {
    "dotnet_interactive": {
     "language": "fsharp"
    },
    "polyglot_notebook": {
     "kernelName": "fsharp"
    }
   },
   "execution_count": null, "outputs": [],
   "source": [
    "\"max_height = 7\" |\u003e parse_term |\u003e new_const_definition\n",
    "// [HZ] Declaring constant \"max_height\".\n",
    "// [HZ] Adding definition for constant \"max_height\".\n",
    "// val it : thm = |- max_height = 7\n"
   ]
  }
 ],
 "metadata": {
  "kernelspec": {
   "display_name": ".NET (F#)",
   "language": "F#",
   "name": ".net-fsharp"
  },
  "language_info": {
   "file_extension": ".fs",
   "mimetype": "text/x-fsharp",
   "name": "polyglot-notebook",
   "pygments_lexer": "fsharp"
  },
  "polyglot_notebook": {
   "kernelInfo": {
    "defaultKernelName": "fsharp",
    "items": [
     {
      "aliases": [],
      "languageName": "fsharp",
      "name": "fsharp"
     }
    ]
   }
  }
 },
 "nbformat": 4,
 "nbformat_minor": 2
}

