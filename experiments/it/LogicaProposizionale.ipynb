{
 "cells": [
  {
   "cell_type": "markdown",
   "metadata": {},
   "source": [
    "# Logica Proposizionale\n",
    "\n",
    "## Riferimenti\n",
    "\n",
    "In questa sezione esploriamo la logica proposizionale sfruttando il framework HOL di nholz. [Nholz](https://github.com/domasin/nholz) è semplicemente un porting in F# di [HOL Zero](http://www.proof-technologies.com/holzero/) che a sua volta è un dimostratore interattivo di teoremi sviluppato da Mark Adams in OCaml nello stile LCF della famiglia HOL.\n",
    "\n",
    "Sfruttiamo il linguaggio definito da HolZero per esplorare la logica proposizionale con la guida dell'[Handbook of Practical Logic and Automated Reasoning](https://www.cl.cam.ac.uk/~jrh13/atp/) di John Harrison, seguendo passo passo il capitolo sulla logica proposizionale e riadattando le funzioni lì definite al linguaggio HOL del nostro framework. \n",
    "\n",
    "L'Handbook di John Harrison è accompagnato da codice sorgente in OCaml che è stato portato in F# da Eric Taucher, Jack Pappas, Anh-Dung Phan ed è disponibile su Github: [fsharp-logic-examples](https://github.com/jack-pappas/fsharp-logic-examples/). Nel ridefinire le funzioni dell'handbook riadattandole alla logica HOL si è utilizzata come riferimento proprio l'implementazione in F# del codice descritto nell'Handbook.\n",
    "\n",
    "## Introduzione\n",
    "\n",
    "La logica proposizionale studia espressioni che intendono rappresentare proposizioni, cioè  affermazioni che possono essere considerate vere o false e che chiameremo nel seguito semplicemente \"formule\". All'interno del framework HOL che utilizziamo, queste sono semplicemente termini di tipo `bool` che possono essere costruite da atomi booleani, costituiti dalle costanti `true` e `false` e da variabili di tipo `bool`, a cui sono applicati i connettivi logici proposizionali `~`, `/\\`, `\\/`, `<=>` e `<=>`. Le proposizioni atomiche sono come le variabili nell'algebra ordinaria, e a volte ci riferiamo ad esse come variabili proposizionali o variabili booleane. Come suggerisce la parola \"atomiche\", non ne viene analizzata la struttura interna; questo porterebbe a considerare una logica predicativa che al momento non viene trattata. I connettivi proposizionali all'interno della logica HOL sono semplicemente funzioni da valori di verità a valori di verità.\n",
    "\n",
    "## Avvio del motore logico\n",
    "\n",
    "Per iniziare referenziamo il motore di nholz:"
   ]
  },
  {
   "cell_type": "code",
   "execution_count": 1,
   "metadata": {
    "dotnet_interactive": {
     "language": "fsharp"
    },
    "polyglot_notebook": {
     "kernelName": "fsharp"
    }
   },
   "outputs": [
    {
     "data": {
      "text/html": [
       "<div><div></div><div></div><div><strong>Installed Packages</strong><ul><li><span>nholz2, 1.0.0</span></li></ul></div></div>"
      ]
     },
     "metadata": {},
     "output_type": "display_data"
    }
   ],
   "source": [
    "#r \"nuget: nholz2\"\n",
    "\n",
    "open HOL\n"
   ]
  },
  {
   "cell_type": "markdown",
   "metadata": {},
   "source": [
    "e istruiamo l'interprete .NET Interactive a restituire una rappresentazione concreta della sintassi dei tipi e dei termini piuttosto che la loro sintassi astratta interna al sistema:"
   ]
  },
  {
   "cell_type": "code",
   "execution_count": 2,
   "metadata": {
    "dotnet_interactive": {
     "language": "fsharp"
    },
    "polyglot_notebook": {
     "kernelName": "fsharp"
    }
   },
   "outputs": [],
   "source": [
    "module HolTypeAndTermsFormatter =\n",
    "    Formatter.SetPreferredMimeTypesFor(typeof<hol_type> ,\"text/html\")\n",
    "    Formatter.Register<hol_type>((fun ty -> print_type ty), \"text/html\")\n",
    "\n",
    "    Formatter.SetPreferredMimeTypesFor(typeof<term> ,\"text/html\")\n",
    "    Formatter.Register<term>((fun tm -> print_term tm), \"text/html\")\n",
    "    Formatter.Register<term list>((fun xs -> \n",
    "                                    xs\n",
    "                                    |> Seq.map (print_term)\n",
    "                                    |> fun x -> sprintf \"[%s]\" (x |> String.concat \", \")),\"text/html\")\n",
    "    Formatter.Register<term * term>((fun (x,y) -> \n",
    "        sprintf \"(%s, %s)\" (x |> print_term) (y |> print_term)\n",
    "    ),\"text/html\")"
   ]
  },
  {
   "cell_type": "markdown",
   "metadata": {},
   "source": [
    "in uno script F# inseriremmo invece:\n",
    "\n",
    "    fsi.AddPrinter print_type\n",
    "    fsi.AddPrinter print_term"
   ]
  },
  {
   "cell_type": "markdown",
   "metadata": {},
   "source": [
    "Infine carichiamo almeno le teorie fino a `Bool` che contiene la definizione dei tipi e dei termini booleani e dei loro connettivi:"
   ]
  },
  {
   "cell_type": "code",
   "execution_count": 3,
   "metadata": {
    "dotnet_interactive": {
     "language": "fsharp"
    },
    "polyglot_notebook": {
     "kernelName": "fsharp"
    }
   },
   "outputs": [
    {
     "name": "stdout",
     "output_type": "stream",
     "text": [
      "[HZ] Setting type fixity for name \"->\".\n",
      "[HZ] Declaring type constant \"->\".\n",
      "[HZ] Declaring type constant \"bool\".\n",
      "[HZ] Setting term fixity for name \"=\".\n",
      "[HZ] Declaring constant \"=\".\n",
      "[HZ] Setting term fixity for name \"==>\".\n",
      "[HZ] Declaring constant \"==>\".\n",
      "[HZ] Setting term fixity for name \"@\".\n",
      "[HZ] Declaring constant \"@\".\n",
      "[HZ] Setting term fixity for name \"<=>\".\n",
      "[HZ] Declaring constant \"<=>\".\n",
      "[HZ] Declaring constant \"true\".\n",
      "[HZ] Adding definition for constant \"true\".\n",
      "[HZ] Setting term fixity for name \"!\".\n",
      "[HZ] Declaring constant \"!\".\n",
      "[HZ] Adding definition for constant \"!\".\n",
      "[HZ] Setting term fixity for name \"/\\\\\".\n",
      "[HZ] Declaring constant \"/\\\\\".\n",
      "[HZ] Adding definition for constant \"/\\\\\".\n",
      "[HZ] Setting term fixity for name \"?\".\n",
      "[HZ] Declaring constant \"?\".\n",
      "[HZ] Adding definition for constant \"?\".\n",
      "[HZ] Declaring constant \"ONE_ONE\".\n",
      "[HZ] Adding definition for constant \"ONE_ONE\".\n",
      "[HZ] Declaring constant \"TYPE_DEFINITION\".\n",
      "[HZ] Adding definition for constant \"TYPE_DEFINITION\".\n",
      "[HZ] Adding axiom \"eta_ax\".\n",
      "[HZ] Adding axiom \"imp_antisym_ax\".\n",
      "[HZ] Adding axiom \"select_ax\".\n",
      "[HZ] Declaring constant \"LET\".\n",
      "[HZ] Adding definition for constant \"LET\".\n",
      "[HZ] Declaring constant \"ONTO\".\n",
      "[HZ] Adding definition for constant \"ONTO\".\n",
      "[HZ] Declaring constant \"false\".\n",
      "[HZ] Adding definition for constant \"false\".\n",
      "[HZ] Setting term fixity for name \"\\\\/\".\n",
      "[HZ] Declaring constant \"\\\\/\".\n",
      "[HZ] Adding definition for constant \"\\\\/\".\n",
      "[HZ] Setting term fixity for name \"~\".\n",
      "[HZ] Declaring constant \"~\".\n",
      "[HZ] Adding definition for constant \"~\".\n",
      "[HZ] Setting term fixity for name \"?!\".\n",
      "[HZ] Declaring constant \"?!\".\n",
      "[HZ] Adding definition for constant \"?!\".\n",
      "[HZ] Declaring constant \"COND\".\n",
      "[HZ] Adding definition for constant \"COND\".\n",
      "[HZ] Storing theorem \"truth_thm\".\n",
      "[HZ] Storing theorem \"fun_eq_thm\".\n"
     ]
    },
    {
     "data": {
      "text/html": [
       "<details open=\"open\" class=\"dni-treeview\"><summary><span class=\"dni-code-hint\"><code>[ (eta_ax, []|- Tmcomb (Tmconst (&quot;!&quot;, Tycomp (&quot;-&gt;&quot;, [Tycomp (&quot;-&gt;&quot;, [Tycomp (&quot;-&gt;&quot;, [Tyvar &quot;a&quot;; Tyvar &quot;b&quot;]); Tycomp (&quot;bool&quot;, [])]); Tycomp (&quot;bool&quot;, [])])), Tmabs (Tmvar (&quot;f&quot;, Tycomp (&quot;-&gt;&quot;, [Tyvar &quot;a&quot;; Tyvar &quot;b&quot;])), Tmcomb (Tmcomb (Tmconst (&quot;=&quot;, Tycomp (&quot;-&gt;&quot;, [Tycomp (&quot;-&gt;&quot;, [Tyvar &quot;a&quot;; Tyvar &quot;b&quot;]); Tycomp (&quot;-&gt;&quot;, [Tycomp (&quot;-&gt;&quot;, [Tyvar &quot;a&quot;; Tyvar &quot;b&quot;]); Tycomp (&quot;bool&quot;, [])])])), Tmabs (Tmvar (&quot;x&quot;, Tyvar &quot;a&quot;), Tmcomb (Tmvar (&quot;f&quot;, Tycomp (&quot;-&gt;&quot;, [Tyvar &quot;a&quot;; Tyvar &quot;b&quot;])), Tmvar (&quot;x&quot;, Tyvar &quot;a&quot;)))), Tmvar (&quot;f&quot;, Tycomp (&quot;-&gt;&quot;, [Tyvar &quot;a&quot;; Tyvar &quot;b&quot;])))))), (imp_antisym_ax, []|- Tmcomb (Tmconst (&quot;!&quot;, Tycomp (&quot;-&gt;&quot;, [Tycomp (&quot;-&gt;&quot;, [Tycomp (&quot;bool&quot;, []); Tycomp (&quot;bool&quot;, [])]); Tycomp (&quot;bool&quot;, [])])), Tmabs (Tmvar (&quot;p1&quot;, Tycomp (&quot;bool&quot;, [])), Tmcomb (Tmconst (&quot;!&quot;, Tycomp (&quot;-&gt;&quot;, [Tycomp (&quot;-&gt;&quot;, [Tycomp (&quot;bool&quot;, []); Tycomp (&quot;bool&quot;, [])]); Tycomp (&quot;bool&quot;, [])])), Tmabs (Tmvar (&quot;p2&quot;, Tycomp (&quot;bool&quot;, [])), Tmcomb (Tmcomb (Tmconst (&quot;==&gt;&quot;, Tycomp (&quot;-&gt;&quot;, [Tycomp (&quot;bool&quot;, []); Tycomp (&quot;-&gt;&quot;, [Tycomp (&quot;bool&quot;, []); Tycomp (&quot;bool&quot;, [])])])), Tmcomb (Tmcomb (Tmconst (&quot;==&gt;&quot;, Tycomp (&quot;-&gt;&quot;, [Tycomp (&quot;bool&quot;, []); Tycomp (&quot;-&gt;&quot;, [Tycomp (&quot;bool&quot;, []); Tycomp (&quot;bool&quot;, [])])])), Tmvar (&quot;p1&quot;, Tycomp (&quot;bool&quot;, []))), Tmvar (&quot;p2&quot;, Tycomp (&quot;bool&quot;, [])))), Tmcomb (Tmcomb (Tmconst (&quot;==&gt;&quot;, Tycomp (&quot;-&gt;&quot;, [Tycomp (&quot;bool&quot;, []); Tycomp (&quot;-&gt;&quot;, [Tycomp (&quot;bool&quot;, []); Tycomp (&quot;bool&quot;, [])])])), Tmcomb (Tmcomb (Tmconst (&quot;==&gt;&quot;, Tycomp (&quot;-&gt;&quot;, [Tycomp (&quot;bool&quot;, []); Tycomp (&quot;-&gt;&quot;, [Tycomp (&quot;bool&quot;, []); Tycomp (&quot;bool&quot;, [])])])), Tmvar (&quot;p2&quot;, Tycomp (&quot;bool&quot;, []))), Tmvar (&quot;p1&quot;, Tycomp (&quot;bool&quot;, [])))), Tmcomb (Tmcomb (Tmconst (&quot;=&quot;, Tycomp (&quot;-&gt;&quot;, [Tycomp (&quot;bool&quot;, []); Tycomp (&quot;-&gt;&quot;, [Tycomp (&quot;bool&quot;, []); Tycomp (&quot;bool&quot;, [])])])), Tmvar (&quot;p1&quot;, Tycomp (&quot;bool&quot;, []))), Tmvar (&quot;p2&quot;, Tycomp (&quot;bool&quot;, [])))))))))), (select_ax, []|- Tmcomb (Tmconst (&quot;!&quot;, Tycomp (&quot;-&gt;&quot;, [Tycomp (&quot;-&gt;&quot;, [Tycomp (&quot;-&gt;&quot;, [Tyvar &quot;a&quot;; Tycomp (&quot;bool&quot;, [])]); Tycomp (&quot;bool&quot;, [])]); Tycomp (&quot;bool&quot;, [])])), Tmabs (Tmvar (&quot;P&quot;, Tycomp (&quot;-&gt;&quot;, [Tyvar &quot;a&quot;; Tycomp (&quot;bool&quot;, [])])), Tmcomb (Tmconst (&quot;!&quot;, Tycomp (&quot;-&gt;&quot;, [Tycomp (&quot;-&gt;&quot;, [Tyvar &quot;a&quot;; Tycomp (&quot;bool&quot;, [])]); Tycomp (&quot;bool&quot;, [])])), Tmabs (Tmvar (&quot;x&quot;, Tyvar &quot;a&quot;), Tmcomb (Tmcomb (Tmconst (&quot;==&gt;&quot;, Tycomp (&quot;-&gt;&quot;, [Tycomp (&quot;bool&quot;, []); Tycomp (&quot;-&gt;&quot;, [Tycomp (&quot;bool&quot;, []); Tycomp (&quot;bool&quot;, [])])])), Tmcomb (Tmvar (&quot;P&quot;, Tycomp (&quot;-&gt;&quot;, [Tyvar &quot;a&quot;; Tycomp (&quot;bool&quot;, [])])), Tmvar (&quot;x&quot;, Tyvar &quot;a&quot;))), Tmcomb (Tmvar (&quot;P&quot;, Tycomp (&quot;-&gt;&quot;, [Tyvar &quot;a&quot;; Tycomp (&quot;bool&quot;, [])])), Tmcomb (Tmconst (&quot;@&quot;, Tycomp (&quot;-&gt;&quot;, [Tycomp (&quot;-&gt;&quot;, [Tyvar &quot;a&quot;; Tycomp (&quot;bool&quot;, [])]); Tyvar &quot;a&quot;])), Tmvar (&quot;P&quot;, Tycomp (&quot;-&gt;&quot;, [Tyvar &quot;a&quot;; Tycomp (&quot;bool&quot;, [])])))))))))) ]</code></span></summary><div><table><thead><tr></tr></thead><tbody><tr><td>HeadOrDefault</td><td><details class=\"dni-treeview\"><summary><span class=\"dni-code-hint\"><code>(eta_ax, []|- Tmcomb (Tmconst (&quot;!&quot;, Tycomp (&quot;-&gt;&quot;, [Tycomp (&quot;-&gt;&quot;, [Tycomp (&quot;-&gt;&quot;, [Tyvar &quot;a&quot;; Tyvar &quot;b&quot;]); Tycomp (&quot;bool&quot;, [])]); Tycomp (&quot;bool&quot;, [])])), Tmabs (Tmvar (&quot;f&quot;, Tycomp (&quot;-&gt;&quot;, [Tyvar &quot;a&quot;; Tyvar &quot;b&quot;])), Tmcomb (Tmcomb (Tmconst (&quot;=&quot;, Tycomp (&quot;-&gt;&quot;, [Tycomp (&quot;-&gt;&quot;, [Tyvar &quot;a&quot;; Tyvar &quot;b&quot;]); Tycom...</code></span></summary><div><table><thead><tr></tr></thead><tbody><tr><td>Item1</td><td><div class=\"dni-plaintext\"><pre>eta_ax</pre></div></td></tr><tr><td>Item2</td><td><details class=\"dni-treeview\"><summary><span class=\"dni-code-hint\"><code>[]|- Tmcomb (Tmconst (&quot;!&quot;, Tycomp (&quot;-&gt;&quot;, [Tycomp (&quot;-&gt;&quot;, [Tycomp (&quot;-&gt;&quot;, [Tyvar &quot;a&quot;; Tyvar &quot;b&quot;]); Tycomp (&quot;bool&quot;, [])]); Tycomp (&quot;bool&quot;, [])])), Tmabs (Tmvar (&quot;f&quot;, Tycomp (&quot;-&gt;&quot;, [Tyvar &quot;a&quot;; Tyvar &quot;b&quot;])), Tmcomb (Tmcomb (Tmconst (&quot;=&quot;, Tycomp (&quot;-&gt;&quot;, [Tycomp (&quot;-&gt;&quot;, [Tyvar &quot;a&quot;; Tyvar &quot;b&quot;]); Tycomp (&quot;-&gt;&quot;, ...</code></span></summary><div><table><thead><tr></tr></thead><tbody></tbody></table></div></details></td></tr></tbody></table></div></details></td></tr><tr><td>TailOrNull</td><td><details class=\"dni-treeview\"><summary><span class=\"dni-code-hint\"><code>[ (imp_antisym_ax, []|- Tmcomb (Tmconst (&quot;!&quot;, Tycomp (&quot;-&gt;&quot;, [Tycomp (&quot;-&gt;&quot;, [Tycomp (&quot;bool&quot;, []); Tycomp (&quot;bool&quot;, [])]); Tycomp (&quot;bool&quot;, [])])), Tmabs (Tmvar (&quot;p1&quot;, Tycomp (&quot;bool&quot;, [])), Tmcomb (Tmconst (&quot;!&quot;, Tycomp (&quot;-&gt;&quot;, [Tycomp (&quot;-&gt;&quot;, [Tycomp (&quot;bool&quot;, []); Tycomp (&quot;bool&quot;, [])]); Tycomp (&quot;bool&quot;, [])])), Tmabs (Tmvar (&quot;p2&quot;, Tycomp (&quot;bool&quot;, [])), Tmcomb (Tmcomb (Tmconst (&quot;==&gt;&quot;, Tycomp (&quot;-&gt;&quot;, [Tycomp (&quot;bool&quot;, []); Tycomp (&quot;-&gt;&quot;, [Tycomp (&quot;bool&quot;, []); Tycomp (&quot;bool&quot;, [])])])), Tmcomb (Tmcomb (Tmconst (&quot;==&gt;&quot;, Tycomp (&quot;-&gt;&quot;, [Tycomp (&quot;bool&quot;, []); Tycomp (&quot;-&gt;&quot;, [Tycomp (&quot;bool&quot;, []); Tycomp (&quot;bool&quot;, [])])])), Tmvar (&quot;p1&quot;, Tycomp (&quot;bool&quot;, []))), Tmvar (&quot;p2&quot;, Tycomp (&quot;bool&quot;, [])))), Tmcomb (Tmcomb (Tmconst (&quot;==&gt;&quot;, Tycomp (&quot;-&gt;&quot;, [Tycomp (&quot;bool&quot;, []); Tycomp (&quot;-&gt;&quot;, [Tycomp (&quot;bool&quot;, []); Tycomp (&quot;bool&quot;, [])])])), Tmcomb (Tmcomb (Tmconst (&quot;==&gt;&quot;, Tycomp (&quot;-&gt;&quot;, [Tycomp (&quot;bool&quot;, []); Tycomp (&quot;-&gt;&quot;, [Tycomp (&quot;bool&quot;, []); Tycomp (&quot;bool&quot;, [])])])), Tmvar (&quot;p2&quot;, Tycomp (&quot;bool&quot;, []))), Tmvar (&quot;p1&quot;, Tycomp (&quot;bool&quot;, [])))), Tmcomb (Tmcomb (Tmconst (&quot;=&quot;, Tycomp (&quot;-&gt;&quot;, [Tycomp (&quot;bool&quot;, []); Tycomp (&quot;-&gt;&quot;, [Tycomp (&quot;bool&quot;, []); Tycomp (&quot;bool&quot;, [])])])), Tmvar (&quot;p1&quot;, Tycomp (&quot;bool&quot;, []))), Tmvar (&quot;p2&quot;, Tycomp (&quot;bool&quot;, [])))))))))), (select_ax, []|- Tmcomb (Tmconst (&quot;!&quot;, Tycomp (&quot;-&gt;&quot;, [Tycomp (&quot;-&gt;&quot;, [Tycomp (&quot;-&gt;&quot;, [Tyvar &quot;a&quot;; Tycomp (&quot;bool&quot;, [])]); Tycomp (&quot;bool&quot;, [])]); Tycomp (&quot;bool&quot;, [])])), Tmabs (Tmvar (&quot;P&quot;, Tycomp (&quot;-&gt;&quot;, [Tyvar &quot;a&quot;; Tycomp (&quot;bool&quot;, [])])), Tmcomb (Tmconst (&quot;!&quot;, Tycomp (&quot;-&gt;&quot;, [Tycomp (&quot;-&gt;&quot;, [Tyvar &quot;a&quot;; Tycomp (&quot;bool&quot;, [])]); Tycomp (&quot;bool&quot;, [])])), Tmabs (Tmvar (&quot;x&quot;, Tyvar &quot;a&quot;), Tmcomb (Tmcomb (Tmconst (&quot;==&gt;&quot;, Tycomp (&quot;-&gt;&quot;, [Tycomp (&quot;bool&quot;, []); Tycomp (&quot;-&gt;&quot;, [Tycomp (&quot;bool&quot;, []); Tycomp (&quot;bool&quot;, [])])])), Tmcomb (Tmvar (&quot;P&quot;, Tycomp (&quot;-&gt;&quot;, [Tyvar &quot;a&quot;; Tycomp (&quot;bool&quot;, [])])), Tmvar (&quot;x&quot;, Tyvar &quot;a&quot;))), Tmcomb (Tmvar (&quot;P&quot;, Tycomp (&quot;-&gt;&quot;, [Tyvar &quot;a&quot;; Tycomp (&quot;bool&quot;, [])])), Tmcomb (Tmconst (&quot;@&quot;, Tycomp (&quot;-&gt;&quot;, [Tycomp (&quot;-&gt;&quot;, [Tyvar &quot;a&quot;; Tycomp (&quot;bool&quot;, [])]); Tyvar &quot;a&quot;])), Tmvar (&quot;P&quot;, Tycomp (&quot;-&gt;&quot;, [Tyvar &quot;a&quot;; Tycomp (&quot;bool&quot;, [])])))))))))) ]</code></span></summary><div><table><thead><tr></tr></thead><tbody><tr><td>HeadOrDefault</td><td><details class=\"dni-treeview\"><summary><span class=\"dni-code-hint\"><code>(imp_antisym_ax, []|- Tmcomb (Tmconst (&quot;!&quot;, Tycomp (&quot;-&gt;&quot;, [Tycomp (&quot;-&gt;&quot;, [Tycomp (&quot;bool&quot;, []); Tycomp (&quot;bool&quot;, [])]); Tycomp (&quot;bool&quot;, [])])), Tmabs (Tmvar (&quot;p1&quot;, Tycomp (&quot;bool&quot;, [])), Tmcomb (Tmconst (&quot;!&quot;, Tycomp (&quot;-&gt;&quot;, [Tycomp (&quot;-&gt;&quot;, [Tycomp (&quot;bool&quot;, []); Tycomp (&quot;bool&quot;, [])]); Tycomp (&quot;bool&quot;, [])]...</code></span></summary><div><table><thead><tr></tr></thead><tbody><tr><td>Item1</td><td><div class=\"dni-plaintext\"><pre>imp_antisym_ax</pre></div></td></tr><tr><td>Item2</td><td><details class=\"dni-treeview\"><summary><span class=\"dni-code-hint\"><code>[]|- Tmcomb (Tmconst (&quot;!&quot;, Tycomp (&quot;-&gt;&quot;, [Tycomp (&quot;-&gt;&quot;, [Tycomp (&quot;bool&quot;, []); Tycomp (&quot;bool&quot;, [])]); Tycomp (&quot;bool&quot;, [])])), Tmabs (Tmvar (&quot;p1&quot;, Tycomp (&quot;bool&quot;, [])), Tmcomb (Tmconst (&quot;!&quot;, Tycomp (&quot;-&gt;&quot;, [Tycomp (&quot;-&gt;&quot;, [Tycomp (&quot;bool&quot;, []); Tycomp (&quot;bool&quot;, [])]); Tycomp (&quot;bool&quot;, [])])), Tmabs (Tmvar ...</code></span></summary><div><table><thead><tr></tr></thead><tbody></tbody></table></div></details></td></tr></tbody></table></div></details></td></tr><tr><td>TailOrNull</td><td><details class=\"dni-treeview\"><summary><span class=\"dni-code-hint\"><code>[ (select_ax, []|- Tmcomb (Tmconst (&quot;!&quot;, Tycomp (&quot;-&gt;&quot;, [Tycomp (&quot;-&gt;&quot;, [Tycomp (&quot;-&gt;&quot;, [Tyvar &quot;a&quot;; Tycomp (&quot;bool&quot;, [])]); Tycomp (&quot;bool&quot;, [])]); Tycomp (&quot;bool&quot;, [])])), Tmabs (Tmvar (&quot;P&quot;, Tycomp (&quot;-&gt;&quot;, [Tyvar &quot;a&quot;; Tycomp (&quot;bool&quot;, [])])), Tmcomb (Tmconst (&quot;!&quot;, Tycomp (&quot;-&gt;&quot;, [Tycomp (&quot;-&gt;&quot;, [Tyvar &quot;a&quot;; Tycomp (&quot;bool&quot;, [])]); Tycomp (&quot;bool&quot;, [])])), Tmabs (Tmvar (&quot;x&quot;, Tyvar &quot;a&quot;), Tmcomb (Tmcomb (Tmconst (&quot;==&gt;&quot;, Tycomp (&quot;-&gt;&quot;, [Tycomp (&quot;bool&quot;, []); Tycomp (&quot;-&gt;&quot;, [Tycomp (&quot;bool&quot;, []); Tycomp (&quot;bool&quot;, [])])])), Tmcomb (Tmvar (&quot;P&quot;, Tycomp (&quot;-&gt;&quot;, [Tyvar &quot;a&quot;; Tycomp (&quot;bool&quot;, [])])), Tmvar (&quot;x&quot;, Tyvar &quot;a&quot;))), Tmcomb (Tmvar (&quot;P&quot;, Tycomp (&quot;-&gt;&quot;, [Tyvar &quot;a&quot;; Tycomp (&quot;bool&quot;, [])])), Tmcomb (Tmconst (&quot;@&quot;, Tycomp (&quot;-&gt;&quot;, [Tycomp (&quot;-&gt;&quot;, [Tyvar &quot;a&quot;; Tycomp (&quot;bool&quot;, [])]); Tyvar &quot;a&quot;])), Tmvar (&quot;P&quot;, Tycomp (&quot;-&gt;&quot;, [Tyvar &quot;a&quot;; Tycomp (&quot;bool&quot;, [])])))))))))) ]</code></span></summary><div><table><thead><tr></tr></thead><tbody><tr><td>HeadOrDefault</td><td><details class=\"dni-treeview\"><summary><span class=\"dni-code-hint\"><code>(select_ax, []|- Tmcomb (Tmconst (&quot;!&quot;, Tycomp (&quot;-&gt;&quot;, [Tycomp (&quot;-&gt;&quot;, [Tycomp (&quot;-&gt;&quot;, [Tyvar &quot;a&quot;; Tycomp (&quot;bool&quot;, [])]); Tycomp (&quot;bool&quot;, [])]); Tycomp (&quot;bool&quot;, [])])), Tmabs (Tmvar (&quot;P&quot;, Tycomp (&quot;-&gt;&quot;, [Tyvar &quot;a&quot;; Tycomp (&quot;bool&quot;, [])])), Tmcomb (Tmconst (&quot;!&quot;, Tycomp (&quot;-&gt;&quot;, [Tycomp (&quot;-&gt;&quot;, [Tyvar &quot;a&quot;; Tyc...</code></span></summary><div><table><thead><tr></tr></thead><tbody><tr><td>Item1</td><td><div class=\"dni-plaintext\"><pre>select_ax</pre></div></td></tr><tr><td>Item2</td><td><details class=\"dni-treeview\"><summary><span class=\"dni-code-hint\"><code>[]|- Tmcomb (Tmconst (&quot;!&quot;, Tycomp (&quot;-&gt;&quot;, [Tycomp (&quot;-&gt;&quot;, [Tycomp (&quot;-&gt;&quot;, [Tyvar &quot;a&quot;; Tycomp (&quot;bool&quot;, [])]); Tycomp (&quot;bool&quot;, [])]); Tycomp (&quot;bool&quot;, [])])), Tmabs (Tmvar (&quot;P&quot;, Tycomp (&quot;-&gt;&quot;, [Tyvar &quot;a&quot;; Tycomp (&quot;bool&quot;, [])])), Tmcomb (Tmconst (&quot;!&quot;, Tycomp (&quot;-&gt;&quot;, [Tycomp (&quot;-&gt;&quot;, [Tyvar &quot;a&quot;; Tycomp (&quot;bool&quot;,...</code></span></summary><div><table><thead><tr></tr></thead><tbody></tbody></table></div></details></td></tr></tbody></table></div></details></td></tr><tr><td>TailOrNull</td><td><details class=\"dni-treeview\"><summary><span class=\"dni-code-hint\"><code>[  ]</code></span></summary><div><table><thead><tr></tr></thead><tbody><tr><td>HeadOrDefault</td><td><div class=\"dni-plaintext\"><pre>&lt;null&gt;</pre></div></td></tr><tr><td>TailOrNull</td><td><div class=\"dni-plaintext\"><pre>&lt;null&gt;</pre></div></td></tr><tr><td>Head</td><td><details class=\"dni-treeview\"><summary><span class=\"dni-code-hint\"><code>System.InvalidOperationException: The input list was empty.\\n   at Microsoft.FSharp.Collections.FSharpList`1.get_Head() in D:\\a\\_work\\1\\s\\src\\FSharp.Core\\prim-types.fs:line 4086\\n   at lambda_method103(Closure, FSharpList`1)\\n   at Microsoft.DotNet.Interactive.Formatting.MemberAccessor`1.GetValueOrE...</code></span></summary><div><table><thead><tr></tr></thead><tbody><tr><td>TargetSite</td><td><details class=\"dni-treeview\"><summary><span class=\"dni-code-hint\"><code>T get_Head()</code></span></summary><div><table><thead><tr></tr></thead><tbody><tr><td>Name</td><td>get_Head</td></tr><tr><td>DeclaringType</td><td>Microsoft.FSharp.Collections.FSharpList`1[T]</td></tr><tr><td>ReflectedType</td><td>Microsoft.FSharp.Collections.FSharpList`1[T]</td></tr><tr><td>MemberType</td><td>Method</td></tr><tr><td>MetadataToken</td><td>100663762</td></tr><tr><td>Module</td><td>FSharp.Core.dll</td></tr><tr><td>IsSecurityCritical</td><td>True</td></tr><tr><td>IsSecuritySafeCritical</td><td>False</td></tr><tr><td>IsSecurityTransparent</td><td>False</td></tr><tr><td>MethodHandle</td><td>System.RuntimeMethodHandle</td></tr><tr><td>Attributes</td><td>PrivateScope, Public, HideBySig, SpecialName</td></tr><tr><td>CallingConvention</td><td>Standard, HasThis</td></tr><tr><td>ReturnType</td><td>T</td></tr><tr><td>ReturnTypeCustomAttributes</td><td>T</td></tr><tr><td>ReturnParameter</td><td>T</td></tr><tr><td>IsCollectible</td><td>False</td></tr><tr><td>IsGenericMethod</td><td>False</td></tr><tr><td>IsGenericMethodDefinition</td><td>False</td></tr><tr><td>ContainsGenericParameters</td><td>True</td></tr><tr><td>MethodImplementationFlags</td><td>IL</td></tr><tr><td>IsAbstract</td><td>False</td></tr><tr><td>IsConstructor</td><td>False</td></tr><tr><td>IsFinal</td><td>False</td></tr><tr><td>IsHideBySig</td><td>True</td></tr><tr><td>IsSpecialName</td><td>True</td></tr><tr><td>IsStatic</td><td>False</td></tr><tr><td>IsVirtual</td><td>False</td></tr><tr><td>IsAssembly</td><td>False</td></tr><tr><td>IsFamily</td><td>False</td></tr><tr><td>IsFamilyAndAssembly</td><td>False</td></tr><tr><td>IsFamilyOrAssembly</td><td>False</td></tr><tr><td>IsPrivate</td><td>False</td></tr><tr><td>IsPublic</td><td>True</td></tr><tr><td>IsConstructedGenericMethod</td><td>False</td></tr><tr><td>CustomAttributes</td><td>[  ]</td></tr></tbody></table></div></details></td></tr><tr><td>Message</td><td><div class=\"dni-plaintext\"><pre>The input list was empty.</pre></div></td></tr><tr><td>Data</td><td><i>(empty)</i></td></tr><tr><td>InnerException</td><td><div class=\"dni-plaintext\"><pre>&lt;null&gt;</pre></div></td></tr><tr><td>HelpLink</td><td><div class=\"dni-plaintext\"><pre>&lt;null&gt;</pre></div></td></tr><tr><td>Source</td><td><div class=\"dni-plaintext\"><pre>FSharp.Core</pre></div></td></tr><tr><td>HResult</td><td><div class=\"dni-plaintext\"><pre>-2146233079</pre></div></td></tr><tr><td>StackTrace</td><td><div class=\"dni-plaintext\"><pre>   at Microsoft.FSharp.Collections.FSharpList`1.get_Head() in D:\\a\\_work\\1\\s\\src\\FSharp.Core\\prim-types.fs:line 4086\n",
       "   at lambda_method103(Closure, FSharpList`1)\n",
       "   at Microsoft.DotNet.Interactive.Formatting.MemberAccessor`1.GetValueOrException(T instance) in D:\\a\\_work\\1\\s\\src\\Microsoft.DotNet.Interactive.Formatting\\MemberAccessor{T}.cs:line 58</pre></div></td></tr></tbody></table></div></details></td></tr><tr><td>Tail</td><td><details class=\"dni-treeview\"><summary><span class=\"dni-code-hint\"><code>System.InvalidOperationException: The input list was empty.\\n   at Microsoft.FSharp.Collections.FSharpList`1.get_Tail() in D:\\a\\_work\\1\\s\\src\\FSharp.Core\\prim-types.fs:line 4091\\n   at lambda_method104(Closure, FSharpList`1)\\n   at Microsoft.DotNet.Interactive.Formatting.MemberAccessor`1.GetValueOrE...</code></span></summary><div><table><thead><tr></tr></thead><tbody><tr><td>TargetSite</td><td><details class=\"dni-treeview\"><summary><span class=\"dni-code-hint\"><code>Microsoft.FSharp.Collections.FSharpList`1[T] get_Tail()</code></span></summary><div><table><thead><tr></tr></thead><tbody><tr><td>Name</td><td>get_Tail</td></tr><tr><td>DeclaringType</td><td>Microsoft.FSharp.Collections.FSharpList`1[T]</td></tr><tr><td>ReflectedType</td><td>Microsoft.FSharp.Collections.FSharpList`1[T]</td></tr><tr><td>MemberType</td><td>Method</td></tr><tr><td>MetadataToken</td><td>100663763</td></tr><tr><td>Module</td><td>FSharp.Core.dll</td></tr><tr><td>IsSecurityCritical</td><td>True</td></tr><tr><td>IsSecuritySafeCritical</td><td>False</td></tr><tr><td>IsSecurityTransparent</td><td>False</td></tr><tr><td>MethodHandle</td><td>System.RuntimeMethodHandle</td></tr><tr><td>Attributes</td><td>PrivateScope, Public, HideBySig, SpecialName</td></tr><tr><td>CallingConvention</td><td>Standard, HasThis</td></tr><tr><td>ReturnType</td><td>Microsoft.FSharp.Collections.FSharpList`1[T]</td></tr><tr><td>ReturnTypeCustomAttributes</td><td>Microsoft.FSharp.Collections.FSharpList`1[T]</td></tr><tr><td>ReturnParameter</td><td>Microsoft.FSharp.Collections.FSharpList`1[T]</td></tr><tr><td>IsCollectible</td><td>False</td></tr><tr><td>IsGenericMethod</td><td>False</td></tr><tr><td>IsGenericMethodDefinition</td><td>False</td></tr><tr><td>ContainsGenericParameters</td><td>True</td></tr><tr><td>MethodImplementationFlags</td><td>IL</td></tr><tr><td>IsAbstract</td><td>False</td></tr><tr><td>IsConstructor</td><td>False</td></tr><tr><td>IsFinal</td><td>False</td></tr><tr><td>IsHideBySig</td><td>True</td></tr><tr><td>IsSpecialName</td><td>True</td></tr><tr><td>IsStatic</td><td>False</td></tr><tr><td>IsVirtual</td><td>False</td></tr><tr><td>IsAssembly</td><td>False</td></tr><tr><td>IsFamily</td><td>False</td></tr><tr><td>IsFamilyAndAssembly</td><td>False</td></tr><tr><td>IsFamilyOrAssembly</td><td>False</td></tr><tr><td>IsPrivate</td><td>False</td></tr><tr><td>IsPublic</td><td>True</td></tr><tr><td>IsConstructedGenericMethod</td><td>False</td></tr><tr><td>CustomAttributes</td><td>[  ]</td></tr></tbody></table></div></details></td></tr><tr><td>Message</td><td><div class=\"dni-plaintext\"><pre>The input list was empty.</pre></div></td></tr><tr><td>Data</td><td><i>(empty)</i></td></tr><tr><td>InnerException</td><td><div class=\"dni-plaintext\"><pre>&lt;null&gt;</pre></div></td></tr><tr><td>HelpLink</td><td><div class=\"dni-plaintext\"><pre>&lt;null&gt;</pre></div></td></tr><tr><td>Source</td><td><div class=\"dni-plaintext\"><pre>FSharp.Core</pre></div></td></tr><tr><td>HResult</td><td><div class=\"dni-plaintext\"><pre>-2146233079</pre></div></td></tr><tr><td>StackTrace</td><td><div class=\"dni-plaintext\"><pre>   at Microsoft.FSharp.Collections.FSharpList`1.get_Tail() in D:\\a\\_work\\1\\s\\src\\FSharp.Core\\prim-types.fs:line 4091\n",
       "   at lambda_method104(Closure, FSharpList`1)\n",
       "   at Microsoft.DotNet.Interactive.Formatting.MemberAccessor`1.GetValueOrException(T instance) in D:\\a\\_work\\1\\s\\src\\Microsoft.DotNet.Interactive.Formatting\\MemberAccessor{T}.cs:line 58</pre></div></td></tr></tbody></table></div></details></td></tr><tr><td><i>(values)</i></td><td><i>(empty)</i></td></tr></tbody></table></div></details></td></tr><tr><td>Head</td><td><details class=\"dni-treeview\"><summary><span class=\"dni-code-hint\"><code>(select_ax, []|- Tmcomb (Tmconst (&quot;!&quot;, Tycomp (&quot;-&gt;&quot;, [Tycomp (&quot;-&gt;&quot;, [Tycomp (&quot;-&gt;&quot;, [Tyvar &quot;a&quot;; Tycomp (&quot;bool&quot;, [])]); Tycomp (&quot;bool&quot;, [])]); Tycomp (&quot;bool&quot;, [])])), Tmabs (Tmvar (&quot;P&quot;, Tycomp (&quot;-&gt;&quot;, [Tyvar &quot;a&quot;; Tycomp (&quot;bool&quot;, [])])), Tmcomb (Tmconst (&quot;!&quot;, Tycomp (&quot;-&gt;&quot;, [Tycomp (&quot;-&gt;&quot;, [Tyvar &quot;a&quot;; Tyc...</code></span></summary><div><table><thead><tr></tr></thead><tbody><tr><td>Item1</td><td><div class=\"dni-plaintext\"><pre>select_ax</pre></div></td></tr><tr><td>Item2</td><td><details class=\"dni-treeview\"><summary><span class=\"dni-code-hint\"><code>[]|- Tmcomb (Tmconst (&quot;!&quot;, Tycomp (&quot;-&gt;&quot;, [Tycomp (&quot;-&gt;&quot;, [Tycomp (&quot;-&gt;&quot;, [Tyvar &quot;a&quot;; Tycomp (&quot;bool&quot;, [])]); Tycomp (&quot;bool&quot;, [])]); Tycomp (&quot;bool&quot;, [])])), Tmabs (Tmvar (&quot;P&quot;, Tycomp (&quot;-&gt;&quot;, [Tyvar &quot;a&quot;; Tycomp (&quot;bool&quot;, [])])), Tmcomb (Tmconst (&quot;!&quot;, Tycomp (&quot;-&gt;&quot;, [Tycomp (&quot;-&gt;&quot;, [Tyvar &quot;a&quot;; Tycomp (&quot;bool&quot;,...</code></span></summary><div><table><thead><tr></tr></thead><tbody></tbody></table></div></details></td></tr></tbody></table></div></details></td></tr><tr><td>Tail</td><td><details class=\"dni-treeview\"><summary><span class=\"dni-code-hint\"><code>[  ]</code></span></summary><div><table><thead><tr></tr></thead><tbody><tr><td>HeadOrDefault</td><td><div class=\"dni-plaintext\"><pre>&lt;null&gt;</pre></div></td></tr><tr><td>TailOrNull</td><td><div class=\"dni-plaintext\"><pre>&lt;null&gt;</pre></div></td></tr><tr><td>Head</td><td><details class=\"dni-treeview\"><summary><span class=\"dni-code-hint\"><code>System.InvalidOperationException: The input list was empty.\\n   at Microsoft.FSharp.Collections.FSharpList`1.get_Head() in D:\\a\\_work\\1\\s\\src\\FSharp.Core\\prim-types.fs:line 4086\\n   at lambda_method103(Closure, FSharpList`1)\\n   at Microsoft.DotNet.Interactive.Formatting.MemberAccessor`1.GetValueOrE...</code></span></summary><div><table><thead><tr></tr></thead><tbody><tr><td>TargetSite</td><td><details class=\"dni-treeview\"><summary><span class=\"dni-code-hint\"><code>T get_Head()</code></span></summary><div><table><thead><tr></tr></thead><tbody><tr><td>Name</td><td>get_Head</td></tr><tr><td>DeclaringType</td><td>Microsoft.FSharp.Collections.FSharpList`1[T]</td></tr><tr><td>ReflectedType</td><td>Microsoft.FSharp.Collections.FSharpList`1[T]</td></tr><tr><td>MemberType</td><td>Method</td></tr><tr><td>MetadataToken</td><td>100663762</td></tr><tr><td>Module</td><td>FSharp.Core.dll</td></tr><tr><td>IsSecurityCritical</td><td>True</td></tr><tr><td>IsSecuritySafeCritical</td><td>False</td></tr><tr><td>IsSecurityTransparent</td><td>False</td></tr><tr><td>MethodHandle</td><td>System.RuntimeMethodHandle</td></tr><tr><td>Attributes</td><td>PrivateScope, Public, HideBySig, SpecialName</td></tr><tr><td>CallingConvention</td><td>Standard, HasThis</td></tr><tr><td>ReturnType</td><td>T</td></tr><tr><td>ReturnTypeCustomAttributes</td><td>T</td></tr><tr><td>ReturnParameter</td><td>T</td></tr><tr><td>IsCollectible</td><td>False</td></tr><tr><td>IsGenericMethod</td><td>False</td></tr><tr><td>IsGenericMethodDefinition</td><td>False</td></tr><tr><td>ContainsGenericParameters</td><td>True</td></tr><tr><td>MethodImplementationFlags</td><td>IL</td></tr><tr><td>IsAbstract</td><td>False</td></tr><tr><td>IsConstructor</td><td>False</td></tr><tr><td>IsFinal</td><td>False</td></tr><tr><td>IsHideBySig</td><td>True</td></tr><tr><td>IsSpecialName</td><td>True</td></tr><tr><td>IsStatic</td><td>False</td></tr><tr><td>IsVirtual</td><td>False</td></tr><tr><td>IsAssembly</td><td>False</td></tr><tr><td>IsFamily</td><td>False</td></tr><tr><td>IsFamilyAndAssembly</td><td>False</td></tr><tr><td>IsFamilyOrAssembly</td><td>False</td></tr><tr><td>IsPrivate</td><td>False</td></tr><tr><td>IsPublic</td><td>True</td></tr><tr><td>IsConstructedGenericMethod</td><td>False</td></tr><tr><td>CustomAttributes</td><td>[  ]</td></tr></tbody></table></div></details></td></tr><tr><td>Message</td><td><div class=\"dni-plaintext\"><pre>The input list was empty.</pre></div></td></tr><tr><td>Data</td><td><i>(empty)</i></td></tr><tr><td>InnerException</td><td><div class=\"dni-plaintext\"><pre>&lt;null&gt;</pre></div></td></tr><tr><td>HelpLink</td><td><div class=\"dni-plaintext\"><pre>&lt;null&gt;</pre></div></td></tr><tr><td>Source</td><td><div class=\"dni-plaintext\"><pre>FSharp.Core</pre></div></td></tr><tr><td>HResult</td><td><div class=\"dni-plaintext\"><pre>-2146233079</pre></div></td></tr><tr><td>StackTrace</td><td><div class=\"dni-plaintext\"><pre>   at Microsoft.FSharp.Collections.FSharpList`1.get_Head() in D:\\a\\_work\\1\\s\\src\\FSharp.Core\\prim-types.fs:line 4086\n",
       "   at lambda_method103(Closure, FSharpList`1)\n",
       "   at Microsoft.DotNet.Interactive.Formatting.MemberAccessor`1.GetValueOrException(T instance) in D:\\a\\_work\\1\\s\\src\\Microsoft.DotNet.Interactive.Formatting\\MemberAccessor{T}.cs:line 58</pre></div></td></tr></tbody></table></div></details></td></tr><tr><td>Tail</td><td><details class=\"dni-treeview\"><summary><span class=\"dni-code-hint\"><code>System.InvalidOperationException: The input list was empty.\\n   at Microsoft.FSharp.Collections.FSharpList`1.get_Tail() in D:\\a\\_work\\1\\s\\src\\FSharp.Core\\prim-types.fs:line 4091\\n   at lambda_method104(Closure, FSharpList`1)\\n   at Microsoft.DotNet.Interactive.Formatting.MemberAccessor`1.GetValueOrE...</code></span></summary><div><table><thead><tr></tr></thead><tbody><tr><td>TargetSite</td><td><details class=\"dni-treeview\"><summary><span class=\"dni-code-hint\"><code>Microsoft.FSharp.Collections.FSharpList`1[T] get_Tail()</code></span></summary><div><table><thead><tr></tr></thead><tbody><tr><td>Name</td><td>get_Tail</td></tr><tr><td>DeclaringType</td><td>Microsoft.FSharp.Collections.FSharpList`1[T]</td></tr><tr><td>ReflectedType</td><td>Microsoft.FSharp.Collections.FSharpList`1[T]</td></tr><tr><td>MemberType</td><td>Method</td></tr><tr><td>MetadataToken</td><td>100663763</td></tr><tr><td>Module</td><td>FSharp.Core.dll</td></tr><tr><td>IsSecurityCritical</td><td>True</td></tr><tr><td>IsSecuritySafeCritical</td><td>False</td></tr><tr><td>IsSecurityTransparent</td><td>False</td></tr><tr><td>MethodHandle</td><td>System.RuntimeMethodHandle</td></tr><tr><td>Attributes</td><td>PrivateScope, Public, HideBySig, SpecialName</td></tr><tr><td>CallingConvention</td><td>Standard, HasThis</td></tr><tr><td>ReturnType</td><td>Microsoft.FSharp.Collections.FSharpList`1[T]</td></tr><tr><td>ReturnTypeCustomAttributes</td><td>Microsoft.FSharp.Collections.FSharpList`1[T]</td></tr><tr><td>ReturnParameter</td><td>Microsoft.FSharp.Collections.FSharpList`1[T]</td></tr><tr><td>IsCollectible</td><td>False</td></tr><tr><td>IsGenericMethod</td><td>False</td></tr><tr><td>IsGenericMethodDefinition</td><td>False</td></tr><tr><td>ContainsGenericParameters</td><td>True</td></tr><tr><td>MethodImplementationFlags</td><td>IL</td></tr><tr><td>IsAbstract</td><td>False</td></tr><tr><td>IsConstructor</td><td>False</td></tr><tr><td>IsFinal</td><td>False</td></tr><tr><td>IsHideBySig</td><td>True</td></tr><tr><td>IsSpecialName</td><td>True</td></tr><tr><td>IsStatic</td><td>False</td></tr><tr><td>IsVirtual</td><td>False</td></tr><tr><td>IsAssembly</td><td>False</td></tr><tr><td>IsFamily</td><td>False</td></tr><tr><td>IsFamilyAndAssembly</td><td>False</td></tr><tr><td>IsFamilyOrAssembly</td><td>False</td></tr><tr><td>IsPrivate</td><td>False</td></tr><tr><td>IsPublic</td><td>True</td></tr><tr><td>IsConstructedGenericMethod</td><td>False</td></tr><tr><td>CustomAttributes</td><td>[  ]</td></tr></tbody></table></div></details></td></tr><tr><td>Message</td><td><div class=\"dni-plaintext\"><pre>The input list was empty.</pre></div></td></tr><tr><td>Data</td><td><i>(empty)</i></td></tr><tr><td>InnerException</td><td><div class=\"dni-plaintext\"><pre>&lt;null&gt;</pre></div></td></tr><tr><td>HelpLink</td><td><div class=\"dni-plaintext\"><pre>&lt;null&gt;</pre></div></td></tr><tr><td>Source</td><td><div class=\"dni-plaintext\"><pre>FSharp.Core</pre></div></td></tr><tr><td>HResult</td><td><div class=\"dni-plaintext\"><pre>-2146233079</pre></div></td></tr><tr><td>StackTrace</td><td><div class=\"dni-plaintext\"><pre>   at Microsoft.FSharp.Collections.FSharpList`1.get_Tail() in D:\\a\\_work\\1\\s\\src\\FSharp.Core\\prim-types.fs:line 4091\n",
       "   at lambda_method104(Closure, FSharpList`1)\n",
       "   at Microsoft.DotNet.Interactive.Formatting.MemberAccessor`1.GetValueOrException(T instance) in D:\\a\\_work\\1\\s\\src\\Microsoft.DotNet.Interactive.Formatting\\MemberAccessor{T}.cs:line 58</pre></div></td></tr></tbody></table></div></details></td></tr><tr><td><i>(values)</i></td><td><i>(empty)</i></td></tr></tbody></table></div></details></td></tr><tr><td><i>(values)</i></td><td><table><thead><tr><th><i>index</i></th><th>value</th></tr></thead><tbody><tr><td>0</td><td><details class=\"dni-treeview\"><summary><span class=\"dni-code-hint\"><code>(select_ax, []|- Tmcomb (Tmconst (&quot;!&quot;, Tycomp (&quot;-&gt;&quot;, [Tycomp (&quot;-&gt;&quot;, [Tycomp (&quot;-&gt;&quot;, [Tyvar &quot;a&quot;; Tycomp (&quot;bool&quot;, [])]); Tycomp (&quot;bool&quot;, [])]); Tycomp (&quot;bool&quot;, [])])), Tmabs (Tmvar (&quot;P&quot;, Tycomp (&quot;-&gt;&quot;, [Tyvar &quot;a&quot;; Tycomp (&quot;bool&quot;, [])])), Tmcomb (Tmconst (&quot;!&quot;, Tycomp (&quot;-&gt;&quot;, [Tycomp (&quot;-&gt;&quot;, [Tyvar &quot;a&quot;; Tyc...</code></span></summary><div><table><thead><tr></tr></thead><tbody><tr><td>Item1</td><td><div class=\"dni-plaintext\"><pre>select_ax</pre></div></td></tr><tr><td>Item2</td><td><details class=\"dni-treeview\"><summary><span class=\"dni-code-hint\"><code>[]|- Tmcomb (Tmconst (&quot;!&quot;, Tycomp (&quot;-&gt;&quot;, [Tycomp (&quot;-&gt;&quot;, [Tycomp (&quot;-&gt;&quot;, [Tyvar &quot;a&quot;; Tycomp (&quot;bool&quot;, [])]); Tycomp (&quot;bool&quot;, [])]); Tycomp (&quot;bool&quot;, [])])), Tmabs (Tmvar (&quot;P&quot;, Tycomp (&quot;-&gt;&quot;, [Tyvar &quot;a&quot;; Tycomp (&quot;bool&quot;, [])])), Tmcomb (Tmconst (&quot;!&quot;, Tycomp (&quot;-&gt;&quot;, [Tycomp (&quot;-&gt;&quot;, [Tyvar &quot;a&quot;; Tycomp (&quot;bool&quot;,...</code></span></summary><div><table><thead><tr></tr></thead><tbody></tbody></table></div></details></td></tr></tbody></table></div></details></td></tr></tbody></table></td></tr></tbody></table></div></details></td></tr><tr><td>Head</td><td><details class=\"dni-treeview\"><summary><span class=\"dni-code-hint\"><code>(imp_antisym_ax, []|- Tmcomb (Tmconst (&quot;!&quot;, Tycomp (&quot;-&gt;&quot;, [Tycomp (&quot;-&gt;&quot;, [Tycomp (&quot;bool&quot;, []); Tycomp (&quot;bool&quot;, [])]); Tycomp (&quot;bool&quot;, [])])), Tmabs (Tmvar (&quot;p1&quot;, Tycomp (&quot;bool&quot;, [])), Tmcomb (Tmconst (&quot;!&quot;, Tycomp (&quot;-&gt;&quot;, [Tycomp (&quot;-&gt;&quot;, [Tycomp (&quot;bool&quot;, []); Tycomp (&quot;bool&quot;, [])]); Tycomp (&quot;bool&quot;, [])]...</code></span></summary><div><table><thead><tr></tr></thead><tbody><tr><td>Item1</td><td><div class=\"dni-plaintext\"><pre>imp_antisym_ax</pre></div></td></tr><tr><td>Item2</td><td><details class=\"dni-treeview\"><summary><span class=\"dni-code-hint\"><code>[]|- Tmcomb (Tmconst (&quot;!&quot;, Tycomp (&quot;-&gt;&quot;, [Tycomp (&quot;-&gt;&quot;, [Tycomp (&quot;bool&quot;, []); Tycomp (&quot;bool&quot;, [])]); Tycomp (&quot;bool&quot;, [])])), Tmabs (Tmvar (&quot;p1&quot;, Tycomp (&quot;bool&quot;, [])), Tmcomb (Tmconst (&quot;!&quot;, Tycomp (&quot;-&gt;&quot;, [Tycomp (&quot;-&gt;&quot;, [Tycomp (&quot;bool&quot;, []); Tycomp (&quot;bool&quot;, [])]); Tycomp (&quot;bool&quot;, [])])), Tmabs (Tmvar ...</code></span></summary><div><table><thead><tr></tr></thead><tbody></tbody></table></div></details></td></tr></tbody></table></div></details></td></tr><tr><td>Tail</td><td><details class=\"dni-treeview\"><summary><span class=\"dni-code-hint\"><code>[ (select_ax, []|- Tmcomb (Tmconst (&quot;!&quot;, Tycomp (&quot;-&gt;&quot;, [Tycomp (&quot;-&gt;&quot;, [Tycomp (&quot;-&gt;&quot;, [Tyvar &quot;a&quot;; Tycomp (&quot;bool&quot;, [])]); Tycomp (&quot;bool&quot;, [])]); Tycomp (&quot;bool&quot;, [])])), Tmabs (Tmvar (&quot;P&quot;, Tycomp (&quot;-&gt;&quot;, [Tyvar &quot;a&quot;; Tycomp (&quot;bool&quot;, [])])), Tmcomb (Tmconst (&quot;!&quot;, Tycomp (&quot;-&gt;&quot;, [Tycomp (&quot;-&gt;&quot;, [Tyvar &quot;a&quot;; Tycomp (&quot;bool&quot;, [])]); Tycomp (&quot;bool&quot;, [])])), Tmabs (Tmvar (&quot;x&quot;, Tyvar &quot;a&quot;), Tmcomb (Tmcomb (Tmconst (&quot;==&gt;&quot;, Tycomp (&quot;-&gt;&quot;, [Tycomp (&quot;bool&quot;, []); Tycomp (&quot;-&gt;&quot;, [Tycomp (&quot;bool&quot;, []); Tycomp (&quot;bool&quot;, [])])])), Tmcomb (Tmvar (&quot;P&quot;, Tycomp (&quot;-&gt;&quot;, [Tyvar &quot;a&quot;; Tycomp (&quot;bool&quot;, [])])), Tmvar (&quot;x&quot;, Tyvar &quot;a&quot;))), Tmcomb (Tmvar (&quot;P&quot;, Tycomp (&quot;-&gt;&quot;, [Tyvar &quot;a&quot;; Tycomp (&quot;bool&quot;, [])])), Tmcomb (Tmconst (&quot;@&quot;, Tycomp (&quot;-&gt;&quot;, [Tycomp (&quot;-&gt;&quot;, [Tyvar &quot;a&quot;; Tycomp (&quot;bool&quot;, [])]); Tyvar &quot;a&quot;])), Tmvar (&quot;P&quot;, Tycomp (&quot;-&gt;&quot;, [Tyvar &quot;a&quot;; Tycomp (&quot;bool&quot;, [])])))))))))) ]</code></span></summary><div><table><thead><tr></tr></thead><tbody><tr><td>HeadOrDefault</td><td><details class=\"dni-treeview\"><summary><span class=\"dni-code-hint\"><code>(select_ax, []|- Tmcomb (Tmconst (&quot;!&quot;, Tycomp (&quot;-&gt;&quot;, [Tycomp (&quot;-&gt;&quot;, [Tycomp (&quot;-&gt;&quot;, [Tyvar &quot;a&quot;; Tycomp (&quot;bool&quot;, [])]); Tycomp (&quot;bool&quot;, [])]); Tycomp (&quot;bool&quot;, [])])), Tmabs (Tmvar (&quot;P&quot;, Tycomp (&quot;-&gt;&quot;, [Tyvar &quot;a&quot;; Tycomp (&quot;bool&quot;, [])])), Tmcomb (Tmconst (&quot;!&quot;, Tycomp (&quot;-&gt;&quot;, [Tycomp (&quot;-&gt;&quot;, [Tyvar &quot;a&quot;; Tyc...</code></span></summary><div><table><thead><tr></tr></thead><tbody><tr><td>Item1</td><td><div class=\"dni-plaintext\"><pre>select_ax</pre></div></td></tr><tr><td>Item2</td><td><details class=\"dni-treeview\"><summary><span class=\"dni-code-hint\"><code>[]|- Tmcomb (Tmconst (&quot;!&quot;, Tycomp (&quot;-&gt;&quot;, [Tycomp (&quot;-&gt;&quot;, [Tycomp (&quot;-&gt;&quot;, [Tyvar &quot;a&quot;; Tycomp (&quot;bool&quot;, [])]); Tycomp (&quot;bool&quot;, [])]); Tycomp (&quot;bool&quot;, [])])), Tmabs (Tmvar (&quot;P&quot;, Tycomp (&quot;-&gt;&quot;, [Tyvar &quot;a&quot;; Tycomp (&quot;bool&quot;, [])])), Tmcomb (Tmconst (&quot;!&quot;, Tycomp (&quot;-&gt;&quot;, [Tycomp (&quot;-&gt;&quot;, [Tyvar &quot;a&quot;; Tycomp (&quot;bool&quot;,...</code></span></summary><div><table><thead><tr></tr></thead><tbody></tbody></table></div></details></td></tr></tbody></table></div></details></td></tr><tr><td>TailOrNull</td><td><details class=\"dni-treeview\"><summary><span class=\"dni-code-hint\"><code>[  ]</code></span></summary><div><table><thead><tr></tr></thead><tbody><tr><td>HeadOrDefault</td><td><div class=\"dni-plaintext\"><pre>&lt;null&gt;</pre></div></td></tr><tr><td>TailOrNull</td><td><div class=\"dni-plaintext\"><pre>&lt;null&gt;</pre></div></td></tr><tr><td>Head</td><td><details class=\"dni-treeview\"><summary><span class=\"dni-code-hint\"><code>System.InvalidOperationException: The input list was empty.\\n   at Microsoft.FSharp.Collections.FSharpList`1.get_Head() in D:\\a\\_work\\1\\s\\src\\FSharp.Core\\prim-types.fs:line 4086\\n   at lambda_method103(Closure, FSharpList`1)\\n   at Microsoft.DotNet.Interactive.Formatting.MemberAccessor`1.GetValueOrE...</code></span></summary><div><table><thead><tr></tr></thead><tbody><tr><td>TargetSite</td><td><details class=\"dni-treeview\"><summary><span class=\"dni-code-hint\"><code>T get_Head()</code></span></summary><div><table><thead><tr></tr></thead><tbody><tr><td>Name</td><td>get_Head</td></tr><tr><td>DeclaringType</td><td>Microsoft.FSharp.Collections.FSharpList`1[T]</td></tr><tr><td>ReflectedType</td><td>Microsoft.FSharp.Collections.FSharpList`1[T]</td></tr><tr><td>MemberType</td><td>Method</td></tr><tr><td>MetadataToken</td><td>100663762</td></tr><tr><td>Module</td><td>FSharp.Core.dll</td></tr><tr><td>IsSecurityCritical</td><td>True</td></tr><tr><td>IsSecuritySafeCritical</td><td>False</td></tr><tr><td>IsSecurityTransparent</td><td>False</td></tr><tr><td>MethodHandle</td><td>System.RuntimeMethodHandle</td></tr><tr><td>Attributes</td><td>PrivateScope, Public, HideBySig, SpecialName</td></tr><tr><td>CallingConvention</td><td>Standard, HasThis</td></tr><tr><td>ReturnType</td><td>T</td></tr><tr><td>ReturnTypeCustomAttributes</td><td>T</td></tr><tr><td>ReturnParameter</td><td>T</td></tr><tr><td>IsCollectible</td><td>False</td></tr><tr><td>IsGenericMethod</td><td>False</td></tr><tr><td>IsGenericMethodDefinition</td><td>False</td></tr><tr><td>ContainsGenericParameters</td><td>True</td></tr><tr><td>MethodImplementationFlags</td><td>IL</td></tr><tr><td>IsAbstract</td><td>False</td></tr><tr><td>IsConstructor</td><td>False</td></tr><tr><td>IsFinal</td><td>False</td></tr><tr><td>IsHideBySig</td><td>True</td></tr><tr><td>IsSpecialName</td><td>True</td></tr><tr><td>IsStatic</td><td>False</td></tr><tr><td>IsVirtual</td><td>False</td></tr><tr><td>IsAssembly</td><td>False</td></tr><tr><td>IsFamily</td><td>False</td></tr><tr><td>IsFamilyAndAssembly</td><td>False</td></tr><tr><td>IsFamilyOrAssembly</td><td>False</td></tr><tr><td>IsPrivate</td><td>False</td></tr><tr><td>IsPublic</td><td>True</td></tr><tr><td>IsConstructedGenericMethod</td><td>False</td></tr><tr><td>CustomAttributes</td><td>[  ]</td></tr></tbody></table></div></details></td></tr><tr><td>Message</td><td><div class=\"dni-plaintext\"><pre>The input list was empty.</pre></div></td></tr><tr><td>Data</td><td><i>(empty)</i></td></tr><tr><td>InnerException</td><td><div class=\"dni-plaintext\"><pre>&lt;null&gt;</pre></div></td></tr><tr><td>HelpLink</td><td><div class=\"dni-plaintext\"><pre>&lt;null&gt;</pre></div></td></tr><tr><td>Source</td><td><div class=\"dni-plaintext\"><pre>FSharp.Core</pre></div></td></tr><tr><td>HResult</td><td><div class=\"dni-plaintext\"><pre>-2146233079</pre></div></td></tr><tr><td>StackTrace</td><td><div class=\"dni-plaintext\"><pre>   at Microsoft.FSharp.Collections.FSharpList`1.get_Head() in D:\\a\\_work\\1\\s\\src\\FSharp.Core\\prim-types.fs:line 4086\n",
       "   at lambda_method103(Closure, FSharpList`1)\n",
       "   at Microsoft.DotNet.Interactive.Formatting.MemberAccessor`1.GetValueOrException(T instance) in D:\\a\\_work\\1\\s\\src\\Microsoft.DotNet.Interactive.Formatting\\MemberAccessor{T}.cs:line 58</pre></div></td></tr></tbody></table></div></details></td></tr><tr><td>Tail</td><td><details class=\"dni-treeview\"><summary><span class=\"dni-code-hint\"><code>System.InvalidOperationException: The input list was empty.\\n   at Microsoft.FSharp.Collections.FSharpList`1.get_Tail() in D:\\a\\_work\\1\\s\\src\\FSharp.Core\\prim-types.fs:line 4091\\n   at lambda_method104(Closure, FSharpList`1)\\n   at Microsoft.DotNet.Interactive.Formatting.MemberAccessor`1.GetValueOrE...</code></span></summary><div><table><thead><tr></tr></thead><tbody><tr><td>TargetSite</td><td><details class=\"dni-treeview\"><summary><span class=\"dni-code-hint\"><code>Microsoft.FSharp.Collections.FSharpList`1[T] get_Tail()</code></span></summary><div><table><thead><tr></tr></thead><tbody><tr><td>Name</td><td>get_Tail</td></tr><tr><td>DeclaringType</td><td>Microsoft.FSharp.Collections.FSharpList`1[T]</td></tr><tr><td>ReflectedType</td><td>Microsoft.FSharp.Collections.FSharpList`1[T]</td></tr><tr><td>MemberType</td><td>Method</td></tr><tr><td>MetadataToken</td><td>100663763</td></tr><tr><td>Module</td><td>FSharp.Core.dll</td></tr><tr><td>IsSecurityCritical</td><td>True</td></tr><tr><td>IsSecuritySafeCritical</td><td>False</td></tr><tr><td>IsSecurityTransparent</td><td>False</td></tr><tr><td>MethodHandle</td><td>System.RuntimeMethodHandle</td></tr><tr><td>Attributes</td><td>PrivateScope, Public, HideBySig, SpecialName</td></tr><tr><td>CallingConvention</td><td>Standard, HasThis</td></tr><tr><td>ReturnType</td><td>Microsoft.FSharp.Collections.FSharpList`1[T]</td></tr><tr><td>ReturnTypeCustomAttributes</td><td>Microsoft.FSharp.Collections.FSharpList`1[T]</td></tr><tr><td>ReturnParameter</td><td>Microsoft.FSharp.Collections.FSharpList`1[T]</td></tr><tr><td>IsCollectible</td><td>False</td></tr><tr><td>IsGenericMethod</td><td>False</td></tr><tr><td>IsGenericMethodDefinition</td><td>False</td></tr><tr><td>ContainsGenericParameters</td><td>True</td></tr><tr><td>MethodImplementationFlags</td><td>IL</td></tr><tr><td>IsAbstract</td><td>False</td></tr><tr><td>IsConstructor</td><td>False</td></tr><tr><td>IsFinal</td><td>False</td></tr><tr><td>IsHideBySig</td><td>True</td></tr><tr><td>IsSpecialName</td><td>True</td></tr><tr><td>IsStatic</td><td>False</td></tr><tr><td>IsVirtual</td><td>False</td></tr><tr><td>IsAssembly</td><td>False</td></tr><tr><td>IsFamily</td><td>False</td></tr><tr><td>IsFamilyAndAssembly</td><td>False</td></tr><tr><td>IsFamilyOrAssembly</td><td>False</td></tr><tr><td>IsPrivate</td><td>False</td></tr><tr><td>IsPublic</td><td>True</td></tr><tr><td>IsConstructedGenericMethod</td><td>False</td></tr><tr><td>CustomAttributes</td><td>[  ]</td></tr></tbody></table></div></details></td></tr><tr><td>Message</td><td><div class=\"dni-plaintext\"><pre>The input list was empty.</pre></div></td></tr><tr><td>Data</td><td><i>(empty)</i></td></tr><tr><td>InnerException</td><td><div class=\"dni-plaintext\"><pre>&lt;null&gt;</pre></div></td></tr><tr><td>HelpLink</td><td><div class=\"dni-plaintext\"><pre>&lt;null&gt;</pre></div></td></tr><tr><td>Source</td><td><div class=\"dni-plaintext\"><pre>FSharp.Core</pre></div></td></tr><tr><td>HResult</td><td><div class=\"dni-plaintext\"><pre>-2146233079</pre></div></td></tr><tr><td>StackTrace</td><td><div class=\"dni-plaintext\"><pre>   at Microsoft.FSharp.Collections.FSharpList`1.get_Tail() in D:\\a\\_work\\1\\s\\src\\FSharp.Core\\prim-types.fs:line 4091\n",
       "   at lambda_method104(Closure, FSharpList`1)\n",
       "   at Microsoft.DotNet.Interactive.Formatting.MemberAccessor`1.GetValueOrException(T instance) in D:\\a\\_work\\1\\s\\src\\Microsoft.DotNet.Interactive.Formatting\\MemberAccessor{T}.cs:line 58</pre></div></td></tr></tbody></table></div></details></td></tr><tr><td><i>(values)</i></td><td><i>(empty)</i></td></tr></tbody></table></div></details></td></tr><tr><td>Head</td><td><details class=\"dni-treeview\"><summary><span class=\"dni-code-hint\"><code>(select_ax, []|- Tmcomb (Tmconst (&quot;!&quot;, Tycomp (&quot;-&gt;&quot;, [Tycomp (&quot;-&gt;&quot;, [Tycomp (&quot;-&gt;&quot;, [Tyvar &quot;a&quot;; Tycomp (&quot;bool&quot;, [])]); Tycomp (&quot;bool&quot;, [])]); Tycomp (&quot;bool&quot;, [])])), Tmabs (Tmvar (&quot;P&quot;, Tycomp (&quot;-&gt;&quot;, [Tyvar &quot;a&quot;; Tycomp (&quot;bool&quot;, [])])), Tmcomb (Tmconst (&quot;!&quot;, Tycomp (&quot;-&gt;&quot;, [Tycomp (&quot;-&gt;&quot;, [Tyvar &quot;a&quot;; Tyc...</code></span></summary><div><table><thead><tr></tr></thead><tbody><tr><td>Item1</td><td><div class=\"dni-plaintext\"><pre>select_ax</pre></div></td></tr><tr><td>Item2</td><td><details class=\"dni-treeview\"><summary><span class=\"dni-code-hint\"><code>[]|- Tmcomb (Tmconst (&quot;!&quot;, Tycomp (&quot;-&gt;&quot;, [Tycomp (&quot;-&gt;&quot;, [Tycomp (&quot;-&gt;&quot;, [Tyvar &quot;a&quot;; Tycomp (&quot;bool&quot;, [])]); Tycomp (&quot;bool&quot;, [])]); Tycomp (&quot;bool&quot;, [])])), Tmabs (Tmvar (&quot;P&quot;, Tycomp (&quot;-&gt;&quot;, [Tyvar &quot;a&quot;; Tycomp (&quot;bool&quot;, [])])), Tmcomb (Tmconst (&quot;!&quot;, Tycomp (&quot;-&gt;&quot;, [Tycomp (&quot;-&gt;&quot;, [Tyvar &quot;a&quot;; Tycomp (&quot;bool&quot;,...</code></span></summary><div><table><thead><tr></tr></thead><tbody></tbody></table></div></details></td></tr></tbody></table></div></details></td></tr><tr><td>Tail</td><td><details class=\"dni-treeview\"><summary><span class=\"dni-code-hint\"><code>[  ]</code></span></summary><div><table><thead><tr></tr></thead><tbody><tr><td>HeadOrDefault</td><td><div class=\"dni-plaintext\"><pre>&lt;null&gt;</pre></div></td></tr><tr><td>TailOrNull</td><td><div class=\"dni-plaintext\"><pre>&lt;null&gt;</pre></div></td></tr><tr><td>Head</td><td><details class=\"dni-treeview\"><summary><span class=\"dni-code-hint\"><code>System.InvalidOperationException: The input list was empty.\\n   at Microsoft.FSharp.Collections.FSharpList`1.get_Head() in D:\\a\\_work\\1\\s\\src\\FSharp.Core\\prim-types.fs:line 4086\\n   at lambda_method103(Closure, FSharpList`1)\\n   at Microsoft.DotNet.Interactive.Formatting.MemberAccessor`1.GetValueOrE...</code></span></summary><div><table><thead><tr></tr></thead><tbody><tr><td>TargetSite</td><td><details class=\"dni-treeview\"><summary><span class=\"dni-code-hint\"><code>T get_Head()</code></span></summary><div><table><thead><tr></tr></thead><tbody><tr><td>Name</td><td>get_Head</td></tr><tr><td>DeclaringType</td><td>Microsoft.FSharp.Collections.FSharpList`1[T]</td></tr><tr><td>ReflectedType</td><td>Microsoft.FSharp.Collections.FSharpList`1[T]</td></tr><tr><td>MemberType</td><td>Method</td></tr><tr><td>MetadataToken</td><td>100663762</td></tr><tr><td>Module</td><td>FSharp.Core.dll</td></tr><tr><td>IsSecurityCritical</td><td>True</td></tr><tr><td>IsSecuritySafeCritical</td><td>False</td></tr><tr><td>IsSecurityTransparent</td><td>False</td></tr><tr><td>MethodHandle</td><td>System.RuntimeMethodHandle</td></tr><tr><td>Attributes</td><td>PrivateScope, Public, HideBySig, SpecialName</td></tr><tr><td>CallingConvention</td><td>Standard, HasThis</td></tr><tr><td>ReturnType</td><td>T</td></tr><tr><td>ReturnTypeCustomAttributes</td><td>T</td></tr><tr><td>ReturnParameter</td><td>T</td></tr><tr><td>IsCollectible</td><td>False</td></tr><tr><td>IsGenericMethod</td><td>False</td></tr><tr><td>IsGenericMethodDefinition</td><td>False</td></tr><tr><td>ContainsGenericParameters</td><td>True</td></tr><tr><td>MethodImplementationFlags</td><td>IL</td></tr><tr><td>IsAbstract</td><td>False</td></tr><tr><td>IsConstructor</td><td>False</td></tr><tr><td>IsFinal</td><td>False</td></tr><tr><td>IsHideBySig</td><td>True</td></tr><tr><td>IsSpecialName</td><td>True</td></tr><tr><td>IsStatic</td><td>False</td></tr><tr><td>IsVirtual</td><td>False</td></tr><tr><td>IsAssembly</td><td>False</td></tr><tr><td>IsFamily</td><td>False</td></tr><tr><td>IsFamilyAndAssembly</td><td>False</td></tr><tr><td>IsFamilyOrAssembly</td><td>False</td></tr><tr><td>IsPrivate</td><td>False</td></tr><tr><td>IsPublic</td><td>True</td></tr><tr><td>IsConstructedGenericMethod</td><td>False</td></tr><tr><td>CustomAttributes</td><td>[  ]</td></tr></tbody></table></div></details></td></tr><tr><td>Message</td><td><div class=\"dni-plaintext\"><pre>The input list was empty.</pre></div></td></tr><tr><td>Data</td><td><i>(empty)</i></td></tr><tr><td>InnerException</td><td><div class=\"dni-plaintext\"><pre>&lt;null&gt;</pre></div></td></tr><tr><td>HelpLink</td><td><div class=\"dni-plaintext\"><pre>&lt;null&gt;</pre></div></td></tr><tr><td>Source</td><td><div class=\"dni-plaintext\"><pre>FSharp.Core</pre></div></td></tr><tr><td>HResult</td><td><div class=\"dni-plaintext\"><pre>-2146233079</pre></div></td></tr><tr><td>StackTrace</td><td><div class=\"dni-plaintext\"><pre>   at Microsoft.FSharp.Collections.FSharpList`1.get_Head() in D:\\a\\_work\\1\\s\\src\\FSharp.Core\\prim-types.fs:line 4086\n",
       "   at lambda_method103(Closure, FSharpList`1)\n",
       "   at Microsoft.DotNet.Interactive.Formatting.MemberAccessor`1.GetValueOrException(T instance) in D:\\a\\_work\\1\\s\\src\\Microsoft.DotNet.Interactive.Formatting\\MemberAccessor{T}.cs:line 58</pre></div></td></tr></tbody></table></div></details></td></tr><tr><td>Tail</td><td><details class=\"dni-treeview\"><summary><span class=\"dni-code-hint\"><code>System.InvalidOperationException: The input list was empty.\\n   at Microsoft.FSharp.Collections.FSharpList`1.get_Tail() in D:\\a\\_work\\1\\s\\src\\FSharp.Core\\prim-types.fs:line 4091\\n   at lambda_method104(Closure, FSharpList`1)\\n   at Microsoft.DotNet.Interactive.Formatting.MemberAccessor`1.GetValueOrE...</code></span></summary><div><table><thead><tr></tr></thead><tbody><tr><td>TargetSite</td><td><details class=\"dni-treeview\"><summary><span class=\"dni-code-hint\"><code>Microsoft.FSharp.Collections.FSharpList`1[T] get_Tail()</code></span></summary><div><table><thead><tr></tr></thead><tbody><tr><td>Name</td><td>get_Tail</td></tr><tr><td>DeclaringType</td><td>Microsoft.FSharp.Collections.FSharpList`1[T]</td></tr><tr><td>ReflectedType</td><td>Microsoft.FSharp.Collections.FSharpList`1[T]</td></tr><tr><td>MemberType</td><td>Method</td></tr><tr><td>MetadataToken</td><td>100663763</td></tr><tr><td>Module</td><td>FSharp.Core.dll</td></tr><tr><td>IsSecurityCritical</td><td>True</td></tr><tr><td>IsSecuritySafeCritical</td><td>False</td></tr><tr><td>IsSecurityTransparent</td><td>False</td></tr><tr><td>MethodHandle</td><td>System.RuntimeMethodHandle</td></tr><tr><td>Attributes</td><td>PrivateScope, Public, HideBySig, SpecialName</td></tr><tr><td>CallingConvention</td><td>Standard, HasThis</td></tr><tr><td>ReturnType</td><td>Microsoft.FSharp.Collections.FSharpList`1[T]</td></tr><tr><td>ReturnTypeCustomAttributes</td><td>Microsoft.FSharp.Collections.FSharpList`1[T]</td></tr><tr><td>ReturnParameter</td><td>Microsoft.FSharp.Collections.FSharpList`1[T]</td></tr><tr><td>IsCollectible</td><td>False</td></tr><tr><td>IsGenericMethod</td><td>False</td></tr><tr><td>IsGenericMethodDefinition</td><td>False</td></tr><tr><td>ContainsGenericParameters</td><td>True</td></tr><tr><td>MethodImplementationFlags</td><td>IL</td></tr><tr><td>IsAbstract</td><td>False</td></tr><tr><td>IsConstructor</td><td>False</td></tr><tr><td>IsFinal</td><td>False</td></tr><tr><td>IsHideBySig</td><td>True</td></tr><tr><td>IsSpecialName</td><td>True</td></tr><tr><td>IsStatic</td><td>False</td></tr><tr><td>IsVirtual</td><td>False</td></tr><tr><td>IsAssembly</td><td>False</td></tr><tr><td>IsFamily</td><td>False</td></tr><tr><td>IsFamilyAndAssembly</td><td>False</td></tr><tr><td>IsFamilyOrAssembly</td><td>False</td></tr><tr><td>IsPrivate</td><td>False</td></tr><tr><td>IsPublic</td><td>True</td></tr><tr><td>IsConstructedGenericMethod</td><td>False</td></tr><tr><td>CustomAttributes</td><td>[  ]</td></tr></tbody></table></div></details></td></tr><tr><td>Message</td><td><div class=\"dni-plaintext\"><pre>The input list was empty.</pre></div></td></tr><tr><td>Data</td><td><i>(empty)</i></td></tr><tr><td>InnerException</td><td><div class=\"dni-plaintext\"><pre>&lt;null&gt;</pre></div></td></tr><tr><td>HelpLink</td><td><div class=\"dni-plaintext\"><pre>&lt;null&gt;</pre></div></td></tr><tr><td>Source</td><td><div class=\"dni-plaintext\"><pre>FSharp.Core</pre></div></td></tr><tr><td>HResult</td><td><div class=\"dni-plaintext\"><pre>-2146233079</pre></div></td></tr><tr><td>StackTrace</td><td><div class=\"dni-plaintext\"><pre>   at Microsoft.FSharp.Collections.FSharpList`1.get_Tail() in D:\\a\\_work\\1\\s\\src\\FSharp.Core\\prim-types.fs:line 4091\n",
       "   at lambda_method104(Closure, FSharpList`1)\n",
       "   at Microsoft.DotNet.Interactive.Formatting.MemberAccessor`1.GetValueOrException(T instance) in D:\\a\\_work\\1\\s\\src\\Microsoft.DotNet.Interactive.Formatting\\MemberAccessor{T}.cs:line 58</pre></div></td></tr></tbody></table></div></details></td></tr><tr><td><i>(values)</i></td><td><i>(empty)</i></td></tr></tbody></table></div></details></td></tr><tr><td><i>(values)</i></td><td><table><thead><tr><th><i>index</i></th><th>value</th></tr></thead><tbody><tr><td>0</td><td><details class=\"dni-treeview\"><summary><span class=\"dni-code-hint\"><code>(select_ax, []|- Tmcomb (Tmconst (&quot;!&quot;, Tycomp (&quot;-&gt;&quot;, [Tycomp (&quot;-&gt;&quot;, [Tycomp (&quot;-&gt;&quot;, [Tyvar &quot;a&quot;; Tycomp (&quot;bool&quot;, [])]); Tycomp (&quot;bool&quot;, [])]); Tycomp (&quot;bool&quot;, [])])), Tmabs (Tmvar (&quot;P&quot;, Tycomp (&quot;-&gt;&quot;, [Tyvar &quot;a&quot;; Tycomp (&quot;bool&quot;, [])])), Tmcomb (Tmconst (&quot;!&quot;, Tycomp (&quot;-&gt;&quot;, [Tycomp (&quot;-&gt;&quot;, [Tyvar &quot;a&quot;; Tyc...</code></span></summary><div><table><thead><tr></tr></thead><tbody><tr><td>Item1</td><td><div class=\"dni-plaintext\"><pre>select_ax</pre></div></td></tr><tr><td>Item2</td><td><details class=\"dni-treeview\"><summary><span class=\"dni-code-hint\"><code>[]|- Tmcomb (Tmconst (&quot;!&quot;, Tycomp (&quot;-&gt;&quot;, [Tycomp (&quot;-&gt;&quot;, [Tycomp (&quot;-&gt;&quot;, [Tyvar &quot;a&quot;; Tycomp (&quot;bool&quot;, [])]); Tycomp (&quot;bool&quot;, [])]); Tycomp (&quot;bool&quot;, [])])), Tmabs (Tmvar (&quot;P&quot;, Tycomp (&quot;-&gt;&quot;, [Tyvar &quot;a&quot;; Tycomp (&quot;bool&quot;, [])])), Tmcomb (Tmconst (&quot;!&quot;, Tycomp (&quot;-&gt;&quot;, [Tycomp (&quot;-&gt;&quot;, [Tyvar &quot;a&quot;; Tycomp (&quot;bool&quot;,...</code></span></summary><div><table><thead><tr></tr></thead><tbody></tbody></table></div></details></td></tr></tbody></table></div></details></td></tr></tbody></table></td></tr></tbody></table></div></details></td></tr><tr><td><i>(values)</i></td><td><table><thead><tr><th><i>index</i></th><th>value</th></tr></thead><tbody><tr><td>0</td><td><details class=\"dni-treeview\"><summary><span class=\"dni-code-hint\"><code>(imp_antisym_ax, []|- Tmcomb (Tmconst (&quot;!&quot;, Tycomp (&quot;-&gt;&quot;, [Tycomp (&quot;-&gt;&quot;, [Tycomp (&quot;bool&quot;, []); Tycomp (&quot;bool&quot;, [])]); Tycomp (&quot;bool&quot;, [])])), Tmabs (Tmvar (&quot;p1&quot;, Tycomp (&quot;bool&quot;, [])), Tmcomb (Tmconst (&quot;!&quot;, Tycomp (&quot;-&gt;&quot;, [Tycomp (&quot;-&gt;&quot;, [Tycomp (&quot;bool&quot;, []); Tycomp (&quot;bool&quot;, [])]); Tycomp (&quot;bool&quot;, [])]...</code></span></summary><div><table><thead><tr></tr></thead><tbody><tr><td>Item1</td><td><div class=\"dni-plaintext\"><pre>imp_antisym_ax</pre></div></td></tr><tr><td>Item2</td><td><details class=\"dni-treeview\"><summary><span class=\"dni-code-hint\"><code>[]|- Tmcomb (Tmconst (&quot;!&quot;, Tycomp (&quot;-&gt;&quot;, [Tycomp (&quot;-&gt;&quot;, [Tycomp (&quot;bool&quot;, []); Tycomp (&quot;bool&quot;, [])]); Tycomp (&quot;bool&quot;, [])])), Tmabs (Tmvar (&quot;p1&quot;, Tycomp (&quot;bool&quot;, [])), Tmcomb (Tmconst (&quot;!&quot;, Tycomp (&quot;-&gt;&quot;, [Tycomp (&quot;-&gt;&quot;, [Tycomp (&quot;bool&quot;, []); Tycomp (&quot;bool&quot;, [])]); Tycomp (&quot;bool&quot;, [])])), Tmabs (Tmvar ...</code></span></summary><div><table><thead><tr></tr></thead><tbody></tbody></table></div></details></td></tr></tbody></table></div></details></td></tr><tr><td>1</td><td><details class=\"dni-treeview\"><summary><span class=\"dni-code-hint\"><code>(select_ax, []|- Tmcomb (Tmconst (&quot;!&quot;, Tycomp (&quot;-&gt;&quot;, [Tycomp (&quot;-&gt;&quot;, [Tycomp (&quot;-&gt;&quot;, [Tyvar &quot;a&quot;; Tycomp (&quot;bool&quot;, [])]); Tycomp (&quot;bool&quot;, [])]); Tycomp (&quot;bool&quot;, [])])), Tmabs (Tmvar (&quot;P&quot;, Tycomp (&quot;-&gt;&quot;, [Tyvar &quot;a&quot;; Tycomp (&quot;bool&quot;, [])])), Tmcomb (Tmconst (&quot;!&quot;, Tycomp (&quot;-&gt;&quot;, [Tycomp (&quot;-&gt;&quot;, [Tyvar &quot;a&quot;; Tyc...</code></span></summary><div><table><thead><tr></tr></thead><tbody><tr><td>Item1</td><td><div class=\"dni-plaintext\"><pre>select_ax</pre></div></td></tr><tr><td>Item2</td><td><details class=\"dni-treeview\"><summary><span class=\"dni-code-hint\"><code>[]|- Tmcomb (Tmconst (&quot;!&quot;, Tycomp (&quot;-&gt;&quot;, [Tycomp (&quot;-&gt;&quot;, [Tycomp (&quot;-&gt;&quot;, [Tyvar &quot;a&quot;; Tycomp (&quot;bool&quot;, [])]); Tycomp (&quot;bool&quot;, [])]); Tycomp (&quot;bool&quot;, [])])), Tmabs (Tmvar (&quot;P&quot;, Tycomp (&quot;-&gt;&quot;, [Tyvar &quot;a&quot;; Tycomp (&quot;bool&quot;, [])])), Tmcomb (Tmconst (&quot;!&quot;, Tycomp (&quot;-&gt;&quot;, [Tycomp (&quot;-&gt;&quot;, [Tyvar &quot;a&quot;; Tycomp (&quot;bool&quot;,...</code></span></summary><div><table><thead><tr></tr></thead><tbody></tbody></table></div></details></td></tr></tbody></table></div></details></td></tr></tbody></table></td></tr></tbody></table></div></details></td></tr><tr><td>Head</td><td><details class=\"dni-treeview\"><summary><span class=\"dni-code-hint\"><code>(eta_ax, []|- Tmcomb (Tmconst (&quot;!&quot;, Tycomp (&quot;-&gt;&quot;, [Tycomp (&quot;-&gt;&quot;, [Tycomp (&quot;-&gt;&quot;, [Tyvar &quot;a&quot;; Tyvar &quot;b&quot;]); Tycomp (&quot;bool&quot;, [])]); Tycomp (&quot;bool&quot;, [])])), Tmabs (Tmvar (&quot;f&quot;, Tycomp (&quot;-&gt;&quot;, [Tyvar &quot;a&quot;; Tyvar &quot;b&quot;])), Tmcomb (Tmcomb (Tmconst (&quot;=&quot;, Tycomp (&quot;-&gt;&quot;, [Tycomp (&quot;-&gt;&quot;, [Tyvar &quot;a&quot;; Tyvar &quot;b&quot;]); Tycom...</code></span></summary><div><table><thead><tr></tr></thead><tbody><tr><td>Item1</td><td><div class=\"dni-plaintext\"><pre>eta_ax</pre></div></td></tr><tr><td>Item2</td><td><details class=\"dni-treeview\"><summary><span class=\"dni-code-hint\"><code>[]|- Tmcomb (Tmconst (&quot;!&quot;, Tycomp (&quot;-&gt;&quot;, [Tycomp (&quot;-&gt;&quot;, [Tycomp (&quot;-&gt;&quot;, [Tyvar &quot;a&quot;; Tyvar &quot;b&quot;]); Tycomp (&quot;bool&quot;, [])]); Tycomp (&quot;bool&quot;, [])])), Tmabs (Tmvar (&quot;f&quot;, Tycomp (&quot;-&gt;&quot;, [Tyvar &quot;a&quot;; Tyvar &quot;b&quot;])), Tmcomb (Tmcomb (Tmconst (&quot;=&quot;, Tycomp (&quot;-&gt;&quot;, [Tycomp (&quot;-&gt;&quot;, [Tyvar &quot;a&quot;; Tyvar &quot;b&quot;]); Tycomp (&quot;-&gt;&quot;, ...</code></span></summary><div><table><thead><tr></tr></thead><tbody></tbody></table></div></details></td></tr></tbody></table></div></details></td></tr><tr><td>Tail</td><td><details class=\"dni-treeview\"><summary><span class=\"dni-code-hint\"><code>[ (imp_antisym_ax, []|- Tmcomb (Tmconst (&quot;!&quot;, Tycomp (&quot;-&gt;&quot;, [Tycomp (&quot;-&gt;&quot;, [Tycomp (&quot;bool&quot;, []); Tycomp (&quot;bool&quot;, [])]); Tycomp (&quot;bool&quot;, [])])), Tmabs (Tmvar (&quot;p1&quot;, Tycomp (&quot;bool&quot;, [])), Tmcomb (Tmconst (&quot;!&quot;, Tycomp (&quot;-&gt;&quot;, [Tycomp (&quot;-&gt;&quot;, [Tycomp (&quot;bool&quot;, []); Tycomp (&quot;bool&quot;, [])]); Tycomp (&quot;bool&quot;, [])])), Tmabs (Tmvar (&quot;p2&quot;, Tycomp (&quot;bool&quot;, [])), Tmcomb (Tmcomb (Tmconst (&quot;==&gt;&quot;, Tycomp (&quot;-&gt;&quot;, [Tycomp (&quot;bool&quot;, []); Tycomp (&quot;-&gt;&quot;, [Tycomp (&quot;bool&quot;, []); Tycomp (&quot;bool&quot;, [])])])), Tmcomb (Tmcomb (Tmconst (&quot;==&gt;&quot;, Tycomp (&quot;-&gt;&quot;, [Tycomp (&quot;bool&quot;, []); Tycomp (&quot;-&gt;&quot;, [Tycomp (&quot;bool&quot;, []); Tycomp (&quot;bool&quot;, [])])])), Tmvar (&quot;p1&quot;, Tycomp (&quot;bool&quot;, []))), Tmvar (&quot;p2&quot;, Tycomp (&quot;bool&quot;, [])))), Tmcomb (Tmcomb (Tmconst (&quot;==&gt;&quot;, Tycomp (&quot;-&gt;&quot;, [Tycomp (&quot;bool&quot;, []); Tycomp (&quot;-&gt;&quot;, [Tycomp (&quot;bool&quot;, []); Tycomp (&quot;bool&quot;, [])])])), Tmcomb (Tmcomb (Tmconst (&quot;==&gt;&quot;, Tycomp (&quot;-&gt;&quot;, [Tycomp (&quot;bool&quot;, []); Tycomp (&quot;-&gt;&quot;, [Tycomp (&quot;bool&quot;, []); Tycomp (&quot;bool&quot;, [])])])), Tmvar (&quot;p2&quot;, Tycomp (&quot;bool&quot;, []))), Tmvar (&quot;p1&quot;, Tycomp (&quot;bool&quot;, [])))), Tmcomb (Tmcomb (Tmconst (&quot;=&quot;, Tycomp (&quot;-&gt;&quot;, [Tycomp (&quot;bool&quot;, []); Tycomp (&quot;-&gt;&quot;, [Tycomp (&quot;bool&quot;, []); Tycomp (&quot;bool&quot;, [])])])), Tmvar (&quot;p1&quot;, Tycomp (&quot;bool&quot;, []))), Tmvar (&quot;p2&quot;, Tycomp (&quot;bool&quot;, [])))))))))), (select_ax, []|- Tmcomb (Tmconst (&quot;!&quot;, Tycomp (&quot;-&gt;&quot;, [Tycomp (&quot;-&gt;&quot;, [Tycomp (&quot;-&gt;&quot;, [Tyvar &quot;a&quot;; Tycomp (&quot;bool&quot;, [])]); Tycomp (&quot;bool&quot;, [])]); Tycomp (&quot;bool&quot;, [])])), Tmabs (Tmvar (&quot;P&quot;, Tycomp (&quot;-&gt;&quot;, [Tyvar &quot;a&quot;; Tycomp (&quot;bool&quot;, [])])), Tmcomb (Tmconst (&quot;!&quot;, Tycomp (&quot;-&gt;&quot;, [Tycomp (&quot;-&gt;&quot;, [Tyvar &quot;a&quot;; Tycomp (&quot;bool&quot;, [])]); Tycomp (&quot;bool&quot;, [])])), Tmabs (Tmvar (&quot;x&quot;, Tyvar &quot;a&quot;), Tmcomb (Tmcomb (Tmconst (&quot;==&gt;&quot;, Tycomp (&quot;-&gt;&quot;, [Tycomp (&quot;bool&quot;, []); Tycomp (&quot;-&gt;&quot;, [Tycomp (&quot;bool&quot;, []); Tycomp (&quot;bool&quot;, [])])])), Tmcomb (Tmvar (&quot;P&quot;, Tycomp (&quot;-&gt;&quot;, [Tyvar &quot;a&quot;; Tycomp (&quot;bool&quot;, [])])), Tmvar (&quot;x&quot;, Tyvar &quot;a&quot;))), Tmcomb (Tmvar (&quot;P&quot;, Tycomp (&quot;-&gt;&quot;, [Tyvar &quot;a&quot;; Tycomp (&quot;bool&quot;, [])])), Tmcomb (Tmconst (&quot;@&quot;, Tycomp (&quot;-&gt;&quot;, [Tycomp (&quot;-&gt;&quot;, [Tyvar &quot;a&quot;; Tycomp (&quot;bool&quot;, [])]); Tyvar &quot;a&quot;])), Tmvar (&quot;P&quot;, Tycomp (&quot;-&gt;&quot;, [Tyvar &quot;a&quot;; Tycomp (&quot;bool&quot;, [])])))))))))) ]</code></span></summary><div><table><thead><tr></tr></thead><tbody><tr><td>HeadOrDefault</td><td><details class=\"dni-treeview\"><summary><span class=\"dni-code-hint\"><code>(imp_antisym_ax, []|- Tmcomb (Tmconst (&quot;!&quot;, Tycomp (&quot;-&gt;&quot;, [Tycomp (&quot;-&gt;&quot;, [Tycomp (&quot;bool&quot;, []); Tycomp (&quot;bool&quot;, [])]); Tycomp (&quot;bool&quot;, [])])), Tmabs (Tmvar (&quot;p1&quot;, Tycomp (&quot;bool&quot;, [])), Tmcomb (Tmconst (&quot;!&quot;, Tycomp (&quot;-&gt;&quot;, [Tycomp (&quot;-&gt;&quot;, [Tycomp (&quot;bool&quot;, []); Tycomp (&quot;bool&quot;, [])]); Tycomp (&quot;bool&quot;, [])]...</code></span></summary><div><table><thead><tr></tr></thead><tbody><tr><td>Item1</td><td><div class=\"dni-plaintext\"><pre>imp_antisym_ax</pre></div></td></tr><tr><td>Item2</td><td><details class=\"dni-treeview\"><summary><span class=\"dni-code-hint\"><code>[]|- Tmcomb (Tmconst (&quot;!&quot;, Tycomp (&quot;-&gt;&quot;, [Tycomp (&quot;-&gt;&quot;, [Tycomp (&quot;bool&quot;, []); Tycomp (&quot;bool&quot;, [])]); Tycomp (&quot;bool&quot;, [])])), Tmabs (Tmvar (&quot;p1&quot;, Tycomp (&quot;bool&quot;, [])), Tmcomb (Tmconst (&quot;!&quot;, Tycomp (&quot;-&gt;&quot;, [Tycomp (&quot;-&gt;&quot;, [Tycomp (&quot;bool&quot;, []); Tycomp (&quot;bool&quot;, [])]); Tycomp (&quot;bool&quot;, [])])), Tmabs (Tmvar ...</code></span></summary><div><table><thead><tr></tr></thead><tbody></tbody></table></div></details></td></tr></tbody></table></div></details></td></tr><tr><td>TailOrNull</td><td><details class=\"dni-treeview\"><summary><span class=\"dni-code-hint\"><code>[ (select_ax, []|- Tmcomb (Tmconst (&quot;!&quot;, Tycomp (&quot;-&gt;&quot;, [Tycomp (&quot;-&gt;&quot;, [Tycomp (&quot;-&gt;&quot;, [Tyvar &quot;a&quot;; Tycomp (&quot;bool&quot;, [])]); Tycomp (&quot;bool&quot;, [])]); Tycomp (&quot;bool&quot;, [])])), Tmabs (Tmvar (&quot;P&quot;, Tycomp (&quot;-&gt;&quot;, [Tyvar &quot;a&quot;; Tycomp (&quot;bool&quot;, [])])), Tmcomb (Tmconst (&quot;!&quot;, Tycomp (&quot;-&gt;&quot;, [Tycomp (&quot;-&gt;&quot;, [Tyvar &quot;a&quot;; Tycomp (&quot;bool&quot;, [])]); Tycomp (&quot;bool&quot;, [])])), Tmabs (Tmvar (&quot;x&quot;, Tyvar &quot;a&quot;), Tmcomb (Tmcomb (Tmconst (&quot;==&gt;&quot;, Tycomp (&quot;-&gt;&quot;, [Tycomp (&quot;bool&quot;, []); Tycomp (&quot;-&gt;&quot;, [Tycomp (&quot;bool&quot;, []); Tycomp (&quot;bool&quot;, [])])])), Tmcomb (Tmvar (&quot;P&quot;, Tycomp (&quot;-&gt;&quot;, [Tyvar &quot;a&quot;; Tycomp (&quot;bool&quot;, [])])), Tmvar (&quot;x&quot;, Tyvar &quot;a&quot;))), Tmcomb (Tmvar (&quot;P&quot;, Tycomp (&quot;-&gt;&quot;, [Tyvar &quot;a&quot;; Tycomp (&quot;bool&quot;, [])])), Tmcomb (Tmconst (&quot;@&quot;, Tycomp (&quot;-&gt;&quot;, [Tycomp (&quot;-&gt;&quot;, [Tyvar &quot;a&quot;; Tycomp (&quot;bool&quot;, [])]); Tyvar &quot;a&quot;])), Tmvar (&quot;P&quot;, Tycomp (&quot;-&gt;&quot;, [Tyvar &quot;a&quot;; Tycomp (&quot;bool&quot;, [])])))))))))) ]</code></span></summary><div><table><thead><tr></tr></thead><tbody><tr><td>HeadOrDefault</td><td><details class=\"dni-treeview\"><summary><span class=\"dni-code-hint\"><code>(select_ax, []|- Tmcomb (Tmconst (&quot;!&quot;, Tycomp (&quot;-&gt;&quot;, [Tycomp (&quot;-&gt;&quot;, [Tycomp (&quot;-&gt;&quot;, [Tyvar &quot;a&quot;; Tycomp (&quot;bool&quot;, [])]); Tycomp (&quot;bool&quot;, [])]); Tycomp (&quot;bool&quot;, [])])), Tmabs (Tmvar (&quot;P&quot;, Tycomp (&quot;-&gt;&quot;, [Tyvar &quot;a&quot;; Tycomp (&quot;bool&quot;, [])])), Tmcomb (Tmconst (&quot;!&quot;, Tycomp (&quot;-&gt;&quot;, [Tycomp (&quot;-&gt;&quot;, [Tyvar &quot;a&quot;; Tyc...</code></span></summary><div><table><thead><tr></tr></thead><tbody><tr><td>Item1</td><td><div class=\"dni-plaintext\"><pre>select_ax</pre></div></td></tr><tr><td>Item2</td><td><details class=\"dni-treeview\"><summary><span class=\"dni-code-hint\"><code>[]|- Tmcomb (Tmconst (&quot;!&quot;, Tycomp (&quot;-&gt;&quot;, [Tycomp (&quot;-&gt;&quot;, [Tycomp (&quot;-&gt;&quot;, [Tyvar &quot;a&quot;; Tycomp (&quot;bool&quot;, [])]); Tycomp (&quot;bool&quot;, [])]); Tycomp (&quot;bool&quot;, [])])), Tmabs (Tmvar (&quot;P&quot;, Tycomp (&quot;-&gt;&quot;, [Tyvar &quot;a&quot;; Tycomp (&quot;bool&quot;, [])])), Tmcomb (Tmconst (&quot;!&quot;, Tycomp (&quot;-&gt;&quot;, [Tycomp (&quot;-&gt;&quot;, [Tyvar &quot;a&quot;; Tycomp (&quot;bool&quot;,...</code></span></summary><div><table><thead><tr></tr></thead><tbody></tbody></table></div></details></td></tr></tbody></table></div></details></td></tr><tr><td>TailOrNull</td><td><details class=\"dni-treeview\"><summary><span class=\"dni-code-hint\"><code>[  ]</code></span></summary><div><table><thead><tr></tr></thead><tbody><tr><td>HeadOrDefault</td><td><div class=\"dni-plaintext\"><pre>&lt;null&gt;</pre></div></td></tr><tr><td>TailOrNull</td><td><div class=\"dni-plaintext\"><pre>&lt;null&gt;</pre></div></td></tr><tr><td>Head</td><td><details class=\"dni-treeview\"><summary><span class=\"dni-code-hint\"><code>System.InvalidOperationException: The input list was empty.\\n   at Microsoft.FSharp.Collections.FSharpList`1.get_Head() in D:\\a\\_work\\1\\s\\src\\FSharp.Core\\prim-types.fs:line 4086\\n   at lambda_method103(Closure, FSharpList`1)\\n   at Microsoft.DotNet.Interactive.Formatting.MemberAccessor`1.GetValueOrE...</code></span></summary><div><table><thead><tr></tr></thead><tbody><tr><td>TargetSite</td><td><details class=\"dni-treeview\"><summary><span class=\"dni-code-hint\"><code>T get_Head()</code></span></summary><div><table><thead><tr></tr></thead><tbody><tr><td>Name</td><td>get_Head</td></tr><tr><td>DeclaringType</td><td>Microsoft.FSharp.Collections.FSharpList`1[T]</td></tr><tr><td>ReflectedType</td><td>Microsoft.FSharp.Collections.FSharpList`1[T]</td></tr><tr><td>MemberType</td><td>Method</td></tr><tr><td>MetadataToken</td><td>100663762</td></tr><tr><td>Module</td><td>FSharp.Core.dll</td></tr><tr><td>IsSecurityCritical</td><td>True</td></tr><tr><td>IsSecuritySafeCritical</td><td>False</td></tr><tr><td>IsSecurityTransparent</td><td>False</td></tr><tr><td>MethodHandle</td><td>System.RuntimeMethodHandle</td></tr><tr><td>Attributes</td><td>PrivateScope, Public, HideBySig, SpecialName</td></tr><tr><td>CallingConvention</td><td>Standard, HasThis</td></tr><tr><td>ReturnType</td><td>T</td></tr><tr><td>ReturnTypeCustomAttributes</td><td>T</td></tr><tr><td>ReturnParameter</td><td>T</td></tr><tr><td>IsCollectible</td><td>False</td></tr><tr><td>IsGenericMethod</td><td>False</td></tr><tr><td>IsGenericMethodDefinition</td><td>False</td></tr><tr><td>ContainsGenericParameters</td><td>True</td></tr><tr><td>MethodImplementationFlags</td><td>IL</td></tr><tr><td>IsAbstract</td><td>False</td></tr><tr><td>IsConstructor</td><td>False</td></tr><tr><td>IsFinal</td><td>False</td></tr><tr><td>IsHideBySig</td><td>True</td></tr><tr><td>IsSpecialName</td><td>True</td></tr><tr><td>IsStatic</td><td>False</td></tr><tr><td>IsVirtual</td><td>False</td></tr><tr><td>IsAssembly</td><td>False</td></tr><tr><td>IsFamily</td><td>False</td></tr><tr><td>IsFamilyAndAssembly</td><td>False</td></tr><tr><td>IsFamilyOrAssembly</td><td>False</td></tr><tr><td>IsPrivate</td><td>False</td></tr><tr><td>IsPublic</td><td>True</td></tr><tr><td>IsConstructedGenericMethod</td><td>False</td></tr><tr><td>CustomAttributes</td><td>[  ]</td></tr></tbody></table></div></details></td></tr><tr><td>Message</td><td><div class=\"dni-plaintext\"><pre>The input list was empty.</pre></div></td></tr><tr><td>Data</td><td><i>(empty)</i></td></tr><tr><td>InnerException</td><td><div class=\"dni-plaintext\"><pre>&lt;null&gt;</pre></div></td></tr><tr><td>HelpLink</td><td><div class=\"dni-plaintext\"><pre>&lt;null&gt;</pre></div></td></tr><tr><td>Source</td><td><div class=\"dni-plaintext\"><pre>FSharp.Core</pre></div></td></tr><tr><td>HResult</td><td><div class=\"dni-plaintext\"><pre>-2146233079</pre></div></td></tr><tr><td>StackTrace</td><td><div class=\"dni-plaintext\"><pre>   at Microsoft.FSharp.Collections.FSharpList`1.get_Head() in D:\\a\\_work\\1\\s\\src\\FSharp.Core\\prim-types.fs:line 4086\n",
       "   at lambda_method103(Closure, FSharpList`1)\n",
       "   at Microsoft.DotNet.Interactive.Formatting.MemberAccessor`1.GetValueOrException(T instance) in D:\\a\\_work\\1\\s\\src\\Microsoft.DotNet.Interactive.Formatting\\MemberAccessor{T}.cs:line 58</pre></div></td></tr></tbody></table></div></details></td></tr><tr><td>Tail</td><td><details class=\"dni-treeview\"><summary><span class=\"dni-code-hint\"><code>System.InvalidOperationException: The input list was empty.\\n   at Microsoft.FSharp.Collections.FSharpList`1.get_Tail() in D:\\a\\_work\\1\\s\\src\\FSharp.Core\\prim-types.fs:line 4091\\n   at lambda_method104(Closure, FSharpList`1)\\n   at Microsoft.DotNet.Interactive.Formatting.MemberAccessor`1.GetValueOrE...</code></span></summary><div><table><thead><tr></tr></thead><tbody><tr><td>TargetSite</td><td><details class=\"dni-treeview\"><summary><span class=\"dni-code-hint\"><code>Microsoft.FSharp.Collections.FSharpList`1[T] get_Tail()</code></span></summary><div><table><thead><tr></tr></thead><tbody><tr><td>Name</td><td>get_Tail</td></tr><tr><td>DeclaringType</td><td>Microsoft.FSharp.Collections.FSharpList`1[T]</td></tr><tr><td>ReflectedType</td><td>Microsoft.FSharp.Collections.FSharpList`1[T]</td></tr><tr><td>MemberType</td><td>Method</td></tr><tr><td>MetadataToken</td><td>100663763</td></tr><tr><td>Module</td><td>FSharp.Core.dll</td></tr><tr><td>IsSecurityCritical</td><td>True</td></tr><tr><td>IsSecuritySafeCritical</td><td>False</td></tr><tr><td>IsSecurityTransparent</td><td>False</td></tr><tr><td>MethodHandle</td><td>System.RuntimeMethodHandle</td></tr><tr><td>Attributes</td><td>PrivateScope, Public, HideBySig, SpecialName</td></tr><tr><td>CallingConvention</td><td>Standard, HasThis</td></tr><tr><td>ReturnType</td><td>Microsoft.FSharp.Collections.FSharpList`1[T]</td></tr><tr><td>ReturnTypeCustomAttributes</td><td>Microsoft.FSharp.Collections.FSharpList`1[T]</td></tr><tr><td>ReturnParameter</td><td>Microsoft.FSharp.Collections.FSharpList`1[T]</td></tr><tr><td>IsCollectible</td><td>False</td></tr><tr><td>IsGenericMethod</td><td>False</td></tr><tr><td>IsGenericMethodDefinition</td><td>False</td></tr><tr><td>ContainsGenericParameters</td><td>True</td></tr><tr><td>MethodImplementationFlags</td><td>IL</td></tr><tr><td>IsAbstract</td><td>False</td></tr><tr><td>IsConstructor</td><td>False</td></tr><tr><td>IsFinal</td><td>False</td></tr><tr><td>IsHideBySig</td><td>True</td></tr><tr><td>IsSpecialName</td><td>True</td></tr><tr><td>IsStatic</td><td>False</td></tr><tr><td>IsVirtual</td><td>False</td></tr><tr><td>IsAssembly</td><td>False</td></tr><tr><td>IsFamily</td><td>False</td></tr><tr><td>IsFamilyAndAssembly</td><td>False</td></tr><tr><td>IsFamilyOrAssembly</td><td>False</td></tr><tr><td>IsPrivate</td><td>False</td></tr><tr><td>IsPublic</td><td>True</td></tr><tr><td>IsConstructedGenericMethod</td><td>False</td></tr><tr><td>CustomAttributes</td><td>[  ]</td></tr></tbody></table></div></details></td></tr><tr><td>Message</td><td><div class=\"dni-plaintext\"><pre>The input list was empty.</pre></div></td></tr><tr><td>Data</td><td><i>(empty)</i></td></tr><tr><td>InnerException</td><td><div class=\"dni-plaintext\"><pre>&lt;null&gt;</pre></div></td></tr><tr><td>HelpLink</td><td><div class=\"dni-plaintext\"><pre>&lt;null&gt;</pre></div></td></tr><tr><td>Source</td><td><div class=\"dni-plaintext\"><pre>FSharp.Core</pre></div></td></tr><tr><td>HResult</td><td><div class=\"dni-plaintext\"><pre>-2146233079</pre></div></td></tr><tr><td>StackTrace</td><td><div class=\"dni-plaintext\"><pre>   at Microsoft.FSharp.Collections.FSharpList`1.get_Tail() in D:\\a\\_work\\1\\s\\src\\FSharp.Core\\prim-types.fs:line 4091\n",
       "   at lambda_method104(Closure, FSharpList`1)\n",
       "   at Microsoft.DotNet.Interactive.Formatting.MemberAccessor`1.GetValueOrException(T instance) in D:\\a\\_work\\1\\s\\src\\Microsoft.DotNet.Interactive.Formatting\\MemberAccessor{T}.cs:line 58</pre></div></td></tr></tbody></table></div></details></td></tr><tr><td><i>(values)</i></td><td><i>(empty)</i></td></tr></tbody></table></div></details></td></tr><tr><td>Head</td><td><details class=\"dni-treeview\"><summary><span class=\"dni-code-hint\"><code>(select_ax, []|- Tmcomb (Tmconst (&quot;!&quot;, Tycomp (&quot;-&gt;&quot;, [Tycomp (&quot;-&gt;&quot;, [Tycomp (&quot;-&gt;&quot;, [Tyvar &quot;a&quot;; Tycomp (&quot;bool&quot;, [])]); Tycomp (&quot;bool&quot;, [])]); Tycomp (&quot;bool&quot;, [])])), Tmabs (Tmvar (&quot;P&quot;, Tycomp (&quot;-&gt;&quot;, [Tyvar &quot;a&quot;; Tycomp (&quot;bool&quot;, [])])), Tmcomb (Tmconst (&quot;!&quot;, Tycomp (&quot;-&gt;&quot;, [Tycomp (&quot;-&gt;&quot;, [Tyvar &quot;a&quot;; Tyc...</code></span></summary><div><table><thead><tr></tr></thead><tbody><tr><td>Item1</td><td><div class=\"dni-plaintext\"><pre>select_ax</pre></div></td></tr><tr><td>Item2</td><td><details class=\"dni-treeview\"><summary><span class=\"dni-code-hint\"><code>[]|- Tmcomb (Tmconst (&quot;!&quot;, Tycomp (&quot;-&gt;&quot;, [Tycomp (&quot;-&gt;&quot;, [Tycomp (&quot;-&gt;&quot;, [Tyvar &quot;a&quot;; Tycomp (&quot;bool&quot;, [])]); Tycomp (&quot;bool&quot;, [])]); Tycomp (&quot;bool&quot;, [])])), Tmabs (Tmvar (&quot;P&quot;, Tycomp (&quot;-&gt;&quot;, [Tyvar &quot;a&quot;; Tycomp (&quot;bool&quot;, [])])), Tmcomb (Tmconst (&quot;!&quot;, Tycomp (&quot;-&gt;&quot;, [Tycomp (&quot;-&gt;&quot;, [Tyvar &quot;a&quot;; Tycomp (&quot;bool&quot;,...</code></span></summary><div><table><thead><tr></tr></thead><tbody></tbody></table></div></details></td></tr></tbody></table></div></details></td></tr><tr><td>Tail</td><td><details class=\"dni-treeview\"><summary><span class=\"dni-code-hint\"><code>[  ]</code></span></summary><div><table><thead><tr></tr></thead><tbody><tr><td>HeadOrDefault</td><td><div class=\"dni-plaintext\"><pre>&lt;null&gt;</pre></div></td></tr><tr><td>TailOrNull</td><td><div class=\"dni-plaintext\"><pre>&lt;null&gt;</pre></div></td></tr><tr><td>Head</td><td><details class=\"dni-treeview\"><summary><span class=\"dni-code-hint\"><code>System.InvalidOperationException: The input list was empty.\\n   at Microsoft.FSharp.Collections.FSharpList`1.get_Head() in D:\\a\\_work\\1\\s\\src\\FSharp.Core\\prim-types.fs:line 4086\\n   at lambda_method103(Closure, FSharpList`1)\\n   at Microsoft.DotNet.Interactive.Formatting.MemberAccessor`1.GetValueOrE...</code></span></summary><div><table><thead><tr></tr></thead><tbody><tr><td>TargetSite</td><td><details class=\"dni-treeview\"><summary><span class=\"dni-code-hint\"><code>T get_Head()</code></span></summary><div><table><thead><tr></tr></thead><tbody><tr><td>Name</td><td>get_Head</td></tr><tr><td>DeclaringType</td><td>Microsoft.FSharp.Collections.FSharpList`1[T]</td></tr><tr><td>ReflectedType</td><td>Microsoft.FSharp.Collections.FSharpList`1[T]</td></tr><tr><td>MemberType</td><td>Method</td></tr><tr><td>MetadataToken</td><td>100663762</td></tr><tr><td>Module</td><td>FSharp.Core.dll</td></tr><tr><td>IsSecurityCritical</td><td>True</td></tr><tr><td>IsSecuritySafeCritical</td><td>False</td></tr><tr><td>IsSecurityTransparent</td><td>False</td></tr><tr><td>MethodHandle</td><td>System.RuntimeMethodHandle</td></tr><tr><td>Attributes</td><td>PrivateScope, Public, HideBySig, SpecialName</td></tr><tr><td>CallingConvention</td><td>Standard, HasThis</td></tr><tr><td>ReturnType</td><td>T</td></tr><tr><td>ReturnTypeCustomAttributes</td><td>T</td></tr><tr><td>ReturnParameter</td><td>T</td></tr><tr><td>IsCollectible</td><td>False</td></tr><tr><td>IsGenericMethod</td><td>False</td></tr><tr><td>IsGenericMethodDefinition</td><td>False</td></tr><tr><td>ContainsGenericParameters</td><td>True</td></tr><tr><td>MethodImplementationFlags</td><td>IL</td></tr><tr><td>IsAbstract</td><td>False</td></tr><tr><td>IsConstructor</td><td>False</td></tr><tr><td>IsFinal</td><td>False</td></tr><tr><td>IsHideBySig</td><td>True</td></tr><tr><td>IsSpecialName</td><td>True</td></tr><tr><td>IsStatic</td><td>False</td></tr><tr><td>IsVirtual</td><td>False</td></tr><tr><td>IsAssembly</td><td>False</td></tr><tr><td>IsFamily</td><td>False</td></tr><tr><td>IsFamilyAndAssembly</td><td>False</td></tr><tr><td>IsFamilyOrAssembly</td><td>False</td></tr><tr><td>IsPrivate</td><td>False</td></tr><tr><td>IsPublic</td><td>True</td></tr><tr><td>IsConstructedGenericMethod</td><td>False</td></tr><tr><td>CustomAttributes</td><td>[  ]</td></tr></tbody></table></div></details></td></tr><tr><td>Message</td><td><div class=\"dni-plaintext\"><pre>The input list was empty.</pre></div></td></tr><tr><td>Data</td><td><i>(empty)</i></td></tr><tr><td>InnerException</td><td><div class=\"dni-plaintext\"><pre>&lt;null&gt;</pre></div></td></tr><tr><td>HelpLink</td><td><div class=\"dni-plaintext\"><pre>&lt;null&gt;</pre></div></td></tr><tr><td>Source</td><td><div class=\"dni-plaintext\"><pre>FSharp.Core</pre></div></td></tr><tr><td>HResult</td><td><div class=\"dni-plaintext\"><pre>-2146233079</pre></div></td></tr><tr><td>StackTrace</td><td><div class=\"dni-plaintext\"><pre>   at Microsoft.FSharp.Collections.FSharpList`1.get_Head() in D:\\a\\_work\\1\\s\\src\\FSharp.Core\\prim-types.fs:line 4086\n",
       "   at lambda_method103(Closure, FSharpList`1)\n",
       "   at Microsoft.DotNet.Interactive.Formatting.MemberAccessor`1.GetValueOrException(T instance) in D:\\a\\_work\\1\\s\\src\\Microsoft.DotNet.Interactive.Formatting\\MemberAccessor{T}.cs:line 58</pre></div></td></tr></tbody></table></div></details></td></tr><tr><td>Tail</td><td><details class=\"dni-treeview\"><summary><span class=\"dni-code-hint\"><code>System.InvalidOperationException: The input list was empty.\\n   at Microsoft.FSharp.Collections.FSharpList`1.get_Tail() in D:\\a\\_work\\1\\s\\src\\FSharp.Core\\prim-types.fs:line 4091\\n   at lambda_method104(Closure, FSharpList`1)\\n   at Microsoft.DotNet.Interactive.Formatting.MemberAccessor`1.GetValueOrE...</code></span></summary><div><table><thead><tr></tr></thead><tbody><tr><td>TargetSite</td><td><details class=\"dni-treeview\"><summary><span class=\"dni-code-hint\"><code>Microsoft.FSharp.Collections.FSharpList`1[T] get_Tail()</code></span></summary><div><table><thead><tr></tr></thead><tbody><tr><td>Name</td><td>get_Tail</td></tr><tr><td>DeclaringType</td><td>Microsoft.FSharp.Collections.FSharpList`1[T]</td></tr><tr><td>ReflectedType</td><td>Microsoft.FSharp.Collections.FSharpList`1[T]</td></tr><tr><td>MemberType</td><td>Method</td></tr><tr><td>MetadataToken</td><td>100663763</td></tr><tr><td>Module</td><td>FSharp.Core.dll</td></tr><tr><td>IsSecurityCritical</td><td>True</td></tr><tr><td>IsSecuritySafeCritical</td><td>False</td></tr><tr><td>IsSecurityTransparent</td><td>False</td></tr><tr><td>MethodHandle</td><td>System.RuntimeMethodHandle</td></tr><tr><td>Attributes</td><td>PrivateScope, Public, HideBySig, SpecialName</td></tr><tr><td>CallingConvention</td><td>Standard, HasThis</td></tr><tr><td>ReturnType</td><td>Microsoft.FSharp.Collections.FSharpList`1[T]</td></tr><tr><td>ReturnTypeCustomAttributes</td><td>Microsoft.FSharp.Collections.FSharpList`1[T]</td></tr><tr><td>ReturnParameter</td><td>Microsoft.FSharp.Collections.FSharpList`1[T]</td></tr><tr><td>IsCollectible</td><td>False</td></tr><tr><td>IsGenericMethod</td><td>False</td></tr><tr><td>IsGenericMethodDefinition</td><td>False</td></tr><tr><td>ContainsGenericParameters</td><td>True</td></tr><tr><td>MethodImplementationFlags</td><td>IL</td></tr><tr><td>IsAbstract</td><td>False</td></tr><tr><td>IsConstructor</td><td>False</td></tr><tr><td>IsFinal</td><td>False</td></tr><tr><td>IsHideBySig</td><td>True</td></tr><tr><td>IsSpecialName</td><td>True</td></tr><tr><td>IsStatic</td><td>False</td></tr><tr><td>IsVirtual</td><td>False</td></tr><tr><td>IsAssembly</td><td>False</td></tr><tr><td>IsFamily</td><td>False</td></tr><tr><td>IsFamilyAndAssembly</td><td>False</td></tr><tr><td>IsFamilyOrAssembly</td><td>False</td></tr><tr><td>IsPrivate</td><td>False</td></tr><tr><td>IsPublic</td><td>True</td></tr><tr><td>IsConstructedGenericMethod</td><td>False</td></tr><tr><td>CustomAttributes</td><td>[  ]</td></tr></tbody></table></div></details></td></tr><tr><td>Message</td><td><div class=\"dni-plaintext\"><pre>The input list was empty.</pre></div></td></tr><tr><td>Data</td><td><i>(empty)</i></td></tr><tr><td>InnerException</td><td><div class=\"dni-plaintext\"><pre>&lt;null&gt;</pre></div></td></tr><tr><td>HelpLink</td><td><div class=\"dni-plaintext\"><pre>&lt;null&gt;</pre></div></td></tr><tr><td>Source</td><td><div class=\"dni-plaintext\"><pre>FSharp.Core</pre></div></td></tr><tr><td>HResult</td><td><div class=\"dni-plaintext\"><pre>-2146233079</pre></div></td></tr><tr><td>StackTrace</td><td><div class=\"dni-plaintext\"><pre>   at Microsoft.FSharp.Collections.FSharpList`1.get_Tail() in D:\\a\\_work\\1\\s\\src\\FSharp.Core\\prim-types.fs:line 4091\n",
       "   at lambda_method104(Closure, FSharpList`1)\n",
       "   at Microsoft.DotNet.Interactive.Formatting.MemberAccessor`1.GetValueOrException(T instance) in D:\\a\\_work\\1\\s\\src\\Microsoft.DotNet.Interactive.Formatting\\MemberAccessor{T}.cs:line 58</pre></div></td></tr></tbody></table></div></details></td></tr><tr><td><i>(values)</i></td><td><i>(empty)</i></td></tr></tbody></table></div></details></td></tr><tr><td><i>(values)</i></td><td><table><thead><tr><th><i>index</i></th><th>value</th></tr></thead><tbody><tr><td>0</td><td><details class=\"dni-treeview\"><summary><span class=\"dni-code-hint\"><code>(select_ax, []|- Tmcomb (Tmconst (&quot;!&quot;, Tycomp (&quot;-&gt;&quot;, [Tycomp (&quot;-&gt;&quot;, [Tycomp (&quot;-&gt;&quot;, [Tyvar &quot;a&quot;; Tycomp (&quot;bool&quot;, [])]); Tycomp (&quot;bool&quot;, [])]); Tycomp (&quot;bool&quot;, [])])), Tmabs (Tmvar (&quot;P&quot;, Tycomp (&quot;-&gt;&quot;, [Tyvar &quot;a&quot;; Tycomp (&quot;bool&quot;, [])])), Tmcomb (Tmconst (&quot;!&quot;, Tycomp (&quot;-&gt;&quot;, [Tycomp (&quot;-&gt;&quot;, [Tyvar &quot;a&quot;; Tyc...</code></span></summary><div><table><thead><tr></tr></thead><tbody><tr><td>Item1</td><td><div class=\"dni-plaintext\"><pre>select_ax</pre></div></td></tr><tr><td>Item2</td><td><details class=\"dni-treeview\"><summary><span class=\"dni-code-hint\"><code>[]|- Tmcomb (Tmconst (&quot;!&quot;, Tycomp (&quot;-&gt;&quot;, [Tycomp (&quot;-&gt;&quot;, [Tycomp (&quot;-&gt;&quot;, [Tyvar &quot;a&quot;; Tycomp (&quot;bool&quot;, [])]); Tycomp (&quot;bool&quot;, [])]); Tycomp (&quot;bool&quot;, [])])), Tmabs (Tmvar (&quot;P&quot;, Tycomp (&quot;-&gt;&quot;, [Tyvar &quot;a&quot;; Tycomp (&quot;bool&quot;, [])])), Tmcomb (Tmconst (&quot;!&quot;, Tycomp (&quot;-&gt;&quot;, [Tycomp (&quot;-&gt;&quot;, [Tyvar &quot;a&quot;; Tycomp (&quot;bool&quot;,...</code></span></summary><div><table><thead><tr></tr></thead><tbody></tbody></table></div></details></td></tr></tbody></table></div></details></td></tr></tbody></table></td></tr></tbody></table></div></details></td></tr><tr><td>Head</td><td><details class=\"dni-treeview\"><summary><span class=\"dni-code-hint\"><code>(imp_antisym_ax, []|- Tmcomb (Tmconst (&quot;!&quot;, Tycomp (&quot;-&gt;&quot;, [Tycomp (&quot;-&gt;&quot;, [Tycomp (&quot;bool&quot;, []); Tycomp (&quot;bool&quot;, [])]); Tycomp (&quot;bool&quot;, [])])), Tmabs (Tmvar (&quot;p1&quot;, Tycomp (&quot;bool&quot;, [])), Tmcomb (Tmconst (&quot;!&quot;, Tycomp (&quot;-&gt;&quot;, [Tycomp (&quot;-&gt;&quot;, [Tycomp (&quot;bool&quot;, []); Tycomp (&quot;bool&quot;, [])]); Tycomp (&quot;bool&quot;, [])]...</code></span></summary><div><table><thead><tr></tr></thead><tbody><tr><td>Item1</td><td><div class=\"dni-plaintext\"><pre>imp_antisym_ax</pre></div></td></tr><tr><td>Item2</td><td><details class=\"dni-treeview\"><summary><span class=\"dni-code-hint\"><code>[]|- Tmcomb (Tmconst (&quot;!&quot;, Tycomp (&quot;-&gt;&quot;, [Tycomp (&quot;-&gt;&quot;, [Tycomp (&quot;bool&quot;, []); Tycomp (&quot;bool&quot;, [])]); Tycomp (&quot;bool&quot;, [])])), Tmabs (Tmvar (&quot;p1&quot;, Tycomp (&quot;bool&quot;, [])), Tmcomb (Tmconst (&quot;!&quot;, Tycomp (&quot;-&gt;&quot;, [Tycomp (&quot;-&gt;&quot;, [Tycomp (&quot;bool&quot;, []); Tycomp (&quot;bool&quot;, [])]); Tycomp (&quot;bool&quot;, [])])), Tmabs (Tmvar ...</code></span></summary><div><table><thead><tr></tr></thead><tbody></tbody></table></div></details></td></tr></tbody></table></div></details></td></tr><tr><td>Tail</td><td><details class=\"dni-treeview\"><summary><span class=\"dni-code-hint\"><code>[ (select_ax, []|- Tmcomb (Tmconst (&quot;!&quot;, Tycomp (&quot;-&gt;&quot;, [Tycomp (&quot;-&gt;&quot;, [Tycomp (&quot;-&gt;&quot;, [Tyvar &quot;a&quot;; Tycomp (&quot;bool&quot;, [])]); Tycomp (&quot;bool&quot;, [])]); Tycomp (&quot;bool&quot;, [])])), Tmabs (Tmvar (&quot;P&quot;, Tycomp (&quot;-&gt;&quot;, [Tyvar &quot;a&quot;; Tycomp (&quot;bool&quot;, [])])), Tmcomb (Tmconst (&quot;!&quot;, Tycomp (&quot;-&gt;&quot;, [Tycomp (&quot;-&gt;&quot;, [Tyvar &quot;a&quot;; Tycomp (&quot;bool&quot;, [])]); Tycomp (&quot;bool&quot;, [])])), Tmabs (Tmvar (&quot;x&quot;, Tyvar &quot;a&quot;), Tmcomb (Tmcomb (Tmconst (&quot;==&gt;&quot;, Tycomp (&quot;-&gt;&quot;, [Tycomp (&quot;bool&quot;, []); Tycomp (&quot;-&gt;&quot;, [Tycomp (&quot;bool&quot;, []); Tycomp (&quot;bool&quot;, [])])])), Tmcomb (Tmvar (&quot;P&quot;, Tycomp (&quot;-&gt;&quot;, [Tyvar &quot;a&quot;; Tycomp (&quot;bool&quot;, [])])), Tmvar (&quot;x&quot;, Tyvar &quot;a&quot;))), Tmcomb (Tmvar (&quot;P&quot;, Tycomp (&quot;-&gt;&quot;, [Tyvar &quot;a&quot;; Tycomp (&quot;bool&quot;, [])])), Tmcomb (Tmconst (&quot;@&quot;, Tycomp (&quot;-&gt;&quot;, [Tycomp (&quot;-&gt;&quot;, [Tyvar &quot;a&quot;; Tycomp (&quot;bool&quot;, [])]); Tyvar &quot;a&quot;])), Tmvar (&quot;P&quot;, Tycomp (&quot;-&gt;&quot;, [Tyvar &quot;a&quot;; Tycomp (&quot;bool&quot;, [])])))))))))) ]</code></span></summary><div><table><thead><tr></tr></thead><tbody><tr><td>HeadOrDefault</td><td><details class=\"dni-treeview\"><summary><span class=\"dni-code-hint\"><code>(select_ax, []|- Tmcomb (Tmconst (&quot;!&quot;, Tycomp (&quot;-&gt;&quot;, [Tycomp (&quot;-&gt;&quot;, [Tycomp (&quot;-&gt;&quot;, [Tyvar &quot;a&quot;; Tycomp (&quot;bool&quot;, [])]); Tycomp (&quot;bool&quot;, [])]); Tycomp (&quot;bool&quot;, [])])), Tmabs (Tmvar (&quot;P&quot;, Tycomp (&quot;-&gt;&quot;, [Tyvar &quot;a&quot;; Tycomp (&quot;bool&quot;, [])])), Tmcomb (Tmconst (&quot;!&quot;, Tycomp (&quot;-&gt;&quot;, [Tycomp (&quot;-&gt;&quot;, [Tyvar &quot;a&quot;; Tyc...</code></span></summary><div><table><thead><tr></tr></thead><tbody><tr><td>Item1</td><td><div class=\"dni-plaintext\"><pre>select_ax</pre></div></td></tr><tr><td>Item2</td><td><details class=\"dni-treeview\"><summary><span class=\"dni-code-hint\"><code>[]|- Tmcomb (Tmconst (&quot;!&quot;, Tycomp (&quot;-&gt;&quot;, [Tycomp (&quot;-&gt;&quot;, [Tycomp (&quot;-&gt;&quot;, [Tyvar &quot;a&quot;; Tycomp (&quot;bool&quot;, [])]); Tycomp (&quot;bool&quot;, [])]); Tycomp (&quot;bool&quot;, [])])), Tmabs (Tmvar (&quot;P&quot;, Tycomp (&quot;-&gt;&quot;, [Tyvar &quot;a&quot;; Tycomp (&quot;bool&quot;, [])])), Tmcomb (Tmconst (&quot;!&quot;, Tycomp (&quot;-&gt;&quot;, [Tycomp (&quot;-&gt;&quot;, [Tyvar &quot;a&quot;; Tycomp (&quot;bool&quot;,...</code></span></summary><div><table><thead><tr></tr></thead><tbody></tbody></table></div></details></td></tr></tbody></table></div></details></td></tr><tr><td>TailOrNull</td><td><details class=\"dni-treeview\"><summary><span class=\"dni-code-hint\"><code>[  ]</code></span></summary><div><table><thead><tr></tr></thead><tbody><tr><td>HeadOrDefault</td><td><div class=\"dni-plaintext\"><pre>&lt;null&gt;</pre></div></td></tr><tr><td>TailOrNull</td><td><div class=\"dni-plaintext\"><pre>&lt;null&gt;</pre></div></td></tr><tr><td>Head</td><td><details class=\"dni-treeview\"><summary><span class=\"dni-code-hint\"><code>System.InvalidOperationException: The input list was empty.\\n   at Microsoft.FSharp.Collections.FSharpList`1.get_Head() in D:\\a\\_work\\1\\s\\src\\FSharp.Core\\prim-types.fs:line 4086\\n   at lambda_method103(Closure, FSharpList`1)\\n   at Microsoft.DotNet.Interactive.Formatting.MemberAccessor`1.GetValueOrE...</code></span></summary><div><table><thead><tr></tr></thead><tbody><tr><td>TargetSite</td><td><details class=\"dni-treeview\"><summary><span class=\"dni-code-hint\"><code>T get_Head()</code></span></summary><div><table><thead><tr></tr></thead><tbody><tr><td>Name</td><td>get_Head</td></tr><tr><td>DeclaringType</td><td>Microsoft.FSharp.Collections.FSharpList`1[T]</td></tr><tr><td>ReflectedType</td><td>Microsoft.FSharp.Collections.FSharpList`1[T]</td></tr><tr><td>MemberType</td><td>Method</td></tr><tr><td>MetadataToken</td><td>100663762</td></tr><tr><td>Module</td><td>FSharp.Core.dll</td></tr><tr><td>IsSecurityCritical</td><td>True</td></tr><tr><td>IsSecuritySafeCritical</td><td>False</td></tr><tr><td>IsSecurityTransparent</td><td>False</td></tr><tr><td>MethodHandle</td><td>System.RuntimeMethodHandle</td></tr><tr><td>Attributes</td><td>PrivateScope, Public, HideBySig, SpecialName</td></tr><tr><td>CallingConvention</td><td>Standard, HasThis</td></tr><tr><td>ReturnType</td><td>T</td></tr><tr><td>ReturnTypeCustomAttributes</td><td>T</td></tr><tr><td>ReturnParameter</td><td>T</td></tr><tr><td>IsCollectible</td><td>False</td></tr><tr><td>IsGenericMethod</td><td>False</td></tr><tr><td>IsGenericMethodDefinition</td><td>False</td></tr><tr><td>ContainsGenericParameters</td><td>True</td></tr><tr><td>MethodImplementationFlags</td><td>IL</td></tr><tr><td>IsAbstract</td><td>False</td></tr><tr><td>IsConstructor</td><td>False</td></tr><tr><td>IsFinal</td><td>False</td></tr><tr><td>IsHideBySig</td><td>True</td></tr><tr><td>IsSpecialName</td><td>True</td></tr><tr><td>IsStatic</td><td>False</td></tr><tr><td>IsVirtual</td><td>False</td></tr><tr><td>IsAssembly</td><td>False</td></tr><tr><td>IsFamily</td><td>False</td></tr><tr><td>IsFamilyAndAssembly</td><td>False</td></tr><tr><td>IsFamilyOrAssembly</td><td>False</td></tr><tr><td>IsPrivate</td><td>False</td></tr><tr><td>IsPublic</td><td>True</td></tr><tr><td>IsConstructedGenericMethod</td><td>False</td></tr><tr><td>CustomAttributes</td><td>[  ]</td></tr></tbody></table></div></details></td></tr><tr><td>Message</td><td><div class=\"dni-plaintext\"><pre>The input list was empty.</pre></div></td></tr><tr><td>Data</td><td><i>(empty)</i></td></tr><tr><td>InnerException</td><td><div class=\"dni-plaintext\"><pre>&lt;null&gt;</pre></div></td></tr><tr><td>HelpLink</td><td><div class=\"dni-plaintext\"><pre>&lt;null&gt;</pre></div></td></tr><tr><td>Source</td><td><div class=\"dni-plaintext\"><pre>FSharp.Core</pre></div></td></tr><tr><td>HResult</td><td><div class=\"dni-plaintext\"><pre>-2146233079</pre></div></td></tr><tr><td>StackTrace</td><td><div class=\"dni-plaintext\"><pre>   at Microsoft.FSharp.Collections.FSharpList`1.get_Head() in D:\\a\\_work\\1\\s\\src\\FSharp.Core\\prim-types.fs:line 4086\n",
       "   at lambda_method103(Closure, FSharpList`1)\n",
       "   at Microsoft.DotNet.Interactive.Formatting.MemberAccessor`1.GetValueOrException(T instance) in D:\\a\\_work\\1\\s\\src\\Microsoft.DotNet.Interactive.Formatting\\MemberAccessor{T}.cs:line 58</pre></div></td></tr></tbody></table></div></details></td></tr><tr><td>Tail</td><td><details class=\"dni-treeview\"><summary><span class=\"dni-code-hint\"><code>System.InvalidOperationException: The input list was empty.\\n   at Microsoft.FSharp.Collections.FSharpList`1.get_Tail() in D:\\a\\_work\\1\\s\\src\\FSharp.Core\\prim-types.fs:line 4091\\n   at lambda_method104(Closure, FSharpList`1)\\n   at Microsoft.DotNet.Interactive.Formatting.MemberAccessor`1.GetValueOrE...</code></span></summary><div><table><thead><tr></tr></thead><tbody><tr><td>TargetSite</td><td><details class=\"dni-treeview\"><summary><span class=\"dni-code-hint\"><code>Microsoft.FSharp.Collections.FSharpList`1[T] get_Tail()</code></span></summary><div><table><thead><tr></tr></thead><tbody><tr><td>Name</td><td>get_Tail</td></tr><tr><td>DeclaringType</td><td>Microsoft.FSharp.Collections.FSharpList`1[T]</td></tr><tr><td>ReflectedType</td><td>Microsoft.FSharp.Collections.FSharpList`1[T]</td></tr><tr><td>MemberType</td><td>Method</td></tr><tr><td>MetadataToken</td><td>100663763</td></tr><tr><td>Module</td><td>FSharp.Core.dll</td></tr><tr><td>IsSecurityCritical</td><td>True</td></tr><tr><td>IsSecuritySafeCritical</td><td>False</td></tr><tr><td>IsSecurityTransparent</td><td>False</td></tr><tr><td>MethodHandle</td><td>System.RuntimeMethodHandle</td></tr><tr><td>Attributes</td><td>PrivateScope, Public, HideBySig, SpecialName</td></tr><tr><td>CallingConvention</td><td>Standard, HasThis</td></tr><tr><td>ReturnType</td><td>Microsoft.FSharp.Collections.FSharpList`1[T]</td></tr><tr><td>ReturnTypeCustomAttributes</td><td>Microsoft.FSharp.Collections.FSharpList`1[T]</td></tr><tr><td>ReturnParameter</td><td>Microsoft.FSharp.Collections.FSharpList`1[T]</td></tr><tr><td>IsCollectible</td><td>False</td></tr><tr><td>IsGenericMethod</td><td>False</td></tr><tr><td>IsGenericMethodDefinition</td><td>False</td></tr><tr><td>ContainsGenericParameters</td><td>True</td></tr><tr><td>MethodImplementationFlags</td><td>IL</td></tr><tr><td>IsAbstract</td><td>False</td></tr><tr><td>IsConstructor</td><td>False</td></tr><tr><td>IsFinal</td><td>False</td></tr><tr><td>IsHideBySig</td><td>True</td></tr><tr><td>IsSpecialName</td><td>True</td></tr><tr><td>IsStatic</td><td>False</td></tr><tr><td>IsVirtual</td><td>False</td></tr><tr><td>IsAssembly</td><td>False</td></tr><tr><td>IsFamily</td><td>False</td></tr><tr><td>IsFamilyAndAssembly</td><td>False</td></tr><tr><td>IsFamilyOrAssembly</td><td>False</td></tr><tr><td>IsPrivate</td><td>False</td></tr><tr><td>IsPublic</td><td>True</td></tr><tr><td>IsConstructedGenericMethod</td><td>False</td></tr><tr><td>CustomAttributes</td><td>[  ]</td></tr></tbody></table></div></details></td></tr><tr><td>Message</td><td><div class=\"dni-plaintext\"><pre>The input list was empty.</pre></div></td></tr><tr><td>Data</td><td><i>(empty)</i></td></tr><tr><td>InnerException</td><td><div class=\"dni-plaintext\"><pre>&lt;null&gt;</pre></div></td></tr><tr><td>HelpLink</td><td><div class=\"dni-plaintext\"><pre>&lt;null&gt;</pre></div></td></tr><tr><td>Source</td><td><div class=\"dni-plaintext\"><pre>FSharp.Core</pre></div></td></tr><tr><td>HResult</td><td><div class=\"dni-plaintext\"><pre>-2146233079</pre></div></td></tr><tr><td>StackTrace</td><td><div class=\"dni-plaintext\"><pre>   at Microsoft.FSharp.Collections.FSharpList`1.get_Tail() in D:\\a\\_work\\1\\s\\src\\FSharp.Core\\prim-types.fs:line 4091\n",
       "   at lambda_method104(Closure, FSharpList`1)\n",
       "   at Microsoft.DotNet.Interactive.Formatting.MemberAccessor`1.GetValueOrException(T instance) in D:\\a\\_work\\1\\s\\src\\Microsoft.DotNet.Interactive.Formatting\\MemberAccessor{T}.cs:line 58</pre></div></td></tr></tbody></table></div></details></td></tr><tr><td><i>(values)</i></td><td><i>(empty)</i></td></tr></tbody></table></div></details></td></tr><tr><td>Head</td><td><details class=\"dni-treeview\"><summary><span class=\"dni-code-hint\"><code>(select_ax, []|- Tmcomb (Tmconst (&quot;!&quot;, Tycomp (&quot;-&gt;&quot;, [Tycomp (&quot;-&gt;&quot;, [Tycomp (&quot;-&gt;&quot;, [Tyvar &quot;a&quot;; Tycomp (&quot;bool&quot;, [])]); Tycomp (&quot;bool&quot;, [])]); Tycomp (&quot;bool&quot;, [])])), Tmabs (Tmvar (&quot;P&quot;, Tycomp (&quot;-&gt;&quot;, [Tyvar &quot;a&quot;; Tycomp (&quot;bool&quot;, [])])), Tmcomb (Tmconst (&quot;!&quot;, Tycomp (&quot;-&gt;&quot;, [Tycomp (&quot;-&gt;&quot;, [Tyvar &quot;a&quot;; Tyc...</code></span></summary><div><table><thead><tr></tr></thead><tbody><tr><td>Item1</td><td><div class=\"dni-plaintext\"><pre>select_ax</pre></div></td></tr><tr><td>Item2</td><td><details class=\"dni-treeview\"><summary><span class=\"dni-code-hint\"><code>[]|- Tmcomb (Tmconst (&quot;!&quot;, Tycomp (&quot;-&gt;&quot;, [Tycomp (&quot;-&gt;&quot;, [Tycomp (&quot;-&gt;&quot;, [Tyvar &quot;a&quot;; Tycomp (&quot;bool&quot;, [])]); Tycomp (&quot;bool&quot;, [])]); Tycomp (&quot;bool&quot;, [])])), Tmabs (Tmvar (&quot;P&quot;, Tycomp (&quot;-&gt;&quot;, [Tyvar &quot;a&quot;; Tycomp (&quot;bool&quot;, [])])), Tmcomb (Tmconst (&quot;!&quot;, Tycomp (&quot;-&gt;&quot;, [Tycomp (&quot;-&gt;&quot;, [Tyvar &quot;a&quot;; Tycomp (&quot;bool&quot;,...</code></span></summary><div><table><thead><tr></tr></thead><tbody></tbody></table></div></details></td></tr></tbody></table></div></details></td></tr><tr><td>Tail</td><td><details class=\"dni-treeview\"><summary><span class=\"dni-code-hint\"><code>[  ]</code></span></summary><div><table><thead><tr></tr></thead><tbody><tr><td>HeadOrDefault</td><td><div class=\"dni-plaintext\"><pre>&lt;null&gt;</pre></div></td></tr><tr><td>TailOrNull</td><td><div class=\"dni-plaintext\"><pre>&lt;null&gt;</pre></div></td></tr><tr><td>Head</td><td><details class=\"dni-treeview\"><summary><span class=\"dni-code-hint\"><code>System.InvalidOperationException: The input list was empty.\\n   at Microsoft.FSharp.Collections.FSharpList`1.get_Head() in D:\\a\\_work\\1\\s\\src\\FSharp.Core\\prim-types.fs:line 4086\\n   at lambda_method103(Closure, FSharpList`1)\\n   at Microsoft.DotNet.Interactive.Formatting.MemberAccessor`1.GetValueOrE...</code></span></summary><div><table><thead><tr></tr></thead><tbody><tr><td>TargetSite</td><td><details class=\"dni-treeview\"><summary><span class=\"dni-code-hint\"><code>T get_Head()</code></span></summary><div><table><thead><tr></tr></thead><tbody><tr><td>Name</td><td>get_Head</td></tr><tr><td>DeclaringType</td><td>Microsoft.FSharp.Collections.FSharpList`1[T]</td></tr><tr><td>ReflectedType</td><td>Microsoft.FSharp.Collections.FSharpList`1[T]</td></tr><tr><td>MemberType</td><td>Method</td></tr><tr><td>MetadataToken</td><td>100663762</td></tr><tr><td>Module</td><td>FSharp.Core.dll</td></tr><tr><td>IsSecurityCritical</td><td>True</td></tr><tr><td>IsSecuritySafeCritical</td><td>False</td></tr><tr><td>IsSecurityTransparent</td><td>False</td></tr><tr><td>MethodHandle</td><td>System.RuntimeMethodHandle</td></tr><tr><td>Attributes</td><td>PrivateScope, Public, HideBySig, SpecialName</td></tr><tr><td>CallingConvention</td><td>Standard, HasThis</td></tr><tr><td>ReturnType</td><td>T</td></tr><tr><td>ReturnTypeCustomAttributes</td><td>T</td></tr><tr><td>ReturnParameter</td><td>T</td></tr><tr><td>IsCollectible</td><td>False</td></tr><tr><td>IsGenericMethod</td><td>False</td></tr><tr><td>IsGenericMethodDefinition</td><td>False</td></tr><tr><td>ContainsGenericParameters</td><td>True</td></tr><tr><td>MethodImplementationFlags</td><td>IL</td></tr><tr><td>IsAbstract</td><td>False</td></tr><tr><td>IsConstructor</td><td>False</td></tr><tr><td>IsFinal</td><td>False</td></tr><tr><td>IsHideBySig</td><td>True</td></tr><tr><td>IsSpecialName</td><td>True</td></tr><tr><td>IsStatic</td><td>False</td></tr><tr><td>IsVirtual</td><td>False</td></tr><tr><td>IsAssembly</td><td>False</td></tr><tr><td>IsFamily</td><td>False</td></tr><tr><td>IsFamilyAndAssembly</td><td>False</td></tr><tr><td>IsFamilyOrAssembly</td><td>False</td></tr><tr><td>IsPrivate</td><td>False</td></tr><tr><td>IsPublic</td><td>True</td></tr><tr><td>IsConstructedGenericMethod</td><td>False</td></tr><tr><td>CustomAttributes</td><td>[  ]</td></tr></tbody></table></div></details></td></tr><tr><td>Message</td><td><div class=\"dni-plaintext\"><pre>The input list was empty.</pre></div></td></tr><tr><td>Data</td><td><i>(empty)</i></td></tr><tr><td>InnerException</td><td><div class=\"dni-plaintext\"><pre>&lt;null&gt;</pre></div></td></tr><tr><td>HelpLink</td><td><div class=\"dni-plaintext\"><pre>&lt;null&gt;</pre></div></td></tr><tr><td>Source</td><td><div class=\"dni-plaintext\"><pre>FSharp.Core</pre></div></td></tr><tr><td>HResult</td><td><div class=\"dni-plaintext\"><pre>-2146233079</pre></div></td></tr><tr><td>StackTrace</td><td><div class=\"dni-plaintext\"><pre>   at Microsoft.FSharp.Collections.FSharpList`1.get_Head() in D:\\a\\_work\\1\\s\\src\\FSharp.Core\\prim-types.fs:line 4086\n",
       "   at lambda_method103(Closure, FSharpList`1)\n",
       "   at Microsoft.DotNet.Interactive.Formatting.MemberAccessor`1.GetValueOrException(T instance) in D:\\a\\_work\\1\\s\\src\\Microsoft.DotNet.Interactive.Formatting\\MemberAccessor{T}.cs:line 58</pre></div></td></tr></tbody></table></div></details></td></tr><tr><td>Tail</td><td><details class=\"dni-treeview\"><summary><span class=\"dni-code-hint\"><code>System.InvalidOperationException: The input list was empty.\\n   at Microsoft.FSharp.Collections.FSharpList`1.get_Tail() in D:\\a\\_work\\1\\s\\src\\FSharp.Core\\prim-types.fs:line 4091\\n   at lambda_method104(Closure, FSharpList`1)\\n   at Microsoft.DotNet.Interactive.Formatting.MemberAccessor`1.GetValueOrE...</code></span></summary><div><table><thead><tr></tr></thead><tbody><tr><td>TargetSite</td><td><details class=\"dni-treeview\"><summary><span class=\"dni-code-hint\"><code>Microsoft.FSharp.Collections.FSharpList`1[T] get_Tail()</code></span></summary><div><table><thead><tr></tr></thead><tbody><tr><td>Name</td><td>get_Tail</td></tr><tr><td>DeclaringType</td><td>Microsoft.FSharp.Collections.FSharpList`1[T]</td></tr><tr><td>ReflectedType</td><td>Microsoft.FSharp.Collections.FSharpList`1[T]</td></tr><tr><td>MemberType</td><td>Method</td></tr><tr><td>MetadataToken</td><td>100663763</td></tr><tr><td>Module</td><td>FSharp.Core.dll</td></tr><tr><td>IsSecurityCritical</td><td>True</td></tr><tr><td>IsSecuritySafeCritical</td><td>False</td></tr><tr><td>IsSecurityTransparent</td><td>False</td></tr><tr><td>MethodHandle</td><td>System.RuntimeMethodHandle</td></tr><tr><td>Attributes</td><td>PrivateScope, Public, HideBySig, SpecialName</td></tr><tr><td>CallingConvention</td><td>Standard, HasThis</td></tr><tr><td>ReturnType</td><td>Microsoft.FSharp.Collections.FSharpList`1[T]</td></tr><tr><td>ReturnTypeCustomAttributes</td><td>Microsoft.FSharp.Collections.FSharpList`1[T]</td></tr><tr><td>ReturnParameter</td><td>Microsoft.FSharp.Collections.FSharpList`1[T]</td></tr><tr><td>IsCollectible</td><td>False</td></tr><tr><td>IsGenericMethod</td><td>False</td></tr><tr><td>IsGenericMethodDefinition</td><td>False</td></tr><tr><td>ContainsGenericParameters</td><td>True</td></tr><tr><td>MethodImplementationFlags</td><td>IL</td></tr><tr><td>IsAbstract</td><td>False</td></tr><tr><td>IsConstructor</td><td>False</td></tr><tr><td>IsFinal</td><td>False</td></tr><tr><td>IsHideBySig</td><td>True</td></tr><tr><td>IsSpecialName</td><td>True</td></tr><tr><td>IsStatic</td><td>False</td></tr><tr><td>IsVirtual</td><td>False</td></tr><tr><td>IsAssembly</td><td>False</td></tr><tr><td>IsFamily</td><td>False</td></tr><tr><td>IsFamilyAndAssembly</td><td>False</td></tr><tr><td>IsFamilyOrAssembly</td><td>False</td></tr><tr><td>IsPrivate</td><td>False</td></tr><tr><td>IsPublic</td><td>True</td></tr><tr><td>IsConstructedGenericMethod</td><td>False</td></tr><tr><td>CustomAttributes</td><td>[  ]</td></tr></tbody></table></div></details></td></tr><tr><td>Message</td><td><div class=\"dni-plaintext\"><pre>The input list was empty.</pre></div></td></tr><tr><td>Data</td><td><i>(empty)</i></td></tr><tr><td>InnerException</td><td><div class=\"dni-plaintext\"><pre>&lt;null&gt;</pre></div></td></tr><tr><td>HelpLink</td><td><div class=\"dni-plaintext\"><pre>&lt;null&gt;</pre></div></td></tr><tr><td>Source</td><td><div class=\"dni-plaintext\"><pre>FSharp.Core</pre></div></td></tr><tr><td>HResult</td><td><div class=\"dni-plaintext\"><pre>-2146233079</pre></div></td></tr><tr><td>StackTrace</td><td><div class=\"dni-plaintext\"><pre>   at Microsoft.FSharp.Collections.FSharpList`1.get_Tail() in D:\\a\\_work\\1\\s\\src\\FSharp.Core\\prim-types.fs:line 4091\n",
       "   at lambda_method104(Closure, FSharpList`1)\n",
       "   at Microsoft.DotNet.Interactive.Formatting.MemberAccessor`1.GetValueOrException(T instance) in D:\\a\\_work\\1\\s\\src\\Microsoft.DotNet.Interactive.Formatting\\MemberAccessor{T}.cs:line 58</pre></div></td></tr></tbody></table></div></details></td></tr><tr><td><i>(values)</i></td><td><i>(empty)</i></td></tr></tbody></table></div></details></td></tr><tr><td><i>(values)</i></td><td><table><thead><tr><th><i>index</i></th><th>value</th></tr></thead><tbody><tr><td>0</td><td><details class=\"dni-treeview\"><summary><span class=\"dni-code-hint\"><code>(select_ax, []|- Tmcomb (Tmconst (&quot;!&quot;, Tycomp (&quot;-&gt;&quot;, [Tycomp (&quot;-&gt;&quot;, [Tycomp (&quot;-&gt;&quot;, [Tyvar &quot;a&quot;; Tycomp (&quot;bool&quot;, [])]); Tycomp (&quot;bool&quot;, [])]); Tycomp (&quot;bool&quot;, [])])), Tmabs (Tmvar (&quot;P&quot;, Tycomp (&quot;-&gt;&quot;, [Tyvar &quot;a&quot;; Tycomp (&quot;bool&quot;, [])])), Tmcomb (Tmconst (&quot;!&quot;, Tycomp (&quot;-&gt;&quot;, [Tycomp (&quot;-&gt;&quot;, [Tyvar &quot;a&quot;; Tyc...</code></span></summary><div><table><thead><tr></tr></thead><tbody><tr><td>Item1</td><td><div class=\"dni-plaintext\"><pre>select_ax</pre></div></td></tr><tr><td>Item2</td><td><details class=\"dni-treeview\"><summary><span class=\"dni-code-hint\"><code>[]|- Tmcomb (Tmconst (&quot;!&quot;, Tycomp (&quot;-&gt;&quot;, [Tycomp (&quot;-&gt;&quot;, [Tycomp (&quot;-&gt;&quot;, [Tyvar &quot;a&quot;; Tycomp (&quot;bool&quot;, [])]); Tycomp (&quot;bool&quot;, [])]); Tycomp (&quot;bool&quot;, [])])), Tmabs (Tmvar (&quot;P&quot;, Tycomp (&quot;-&gt;&quot;, [Tyvar &quot;a&quot;; Tycomp (&quot;bool&quot;, [])])), Tmcomb (Tmconst (&quot;!&quot;, Tycomp (&quot;-&gt;&quot;, [Tycomp (&quot;-&gt;&quot;, [Tyvar &quot;a&quot;; Tycomp (&quot;bool&quot;,...</code></span></summary><div><table><thead><tr></tr></thead><tbody></tbody></table></div></details></td></tr></tbody></table></div></details></td></tr></tbody></table></td></tr></tbody></table></div></details></td></tr><tr><td><i>(values)</i></td><td><table><thead><tr><th><i>index</i></th><th>value</th></tr></thead><tbody><tr><td>0</td><td><details class=\"dni-treeview\"><summary><span class=\"dni-code-hint\"><code>(imp_antisym_ax, []|- Tmcomb (Tmconst (&quot;!&quot;, Tycomp (&quot;-&gt;&quot;, [Tycomp (&quot;-&gt;&quot;, [Tycomp (&quot;bool&quot;, []); Tycomp (&quot;bool&quot;, [])]); Tycomp (&quot;bool&quot;, [])])), Tmabs (Tmvar (&quot;p1&quot;, Tycomp (&quot;bool&quot;, [])), Tmcomb (Tmconst (&quot;!&quot;, Tycomp (&quot;-&gt;&quot;, [Tycomp (&quot;-&gt;&quot;, [Tycomp (&quot;bool&quot;, []); Tycomp (&quot;bool&quot;, [])]); Tycomp (&quot;bool&quot;, [])]...</code></span></summary><div><table><thead><tr></tr></thead><tbody><tr><td>Item1</td><td><div class=\"dni-plaintext\"><pre>imp_antisym_ax</pre></div></td></tr><tr><td>Item2</td><td><details class=\"dni-treeview\"><summary><span class=\"dni-code-hint\"><code>[]|- Tmcomb (Tmconst (&quot;!&quot;, Tycomp (&quot;-&gt;&quot;, [Tycomp (&quot;-&gt;&quot;, [Tycomp (&quot;bool&quot;, []); Tycomp (&quot;bool&quot;, [])]); Tycomp (&quot;bool&quot;, [])])), Tmabs (Tmvar (&quot;p1&quot;, Tycomp (&quot;bool&quot;, [])), Tmcomb (Tmconst (&quot;!&quot;, Tycomp (&quot;-&gt;&quot;, [Tycomp (&quot;-&gt;&quot;, [Tycomp (&quot;bool&quot;, []); Tycomp (&quot;bool&quot;, [])]); Tycomp (&quot;bool&quot;, [])])), Tmabs (Tmvar ...</code></span></summary><div><table><thead><tr></tr></thead><tbody></tbody></table></div></details></td></tr></tbody></table></div></details></td></tr><tr><td>1</td><td><details class=\"dni-treeview\"><summary><span class=\"dni-code-hint\"><code>(select_ax, []|- Tmcomb (Tmconst (&quot;!&quot;, Tycomp (&quot;-&gt;&quot;, [Tycomp (&quot;-&gt;&quot;, [Tycomp (&quot;-&gt;&quot;, [Tyvar &quot;a&quot;; Tycomp (&quot;bool&quot;, [])]); Tycomp (&quot;bool&quot;, [])]); Tycomp (&quot;bool&quot;, [])])), Tmabs (Tmvar (&quot;P&quot;, Tycomp (&quot;-&gt;&quot;, [Tyvar &quot;a&quot;; Tycomp (&quot;bool&quot;, [])])), Tmcomb (Tmconst (&quot;!&quot;, Tycomp (&quot;-&gt;&quot;, [Tycomp (&quot;-&gt;&quot;, [Tyvar &quot;a&quot;; Tyc...</code></span></summary><div><table><thead><tr></tr></thead><tbody><tr><td>Item1</td><td><div class=\"dni-plaintext\"><pre>select_ax</pre></div></td></tr><tr><td>Item2</td><td><details class=\"dni-treeview\"><summary><span class=\"dni-code-hint\"><code>[]|- Tmcomb (Tmconst (&quot;!&quot;, Tycomp (&quot;-&gt;&quot;, [Tycomp (&quot;-&gt;&quot;, [Tycomp (&quot;-&gt;&quot;, [Tyvar &quot;a&quot;; Tycomp (&quot;bool&quot;, [])]); Tycomp (&quot;bool&quot;, [])]); Tycomp (&quot;bool&quot;, [])])), Tmabs (Tmvar (&quot;P&quot;, Tycomp (&quot;-&gt;&quot;, [Tyvar &quot;a&quot;; Tycomp (&quot;bool&quot;, [])])), Tmcomb (Tmconst (&quot;!&quot;, Tycomp (&quot;-&gt;&quot;, [Tycomp (&quot;-&gt;&quot;, [Tyvar &quot;a&quot;; Tycomp (&quot;bool&quot;,...</code></span></summary><div><table><thead><tr></tr></thead><tbody></tbody></table></div></details></td></tr></tbody></table></div></details></td></tr></tbody></table></td></tr></tbody></table></div></details></td></tr><tr><td><i>(values)</i></td><td><table><thead><tr><th><i>index</i></th><th>value</th></tr></thead><tbody><tr><td>0</td><td><details class=\"dni-treeview\"><summary><span class=\"dni-code-hint\"><code>(eta_ax, []|- Tmcomb (Tmconst (&quot;!&quot;, Tycomp (&quot;-&gt;&quot;, [Tycomp (&quot;-&gt;&quot;, [Tycomp (&quot;-&gt;&quot;, [Tyvar &quot;a&quot;; Tyvar &quot;b&quot;]); Tycomp (&quot;bool&quot;, [])]); Tycomp (&quot;bool&quot;, [])])), Tmabs (Tmvar (&quot;f&quot;, Tycomp (&quot;-&gt;&quot;, [Tyvar &quot;a&quot;; Tyvar &quot;b&quot;])), Tmcomb (Tmcomb (Tmconst (&quot;=&quot;, Tycomp (&quot;-&gt;&quot;, [Tycomp (&quot;-&gt;&quot;, [Tyvar &quot;a&quot;; Tyvar &quot;b&quot;]); Tycom...</code></span></summary><div><table><thead><tr></tr></thead><tbody><tr><td>Item1</td><td><div class=\"dni-plaintext\"><pre>eta_ax</pre></div></td></tr><tr><td>Item2</td><td><details class=\"dni-treeview\"><summary><span class=\"dni-code-hint\"><code>[]|- Tmcomb (Tmconst (&quot;!&quot;, Tycomp (&quot;-&gt;&quot;, [Tycomp (&quot;-&gt;&quot;, [Tycomp (&quot;-&gt;&quot;, [Tyvar &quot;a&quot;; Tyvar &quot;b&quot;]); Tycomp (&quot;bool&quot;, [])]); Tycomp (&quot;bool&quot;, [])])), Tmabs (Tmvar (&quot;f&quot;, Tycomp (&quot;-&gt;&quot;, [Tyvar &quot;a&quot;; Tyvar &quot;b&quot;])), Tmcomb (Tmcomb (Tmconst (&quot;=&quot;, Tycomp (&quot;-&gt;&quot;, [Tycomp (&quot;-&gt;&quot;, [Tyvar &quot;a&quot;; Tyvar &quot;b&quot;]); Tycomp (&quot;-&gt;&quot;, ...</code></span></summary><div><table><thead><tr></tr></thead><tbody></tbody></table></div></details></td></tr></tbody></table></div></details></td></tr><tr><td>1</td><td><details class=\"dni-treeview\"><summary><span class=\"dni-code-hint\"><code>(imp_antisym_ax, []|- Tmcomb (Tmconst (&quot;!&quot;, Tycomp (&quot;-&gt;&quot;, [Tycomp (&quot;-&gt;&quot;, [Tycomp (&quot;bool&quot;, []); Tycomp (&quot;bool&quot;, [])]); Tycomp (&quot;bool&quot;, [])])), Tmabs (Tmvar (&quot;p1&quot;, Tycomp (&quot;bool&quot;, [])), Tmcomb (Tmconst (&quot;!&quot;, Tycomp (&quot;-&gt;&quot;, [Tycomp (&quot;-&gt;&quot;, [Tycomp (&quot;bool&quot;, []); Tycomp (&quot;bool&quot;, [])]); Tycomp (&quot;bool&quot;, [])]...</code></span></summary><div><table><thead><tr></tr></thead><tbody><tr><td>Item1</td><td><div class=\"dni-plaintext\"><pre>imp_antisym_ax</pre></div></td></tr><tr><td>Item2</td><td><details class=\"dni-treeview\"><summary><span class=\"dni-code-hint\"><code>[]|- Tmcomb (Tmconst (&quot;!&quot;, Tycomp (&quot;-&gt;&quot;, [Tycomp (&quot;-&gt;&quot;, [Tycomp (&quot;bool&quot;, []); Tycomp (&quot;bool&quot;, [])]); Tycomp (&quot;bool&quot;, [])])), Tmabs (Tmvar (&quot;p1&quot;, Tycomp (&quot;bool&quot;, [])), Tmcomb (Tmconst (&quot;!&quot;, Tycomp (&quot;-&gt;&quot;, [Tycomp (&quot;-&gt;&quot;, [Tycomp (&quot;bool&quot;, []); Tycomp (&quot;bool&quot;, [])]); Tycomp (&quot;bool&quot;, [])])), Tmabs (Tmvar ...</code></span></summary><div><table><thead><tr></tr></thead><tbody></tbody></table></div></details></td></tr></tbody></table></div></details></td></tr><tr><td>2</td><td><details class=\"dni-treeview\"><summary><span class=\"dni-code-hint\"><code>(select_ax, []|- Tmcomb (Tmconst (&quot;!&quot;, Tycomp (&quot;-&gt;&quot;, [Tycomp (&quot;-&gt;&quot;, [Tycomp (&quot;-&gt;&quot;, [Tyvar &quot;a&quot;; Tycomp (&quot;bool&quot;, [])]); Tycomp (&quot;bool&quot;, [])]); Tycomp (&quot;bool&quot;, [])])), Tmabs (Tmvar (&quot;P&quot;, Tycomp (&quot;-&gt;&quot;, [Tyvar &quot;a&quot;; Tycomp (&quot;bool&quot;, [])])), Tmcomb (Tmconst (&quot;!&quot;, Tycomp (&quot;-&gt;&quot;, [Tycomp (&quot;-&gt;&quot;, [Tyvar &quot;a&quot;; Tyc...</code></span></summary><div><table><thead><tr></tr></thead><tbody><tr><td>Item1</td><td><div class=\"dni-plaintext\"><pre>select_ax</pre></div></td></tr><tr><td>Item2</td><td><details class=\"dni-treeview\"><summary><span class=\"dni-code-hint\"><code>[]|- Tmcomb (Tmconst (&quot;!&quot;, Tycomp (&quot;-&gt;&quot;, [Tycomp (&quot;-&gt;&quot;, [Tycomp (&quot;-&gt;&quot;, [Tyvar &quot;a&quot;; Tycomp (&quot;bool&quot;, [])]); Tycomp (&quot;bool&quot;, [])]); Tycomp (&quot;bool&quot;, [])])), Tmabs (Tmvar (&quot;P&quot;, Tycomp (&quot;-&gt;&quot;, [Tyvar &quot;a&quot;; Tycomp (&quot;bool&quot;, [])])), Tmcomb (Tmconst (&quot;!&quot;, Tycomp (&quot;-&gt;&quot;, [Tycomp (&quot;-&gt;&quot;, [Tyvar &quot;a&quot;; Tycomp (&quot;bool&quot;,...</code></span></summary><div><table><thead><tr></tr></thead><tbody></tbody></table></div></details></td></tr></tbody></table></div></details></td></tr></tbody></table></td></tr></tbody></table></div></details><style>\r\n",
       ".dni-code-hint {\r\n",
       "    font-style: italic;\r\n",
       "    overflow: hidden;\r\n",
       "    white-space: nowrap;\r\n",
       "}\r\n",
       ".dni-treeview {\r\n",
       "    white-space: nowrap;\r\n",
       "}\r\n",
       ".dni-treeview td {\r\n",
       "    vertical-align: top;\r\n",
       "    text-align: start;\r\n",
       "}\r\n",
       "details.dni-treeview {\r\n",
       "    padding-left: 1em;\r\n",
       "}\r\n",
       "table td {\r\n",
       "    text-align: start;\r\n",
       "}\r\n",
       "table tr { \r\n",
       "    vertical-align: top; \r\n",
       "    margin: 0em 0px;\r\n",
       "}\r\n",
       "table tr td pre \r\n",
       "{ \r\n",
       "    vertical-align: top !important; \r\n",
       "    margin: 0em 0px !important;\r\n",
       "} \r\n",
       "table th {\r\n",
       "    text-align: start;\r\n",
       "}\r\n",
       "</style>"
      ]
     },
     "metadata": {},
     "output_type": "display_data"
    }
   ],
   "source": [
    "CoreThry.load\n",
    "Equal.load\n",
    "Bool.load"
   ]
  },
  {
   "cell_type": "markdown",
   "metadata": {},
   "source": [
    "## Operazioni sintattiche\n",
    "\n",
    "Nell'handbook vengono definite una serie di funzioni corrispondenti ai costruttori dei vari tipi di formule proposizionali che svolgono la funzione inversa, cioè dividerle nelle loro componenti. Tali funzioni sono già presenti nel modulo [`Bool`](https://domasin.github.io/nholz/reference/hol-bool.html). Ad esempio:"
   ]
  },
  {
   "cell_type": "code",
   "execution_count": 4,
   "metadata": {
    "dotnet_interactive": {
     "language": "fsharp"
    },
    "polyglot_notebook": {
     "kernelName": "fsharp"
    }
   },
   "outputs": [
    {
     "data": {
      "text/html": [
       "(p:bool, q:bool)"
      ]
     },
     "metadata": {},
     "output_type": "display_data"
    }
   ],
   "source": [
    "\"p /\\ q\"\n",
    "|> parse_term\n",
    "|> dest_conj"
   ]
  },
  {
   "cell_type": "markdown",
   "metadata": {},
   "source": [
    "Proviamo invece a ridefinire funzioni relative alla logica proposizionale che non sono già presenti nella libreria.\n",
    "\n",
    "Intanto dobbiamo poter distinguere tra espressioni atomiche ed espressioni composte. A questo scopo definiamo `is_bool_atom` come una funzione che restituisce vero per termini booleani costanti o variabili."
   ]
  },
  {
   "cell_type": "code",
   "execution_count": 5,
   "metadata": {
    "dotnet_interactive": {
     "language": "fsharp"
    },
    "polyglot_notebook": {
     "kernelName": "fsharp"
    }
   },
   "outputs": [
    {
     "name": "stdout",
     "output_type": "stream",
     "text": [
      "p /\\ q is an atom? false\n",
      "p:bool is an atom? true\n"
     ]
    }
   ],
   "source": [
    "/// the term is a boolean atom\n",
    "let is_bool_atom tm = \n",
    "    tm |> is_bool_term && (tm |> is_const || tm |> is_var)\n",
    "\n",
    "let pAndQ = \"p /\\ q\" |> parse_term \n",
    "let pTerm = \"p:bool\" |> parse_term\n",
    "\n",
    "printfn \"%s is an atom? %b\" (pAndQ |> print_term) (pAndQ |> is_bool_atom)\n",
    "printfn \"%s is an atom? %b\" (pTerm |> print_term) (pTerm |> is_bool_atom)"
   ]
  },
  {
   "cell_type": "markdown",
   "metadata": {},
   "source": [
    "Sulle formule composte vogliamo eseguire delle operazioni sui loro atomi. A questo scopo definiamo `overatoms` che prende una funzione binaria `f`, un termine `tm` e un argomento `b` e applica `f` ad ogni atomo di `tm` come primo argomento e `b` come secondo argomento:"
   ]
  },
  {
   "cell_type": "code",
   "execution_count": 6,
   "metadata": {
    "dotnet_interactive": {
     "language": "fsharp"
    },
    "polyglot_notebook": {
     "kernelName": "fsharp"
    }
   },
   "outputs": [],
   "source": [
    "let rec overatoms f tm b =\n",
    "    if tm |> is_bool_atom then \n",
    "        f tm b\n",
    "    elif tm |> is_not then\n",
    "        let p = tm |> dest_not\n",
    "        overatoms f p b\n",
    "    elif tm |> is_conj then\n",
    "        let (p,q) = tm |> dest_conj\n",
    "        overatoms f p (overatoms f q b)\n",
    "    elif tm |> is_disj then\n",
    "        let (p,q) = tm |> dest_disj\n",
    "        overatoms f p (overatoms f q b)\n",
    "    elif tm |> is_imp then\n",
    "        let (p,q) = tm |> dest_imp\n",
    "        overatoms f p (overatoms f q b)\n",
    "    elif tm |> is_eq then\n",
    "        let (p,q) = tm |> dest_eq\n",
    "        overatoms f p (overatoms f q b)\n",
    "    else failwith \"check type annotation on eq\""
   ]
  },
  {
   "cell_type": "markdown",
   "metadata": {},
   "source": [
    "Un'applicazione particolarmente comune è quella di raccogliere qualche insieme di attributi associati agli atomi; ritornando solamente, nel caso più semplice, l'insieme di tutti gli atomi. Possiamo far questo iterando una funzione f insieme con un \"append\" su tutti gli atomi, e convertendo infine il risultato in un insieme per rimuovere i duplicati. "
   ]
  },
  {
   "cell_type": "code",
   "execution_count": 11,
   "metadata": {
    "dotnet_interactive": {
     "language": "fsharp"
    },
    "polyglot_notebook": {
     "kernelName": "fsharp"
    }
   },
   "outputs": [
    {
     "data": {
      "text/html": [
       "[p:bool, q:bool, r:bool]"
      ]
     },
     "metadata": {},
     "output_type": "display_data"
    }
   ],
   "source": [
    "let atom_union f tm =\n",
    "    (tm, [])\n",
    "    ||> overatoms (fun h (t) -> (f h) @ t)\n",
    "    |> setify\n",
    "\n",
    "let atoms tm = \n",
    "    atom_union (fun a -> [a]) tm\n",
    "\n",
    "\"p /\\ q \\/ r\"\n",
    "|> parse_term\n",
    "|> atoms"
   ]
  },
  {
   "cell_type": "markdown",
   "metadata": {},
   "source": [
    "## Semantica della logica proposizionale\n",
    "\n",
    "Dal momento che le formule proposizionali intendono rappresentare asserzioni che possono essere vere o false, in ultima analisi il significato di una formula è semplicemente uno dei due valori di verità \"vero\" e \"falso\". Comunque, esattamente come un'espressione algebrica x + y + 1 ha un significato definito solo quando sappiamo per che cosa stanno le variabili x e y, il significato di una formula proposizionale dipende dai valori di verità assegnati alle sue formule atomiche. Questa assegnazione è codificata in una valutazione, che è una funzione dagli insiemi degli atomi all'insieme dei valori di verità {falso,vero}. Data una formula `p` e una valutazione `v` valutiamo il valore di verità complessivo con la seguente funzione definita ricorsivamente:"
   ]
  },
  {
   "cell_type": "code",
   "execution_count": 24,
   "metadata": {
    "dotnet_interactive": {
     "language": "fsharp"
    },
    "polyglot_notebook": {
     "kernelName": "fsharp"
    }
   },
   "outputs": [],
   "source": [
    "let rec eval v tm =\n",
    "    if tm = false_tm then \n",
    "        false\n",
    "    elif tm = true_tm then\n",
    "        true\n",
    "    elif tm |> is_bool_atom then \n",
    "        v tm\n",
    "    elif tm |> is_not then \n",
    "        let p = tm |> dest_not\n",
    "        not <| eval v p\n",
    "    elif tm |> is_conj then \n",
    "        let (p,q) = tm |> dest_conj\n",
    "        (eval v p) && (eval v q)\n",
    "    elif tm |> is_disj then \n",
    "        let (p,q) = tm |> dest_disj\n",
    "        (eval v p) || (eval v q)\n",
    "    elif tm |> is_imp then \n",
    "        let (p,q) = tm |> dest_imp\n",
    "        not(eval v p) || (eval v q)\n",
    "    elif tm |> is_eq then \n",
    "        let (p,q) = tm |> dest_eq\n",
    "        (eval v p) = (eval v q)\n",
    "    else\n",
    "        failwith \"Not part of propositional logic.\""
   ]
  },
  {
   "cell_type": "markdown",
   "metadata": {},
   "source": [
    "Questa è la nostra definizione matematica della semantica della logica proposizionale, che intende costituire una formalizzazione delle nostre intuizioni. Ogni connettivo logico è interpretato da una corrispondente funzione boolean HOL. Per essere molto espliciti sul significato di questi operatori, possiamo elencare tutte le possibili combinazioni di input e vedere gli output corrispondenti.\n",
    "\n",
    "Possiamo presentare questa informazione in una tavola di verità che mostri come il valore di verità di una formula è determinato dalle sue sotto formule immediate.\n",
    "\n",
    "Così per i connettivi binari avremo:"
   ]
  },
  {
   "cell_type": "markdown",
   "metadata": {},
   "source": [
    "$p$    | $q$   | $p \\land q$  | $p \\lor q$ | $p \\Rightarrow q$| $p \\Leftrightarrow q$|\n",
    "-------|-------|-------|-------|-------|-------|\n",
    "falso  | falso | falso | falso | falso | falso\n",
    "falso  | vero  | falso | vero  | vero  | falso\n",
    "vero   | falso | falso | vero  | falso | falso\n",
    "vero   | vero  | vero  | vero  | vero  | vero\n",
    "\n",
    "e per la negazione unaria:\n",
    "\n",
    "$p$   | $\\neg p$\n",
    "------|---------\n",
    "falso | vero\n",
    "vero | falso"
   ]
  },
  {
   "cell_type": "markdown",
   "metadata": {},
   "source": [
    "Proviamo a valutare una formula $p \\land q \\Rightarrow q \\land r$ in una valutazione dove p, q e r sono impostati rispettivamente a \"vero\", \"falso\" e \"vero\". (Non ci preoccupiamo di definire il valore di atomi non coinvolti nella formula, e F# mostra un messaggio di warning che ci informa che non lo abbiamo fatto. Per evitarlo possiamo eventualmente sopprimere il warning avendo l'accortezza di reimpostarlo successivamente.)"
   ]
  },
  {
   "cell_type": "code",
   "execution_count": 34,
   "metadata": {
    "dotnet_interactive": {
     "language": "fsharp"
    },
    "polyglot_notebook": {
     "kernelName": "fsharp"
    }
   },
   "outputs": [
    {
     "data": {
      "text/html": [
       "<div class=\"dni-plaintext\"><pre>True</pre></div><style>\r\n",
       ".dni-code-hint {\r\n",
       "    font-style: italic;\r\n",
       "    overflow: hidden;\r\n",
       "    white-space: nowrap;\r\n",
       "}\r\n",
       ".dni-treeview {\r\n",
       "    white-space: nowrap;\r\n",
       "}\r\n",
       ".dni-treeview td {\r\n",
       "    vertical-align: top;\r\n",
       "    text-align: start;\r\n",
       "}\r\n",
       "details.dni-treeview {\r\n",
       "    padding-left: 1em;\r\n",
       "}\r\n",
       "table td {\r\n",
       "    text-align: start;\r\n",
       "}\r\n",
       "table tr { \r\n",
       "    vertical-align: top; \r\n",
       "    margin: 0em 0px;\r\n",
       "}\r\n",
       "table tr td pre \r\n",
       "{ \r\n",
       "    vertical-align: top !important; \r\n",
       "    margin: 0em 0px !important;\r\n",
       "} \r\n",
       "table th {\r\n",
       "    text-align: start;\r\n",
       "}\r\n",
       "</style>"
      ]
     },
     "metadata": {},
     "output_type": "display_data"
    }
   ],
   "source": [
    "let T = parse_term\n",
    "\n",
    "(T \"p /\\ q ==> q /\\ r\")\n",
    "|> eval (function \n",
    "    | tm when tm = (T \"p:bool\") -> true \n",
    "    | tm when tm = (T \"q:bool\") -> false \n",
    "    | tm when tm = (T \"r:bool\") -> true\n",
    ")"
   ]
  },
  {
   "cell_type": "markdown",
   "metadata": {},
   "source": [
    "In un'altra valutazione, comunque, la formula viene valutata a \"falso\":"
   ]
  },
  {
   "cell_type": "code",
   "execution_count": 38,
   "metadata": {
    "dotnet_interactive": {
     "language": "fsharp"
    },
    "polyglot_notebook": {
     "kernelName": "fsharp"
    }
   },
   "outputs": [
    {
     "data": {
      "text/html": [
       "<div class=\"dni-plaintext\"><pre>False</pre></div><style>\r\n",
       ".dni-code-hint {\r\n",
       "    font-style: italic;\r\n",
       "    overflow: hidden;\r\n",
       "    white-space: nowrap;\r\n",
       "}\r\n",
       ".dni-treeview {\r\n",
       "    white-space: nowrap;\r\n",
       "}\r\n",
       ".dni-treeview td {\r\n",
       "    vertical-align: top;\r\n",
       "    text-align: start;\r\n",
       "}\r\n",
       "details.dni-treeview {\r\n",
       "    padding-left: 1em;\r\n",
       "}\r\n",
       "table td {\r\n",
       "    text-align: start;\r\n",
       "}\r\n",
       "table tr { \r\n",
       "    vertical-align: top; \r\n",
       "    margin: 0em 0px;\r\n",
       "}\r\n",
       "table tr td pre \r\n",
       "{ \r\n",
       "    vertical-align: top !important; \r\n",
       "    margin: 0em 0px !important;\r\n",
       "} \r\n",
       "table th {\r\n",
       "    text-align: start;\r\n",
       "}\r\n",
       "</style>"
      ]
     },
     "metadata": {},
     "output_type": "display_data"
    }
   ],
   "source": [
    "(T \"p /\\ q ==> q /\\ r\")\n",
    "|> eval (function \n",
    "    | tm when tm = (T \"p:bool\") -> true \n",
    "    | tm when tm = (T \"q:bool\") -> true \n",
    "    | tm when tm = (T \"r:bool\") -> false\n",
    ")"
   ]
  },
  {
   "cell_type": "markdown",
   "metadata": {},
   "source": [
    "## Tavole di verità\n",
    "\n",
    "Intuitivamente sembra naturale che la valutazione di una formula sia indipendente dai valori assegnati dalla valutazione agli atomi che non occorrono nella formula. "
   ]
  },
  {
   "cell_type": "code",
   "execution_count": 13,
   "metadata": {
    "dotnet_interactive": {
     "language": "fsharp"
    },
    "polyglot_notebook": {
     "kernelName": "fsharp"
    }
   },
   "outputs": [],
   "source": [
    "\n",
    "let rec onallvaluations subfn v ats =\n",
    "    match ats with\n",
    "    | [] -> subfn v\n",
    "    | p :: ps ->\n",
    "        let v' t q =\n",
    "            if q = p then t\n",
    "            else v q\n",
    "        onallvaluations subfn (v' false) ps\n",
    "        && onallvaluations subfn (v' true) ps\n",
    "\n",
    "let pname tm = \n",
    "    if tm |> is_const then \n",
    "        tm |> const_name\n",
    "    elif tm |> is_var then \n",
    "        tm |> var_name\n",
    "    else \"\"\n",
    "\n",
    "let fprint_truthtable sw fm =\n",
    "    // [P \"p\"; P \"q\"; P \"r\"]\n",
    "    let ats = atoms fm\n",
    "    // 5 + 1 = length of false + length of space\n",
    "    let width = List.foldBack (max << String.length << pname) ats 5 + 1\n",
    "    let fixw s = s + String.replicate (width - String.length s) \" \"\n",
    "    let truthstring p = fixw (if p then \"true\" else \"false\")\n",
    "    let mk_row v =\n",
    "        let lis = List.map (fun x -> truthstring (v x)) ats\n",
    "        let ans = truthstring (eval fm v)\n",
    "        fprintf sw \"%s\" (List.foldBack (+) lis (\"| \" + ans))\n",
    "        fprintfn sw \"\"\n",
    "        true\n",
    "    let seperator = String.replicate (width * (List.length ats) + 9) \"-\"\n",
    "    fprintfn sw \"%s\" (List.foldBack (fun s t -> fixw(pname s) + t) ats \"| formula\")\n",
    "    fprintfn sw \"%s\" seperator\n",
    "    let _ = onallvaluations mk_row (fun x -> false) ats\n",
    "    fprintfn sw \"%s\" seperator\n",
    "    fprintfn sw \"\"\n",
    "\n",
    "let writeToString fn = \n",
    "    use sw = new System.IO.StringWriter()\n",
    "    fn sw\n",
    "    sw.ToString()\n",
    "\n",
    "let inline print_truthtable f = fprint_truthtable stdout f\n",
    "let inline sprint_truthtable f = writeToString (fun sw -> fprint_truthtable sw f)"
   ]
  },
  {
   "cell_type": "code",
   "execution_count": 20,
   "metadata": {
    "dotnet_interactive": {
     "language": "fsharp"
    },
    "polyglot_notebook": {
     "kernelName": "fsharp"
    }
   },
   "outputs": [
    {
     "name": "stdout",
     "output_type": "stream",
     "text": [
      "p     q     r     | formula\n",
      "---------------------------\n",
      "false false false | true  \n",
      "false false true  | true  \n",
      "false true  false | true  \n",
      "false true  true  | true  \n",
      "true  false false | true  \n",
      "true  false true  | true  \n",
      "true  true  false | false \n",
      "true  true  true  | true  \n",
      "---------------------------\n",
      "\n"
     ]
    }
   ],
   "source": [
    "\"p /\\ q ==> q /\\ r\"\n",
    "|> parse_term\n",
    "|> print_truthtable"
   ]
  }
 ],
 "metadata": {
  "kernelspec": {
   "display_name": ".NET (C#)",
   "language": "C#",
   "name": ".net-csharp"
  },
  "language_info": {
   "name": "polyglot-notebook"
  },
  "polyglot_notebook": {
   "kernelInfo": {
    "defaultKernelName": "csharp",
    "items": [
     {
      "aliases": [],
      "name": "csharp"
     },
     {
      "aliases": [],
      "languageName": "fsharp",
      "name": "fsharp"
     }
    ]
   }
  }
 },
 "nbformat": 4,
 "nbformat_minor": 2
}
