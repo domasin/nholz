{
 "cells": [
  {
   "cell_type": "markdown",
   "metadata": {},
   "source": [
    "# Il teorema di Ramsey\n",
    "\n",
    "Nel capitolo sulle applicazioni della logica proposizionale dell'handbook viene trattato come esempio il teorema di Ramsey riportandone una versione meno generale così enunciata.\n",
    "\n",
    "> Per ogni $s,t \\in \\mathbb{N}$ esiste un $n \\in \\mathbb{N}$ tale che qualsiasi grafo con $n$ vertici ha un sotto-grafo completamente connesso di dimensione $s$ o un sotto-grafo completamente disconnesso di dimensione $t$. Inoltre se il \"numero di Ramsey\" $R(s,t)$ denota quel minimo $n$ per una data coppia $s$ e $t$ abbiamo: $$R(s,t) \\leq R(s-1,t) + R(s,t-1)$$\n",
    "\n",
    "Vi si nota anche, come esempio, che un semplice risultato tipo quello di Ramsey è che in ogni festa di sei persone, ci deve essere un gruppo di tre persone *ciascuna* delle quali si conosce, o un gruppo di tre persone *nessuna* delle quali si conosce e che è abitudine pensare a questo tipo di problemi in termini di un *grafo*, cioè una collezione $V$ di *vertici* con certe coppie collegate da *spigoli* presi da un insieme $E$.\n",
    "\n",
    "Obiettivo è quello di mostrare come sia possibile riportare problemi di questo genere a problemi nell'ambito della logica proposizionale e precisamente come formulare un'enunciato proposizionale che è una tautologia se $R(s,t) \\leq n$. \n",
    "\n",
    "L'approccio è descritto nel modo seguente:\n",
    "\n",
    "> Indicizziamo i vertici usando interi da 1 a $n$, calcoliamo tutti i sottoinsiemi di $s$-elementi e $t$-elementi, e quindi per ciascun sottoinsieme di questi $s$ o $t$-elementi a turno, tutti i possibili sottoinsiemi di 2-elementi di questi. Vogliamo esprimere il fatto che per uno di questi insiemi di $s$-elementi, ciascuna coppia di elementi è connessa, o per uno degli insiemi di $t$-elementi, ciascuna coppia di elementi è disconnessa. La definizione locale `e[m;n]` produce una formula atomica `p_m_n` che interpretiamo come \"$m$ è connesso a $n$\" (o \"$m$ conosce $n$\", ecc.).\n",
    "\n",
    "Vediamo cosa significa. "
   ]
  },
  {
   "cell_type": "code",
   "execution_count": null,
   "metadata": {
    "dotnet_interactive": {
     "language": "fsharp"
    },
    "polyglot_notebook": {
     "kernelName": "fsharp"
    }
   },
   "outputs": [],
   "source": [
    "// Nota: il namespace HOL.AutomatedReasoning è disponibile solo da codice \n",
    "// sorgente per ora, non da nuget.\n",
    "\n",
    "#load \"../../HolFormatters.fsx\"\n",
    "\n",
    "open HOL\n",
    "open HOL.AutomatedReasoning"
   ]
  },
  {
   "cell_type": "markdown",
   "metadata": {},
   "source": [
    "> Indicizziamo i vertici usando interi da 1 a $n$"
   ]
  },
  {
   "cell_type": "code",
   "execution_count": 2,
   "metadata": {
    "dotnet_interactive": {
     "language": "fsharp"
    },
    "polyglot_notebook": {
     "kernelName": "fsharp"
    }
   },
   "outputs": [
    {
     "name": "stdout",
     "output_type": "stream",
     "text": [
      "[1; 2; 3; 4]\n"
     ]
    }
   ],
   "source": [
    "let s,t,n = 3,3,4\n",
    "let vertices = [1..n]\n",
    "printfn \"%A\" vertices"
   ]
  },
  {
   "cell_type": "markdown",
   "metadata": {},
   "source": [
    "> calcoliamo tutti i sottoinsiemi di $s$-elementi e $t$-elementi"
   ]
  },
  {
   "cell_type": "code",
   "execution_count": 3,
   "metadata": {
    "dotnet_interactive": {
     "language": "fsharp"
    },
    "polyglot_notebook": {
     "kernelName": "fsharp"
    }
   },
   "outputs": [
    {
     "name": "stdout",
     "output_type": "stream",
     "text": [
      "[[1; 2; 3]; [1; 2; 4]; [1; 3; 4]; [2; 3; 4]]\n"
     ]
    }
   ],
   "source": [
    "printfn \"%A\" (allsets s vertices)"
   ]
  },
  {
   "cell_type": "markdown",
   "metadata": {},
   "source": [
    "> e quindi per ciascun sottoinsieme di questi $s$ o $t$-elementi a turno, tutti i possibili sottoinsiemi di 2-elementi di questi"
   ]
  },
  {
   "cell_type": "code",
   "execution_count": 4,
   "metadata": {
    "dotnet_interactive": {
     "language": "fsharp"
    },
    "polyglot_notebook": {
     "kernelName": "fsharp"
    }
   },
   "outputs": [
    {
     "name": "stdout",
     "output_type": "stream",
     "text": [
      "[[[1; 2]; [1; 3]; [2; 3]]; [[1; 2]; [1; 4]; [2; 4]]; [[1; 3]; [1; 4]; [3; 4]];\n",
      " [[2; 3]; [2; 4]; [3; 4]]]\n"
     ]
    }
   ],
   "source": [
    "let yesgrps = List.map (allsets 2) (allsets s vertices)\n",
    "let nogrps = List.map (allsets 2) (allsets t vertices)\n",
    "\n",
    "printfn \"%A\" yesgrps"
   ]
  },
  {
   "cell_type": "markdown",
   "metadata": {},
   "source": [
    "Questi rappresentano i possibili gruppi di vertici connessi (o non connessi):\n",
    "\n",
    "![Link Name](vertici.png)  \n",
    "\n",
    "> Vogliamo esprimere il fatto che per uno di questi insiemi di $s$-elementi, ciascuna coppia di elementi è connessa, o per uno degli insiemi di $t$-elementi, ciascuna coppia di elementi è disconnessa. La definizione locale `e[m;n]` produce una formula atomica `p_m_n` che interpretiamo come \"$m$ è connesso a $n$\" (o \"$m$ conosce $n$\", ecc.)."
   ]
  },
  {
   "cell_type": "code",
   "execution_count": 6,
   "metadata": {
    "dotnet_interactive": {
     "language": "fsharp"
    },
    "polyglot_notebook": {
     "kernelName": "fsharp"
    }
   },
   "outputs": [
    {
     "data": {
      "text/plain": [
       "(p_1_2 /\\ p_1_3 /\\ p_2_3 \\/\n",
       " p_1_2 /\\ p_1_4 /\\ p_2_4 \\/\n",
       " p_1_3 /\\ p_1_4 /\\ p_3_4 \\/\n",
       " p_2_3 /\\ p_2_4 /\\ p_3_4) \\/\n",
       " ~ p_1_2 /\\ ~ p_1_3 /\\ ~ p_2_3 \\/\n",
       " ~ p_1_2 /\\ ~ p_1_4 /\\ ~ p_2_4 \\/\n",
       " ~ p_1_3 /\\ ~ p_1_4 /\\ ~ p_3_4 \\/\n",
       " ~ p_2_3 /\\ ~ p_2_4 /\\ ~ p_3_4"
      ]
     },
     "metadata": {},
     "output_type": "display_data"
    }
   ],
   "source": [
    "let e [m;n] = \"p_\" + (string m) + \"_\" + (string n) + \":bool\" |> parse_term\n",
    "\n",
    "mk_disj (\n",
    "    list_disj (List.map (list_conj << List.map e) yesgrps),\n",
    "    list_disj (List.map (list_conj << List.map (fun p -> mk_not (e p))) nogrps))\n",
    "\n",
    "|> print_term\n",
    "|> fun x -> x.Replace(\"\\\\/\", \"\\\\/\\n\")"
   ]
  },
  {
   "cell_type": "markdown",
   "metadata": {},
   "source": [
    "Possiamo racchiudere tutto in un'unica funzione:"
   ]
  },
  {
   "cell_type": "code",
   "execution_count": 8,
   "metadata": {
    "dotnet_interactive": {
     "language": "fsharp"
    },
    "polyglot_notebook": {
     "kernelName": "fsharp"
    }
   },
   "outputs": [],
   "source": [
    "let ramsey s t n =\n",
    "    let vertices = [1..n]\n",
    "    let yesgrps = List.map (allsets 2) (allsets s vertices)\n",
    "    let nogrps = List.map (allsets 2) (allsets t vertices)\n",
    "    let e [m;n] = \"p_\" + (string m) + \"_\" + (string n) + \":bool\" |> parse_term\n",
    "    mk_disj (\n",
    "        list_disj (List.map (list_conj << List.map e) yesgrps),\n",
    "        list_disj (List.map (list_conj << List.map (fun p -> mk_not (e p))) nogrps))"
   ]
  },
  {
   "cell_type": "markdown",
   "metadata": {},
   "source": [
    "e confermare che il numero 6 nell'esempio iniziale della festa è il migliore possibile cioè che $R(3,3) = 6$:"
   ]
  },
  {
   "cell_type": "code",
   "execution_count": 10,
   "metadata": {
    "dotnet_interactive": {
     "language": "fsharp"
    },
    "polyglot_notebook": {
     "kernelName": "fsharp"
    }
   },
   "outputs": [
    {
     "data": {
      "text/html": [
       "<div class=\"dni-plaintext\"><pre>False</pre></div><style>\r\n",
       ".dni-code-hint {\r\n",
       "    font-style: italic;\r\n",
       "    overflow: hidden;\r\n",
       "    white-space: nowrap;\r\n",
       "}\r\n",
       ".dni-treeview {\r\n",
       "    white-space: nowrap;\r\n",
       "}\r\n",
       ".dni-treeview td {\r\n",
       "    vertical-align: top;\r\n",
       "    text-align: start;\r\n",
       "}\r\n",
       "details.dni-treeview {\r\n",
       "    padding-left: 1em;\r\n",
       "}\r\n",
       "table td {\r\n",
       "    text-align: start;\r\n",
       "}\r\n",
       "table tr { \r\n",
       "    vertical-align: top; \r\n",
       "    margin: 0em 0px;\r\n",
       "}\r\n",
       "table tr td pre \r\n",
       "{ \r\n",
       "    vertical-align: top !important; \r\n",
       "    margin: 0em 0px !important;\r\n",
       "} \r\n",
       "table th {\r\n",
       "    text-align: start;\r\n",
       "}\r\n",
       "</style>"
      ]
     },
     "metadata": {},
     "output_type": "display_data"
    }
   ],
   "source": [
    "tautology(ramsey 3 3 4)"
   ]
  },
  {
   "cell_type": "code",
   "execution_count": 11,
   "metadata": {
    "dotnet_interactive": {
     "language": "fsharp"
    },
    "polyglot_notebook": {
     "kernelName": "fsharp"
    }
   },
   "outputs": [
    {
     "data": {
      "text/html": [
       "<div class=\"dni-plaintext\"><pre>False</pre></div><style>\r\n",
       ".dni-code-hint {\r\n",
       "    font-style: italic;\r\n",
       "    overflow: hidden;\r\n",
       "    white-space: nowrap;\r\n",
       "}\r\n",
       ".dni-treeview {\r\n",
       "    white-space: nowrap;\r\n",
       "}\r\n",
       ".dni-treeview td {\r\n",
       "    vertical-align: top;\r\n",
       "    text-align: start;\r\n",
       "}\r\n",
       "details.dni-treeview {\r\n",
       "    padding-left: 1em;\r\n",
       "}\r\n",
       "table td {\r\n",
       "    text-align: start;\r\n",
       "}\r\n",
       "table tr { \r\n",
       "    vertical-align: top; \r\n",
       "    margin: 0em 0px;\r\n",
       "}\r\n",
       "table tr td pre \r\n",
       "{ \r\n",
       "    vertical-align: top !important; \r\n",
       "    margin: 0em 0px !important;\r\n",
       "} \r\n",
       "table th {\r\n",
       "    text-align: start;\r\n",
       "}\r\n",
       "</style>"
      ]
     },
     "metadata": {},
     "output_type": "display_data"
    }
   ],
   "source": [
    "tautology(ramsey 3 3 5)"
   ]
  },
  {
   "cell_type": "code",
   "execution_count": 12,
   "metadata": {
    "dotnet_interactive": {
     "language": "fsharp"
    },
    "polyglot_notebook": {
     "kernelName": "fsharp"
    }
   },
   "outputs": [
    {
     "data": {
      "text/html": [
       "<div class=\"dni-plaintext\"><pre>True</pre></div><style>\r\n",
       ".dni-code-hint {\r\n",
       "    font-style: italic;\r\n",
       "    overflow: hidden;\r\n",
       "    white-space: nowrap;\r\n",
       "}\r\n",
       ".dni-treeview {\r\n",
       "    white-space: nowrap;\r\n",
       "}\r\n",
       ".dni-treeview td {\r\n",
       "    vertical-align: top;\r\n",
       "    text-align: start;\r\n",
       "}\r\n",
       "details.dni-treeview {\r\n",
       "    padding-left: 1em;\r\n",
       "}\r\n",
       "table td {\r\n",
       "    text-align: start;\r\n",
       "}\r\n",
       "table tr { \r\n",
       "    vertical-align: top; \r\n",
       "    margin: 0em 0px;\r\n",
       "}\r\n",
       "table tr td pre \r\n",
       "{ \r\n",
       "    vertical-align: top !important; \r\n",
       "    margin: 0em 0px !important;\r\n",
       "} \r\n",
       "table th {\r\n",
       "    text-align: start;\r\n",
       "}\r\n",
       "</style>"
      ]
     },
     "metadata": {},
     "output_type": "display_data"
    }
   ],
   "source": [
    "tautology(ramsey 3 3 6)"
   ]
  }
 ],
 "metadata": {
  "kernelspec": {
   "display_name": ".NET (C#)",
   "language": "C#",
   "name": ".net-csharp"
  },
  "language_info": {
   "name": "polyglot-notebook"
  },
  "polyglot_notebook": {
   "kernelInfo": {
    "defaultKernelName": "csharp",
    "items": [
     {
      "aliases": [],
      "name": "csharp"
     },
     {
      "aliases": [],
      "languageName": "fsharp",
      "name": "fsharp"
     }
    ]
   }
  }
 },
 "nbformat": 4,
 "nbformat_minor": 2
}
