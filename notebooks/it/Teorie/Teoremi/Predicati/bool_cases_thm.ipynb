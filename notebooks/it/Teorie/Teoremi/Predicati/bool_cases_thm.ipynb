{
 "cells": [
  {
   "cell_type": "markdown",
   "metadata": {},
   "source": [
    "# bool_cases_thm\n",
    "\n",
    "## Enunciato\n",
    "\n",
    "$\\vdash \\forall p.\\ (p \\Leftrightarrow \\top \\lor (p \\Leftrightarrow \\bot)$"
   ]
  },
  {
   "cell_type": "markdown",
   "metadata": {},
   "source": [
    "## Dimostrazione\n",
    "\n",
    "${\\dfrac {p:bool \\qquad {\\dfrac {{\\dfrac {p:bool \\qquad \\dfrac {} {\\vdash\\ \\forall\\ p.\\ p\\ \\vee\\ \\neg\\ p} { excluded\\\\_middle\\\\_thm }} {\\vdash\\ p\\ \\vee\\ \\neg\\ p} { spec\\_rule}} \\qquad {\\dfrac {{\\dfrac {{\\dfrac {p:bool} {p\\ \\vdash\\ p} { assume\\_rule}}} {p\\ \\vdash\\ p\\ \\Leftrightarrow\\ \\top} { eqt\\_intro\\_rule}} \\qquad p\\ \\Leftrightarrow\\ \\bot} {p\\ \\vdash\\ (p\\ \\Leftrightarrow\\ \\top)\\ \\vee\\ (p\\ \\Leftrightarrow\\ \\bot)} { disj1\\_rule}} \\qquad {\\dfrac {p\\ \\Leftrightarrow\\ \\top \\qquad {\\dfrac {{\\dfrac {\\neg\\ p} {\\neg\\ p\\ \\vdash\\ \\neg\\ p} { assume\\_rule}}} {\\neg\\ p\\ \\vdash\\ p\\ \\Leftrightarrow\\ \\bot} { eqf\\_intro\\_rule}}} {\\neg\\ p\\ \\vdash\\ (p\\ \\Leftrightarrow\\ \\top)\\ \\vee\\ (p\\ \\Leftrightarrow\\ \\bot)} { disj2\\_rule}}} {\\vdash\\ (p\\ \\Leftrightarrow\\ \\top)\\ \\vee\\ (p\\ \\Leftrightarrow\\ \\bot)} { disj\\_cases\\_rule}}} {\\vdash\\ \\forall\\ p.\\ (p\\ \\Leftrightarrow\\ \\top)\\ \\vee\\ (p\\ \\Leftrightarrow\\ \\bot)} { gen\\_rule}}$"
   ]
  },
  {
   "cell_type": "code",
   "execution_count": null,
   "metadata": {
    "dotnet_interactive": {
     "language": "fsharp"
    },
    "polyglot_notebook": {
     "kernelName": "fsharp"
    }
   },
   "outputs": [],
   "source": [
    "#load \"../../../../HolFormatters.fsx\"\n",
    "\n",
    "open HOL\n",
    "\n",
    "let p = mk_var (\"p\",bool_ty) in\n",
    "(* |- !p. (p <=> true) \\/ (p <=> false)    *)\n",
    "gen_rule_fd p\n",
    " (disj_cases_rule_fd\n",
    "   (* |- p \\/ ~p                               *)\n",
    "   (spec_rule_fd p (excluded_middle_thm |> thm_fd \"excluded\\_middle\\_thm \"))\n",
    "   (* p |- (p <=> true) \\/ (p <=> false)       *)\n",
    "   (disj1_rule_fd\n",
    "     (eqt_intro_rule_fd (assume_rule_fd p))\n",
    "     (parse_term(@\"p <=> false\")))\n",
    "   (* ~p |- (p <=> true) \\/ (p <=> false)      *)\n",
    "   (disj2_rule_fd (parse_term(@\"p <=> true\"))\n",
    "     (eqf_intro_rule_fd (assume_rule_fd (parse_term(@\"~ p\")))) ))\n",
    "|> zipper "
   ]
  }
 ],
 "metadata": {
  "kernelspec": {
   "display_name": ".NET (F#)",
   "language": "F#",
   "name": ".net-fsharp"
  },
  "language_info": {
   "name": "polyglot-notebook"
  },
  "polyglot_notebook": {
   "kernelInfo": {
    "defaultKernelName": "fsharp",
    "items": [
     {
      "aliases": [],
      "languageName": "fsharp",
      "name": "fsharp"
     }
    ]
   }
  }
 },
 "nbformat": 4,
 "nbformat_minor": 2
}
