{
 "cells": [
  {
   "cell_type": "markdown",
   "metadata": {},
   "source": [
    "# fun\\_eq\\_thm\n",
    "\n",
    "## Enunciato\n",
    "\n",
    "$\\vdash \\forall f_{\\alpha \\rightarrow \\beta}\\ g.\\ f = g \\Leftrightarrow (\\forall x.\\ f\\ x = g\\ x)$"
   ]
  },
  {
   "cell_type": "markdown",
   "metadata": {},
   "source": [
    "## Dimostrazione\n",
    "\n",
    "$\n",
    "{\\dfrac\n",
    "        {[f:\\alpha\\ \\rightarrow\\ \\beta;g:\\alpha\\ \\rightarrow\\ \\beta]\n",
    "        \\qquad\n",
    "        {\\dfrac\n",
    "                {{\\dfrac\n",
    "                        {{\\dfrac\n",
    "                                {{\\dfrac\n",
    "                                        {\\lambda\\ x.\\ (f:\\alpha\\ \\rightarrow\\ \\beta)\\ x}\n",
    "                                        {\\vdash\\ (\\lambda\\ x.\\ (f:\\alpha\\ \\rightarrow\\ \\beta)\\ x)\\ =\\ f}\n",
    "                                        { eta\\_conv}}}\n",
    "                                {\\vdash\\ (f:\\alpha\\ \\rightarrow\\ \\beta)\\ =\\ (\\lambda\\ x.\\ f\\ x)}\n",
    "                                { sym\\_rule}}\n",
    "                        \\qquad\n",
    "                        {\\dfrac\n",
    "                                {x:\\alpha\n",
    "                                \\qquad\n",
    "                                {\\dfrac\n",
    "                                        {x:\\alpha\n",
    "                                        \\qquad\n",
    "                                        {\\dfrac\n",
    "                                                {\\forall\\ x.\\ f\\ x\\ =\\ (g:\\alpha\\ \\rightarrow\\ \\beta)\\ x}\n",
    "                                                {\\forall\\ x.\\ f\\ x\\ =\\ g\\ x\\ \\vdash\\ \\forall\\ x.\\ f\\ x\\ =\\ (g:\\alpha\\ \\rightarrow\\ \\beta)\\ x}\n",
    "                                                { assume\\_rule}}}\n",
    "                                        {\\forall\\ x.\\ f\\ x\\ =\\ g\\ x\\ \\vdash\\ f\\ x\\ =\\ (g:\\alpha\\ \\rightarrow\\ \\beta)\\ x}\n",
    "                                        { spec\\_rule}}}\n",
    "                                {\\forall\\ x.\\ f\\ x\\ =\\ g\\ x\\ \\vdash\\ (\\lambda\\ x.\\ f\\ x)\\ =\\ (\\lambda\\ x.\\ (g:\\alpha\\ \\rightarrow\\ \\beta)\\ x)}\n",
    "                                { mk\\_abs\\_rule}}\n",
    "                        \\qquad\n",
    "                        {\\dfrac\n",
    "                                {\\lambda\\ x.\\ (g:\\alpha\\ \\rightarrow\\ \\beta)\\ x}\n",
    "                                {\\vdash\\ (\\lambda\\ x.\\ (g:\\alpha\\ \\rightarrow\\ \\beta)\\ x)\\ =\\ g}\n",
    "                                { eta\\_conv}}}\n",
    "                        {\\forall\\ x.\\ f\\ x\\ =\\ g\\ x\\ \\vdash\\ f\\ =\\ (g:\\alpha\\ \\rightarrow\\ \\beta)}\n",
    "                        { list\\_trans\\_rule}}\n",
    "                \\qquad\n",
    "                {\\dfrac\n",
    "                        {x:\\alpha\n",
    "                        \\qquad\n",
    "                        {\\dfrac\n",
    "                                {{\\dfrac\n",
    "                                        {f\\ =\\ (g:\\alpha\\ \\rightarrow\\ \\beta)}\n",
    "                                        {f\\ =\\ g\\ \\vdash\\ f\\ =\\ (g:\\alpha\\ \\rightarrow\\ \\beta)}\n",
    "                                        { assume\\_rule}}\n",
    "                                \\qquad\n",
    "                                x:\\alpha}\n",
    "                                {f\\ =\\ g\\ \\vdash\\ f\\ x\\ =\\ (g:\\alpha\\ \\rightarrow\\ \\beta)\\ x}\n",
    "                                { mk\\_comb1\\_rule}}}\n",
    "                        {f\\ =\\ g\\ \\vdash\\ \\forall\\ x.\\ f\\ x\\ =\\ (g:\\alpha\\ \\rightarrow\\ \\beta)\\ x}\n",
    "                        { gen\\_rule}}}\n",
    "                {\\vdash\\ f\\ =\\ (g:\\alpha\\ \\rightarrow\\ \\beta)\\ \\Leftrightarrow\\ (\\forall\\ x.\\ f\\ x\\ =\\ g\\ x)}\n",
    "                { deduct\\_antisym\\_rule}}}\n",
    "        {\\vdash\\ \\forall\\ (f:\\alpha\\ \\rightarrow\\ \\beta)\\ g.\\ f\\ =\\ g\\ \\Leftrightarrow\\ (\\forall\\ x.\\ f\\ x\\ =\\ g\\ x)}\n",
    "        { list\\_gen\\_rule}}\n",
    "$"
   ]
  }
 ],
 "metadata": {
  "kernelspec": {
   "display_name": ".NET (C#)",
   "language": "C#",
   "name": ".net-csharp"
  },
  "language_info": {
   "name": "polyglot-notebook"
  },
  "polyglot_notebook": {
   "kernelInfo": {
    "defaultKernelName": "csharp",
    "items": [
     {
      "aliases": [],
      "languageName": "csharp",
      "name": "csharp"
     }
    ]
   }
  }
 },
 "nbformat": 4,
 "nbformat_minor": 2
}
