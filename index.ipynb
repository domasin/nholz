
{
 "cells": [
  {
   "cell_type": "markdown",
   "metadata": {},
   
   "source": [
    "# Il sistema HOL\n",
    "\n",
    "0 [Introduzione](001-Introduzione.html)\n",
    "\n",
    "1 [Il linguaggio HOL](002-Liguaggio_HOL.html)\n",
    "\n",
    "2 [Regole d\u0027inferenza](003-Inference_Rules.html)\n",
    "\n",
    "3 [Teorie](004-Teorie.html)\n",
    "\n",
    "4 [Teoremi](005-Teoremi.html)\n",
    "\n",
    "[Teorie.xlsx](Teorie.xlsx)\n",
    "\n"
   ]
  }
 ],
 "metadata": {
  "kernelspec": {
   "display_name": ".NET (F#)",
   "language": "F#",
   "name": ".net-fsharp"
  },
  "language_info": {
   "file_extension": ".fs",
   "mimetype": "text/x-fsharp",
   "name": "polyglot-notebook",
   "pygments_lexer": "fsharp"
  },
  "polyglot_notebook": {
   "kernelInfo": {
    "defaultKernelName": "fsharp",
    "items": [
     {
      "aliases": [],
      "languageName": "fsharp",
      "name": "fsharp"
     }
    ]
   }
  }
 },
 "nbformat": 4,
 "nbformat_minor": 2
}

