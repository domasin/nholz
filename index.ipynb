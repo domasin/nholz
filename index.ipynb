
{
 "cells": [
  {
   "cell_type": "markdown",
   "metadata": {},
   
   "source": [
    "# Manuale\n",
    "\n",
    "0 [Introduzione](1_Introduzione.html)\n",
    "\n",
    "1 [Il linguaggio HOL](3_Liguaggio_HOL.html)\n",
    "\n",
    "2 [Appendice A5 - Regole d\u0027inferenza](A5_Inference_Rules.html)\n",
    "\n",
    "3 [Appendice B1 - Teorie](B1_Teorie.html)\n",
    "\n",
    "4 [Appendice B2 - Teoremi](B2_Teoremi.html)\n",
    "\n",
    "[Teorie.xlsx](Teorie.xlsx)\n",
    "\n"
   ]
  }
 ],
 "metadata": {
  "kernelspec": {
   "display_name": ".NET (F#)",
   "language": "F#",
   "name": ".net-fsharp"
  },
  "language_info": {
   "file_extension": ".fs",
   "mimetype": "text/x-fsharp",
   "name": "polyglot-notebook",
   "pygments_lexer": "fsharp"
  },
  "polyglot_notebook": {
   "kernelInfo": {
    "defaultKernelName": "fsharp",
    "items": [
     {
      "aliases": [],
      "languageName": "fsharp",
      "name": "fsharp"
     }
    ]
   }
  }
 },
 "nbformat": 4,
 "nbformat_minor": 2
}

